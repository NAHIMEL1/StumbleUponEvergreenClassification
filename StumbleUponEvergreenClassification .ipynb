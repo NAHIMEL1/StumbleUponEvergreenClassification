{
  "nbformat": 4,
  "nbformat_minor": 0,
  "metadata": {
    "colab": {
      "name": "StumbleUponEvergreenClassification.ipynb",
      "provenance": [],
      "collapsed_sections": []
    },
    "kernelspec": {
      "name": "python3",
      "display_name": "Python 3"
    },
    "language_info": {
      "name": "python"
    },
    "accelerator": "GPU"
  },
  "cells": [
    {
      "cell_type": "markdown",
      "metadata": {
        "id": "zjLo4SI0j4bi"
      },
      "source": [
        "# Competition Background\n",
        "- StumbleUpon is a user-curated web content discovery engine that recommends relevant, high quality pages and media to its users, based on their interests. While some pages we recommend, such as news articles or seasonal recipes, are only relevant for a short period of time, others maintain a timeless quality and can be recommended to users long after they are discovered. \n"
      ]
    },
    {
      "cell_type": "code",
      "metadata": {
        "id": "Qq2oJpcclVjX"
      },
      "source": [
        "from google.colab import drive\n",
        "drive.mount('/content/drive')"
      ],
      "execution_count": null,
      "outputs": []
    },
    {
      "cell_type": "code",
      "metadata": {
        "id": "64WzARoxQY4k"
      },
      "source": [
        "import pandas as pd \n",
        "import numpy as np"
      ],
      "execution_count": null,
      "outputs": []
    },
    {
      "cell_type": "code",
      "metadata": {
        "id": "JcVetLcYVB2l"
      },
      "source": [
        "import matplotlib.pyplot as plt\n",
        "from IPython.display import set_matplotlib_formats\n",
        "set_matplotlib_formats('svg')"
      ],
      "execution_count": null,
      "outputs": []
    },
    {
      "cell_type": "code",
      "metadata": {
        "id": "n4_XNHp7GNKD"
      },
      "source": [
        "df = pd.read_csv('drive//MyDrive/Stumble Upon Evergreeb Classification/train.tsv', sep = '\\t')"
      ],
      "execution_count": null,
      "outputs": []
    },
    {
      "cell_type": "code",
      "metadata": {
        "colab": {
          "base_uri": "https://localhost:8080/",
          "height": 400
        },
        "id": "co3bVhtoQVzN",
        "outputId": "106950e9-d76c-46b8-cdcf-c1d80e8ec6a3"
      },
      "source": [
        "df.sample(5)"
      ],
      "execution_count": null,
      "outputs": [
        {
          "output_type": "execute_result",
          "data": {
            "text/html": [
              "<div>\n",
              "<style scoped>\n",
              "    .dataframe tbody tr th:only-of-type {\n",
              "        vertical-align: middle;\n",
              "    }\n",
              "\n",
              "    .dataframe tbody tr th {\n",
              "        vertical-align: top;\n",
              "    }\n",
              "\n",
              "    .dataframe thead th {\n",
              "        text-align: right;\n",
              "    }\n",
              "</style>\n",
              "<table border=\"1\" class=\"dataframe\">\n",
              "  <thead>\n",
              "    <tr style=\"text-align: right;\">\n",
              "      <th></th>\n",
              "      <th>url</th>\n",
              "      <th>urlid</th>\n",
              "      <th>boilerplate</th>\n",
              "      <th>alchemy_category</th>\n",
              "      <th>alchemy_category_score</th>\n",
              "      <th>avglinksize</th>\n",
              "      <th>commonlinkratio_1</th>\n",
              "      <th>commonlinkratio_2</th>\n",
              "      <th>commonlinkratio_3</th>\n",
              "      <th>commonlinkratio_4</th>\n",
              "      <th>compression_ratio</th>\n",
              "      <th>embed_ratio</th>\n",
              "      <th>framebased</th>\n",
              "      <th>frameTagRatio</th>\n",
              "      <th>hasDomainLink</th>\n",
              "      <th>html_ratio</th>\n",
              "      <th>image_ratio</th>\n",
              "      <th>is_news</th>\n",
              "      <th>lengthyLinkDomain</th>\n",
              "      <th>linkwordscore</th>\n",
              "      <th>news_front_page</th>\n",
              "      <th>non_markup_alphanum_characters</th>\n",
              "      <th>numberOfLinks</th>\n",
              "      <th>numwords_in_url</th>\n",
              "      <th>parametrizedLinkRatio</th>\n",
              "      <th>spelling_errors_ratio</th>\n",
              "      <th>label</th>\n",
              "    </tr>\n",
              "  </thead>\n",
              "  <tbody>\n",
              "    <tr>\n",
              "      <th>3420</th>\n",
              "      <td>http://www.ivillage.com/slow-cooker-recipes-st...</td>\n",
              "      <td>8668</td>\n",
              "      <td>{\"title\":\"Slow Cooker Recipes iVillage \",\"body...</td>\n",
              "      <td>?</td>\n",
              "      <td>?</td>\n",
              "      <td>2.417553</td>\n",
              "      <td>0.793194</td>\n",
              "      <td>0.397906</td>\n",
              "      <td>0.107330</td>\n",
              "      <td>0.047120</td>\n",
              "      <td>0.854962</td>\n",
              "      <td>0.0</td>\n",
              "      <td>0</td>\n",
              "      <td>0.031128</td>\n",
              "      <td>0</td>\n",
              "      <td>0.183833</td>\n",
              "      <td>0.739130</td>\n",
              "      <td>?</td>\n",
              "      <td>1</td>\n",
              "      <td>76</td>\n",
              "      <td>?</td>\n",
              "      <td>1485</td>\n",
              "      <td>382</td>\n",
              "      <td>6</td>\n",
              "      <td>0.120419</td>\n",
              "      <td>0.060606</td>\n",
              "      <td>1</td>\n",
              "    </tr>\n",
              "    <tr>\n",
              "      <th>4100</th>\n",
              "      <td>http://au.news.yahoo.com/a/-/world/5325538/cru...</td>\n",
              "      <td>8246</td>\n",
              "      <td>{\"title\":\"Cruel Facebook hoax ends marriage \",...</td>\n",
              "      <td>culture_politics</td>\n",
              "      <td>0.718757</td>\n",
              "      <td>2.692771</td>\n",
              "      <td>0.614525</td>\n",
              "      <td>0.189944</td>\n",
              "      <td>0.055866</td>\n",
              "      <td>0.033520</td>\n",
              "      <td>0.493995</td>\n",
              "      <td>0.0</td>\n",
              "      <td>0</td>\n",
              "      <td>0.043758</td>\n",
              "      <td>0</td>\n",
              "      <td>0.259374</td>\n",
              "      <td>0.103448</td>\n",
              "      <td>?</td>\n",
              "      <td>1</td>\n",
              "      <td>55</td>\n",
              "      <td>0</td>\n",
              "      <td>1805</td>\n",
              "      <td>179</td>\n",
              "      <td>7</td>\n",
              "      <td>0.206704</td>\n",
              "      <td>0.060606</td>\n",
              "      <td>0</td>\n",
              "    </tr>\n",
              "    <tr>\n",
              "      <th>569</th>\n",
              "      <td>http://www.cinnamonspiceandeverythingnice.com/...</td>\n",
              "      <td>962</td>\n",
              "      <td>{\"title\":\"Tomato Cheddar Pie \",\"body\":\"One of ...</td>\n",
              "      <td>?</td>\n",
              "      <td>?</td>\n",
              "      <td>1.436364</td>\n",
              "      <td>0.416667</td>\n",
              "      <td>0.150000</td>\n",
              "      <td>0.033333</td>\n",
              "      <td>0.016667</td>\n",
              "      <td>0.417370</td>\n",
              "      <td>0.0</td>\n",
              "      <td>0</td>\n",
              "      <td>0.108000</td>\n",
              "      <td>0</td>\n",
              "      <td>0.260717</td>\n",
              "      <td>0.028274</td>\n",
              "      <td>?</td>\n",
              "      <td>0</td>\n",
              "      <td>9</td>\n",
              "      <td>?</td>\n",
              "      <td>4090</td>\n",
              "      <td>60</td>\n",
              "      <td>5</td>\n",
              "      <td>0.150000</td>\n",
              "      <td>0.054432</td>\n",
              "      <td>1</td>\n",
              "    </tr>\n",
              "    <tr>\n",
              "      <th>6329</th>\n",
              "      <td>http://firstlookthencook.wordpress.com/2010/05...</td>\n",
              "      <td>7521</td>\n",
              "      <td>{\"title\":\"Marshmallow Brownies First Look Then...</td>\n",
              "      <td>?</td>\n",
              "      <td>?</td>\n",
              "      <td>2.000000</td>\n",
              "      <td>0.610526</td>\n",
              "      <td>0.300000</td>\n",
              "      <td>0.152632</td>\n",
              "      <td>0.142105</td>\n",
              "      <td>0.482609</td>\n",
              "      <td>0.0</td>\n",
              "      <td>0</td>\n",
              "      <td>0.026699</td>\n",
              "      <td>0</td>\n",
              "      <td>0.243570</td>\n",
              "      <td>0.142077</td>\n",
              "      <td>?</td>\n",
              "      <td>1</td>\n",
              "      <td>19</td>\n",
              "      <td>?</td>\n",
              "      <td>6009</td>\n",
              "      <td>190</td>\n",
              "      <td>2</td>\n",
              "      <td>0.242105</td>\n",
              "      <td>0.080925</td>\n",
              "      <td>1</td>\n",
              "    </tr>\n",
              "    <tr>\n",
              "      <th>6803</th>\n",
              "      <td>http://nymag.com/daily/fashion/2011/11/see-lor...</td>\n",
              "      <td>5702</td>\n",
              "      <td>{\"title\":\"Lord Taylor s Holiday Window Display...</td>\n",
              "      <td>business</td>\n",
              "      <td>0.411187</td>\n",
              "      <td>2.569892</td>\n",
              "      <td>0.372881</td>\n",
              "      <td>0.084746</td>\n",
              "      <td>0.016949</td>\n",
              "      <td>0.000000</td>\n",
              "      <td>0.538954</td>\n",
              "      <td>0.0</td>\n",
              "      <td>0</td>\n",
              "      <td>0.103203</td>\n",
              "      <td>0</td>\n",
              "      <td>0.246743</td>\n",
              "      <td>0.059524</td>\n",
              "      <td>1</td>\n",
              "      <td>1</td>\n",
              "      <td>47</td>\n",
              "      <td>0</td>\n",
              "      <td>1307</td>\n",
              "      <td>118</td>\n",
              "      <td>8</td>\n",
              "      <td>0.228814</td>\n",
              "      <td>0.112245</td>\n",
              "      <td>0</td>\n",
              "    </tr>\n",
              "  </tbody>\n",
              "</table>\n",
              "</div>"
            ],
            "text/plain": [
              "                                                    url  ...  label\n",
              "3420  http://www.ivillage.com/slow-cooker-recipes-st...  ...      1\n",
              "4100  http://au.news.yahoo.com/a/-/world/5325538/cru...  ...      0\n",
              "569   http://www.cinnamonspiceandeverythingnice.com/...  ...      1\n",
              "6329  http://firstlookthencook.wordpress.com/2010/05...  ...      1\n",
              "6803  http://nymag.com/daily/fashion/2011/11/see-lor...  ...      0\n",
              "\n",
              "[5 rows x 27 columns]"
            ]
          },
          "metadata": {},
          "execution_count": 6
        }
      ]
    },
    {
      "cell_type": "code",
      "metadata": {
        "colab": {
          "base_uri": "https://localhost:8080/"
        },
        "id": "fR8SRSbuQjlm",
        "outputId": "8195ac8a-e8e6-4b51-9e58-31a4f092af5f"
      },
      "source": [
        "df.label.mean()"
      ],
      "execution_count": null,
      "outputs": [
        {
          "output_type": "execute_result",
          "data": {
            "text/plain": [
              "0.5133198106828939"
            ]
          },
          "metadata": {},
          "execution_count": 7
        }
      ]
    },
    {
      "cell_type": "code",
      "metadata": {
        "colab": {
          "base_uri": "https://localhost:8080/",
          "height": 370
        },
        "id": "eT60zxlhQ_tq",
        "outputId": "e1b7cedd-266f-44b9-e175-267da26633c7"
      },
      "source": [
        "df.groupby('alchemy_category').label.agg(['mean', 'count']).sort_values('count', ascending = False)['mean'].plot.barh()"
      ],
      "execution_count": null,
      "outputs": [
        {
          "output_type": "execute_result",
          "data": {
            "text/plain": [
              "<matplotlib.axes._subplots.AxesSubplot at 0x7f3f04f25850>"
            ]
          },
          "metadata": {},
          "execution_count": 8
        },
        {
          "output_type": "display_data",
          "data": {
            "text/plain": [
              "<Figure size 432x288 with 1 Axes>"
            ],
            "image/svg+xml": "<?xml version=\"1.0\" encoding=\"utf-8\" standalone=\"no\"?>\n<!DOCTYPE svg PUBLIC \"-//W3C//DTD SVG 1.1//EN\"\n  \"http://www.w3.org/Graphics/SVG/1.1/DTD/svg11.dtd\">\n<!-- Created with matplotlib (https://matplotlib.org/) -->\n<svg height=\"248.518125pt\" version=\"1.1\" viewBox=\"0 0 468.314062 248.518125\" width=\"468.314062pt\" xmlns=\"http://www.w3.org/2000/svg\" xmlns:xlink=\"http://www.w3.org/1999/xlink\">\n <defs>\n  <style type=\"text/css\">\n*{stroke-linecap:butt;stroke-linejoin:round;}\n  </style>\n </defs>\n <g id=\"figure_1\">\n  <g id=\"patch_1\">\n   <path d=\"M 0 248.518125 \nL 468.314062 248.518125 \nL 468.314062 0 \nL 0 0 \nz\n\" style=\"fill:none;\"/>\n  </g>\n  <g id=\"axes_1\">\n   <g id=\"patch_2\">\n    <path d=\"M 126.314063 224.64 \nL 461.114063 224.64 \nL 461.114063 7.2 \nL 126.314063 7.2 \nz\n\" style=\"fill:#ffffff;\"/>\n   </g>\n   <g id=\"patch_3\">\n    <path clip-path=\"url(#pa8412d4ba7)\" d=\"M 126.314063 220.757143 \nL 351.387851 220.757143 \nL 351.387851 212.991429 \nL 126.314063 212.991429 \nz\n\" style=\"fill:#1f77b4;\"/>\n   </g>\n   <g id=\"patch_4\">\n    <path clip-path=\"url(#pa8412d4ba7)\" d=\"M 126.314063 205.225714 \nL 433.038658 205.225714 \nL 433.038658 197.46 \nL 126.314063 197.46 \nz\n\" style=\"fill:#1f77b4;\"/>\n   </g>\n   <g id=\"patch_5\">\n    <path clip-path=\"url(#pa8412d4ba7)\" d=\"M 126.314063 189.694286 \nL 293.032223 189.694286 \nL 293.032223 181.928571 \nL 126.314063 181.928571 \nz\n\" style=\"fill:#1f77b4;\"/>\n   </g>\n   <g id=\"patch_6\">\n    <path clip-path=\"url(#pa8412d4ba7)\" d=\"M 126.314063 174.162857 \nL 445.171205 174.162857 \nL 445.171205 166.397143 \nL 126.314063 166.397143 \nz\n\" style=\"fill:#1f77b4;\"/>\n   </g>\n   <g id=\"patch_7\">\n    <path clip-path=\"url(#pa8412d4ba7)\" d=\"M 126.314063 158.631429 \nL 383.206885 158.631429 \nL 383.206885 150.865714 \nL 126.314063 150.865714 \nz\n\" style=\"fill:#1f77b4;\"/>\n   </g>\n   <g id=\"patch_8\">\n    <path clip-path=\"url(#pa8412d4ba7)\" d=\"M 126.314063 143.1 \nL 218.319924 143.1 \nL 218.319924 135.334286 \nL 126.314063 135.334286 \nz\n\" style=\"fill:#1f77b4;\"/>\n   </g>\n   <g id=\"patch_9\">\n    <path clip-path=\"url(#pa8412d4ba7)\" d=\"M 126.314063 127.568571 \nL 331.48225 127.568571 \nL 331.48225 119.802857 \nL 126.314063 119.802857 \nz\n\" style=\"fill:#1f77b4;\"/>\n   </g>\n   <g id=\"patch_10\">\n    <path clip-path=\"url(#pa8412d4ba7)\" d=\"M 126.314063 112.037143 \nL 236.85818 112.037143 \nL 236.85818 104.271429 \nL 126.314063 104.271429 \nz\n\" style=\"fill:#1f77b4;\"/>\n   </g>\n   <g id=\"patch_11\">\n    <path clip-path=\"url(#pa8412d4ba7)\" d=\"M 126.314063 96.505714 \nL 331.043634 96.505714 \nL 331.043634 88.74 \nL 126.314063 88.74 \nz\n\" style=\"fill:#1f77b4;\"/>\n   </g>\n   <g id=\"patch_12\">\n    <path clip-path=\"url(#pa8412d4ba7)\" d=\"M 126.314063 80.974286 \nL 291.452788 80.974286 \nL 291.452788 73.208571 \nL 126.314063 73.208571 \nz\n\" style=\"fill:#1f77b4;\"/>\n   </g>\n   <g id=\"patch_13\">\n    <path clip-path=\"url(#pa8412d4ba7)\" d=\"M 126.314063 65.442857 \nL 313.078097 65.442857 \nL 313.078097 57.677143 \nL 126.314063 57.677143 \nz\n\" style=\"fill:#1f77b4;\"/>\n   </g>\n   <g id=\"patch_14\">\n    <path clip-path=\"url(#pa8412d4ba7)\" d=\"M 126.314063 49.911429 \nL 314.283026 49.911429 \nL 314.283026 42.145714 \nL 126.314063 42.145714 \nz\n\" style=\"fill:#1f77b4;\"/>\n   </g>\n   <g id=\"patch_15\">\n    <path clip-path=\"url(#pa8412d4ba7)\" d=\"M 126.314063 34.38 \nL 275.72529 34.38 \nL 275.72529 26.614286 \nL 126.314063 26.614286 \nz\n\" style=\"fill:#1f77b4;\"/>\n   </g>\n   <g id=\"patch_16\">\n    <path clip-path=\"url(#pa8412d4ba7)\" d=\"M 126.314063 18.848571 \nL 126.314063 18.848571 \nL 126.314063 11.082857 \nL 126.314063 11.082857 \nz\n\" style=\"fill:#1f77b4;\"/>\n   </g>\n   <g id=\"matplotlib.axis_1\">\n    <g id=\"xtick_1\">\n     <g id=\"line2d_1\">\n      <defs>\n       <path d=\"M 0 0 \nL 0 3.5 \n\" id=\"m23cc222fb6\" style=\"stroke:#000000;stroke-width:0.8;\"/>\n      </defs>\n      <g>\n       <use style=\"stroke:#000000;stroke-width:0.8;\" x=\"126.314063\" xlink:href=\"#m23cc222fb6\" y=\"224.64\"/>\n      </g>\n     </g>\n     <g id=\"text_1\">\n      <!-- 0.0 -->\n      <defs>\n       <path d=\"M 31.78125 66.40625 \nQ 24.171875 66.40625 20.328125 58.90625 \nQ 16.5 51.421875 16.5 36.375 \nQ 16.5 21.390625 20.328125 13.890625 \nQ 24.171875 6.390625 31.78125 6.390625 \nQ 39.453125 6.390625 43.28125 13.890625 \nQ 47.125 21.390625 47.125 36.375 \nQ 47.125 51.421875 43.28125 58.90625 \nQ 39.453125 66.40625 31.78125 66.40625 \nz\nM 31.78125 74.21875 \nQ 44.046875 74.21875 50.515625 64.515625 \nQ 56.984375 54.828125 56.984375 36.375 \nQ 56.984375 17.96875 50.515625 8.265625 \nQ 44.046875 -1.421875 31.78125 -1.421875 \nQ 19.53125 -1.421875 13.0625 8.265625 \nQ 6.59375 17.96875 6.59375 36.375 \nQ 6.59375 54.828125 13.0625 64.515625 \nQ 19.53125 74.21875 31.78125 74.21875 \nz\n\" id=\"DejaVuSans-48\"/>\n       <path d=\"M 10.6875 12.40625 \nL 21 12.40625 \nL 21 0 \nL 10.6875 0 \nz\n\" id=\"DejaVuSans-46\"/>\n      </defs>\n      <g transform=\"translate(118.3625 239.238437)scale(0.1 -0.1)\">\n       <use xlink:href=\"#DejaVuSans-48\"/>\n       <use x=\"63.623047\" xlink:href=\"#DejaVuSans-46\"/>\n       <use x=\"95.410156\" xlink:href=\"#DejaVuSans-48\"/>\n      </g>\n     </g>\n    </g>\n    <g id=\"xtick_2\">\n     <g id=\"line2d_2\">\n      <g>\n       <use style=\"stroke:#000000;stroke-width:0.8;\" x=\"171.137431\" xlink:href=\"#m23cc222fb6\" y=\"224.64\"/>\n      </g>\n     </g>\n     <g id=\"text_2\">\n      <!-- 0.1 -->\n      <defs>\n       <path d=\"M 12.40625 8.296875 \nL 28.515625 8.296875 \nL 28.515625 63.921875 \nL 10.984375 60.40625 \nL 10.984375 69.390625 \nL 28.421875 72.90625 \nL 38.28125 72.90625 \nL 38.28125 8.296875 \nL 54.390625 8.296875 \nL 54.390625 0 \nL 12.40625 0 \nz\n\" id=\"DejaVuSans-49\"/>\n      </defs>\n      <g transform=\"translate(163.185868 239.238437)scale(0.1 -0.1)\">\n       <use xlink:href=\"#DejaVuSans-48\"/>\n       <use x=\"63.623047\" xlink:href=\"#DejaVuSans-46\"/>\n       <use x=\"95.410156\" xlink:href=\"#DejaVuSans-49\"/>\n      </g>\n     </g>\n    </g>\n    <g id=\"xtick_3\">\n     <g id=\"line2d_3\">\n      <g>\n       <use style=\"stroke:#000000;stroke-width:0.8;\" x=\"215.960799\" xlink:href=\"#m23cc222fb6\" y=\"224.64\"/>\n      </g>\n     </g>\n     <g id=\"text_3\">\n      <!-- 0.2 -->\n      <defs>\n       <path d=\"M 19.1875 8.296875 \nL 53.609375 8.296875 \nL 53.609375 0 \nL 7.328125 0 \nL 7.328125 8.296875 \nQ 12.9375 14.109375 22.625 23.890625 \nQ 32.328125 33.6875 34.8125 36.53125 \nQ 39.546875 41.84375 41.421875 45.53125 \nQ 43.3125 49.21875 43.3125 52.78125 \nQ 43.3125 58.59375 39.234375 62.25 \nQ 35.15625 65.921875 28.609375 65.921875 \nQ 23.96875 65.921875 18.8125 64.3125 \nQ 13.671875 62.703125 7.8125 59.421875 \nL 7.8125 69.390625 \nQ 13.765625 71.78125 18.9375 73 \nQ 24.125 74.21875 28.421875 74.21875 \nQ 39.75 74.21875 46.484375 68.546875 \nQ 53.21875 62.890625 53.21875 53.421875 \nQ 53.21875 48.921875 51.53125 44.890625 \nQ 49.859375 40.875 45.40625 35.40625 \nQ 44.1875 33.984375 37.640625 27.21875 \nQ 31.109375 20.453125 19.1875 8.296875 \nz\n\" id=\"DejaVuSans-50\"/>\n      </defs>\n      <g transform=\"translate(208.009237 239.238437)scale(0.1 -0.1)\">\n       <use xlink:href=\"#DejaVuSans-48\"/>\n       <use x=\"63.623047\" xlink:href=\"#DejaVuSans-46\"/>\n       <use x=\"95.410156\" xlink:href=\"#DejaVuSans-50\"/>\n      </g>\n     </g>\n    </g>\n    <g id=\"xtick_4\">\n     <g id=\"line2d_4\">\n      <g>\n       <use style=\"stroke:#000000;stroke-width:0.8;\" x=\"260.784167\" xlink:href=\"#m23cc222fb6\" y=\"224.64\"/>\n      </g>\n     </g>\n     <g id=\"text_4\">\n      <!-- 0.3 -->\n      <defs>\n       <path d=\"M 40.578125 39.3125 \nQ 47.65625 37.796875 51.625 33 \nQ 55.609375 28.21875 55.609375 21.1875 \nQ 55.609375 10.40625 48.1875 4.484375 \nQ 40.765625 -1.421875 27.09375 -1.421875 \nQ 22.515625 -1.421875 17.65625 -0.515625 \nQ 12.796875 0.390625 7.625 2.203125 \nL 7.625 11.71875 \nQ 11.71875 9.328125 16.59375 8.109375 \nQ 21.484375 6.890625 26.8125 6.890625 \nQ 36.078125 6.890625 40.9375 10.546875 \nQ 45.796875 14.203125 45.796875 21.1875 \nQ 45.796875 27.640625 41.28125 31.265625 \nQ 36.765625 34.90625 28.71875 34.90625 \nL 20.21875 34.90625 \nL 20.21875 43.015625 \nL 29.109375 43.015625 \nQ 36.375 43.015625 40.234375 45.921875 \nQ 44.09375 48.828125 44.09375 54.296875 \nQ 44.09375 59.90625 40.109375 62.90625 \nQ 36.140625 65.921875 28.71875 65.921875 \nQ 24.65625 65.921875 20.015625 65.03125 \nQ 15.375 64.15625 9.8125 62.3125 \nL 9.8125 71.09375 \nQ 15.4375 72.65625 20.34375 73.4375 \nQ 25.25 74.21875 29.59375 74.21875 \nQ 40.828125 74.21875 47.359375 69.109375 \nQ 53.90625 64.015625 53.90625 55.328125 \nQ 53.90625 49.265625 50.4375 45.09375 \nQ 46.96875 40.921875 40.578125 39.3125 \nz\n\" id=\"DejaVuSans-51\"/>\n      </defs>\n      <g transform=\"translate(252.832605 239.238437)scale(0.1 -0.1)\">\n       <use xlink:href=\"#DejaVuSans-48\"/>\n       <use x=\"63.623047\" xlink:href=\"#DejaVuSans-46\"/>\n       <use x=\"95.410156\" xlink:href=\"#DejaVuSans-51\"/>\n      </g>\n     </g>\n    </g>\n    <g id=\"xtick_5\">\n     <g id=\"line2d_5\">\n      <g>\n       <use style=\"stroke:#000000;stroke-width:0.8;\" x=\"305.607536\" xlink:href=\"#m23cc222fb6\" y=\"224.64\"/>\n      </g>\n     </g>\n     <g id=\"text_5\">\n      <!-- 0.4 -->\n      <defs>\n       <path d=\"M 37.796875 64.3125 \nL 12.890625 25.390625 \nL 37.796875 25.390625 \nz\nM 35.203125 72.90625 \nL 47.609375 72.90625 \nL 47.609375 25.390625 \nL 58.015625 25.390625 \nL 58.015625 17.1875 \nL 47.609375 17.1875 \nL 47.609375 0 \nL 37.796875 0 \nL 37.796875 17.1875 \nL 4.890625 17.1875 \nL 4.890625 26.703125 \nz\n\" id=\"DejaVuSans-52\"/>\n      </defs>\n      <g transform=\"translate(297.655973 239.238437)scale(0.1 -0.1)\">\n       <use xlink:href=\"#DejaVuSans-48\"/>\n       <use x=\"63.623047\" xlink:href=\"#DejaVuSans-46\"/>\n       <use x=\"95.410156\" xlink:href=\"#DejaVuSans-52\"/>\n      </g>\n     </g>\n    </g>\n    <g id=\"xtick_6\">\n     <g id=\"line2d_6\">\n      <g>\n       <use style=\"stroke:#000000;stroke-width:0.8;\" x=\"350.430904\" xlink:href=\"#m23cc222fb6\" y=\"224.64\"/>\n      </g>\n     </g>\n     <g id=\"text_6\">\n      <!-- 0.5 -->\n      <defs>\n       <path d=\"M 10.796875 72.90625 \nL 49.515625 72.90625 \nL 49.515625 64.59375 \nL 19.828125 64.59375 \nL 19.828125 46.734375 \nQ 21.96875 47.46875 24.109375 47.828125 \nQ 26.265625 48.1875 28.421875 48.1875 \nQ 40.625 48.1875 47.75 41.5 \nQ 54.890625 34.8125 54.890625 23.390625 \nQ 54.890625 11.625 47.5625 5.09375 \nQ 40.234375 -1.421875 26.90625 -1.421875 \nQ 22.3125 -1.421875 17.546875 -0.640625 \nQ 12.796875 0.140625 7.71875 1.703125 \nL 7.71875 11.625 \nQ 12.109375 9.234375 16.796875 8.0625 \nQ 21.484375 6.890625 26.703125 6.890625 \nQ 35.15625 6.890625 40.078125 11.328125 \nQ 45.015625 15.765625 45.015625 23.390625 \nQ 45.015625 31 40.078125 35.4375 \nQ 35.15625 39.890625 26.703125 39.890625 \nQ 22.75 39.890625 18.8125 39.015625 \nQ 14.890625 38.140625 10.796875 36.28125 \nz\n\" id=\"DejaVuSans-53\"/>\n      </defs>\n      <g transform=\"translate(342.479342 239.238437)scale(0.1 -0.1)\">\n       <use xlink:href=\"#DejaVuSans-48\"/>\n       <use x=\"63.623047\" xlink:href=\"#DejaVuSans-46\"/>\n       <use x=\"95.410156\" xlink:href=\"#DejaVuSans-53\"/>\n      </g>\n     </g>\n    </g>\n    <g id=\"xtick_7\">\n     <g id=\"line2d_7\">\n      <g>\n       <use style=\"stroke:#000000;stroke-width:0.8;\" x=\"395.254272\" xlink:href=\"#m23cc222fb6\" y=\"224.64\"/>\n      </g>\n     </g>\n     <g id=\"text_7\">\n      <!-- 0.6 -->\n      <defs>\n       <path d=\"M 33.015625 40.375 \nQ 26.375 40.375 22.484375 35.828125 \nQ 18.609375 31.296875 18.609375 23.390625 \nQ 18.609375 15.53125 22.484375 10.953125 \nQ 26.375 6.390625 33.015625 6.390625 \nQ 39.65625 6.390625 43.53125 10.953125 \nQ 47.40625 15.53125 47.40625 23.390625 \nQ 47.40625 31.296875 43.53125 35.828125 \nQ 39.65625 40.375 33.015625 40.375 \nz\nM 52.59375 71.296875 \nL 52.59375 62.3125 \nQ 48.875 64.0625 45.09375 64.984375 \nQ 41.3125 65.921875 37.59375 65.921875 \nQ 27.828125 65.921875 22.671875 59.328125 \nQ 17.53125 52.734375 16.796875 39.40625 \nQ 19.671875 43.65625 24.015625 45.921875 \nQ 28.375 48.1875 33.59375 48.1875 \nQ 44.578125 48.1875 50.953125 41.515625 \nQ 57.328125 34.859375 57.328125 23.390625 \nQ 57.328125 12.15625 50.6875 5.359375 \nQ 44.046875 -1.421875 33.015625 -1.421875 \nQ 20.359375 -1.421875 13.671875 8.265625 \nQ 6.984375 17.96875 6.984375 36.375 \nQ 6.984375 53.65625 15.1875 63.9375 \nQ 23.390625 74.21875 37.203125 74.21875 \nQ 40.921875 74.21875 44.703125 73.484375 \nQ 48.484375 72.75 52.59375 71.296875 \nz\n\" id=\"DejaVuSans-54\"/>\n      </defs>\n      <g transform=\"translate(387.30271 239.238437)scale(0.1 -0.1)\">\n       <use xlink:href=\"#DejaVuSans-48\"/>\n       <use x=\"63.623047\" xlink:href=\"#DejaVuSans-46\"/>\n       <use x=\"95.410156\" xlink:href=\"#DejaVuSans-54\"/>\n      </g>\n     </g>\n    </g>\n    <g id=\"xtick_8\">\n     <g id=\"line2d_8\">\n      <g>\n       <use style=\"stroke:#000000;stroke-width:0.8;\" x=\"440.077641\" xlink:href=\"#m23cc222fb6\" y=\"224.64\"/>\n      </g>\n     </g>\n     <g id=\"text_8\">\n      <!-- 0.7 -->\n      <defs>\n       <path d=\"M 8.203125 72.90625 \nL 55.078125 72.90625 \nL 55.078125 68.703125 \nL 28.609375 0 \nL 18.3125 0 \nL 43.21875 64.59375 \nL 8.203125 64.59375 \nz\n\" id=\"DejaVuSans-55\"/>\n      </defs>\n      <g transform=\"translate(432.126078 239.238437)scale(0.1 -0.1)\">\n       <use xlink:href=\"#DejaVuSans-48\"/>\n       <use x=\"63.623047\" xlink:href=\"#DejaVuSans-46\"/>\n       <use x=\"95.410156\" xlink:href=\"#DejaVuSans-55\"/>\n      </g>\n     </g>\n    </g>\n   </g>\n   <g id=\"matplotlib.axis_2\">\n    <g id=\"ytick_1\">\n     <g id=\"line2d_9\">\n      <defs>\n       <path d=\"M 0 0 \nL -3.5 0 \n\" id=\"me953c60426\" style=\"stroke:#000000;stroke-width:0.8;\"/>\n      </defs>\n      <g>\n       <use style=\"stroke:#000000;stroke-width:0.8;\" x=\"126.314063\" xlink:href=\"#me953c60426\" y=\"216.874286\"/>\n      </g>\n     </g>\n     <g id=\"text_9\">\n      <!-- ? -->\n      <defs>\n       <path d=\"M 19.09375 12.40625 \nL 29 12.40625 \nL 29 0 \nL 19.09375 0 \nz\nM 28.71875 19.578125 \nL 19.390625 19.578125 \nL 19.390625 27.09375 \nQ 19.390625 32.03125 20.75 35.203125 \nQ 22.125 38.375 26.515625 42.578125 \nL 30.90625 46.921875 \nQ 33.6875 49.515625 34.9375 51.8125 \nQ 36.1875 54.109375 36.1875 56.5 \nQ 36.1875 60.84375 32.984375 63.53125 \nQ 29.78125 66.21875 24.515625 66.21875 \nQ 20.65625 66.21875 16.28125 64.5 \nQ 11.921875 62.796875 7.171875 59.515625 \nL 7.171875 68.703125 \nQ 11.765625 71.484375 16.46875 72.84375 \nQ 21.1875 74.21875 26.21875 74.21875 \nQ 35.203125 74.21875 40.640625 69.484375 \nQ 46.09375 64.75 46.09375 56.984375 \nQ 46.09375 53.265625 44.328125 49.921875 \nQ 42.578125 46.578125 38.1875 42.390625 \nL 33.890625 38.1875 \nQ 31.59375 35.890625 30.640625 34.59375 \nQ 29.6875 33.296875 29.296875 32.078125 \nQ 29 31.0625 28.859375 29.59375 \nQ 28.71875 28.125 28.71875 25.59375 \nz\n\" id=\"DejaVuSans-63\"/>\n      </defs>\n      <g transform=\"translate(114.00625 220.673504)scale(0.1 -0.1)\">\n       <use xlink:href=\"#DejaVuSans-63\"/>\n      </g>\n     </g>\n    </g>\n    <g id=\"ytick_2\">\n     <g id=\"line2d_10\">\n      <g>\n       <use style=\"stroke:#000000;stroke-width:0.8;\" x=\"126.314063\" xlink:href=\"#me953c60426\" y=\"201.342857\"/>\n      </g>\n     </g>\n     <g id=\"text_10\">\n      <!-- recreation -->\n      <defs>\n       <path d=\"M 41.109375 46.296875 \nQ 39.59375 47.171875 37.8125 47.578125 \nQ 36.03125 48 33.890625 48 \nQ 26.265625 48 22.1875 43.046875 \nQ 18.109375 38.09375 18.109375 28.8125 \nL 18.109375 0 \nL 9.078125 0 \nL 9.078125 54.6875 \nL 18.109375 54.6875 \nL 18.109375 46.1875 \nQ 20.953125 51.171875 25.484375 53.578125 \nQ 30.03125 56 36.53125 56 \nQ 37.453125 56 38.578125 55.875 \nQ 39.703125 55.765625 41.0625 55.515625 \nz\n\" id=\"DejaVuSans-114\"/>\n       <path d=\"M 56.203125 29.59375 \nL 56.203125 25.203125 \nL 14.890625 25.203125 \nQ 15.484375 15.921875 20.484375 11.0625 \nQ 25.484375 6.203125 34.421875 6.203125 \nQ 39.59375 6.203125 44.453125 7.46875 \nQ 49.3125 8.734375 54.109375 11.28125 \nL 54.109375 2.78125 \nQ 49.265625 0.734375 44.1875 -0.34375 \nQ 39.109375 -1.421875 33.890625 -1.421875 \nQ 20.796875 -1.421875 13.15625 6.1875 \nQ 5.515625 13.8125 5.515625 26.8125 \nQ 5.515625 40.234375 12.765625 48.109375 \nQ 20.015625 56 32.328125 56 \nQ 43.359375 56 49.78125 48.890625 \nQ 56.203125 41.796875 56.203125 29.59375 \nz\nM 47.21875 32.234375 \nQ 47.125 39.59375 43.09375 43.984375 \nQ 39.0625 48.390625 32.421875 48.390625 \nQ 24.90625 48.390625 20.390625 44.140625 \nQ 15.875 39.890625 15.1875 32.171875 \nz\n\" id=\"DejaVuSans-101\"/>\n       <path d=\"M 48.78125 52.59375 \nL 48.78125 44.1875 \nQ 44.96875 46.296875 41.140625 47.34375 \nQ 37.3125 48.390625 33.40625 48.390625 \nQ 24.65625 48.390625 19.8125 42.84375 \nQ 14.984375 37.3125 14.984375 27.296875 \nQ 14.984375 17.28125 19.8125 11.734375 \nQ 24.65625 6.203125 33.40625 6.203125 \nQ 37.3125 6.203125 41.140625 7.25 \nQ 44.96875 8.296875 48.78125 10.40625 \nL 48.78125 2.09375 \nQ 45.015625 0.34375 40.984375 -0.53125 \nQ 36.96875 -1.421875 32.421875 -1.421875 \nQ 20.0625 -1.421875 12.78125 6.34375 \nQ 5.515625 14.109375 5.515625 27.296875 \nQ 5.515625 40.671875 12.859375 48.328125 \nQ 20.21875 56 33.015625 56 \nQ 37.15625 56 41.109375 55.140625 \nQ 45.0625 54.296875 48.78125 52.59375 \nz\n\" id=\"DejaVuSans-99\"/>\n       <path d=\"M 34.28125 27.484375 \nQ 23.390625 27.484375 19.1875 25 \nQ 14.984375 22.515625 14.984375 16.5 \nQ 14.984375 11.71875 18.140625 8.90625 \nQ 21.296875 6.109375 26.703125 6.109375 \nQ 34.1875 6.109375 38.703125 11.40625 \nQ 43.21875 16.703125 43.21875 25.484375 \nL 43.21875 27.484375 \nz\nM 52.203125 31.203125 \nL 52.203125 0 \nL 43.21875 0 \nL 43.21875 8.296875 \nQ 40.140625 3.328125 35.546875 0.953125 \nQ 30.953125 -1.421875 24.3125 -1.421875 \nQ 15.921875 -1.421875 10.953125 3.296875 \nQ 6 8.015625 6 15.921875 \nQ 6 25.140625 12.171875 29.828125 \nQ 18.359375 34.515625 30.609375 34.515625 \nL 43.21875 34.515625 \nL 43.21875 35.40625 \nQ 43.21875 41.609375 39.140625 45 \nQ 35.0625 48.390625 27.6875 48.390625 \nQ 23 48.390625 18.546875 47.265625 \nQ 14.109375 46.140625 10.015625 43.890625 \nL 10.015625 52.203125 \nQ 14.9375 54.109375 19.578125 55.046875 \nQ 24.21875 56 28.609375 56 \nQ 40.484375 56 46.34375 49.84375 \nQ 52.203125 43.703125 52.203125 31.203125 \nz\n\" id=\"DejaVuSans-97\"/>\n       <path d=\"M 18.3125 70.21875 \nL 18.3125 54.6875 \nL 36.8125 54.6875 \nL 36.8125 47.703125 \nL 18.3125 47.703125 \nL 18.3125 18.015625 \nQ 18.3125 11.328125 20.140625 9.421875 \nQ 21.96875 7.515625 27.59375 7.515625 \nL 36.8125 7.515625 \nL 36.8125 0 \nL 27.59375 0 \nQ 17.1875 0 13.234375 3.875 \nQ 9.28125 7.765625 9.28125 18.015625 \nL 9.28125 47.703125 \nL 2.6875 47.703125 \nL 2.6875 54.6875 \nL 9.28125 54.6875 \nL 9.28125 70.21875 \nz\n\" id=\"DejaVuSans-116\"/>\n       <path d=\"M 9.421875 54.6875 \nL 18.40625 54.6875 \nL 18.40625 0 \nL 9.421875 0 \nz\nM 9.421875 75.984375 \nL 18.40625 75.984375 \nL 18.40625 64.59375 \nL 9.421875 64.59375 \nz\n\" id=\"DejaVuSans-105\"/>\n       <path d=\"M 30.609375 48.390625 \nQ 23.390625 48.390625 19.1875 42.75 \nQ 14.984375 37.109375 14.984375 27.296875 \nQ 14.984375 17.484375 19.15625 11.84375 \nQ 23.34375 6.203125 30.609375 6.203125 \nQ 37.796875 6.203125 41.984375 11.859375 \nQ 46.1875 17.53125 46.1875 27.296875 \nQ 46.1875 37.015625 41.984375 42.703125 \nQ 37.796875 48.390625 30.609375 48.390625 \nz\nM 30.609375 56 \nQ 42.328125 56 49.015625 48.375 \nQ 55.71875 40.765625 55.71875 27.296875 \nQ 55.71875 13.875 49.015625 6.21875 \nQ 42.328125 -1.421875 30.609375 -1.421875 \nQ 18.84375 -1.421875 12.171875 6.21875 \nQ 5.515625 13.875 5.515625 27.296875 \nQ 5.515625 40.765625 12.171875 48.375 \nQ 18.84375 56 30.609375 56 \nz\n\" id=\"DejaVuSans-111\"/>\n       <path d=\"M 54.890625 33.015625 \nL 54.890625 0 \nL 45.90625 0 \nL 45.90625 32.71875 \nQ 45.90625 40.484375 42.875 44.328125 \nQ 39.84375 48.1875 33.796875 48.1875 \nQ 26.515625 48.1875 22.3125 43.546875 \nQ 18.109375 38.921875 18.109375 30.90625 \nL 18.109375 0 \nL 9.078125 0 \nL 9.078125 54.6875 \nL 18.109375 54.6875 \nL 18.109375 46.1875 \nQ 21.34375 51.125 25.703125 53.5625 \nQ 30.078125 56 35.796875 56 \nQ 45.21875 56 50.046875 50.171875 \nQ 54.890625 44.34375 54.890625 33.015625 \nz\n\" id=\"DejaVuSans-110\"/>\n      </defs>\n      <g transform=\"translate(68.454688 205.142076)scale(0.1 -0.1)\">\n       <use xlink:href=\"#DejaVuSans-114\"/>\n       <use x=\"38.863281\" xlink:href=\"#DejaVuSans-101\"/>\n       <use x=\"100.386719\" xlink:href=\"#DejaVuSans-99\"/>\n       <use x=\"155.367188\" xlink:href=\"#DejaVuSans-114\"/>\n       <use x=\"194.230469\" xlink:href=\"#DejaVuSans-101\"/>\n       <use x=\"255.753906\" xlink:href=\"#DejaVuSans-97\"/>\n       <use x=\"317.033203\" xlink:href=\"#DejaVuSans-116\"/>\n       <use x=\"356.242188\" xlink:href=\"#DejaVuSans-105\"/>\n       <use x=\"384.025391\" xlink:href=\"#DejaVuSans-111\"/>\n       <use x=\"445.207031\" xlink:href=\"#DejaVuSans-110\"/>\n      </g>\n     </g>\n    </g>\n    <g id=\"ytick_3\">\n     <g id=\"line2d_11\">\n      <g>\n       <use style=\"stroke:#000000;stroke-width:0.8;\" x=\"126.314063\" xlink:href=\"#me953c60426\" y=\"185.811429\"/>\n      </g>\n     </g>\n     <g id=\"text_11\">\n      <!-- arts_entertainment -->\n      <defs>\n       <path d=\"M 44.28125 53.078125 \nL 44.28125 44.578125 \nQ 40.484375 46.53125 36.375 47.5 \nQ 32.28125 48.484375 27.875 48.484375 \nQ 21.1875 48.484375 17.84375 46.4375 \nQ 14.5 44.390625 14.5 40.28125 \nQ 14.5 37.15625 16.890625 35.375 \nQ 19.28125 33.59375 26.515625 31.984375 \nL 29.59375 31.296875 \nQ 39.15625 29.25 43.1875 25.515625 \nQ 47.21875 21.78125 47.21875 15.09375 \nQ 47.21875 7.46875 41.1875 3.015625 \nQ 35.15625 -1.421875 24.609375 -1.421875 \nQ 20.21875 -1.421875 15.453125 -0.5625 \nQ 10.6875 0.296875 5.421875 2 \nL 5.421875 11.28125 \nQ 10.40625 8.6875 15.234375 7.390625 \nQ 20.0625 6.109375 24.8125 6.109375 \nQ 31.15625 6.109375 34.5625 8.28125 \nQ 37.984375 10.453125 37.984375 14.40625 \nQ 37.984375 18.0625 35.515625 20.015625 \nQ 33.0625 21.96875 24.703125 23.78125 \nL 21.578125 24.515625 \nQ 13.234375 26.265625 9.515625 29.90625 \nQ 5.8125 33.546875 5.8125 39.890625 \nQ 5.8125 47.609375 11.28125 51.796875 \nQ 16.75 56 26.8125 56 \nQ 31.78125 56 36.171875 55.265625 \nQ 40.578125 54.546875 44.28125 53.078125 \nz\n\" id=\"DejaVuSans-115\"/>\n       <path d=\"M 50.984375 -16.609375 \nL 50.984375 -23.578125 \nL -0.984375 -23.578125 \nL -0.984375 -16.609375 \nz\n\" id=\"DejaVuSans-95\"/>\n       <path d=\"M 52 44.1875 \nQ 55.375 50.25 60.0625 53.125 \nQ 64.75 56 71.09375 56 \nQ 79.640625 56 84.28125 50.015625 \nQ 88.921875 44.046875 88.921875 33.015625 \nL 88.921875 0 \nL 79.890625 0 \nL 79.890625 32.71875 \nQ 79.890625 40.578125 77.09375 44.375 \nQ 74.3125 48.1875 68.609375 48.1875 \nQ 61.625 48.1875 57.5625 43.546875 \nQ 53.515625 38.921875 53.515625 30.90625 \nL 53.515625 0 \nL 44.484375 0 \nL 44.484375 32.71875 \nQ 44.484375 40.625 41.703125 44.40625 \nQ 38.921875 48.1875 33.109375 48.1875 \nQ 26.21875 48.1875 22.15625 43.53125 \nQ 18.109375 38.875 18.109375 30.90625 \nL 18.109375 0 \nL 9.078125 0 \nL 9.078125 54.6875 \nL 18.109375 54.6875 \nL 18.109375 46.1875 \nQ 21.1875 51.21875 25.484375 53.609375 \nQ 29.78125 56 35.6875 56 \nQ 41.65625 56 45.828125 52.96875 \nQ 50 49.953125 52 44.1875 \nz\n\" id=\"DejaVuSans-109\"/>\n      </defs>\n      <g transform=\"translate(22.954688 189.610647)scale(0.1 -0.1)\">\n       <use xlink:href=\"#DejaVuSans-97\"/>\n       <use x=\"61.279297\" xlink:href=\"#DejaVuSans-114\"/>\n       <use x=\"102.392578\" xlink:href=\"#DejaVuSans-116\"/>\n       <use x=\"141.601562\" xlink:href=\"#DejaVuSans-115\"/>\n       <use x=\"193.701172\" xlink:href=\"#DejaVuSans-95\"/>\n       <use x=\"243.701172\" xlink:href=\"#DejaVuSans-101\"/>\n       <use x=\"305.224609\" xlink:href=\"#DejaVuSans-110\"/>\n       <use x=\"368.603516\" xlink:href=\"#DejaVuSans-116\"/>\n       <use x=\"407.8125\" xlink:href=\"#DejaVuSans-101\"/>\n       <use x=\"469.335938\" xlink:href=\"#DejaVuSans-114\"/>\n       <use x=\"510.449219\" xlink:href=\"#DejaVuSans-116\"/>\n       <use x=\"549.658203\" xlink:href=\"#DejaVuSans-97\"/>\n       <use x=\"610.9375\" xlink:href=\"#DejaVuSans-105\"/>\n       <use x=\"638.720703\" xlink:href=\"#DejaVuSans-110\"/>\n       <use x=\"702.099609\" xlink:href=\"#DejaVuSans-109\"/>\n       <use x=\"799.511719\" xlink:href=\"#DejaVuSans-101\"/>\n       <use x=\"861.035156\" xlink:href=\"#DejaVuSans-110\"/>\n       <use x=\"924.414062\" xlink:href=\"#DejaVuSans-116\"/>\n      </g>\n     </g>\n    </g>\n    <g id=\"ytick_4\">\n     <g id=\"line2d_12\">\n      <g>\n       <use style=\"stroke:#000000;stroke-width:0.8;\" x=\"126.314063\" xlink:href=\"#me953c60426\" y=\"170.28\"/>\n      </g>\n     </g>\n     <g id=\"text_12\">\n      <!-- business -->\n      <defs>\n       <path d=\"M 48.6875 27.296875 \nQ 48.6875 37.203125 44.609375 42.84375 \nQ 40.53125 48.484375 33.40625 48.484375 \nQ 26.265625 48.484375 22.1875 42.84375 \nQ 18.109375 37.203125 18.109375 27.296875 \nQ 18.109375 17.390625 22.1875 11.75 \nQ 26.265625 6.109375 33.40625 6.109375 \nQ 40.53125 6.109375 44.609375 11.75 \nQ 48.6875 17.390625 48.6875 27.296875 \nz\nM 18.109375 46.390625 \nQ 20.953125 51.265625 25.265625 53.625 \nQ 29.59375 56 35.59375 56 \nQ 45.5625 56 51.78125 48.09375 \nQ 58.015625 40.1875 58.015625 27.296875 \nQ 58.015625 14.40625 51.78125 6.484375 \nQ 45.5625 -1.421875 35.59375 -1.421875 \nQ 29.59375 -1.421875 25.265625 0.953125 \nQ 20.953125 3.328125 18.109375 8.203125 \nL 18.109375 0 \nL 9.078125 0 \nL 9.078125 75.984375 \nL 18.109375 75.984375 \nz\n\" id=\"DejaVuSans-98\"/>\n       <path d=\"M 8.5 21.578125 \nL 8.5 54.6875 \nL 17.484375 54.6875 \nL 17.484375 21.921875 \nQ 17.484375 14.15625 20.5 10.265625 \nQ 23.53125 6.390625 29.59375 6.390625 \nQ 36.859375 6.390625 41.078125 11.03125 \nQ 45.3125 15.671875 45.3125 23.6875 \nL 45.3125 54.6875 \nL 54.296875 54.6875 \nL 54.296875 0 \nL 45.3125 0 \nL 45.3125 8.40625 \nQ 42.046875 3.421875 37.71875 1 \nQ 33.40625 -1.421875 27.6875 -1.421875 \nQ 18.265625 -1.421875 13.375 4.4375 \nQ 8.5 10.296875 8.5 21.578125 \nz\nM 31.109375 56 \nz\n\" id=\"DejaVuSans-117\"/>\n      </defs>\n      <g transform=\"translate(75.73125 174.079219)scale(0.1 -0.1)\">\n       <use xlink:href=\"#DejaVuSans-98\"/>\n       <use x=\"63.476562\" xlink:href=\"#DejaVuSans-117\"/>\n       <use x=\"126.855469\" xlink:href=\"#DejaVuSans-115\"/>\n       <use x=\"178.955078\" xlink:href=\"#DejaVuSans-105\"/>\n       <use x=\"206.738281\" xlink:href=\"#DejaVuSans-110\"/>\n       <use x=\"270.117188\" xlink:href=\"#DejaVuSans-101\"/>\n       <use x=\"331.640625\" xlink:href=\"#DejaVuSans-115\"/>\n       <use x=\"383.740234\" xlink:href=\"#DejaVuSans-115\"/>\n      </g>\n     </g>\n    </g>\n    <g id=\"ytick_5\">\n     <g id=\"line2d_13\">\n      <g>\n       <use style=\"stroke:#000000;stroke-width:0.8;\" x=\"126.314063\" xlink:href=\"#me953c60426\" y=\"154.748571\"/>\n      </g>\n     </g>\n     <g id=\"text_13\">\n      <!-- health -->\n      <defs>\n       <path d=\"M 54.890625 33.015625 \nL 54.890625 0 \nL 45.90625 0 \nL 45.90625 32.71875 \nQ 45.90625 40.484375 42.875 44.328125 \nQ 39.84375 48.1875 33.796875 48.1875 \nQ 26.515625 48.1875 22.3125 43.546875 \nQ 18.109375 38.921875 18.109375 30.90625 \nL 18.109375 0 \nL 9.078125 0 \nL 9.078125 75.984375 \nL 18.109375 75.984375 \nL 18.109375 46.1875 \nQ 21.34375 51.125 25.703125 53.5625 \nQ 30.078125 56 35.796875 56 \nQ 45.21875 56 50.046875 50.171875 \nQ 54.890625 44.34375 54.890625 33.015625 \nz\n\" id=\"DejaVuSans-104\"/>\n       <path d=\"M 9.421875 75.984375 \nL 18.40625 75.984375 \nL 18.40625 0 \nL 9.421875 0 \nz\n\" id=\"DejaVuSans-108\"/>\n      </defs>\n      <g transform=\"translate(87.659375 158.54779)scale(0.1 -0.1)\">\n       <use xlink:href=\"#DejaVuSans-104\"/>\n       <use x=\"63.378906\" xlink:href=\"#DejaVuSans-101\"/>\n       <use x=\"124.902344\" xlink:href=\"#DejaVuSans-97\"/>\n       <use x=\"186.181641\" xlink:href=\"#DejaVuSans-108\"/>\n       <use x=\"213.964844\" xlink:href=\"#DejaVuSans-116\"/>\n       <use x=\"253.173828\" xlink:href=\"#DejaVuSans-104\"/>\n      </g>\n     </g>\n    </g>\n    <g id=\"ytick_6\">\n     <g id=\"line2d_14\">\n      <g>\n       <use style=\"stroke:#000000;stroke-width:0.8;\" x=\"126.314063\" xlink:href=\"#me953c60426\" y=\"139.217143\"/>\n      </g>\n     </g>\n     <g id=\"text_14\">\n      <!-- sports -->\n      <defs>\n       <path d=\"M 18.109375 8.203125 \nL 18.109375 -20.796875 \nL 9.078125 -20.796875 \nL 9.078125 54.6875 \nL 18.109375 54.6875 \nL 18.109375 46.390625 \nQ 20.953125 51.265625 25.265625 53.625 \nQ 29.59375 56 35.59375 56 \nQ 45.5625 56 51.78125 48.09375 \nQ 58.015625 40.1875 58.015625 27.296875 \nQ 58.015625 14.40625 51.78125 6.484375 \nQ 45.5625 -1.421875 35.59375 -1.421875 \nQ 29.59375 -1.421875 25.265625 0.953125 \nQ 20.953125 3.328125 18.109375 8.203125 \nz\nM 48.6875 27.296875 \nQ 48.6875 37.203125 44.609375 42.84375 \nQ 40.53125 48.484375 33.40625 48.484375 \nQ 26.265625 48.484375 22.1875 42.84375 \nQ 18.109375 37.203125 18.109375 27.296875 \nQ 18.109375 17.390625 22.1875 11.75 \nQ 26.265625 6.109375 33.40625 6.109375 \nQ 40.53125 6.109375 44.609375 11.75 \nQ 48.6875 17.390625 48.6875 27.296875 \nz\n\" id=\"DejaVuSans-112\"/>\n      </defs>\n      <g transform=\"translate(88.396875 143.016362)scale(0.1 -0.1)\">\n       <use xlink:href=\"#DejaVuSans-115\"/>\n       <use x=\"52.099609\" xlink:href=\"#DejaVuSans-112\"/>\n       <use x=\"115.576172\" xlink:href=\"#DejaVuSans-111\"/>\n       <use x=\"176.757812\" xlink:href=\"#DejaVuSans-114\"/>\n       <use x=\"217.871094\" xlink:href=\"#DejaVuSans-116\"/>\n       <use x=\"257.080078\" xlink:href=\"#DejaVuSans-115\"/>\n      </g>\n     </g>\n    </g>\n    <g id=\"ytick_7\">\n     <g id=\"line2d_15\">\n      <g>\n       <use style=\"stroke:#000000;stroke-width:0.8;\" x=\"126.314063\" xlink:href=\"#me953c60426\" y=\"123.685714\"/>\n      </g>\n     </g>\n     <g id=\"text_15\">\n      <!-- culture_politics -->\n      <g transform=\"translate(43.973438 127.484933)scale(0.1 -0.1)\">\n       <use xlink:href=\"#DejaVuSans-99\"/>\n       <use x=\"54.980469\" xlink:href=\"#DejaVuSans-117\"/>\n       <use x=\"118.359375\" xlink:href=\"#DejaVuSans-108\"/>\n       <use x=\"146.142578\" xlink:href=\"#DejaVuSans-116\"/>\n       <use x=\"185.351562\" xlink:href=\"#DejaVuSans-117\"/>\n       <use x=\"248.730469\" xlink:href=\"#DejaVuSans-114\"/>\n       <use x=\"287.59375\" xlink:href=\"#DejaVuSans-101\"/>\n       <use x=\"349.117188\" xlink:href=\"#DejaVuSans-95\"/>\n       <use x=\"399.117188\" xlink:href=\"#DejaVuSans-112\"/>\n       <use x=\"462.59375\" xlink:href=\"#DejaVuSans-111\"/>\n       <use x=\"523.775391\" xlink:href=\"#DejaVuSans-108\"/>\n       <use x=\"551.558594\" xlink:href=\"#DejaVuSans-105\"/>\n       <use x=\"579.341797\" xlink:href=\"#DejaVuSans-116\"/>\n       <use x=\"618.550781\" xlink:href=\"#DejaVuSans-105\"/>\n       <use x=\"646.333984\" xlink:href=\"#DejaVuSans-99\"/>\n       <use x=\"701.314453\" xlink:href=\"#DejaVuSans-115\"/>\n      </g>\n     </g>\n    </g>\n    <g id=\"ytick_8\">\n     <g id=\"line2d_16\">\n      <g>\n       <use style=\"stroke:#000000;stroke-width:0.8;\" x=\"126.314063\" xlink:href=\"#me953c60426\" y=\"108.154286\"/>\n      </g>\n     </g>\n     <g id=\"text_16\">\n      <!-- computer_internet -->\n      <g transform=\"translate(26.55 111.953504)scale(0.1 -0.1)\">\n       <use xlink:href=\"#DejaVuSans-99\"/>\n       <use x=\"54.980469\" xlink:href=\"#DejaVuSans-111\"/>\n       <use x=\"116.162109\" xlink:href=\"#DejaVuSans-109\"/>\n       <use x=\"213.574219\" xlink:href=\"#DejaVuSans-112\"/>\n       <use x=\"277.050781\" xlink:href=\"#DejaVuSans-117\"/>\n       <use x=\"340.429688\" xlink:href=\"#DejaVuSans-116\"/>\n       <use x=\"379.638672\" xlink:href=\"#DejaVuSans-101\"/>\n       <use x=\"441.162109\" xlink:href=\"#DejaVuSans-114\"/>\n       <use x=\"482.275391\" xlink:href=\"#DejaVuSans-95\"/>\n       <use x=\"532.275391\" xlink:href=\"#DejaVuSans-105\"/>\n       <use x=\"560.058594\" xlink:href=\"#DejaVuSans-110\"/>\n       <use x=\"623.4375\" xlink:href=\"#DejaVuSans-116\"/>\n       <use x=\"662.646484\" xlink:href=\"#DejaVuSans-101\"/>\n       <use x=\"724.169922\" xlink:href=\"#DejaVuSans-114\"/>\n       <use x=\"763.533203\" xlink:href=\"#DejaVuSans-110\"/>\n       <use x=\"826.912109\" xlink:href=\"#DejaVuSans-101\"/>\n       <use x=\"888.435547\" xlink:href=\"#DejaVuSans-116\"/>\n      </g>\n     </g>\n    </g>\n    <g id=\"ytick_9\">\n     <g id=\"line2d_17\">\n      <g>\n       <use style=\"stroke:#000000;stroke-width:0.8;\" x=\"126.314063\" xlink:href=\"#me953c60426\" y=\"92.622857\"/>\n      </g>\n     </g>\n     <g id=\"text_17\">\n      <!-- science_technology -->\n      <defs>\n       <path d=\"M 45.40625 27.984375 \nQ 45.40625 37.75 41.375 43.109375 \nQ 37.359375 48.484375 30.078125 48.484375 \nQ 22.859375 48.484375 18.828125 43.109375 \nQ 14.796875 37.75 14.796875 27.984375 \nQ 14.796875 18.265625 18.828125 12.890625 \nQ 22.859375 7.515625 30.078125 7.515625 \nQ 37.359375 7.515625 41.375 12.890625 \nQ 45.40625 18.265625 45.40625 27.984375 \nz\nM 54.390625 6.78125 \nQ 54.390625 -7.171875 48.1875 -13.984375 \nQ 42 -20.796875 29.203125 -20.796875 \nQ 24.46875 -20.796875 20.265625 -20.09375 \nQ 16.0625 -19.390625 12.109375 -17.921875 \nL 12.109375 -9.1875 \nQ 16.0625 -11.328125 19.921875 -12.34375 \nQ 23.78125 -13.375 27.78125 -13.375 \nQ 36.625 -13.375 41.015625 -8.765625 \nQ 45.40625 -4.15625 45.40625 5.171875 \nL 45.40625 9.625 \nQ 42.625 4.78125 38.28125 2.390625 \nQ 33.9375 0 27.875 0 \nQ 17.828125 0 11.671875 7.65625 \nQ 5.515625 15.328125 5.515625 27.984375 \nQ 5.515625 40.671875 11.671875 48.328125 \nQ 17.828125 56 27.875 56 \nQ 33.9375 56 38.28125 53.609375 \nQ 42.625 51.21875 45.40625 46.390625 \nL 45.40625 54.6875 \nL 54.390625 54.6875 \nz\n\" id=\"DejaVuSans-103\"/>\n       <path d=\"M 32.171875 -5.078125 \nQ 28.375 -14.84375 24.75 -17.8125 \nQ 21.140625 -20.796875 15.09375 -20.796875 \nL 7.90625 -20.796875 \nL 7.90625 -13.28125 \nL 13.1875 -13.28125 \nQ 16.890625 -13.28125 18.9375 -11.515625 \nQ 21 -9.765625 23.484375 -3.21875 \nL 25.09375 0.875 \nL 2.984375 54.6875 \nL 12.5 54.6875 \nL 29.59375 11.921875 \nL 46.6875 54.6875 \nL 56.203125 54.6875 \nz\n\" id=\"DejaVuSans-121\"/>\n      </defs>\n      <g transform=\"translate(21.15625 96.422076)scale(0.1 -0.1)\">\n       <use xlink:href=\"#DejaVuSans-115\"/>\n       <use x=\"52.099609\" xlink:href=\"#DejaVuSans-99\"/>\n       <use x=\"107.080078\" xlink:href=\"#DejaVuSans-105\"/>\n       <use x=\"134.863281\" xlink:href=\"#DejaVuSans-101\"/>\n       <use x=\"196.386719\" xlink:href=\"#DejaVuSans-110\"/>\n       <use x=\"259.765625\" xlink:href=\"#DejaVuSans-99\"/>\n       <use x=\"314.746094\" xlink:href=\"#DejaVuSans-101\"/>\n       <use x=\"376.269531\" xlink:href=\"#DejaVuSans-95\"/>\n       <use x=\"426.269531\" xlink:href=\"#DejaVuSans-116\"/>\n       <use x=\"465.478516\" xlink:href=\"#DejaVuSans-101\"/>\n       <use x=\"527.001953\" xlink:href=\"#DejaVuSans-99\"/>\n       <use x=\"581.982422\" xlink:href=\"#DejaVuSans-104\"/>\n       <use x=\"645.361328\" xlink:href=\"#DejaVuSans-110\"/>\n       <use x=\"708.740234\" xlink:href=\"#DejaVuSans-111\"/>\n       <use x=\"769.921875\" xlink:href=\"#DejaVuSans-108\"/>\n       <use x=\"797.705078\" xlink:href=\"#DejaVuSans-111\"/>\n       <use x=\"858.886719\" xlink:href=\"#DejaVuSans-103\"/>\n       <use x=\"922.363281\" xlink:href=\"#DejaVuSans-121\"/>\n      </g>\n     </g>\n    </g>\n    <g id=\"ytick_10\">\n     <g id=\"line2d_18\">\n      <g>\n       <use style=\"stroke:#000000;stroke-width:0.8;\" x=\"126.314063\" xlink:href=\"#me953c60426\" y=\"77.091429\"/>\n      </g>\n     </g>\n     <g id=\"text_18\">\n      <!-- gaming -->\n      <g transform=\"translate(81.632813 80.890647)scale(0.1 -0.1)\">\n       <use xlink:href=\"#DejaVuSans-103\"/>\n       <use x=\"63.476562\" xlink:href=\"#DejaVuSans-97\"/>\n       <use x=\"124.755859\" xlink:href=\"#DejaVuSans-109\"/>\n       <use x=\"222.167969\" xlink:href=\"#DejaVuSans-105\"/>\n       <use x=\"249.951172\" xlink:href=\"#DejaVuSans-110\"/>\n       <use x=\"313.330078\" xlink:href=\"#DejaVuSans-103\"/>\n      </g>\n     </g>\n    </g>\n    <g id=\"ytick_11\">\n     <g id=\"line2d_19\">\n      <g>\n       <use style=\"stroke:#000000;stroke-width:0.8;\" x=\"126.314063\" xlink:href=\"#me953c60426\" y=\"61.56\"/>\n      </g>\n     </g>\n     <g id=\"text_19\">\n      <!-- religion -->\n      <g transform=\"translate(82.135938 65.359219)scale(0.1 -0.1)\">\n       <use xlink:href=\"#DejaVuSans-114\"/>\n       <use x=\"38.863281\" xlink:href=\"#DejaVuSans-101\"/>\n       <use x=\"100.386719\" xlink:href=\"#DejaVuSans-108\"/>\n       <use x=\"128.169922\" xlink:href=\"#DejaVuSans-105\"/>\n       <use x=\"155.953125\" xlink:href=\"#DejaVuSans-103\"/>\n       <use x=\"219.429688\" xlink:href=\"#DejaVuSans-105\"/>\n       <use x=\"247.212891\" xlink:href=\"#DejaVuSans-111\"/>\n       <use x=\"308.394531\" xlink:href=\"#DejaVuSans-110\"/>\n      </g>\n     </g>\n    </g>\n    <g id=\"ytick_12\">\n     <g id=\"line2d_20\">\n      <g>\n       <use style=\"stroke:#000000;stroke-width:0.8;\" x=\"126.314063\" xlink:href=\"#me953c60426\" y=\"46.028571\"/>\n      </g>\n     </g>\n     <g id=\"text_20\">\n      <!-- law_crime -->\n      <defs>\n       <path d=\"M 4.203125 54.6875 \nL 13.1875 54.6875 \nL 24.421875 12.015625 \nL 35.59375 54.6875 \nL 46.1875 54.6875 \nL 57.421875 12.015625 \nL 68.609375 54.6875 \nL 77.59375 54.6875 \nL 63.28125 0 \nL 52.6875 0 \nL 40.921875 44.828125 \nL 29.109375 0 \nL 18.5 0 \nz\n\" id=\"DejaVuSans-119\"/>\n      </defs>\n      <g transform=\"translate(68.948438 49.82779)scale(0.1 -0.1)\">\n       <use xlink:href=\"#DejaVuSans-108\"/>\n       <use x=\"27.783203\" xlink:href=\"#DejaVuSans-97\"/>\n       <use x=\"89.0625\" xlink:href=\"#DejaVuSans-119\"/>\n       <use x=\"170.849609\" xlink:href=\"#DejaVuSans-95\"/>\n       <use x=\"220.849609\" xlink:href=\"#DejaVuSans-99\"/>\n       <use x=\"275.830078\" xlink:href=\"#DejaVuSans-114\"/>\n       <use x=\"316.943359\" xlink:href=\"#DejaVuSans-105\"/>\n       <use x=\"344.726562\" xlink:href=\"#DejaVuSans-109\"/>\n       <use x=\"442.138672\" xlink:href=\"#DejaVuSans-101\"/>\n      </g>\n     </g>\n    </g>\n    <g id=\"ytick_13\">\n     <g id=\"line2d_21\">\n      <g>\n       <use style=\"stroke:#000000;stroke-width:0.8;\" x=\"126.314063\" xlink:href=\"#me953c60426\" y=\"30.497143\"/>\n      </g>\n     </g>\n     <g id=\"text_21\">\n      <!-- unknown -->\n      <defs>\n       <path d=\"M 9.078125 75.984375 \nL 18.109375 75.984375 \nL 18.109375 31.109375 \nL 44.921875 54.6875 \nL 56.390625 54.6875 \nL 27.390625 29.109375 \nL 57.625 0 \nL 45.90625 0 \nL 18.109375 26.703125 \nL 18.109375 0 \nL 9.078125 0 \nz\n\" id=\"DejaVuSans-107\"/>\n      </defs>\n      <g transform=\"translate(73.876563 34.296362)scale(0.1 -0.1)\">\n       <use xlink:href=\"#DejaVuSans-117\"/>\n       <use x=\"63.378906\" xlink:href=\"#DejaVuSans-110\"/>\n       <use x=\"126.757812\" xlink:href=\"#DejaVuSans-107\"/>\n       <use x=\"184.667969\" xlink:href=\"#DejaVuSans-110\"/>\n       <use x=\"248.046875\" xlink:href=\"#DejaVuSans-111\"/>\n       <use x=\"309.228516\" xlink:href=\"#DejaVuSans-119\"/>\n       <use x=\"391.015625\" xlink:href=\"#DejaVuSans-110\"/>\n      </g>\n     </g>\n    </g>\n    <g id=\"ytick_14\">\n     <g id=\"line2d_22\">\n      <g>\n       <use style=\"stroke:#000000;stroke-width:0.8;\" x=\"126.314063\" xlink:href=\"#me953c60426\" y=\"14.965714\"/>\n      </g>\n     </g>\n     <g id=\"text_22\">\n      <!-- weather -->\n      <g transform=\"translate(78.332813 18.764933)scale(0.1 -0.1)\">\n       <use xlink:href=\"#DejaVuSans-119\"/>\n       <use x=\"81.787109\" xlink:href=\"#DejaVuSans-101\"/>\n       <use x=\"143.310547\" xlink:href=\"#DejaVuSans-97\"/>\n       <use x=\"204.589844\" xlink:href=\"#DejaVuSans-116\"/>\n       <use x=\"243.798828\" xlink:href=\"#DejaVuSans-104\"/>\n       <use x=\"307.177734\" xlink:href=\"#DejaVuSans-101\"/>\n       <use x=\"368.701172\" xlink:href=\"#DejaVuSans-114\"/>\n      </g>\n     </g>\n    </g>\n    <g id=\"text_23\">\n     <!-- alchemy_category -->\n     <g transform=\"translate(14.798438 161.795781)rotate(-90)scale(0.1 -0.1)\">\n      <use xlink:href=\"#DejaVuSans-97\"/>\n      <use x=\"61.279297\" xlink:href=\"#DejaVuSans-108\"/>\n      <use x=\"89.0625\" xlink:href=\"#DejaVuSans-99\"/>\n      <use x=\"144.042969\" xlink:href=\"#DejaVuSans-104\"/>\n      <use x=\"207.421875\" xlink:href=\"#DejaVuSans-101\"/>\n      <use x=\"268.945312\" xlink:href=\"#DejaVuSans-109\"/>\n      <use x=\"366.357422\" xlink:href=\"#DejaVuSans-121\"/>\n      <use x=\"425.537109\" xlink:href=\"#DejaVuSans-95\"/>\n      <use x=\"475.537109\" xlink:href=\"#DejaVuSans-99\"/>\n      <use x=\"530.517578\" xlink:href=\"#DejaVuSans-97\"/>\n      <use x=\"591.796875\" xlink:href=\"#DejaVuSans-116\"/>\n      <use x=\"631.005859\" xlink:href=\"#DejaVuSans-101\"/>\n      <use x=\"692.529297\" xlink:href=\"#DejaVuSans-103\"/>\n      <use x=\"756.005859\" xlink:href=\"#DejaVuSans-111\"/>\n      <use x=\"817.1875\" xlink:href=\"#DejaVuSans-114\"/>\n      <use x=\"858.300781\" xlink:href=\"#DejaVuSans-121\"/>\n     </g>\n    </g>\n   </g>\n   <g id=\"patch_17\">\n    <path d=\"M 126.314063 224.64 \nL 126.314063 7.2 \n\" style=\"fill:none;stroke:#000000;stroke-linecap:square;stroke-linejoin:miter;stroke-width:0.8;\"/>\n   </g>\n   <g id=\"patch_18\">\n    <path d=\"M 461.114063 224.64 \nL 461.114063 7.2 \n\" style=\"fill:none;stroke:#000000;stroke-linecap:square;stroke-linejoin:miter;stroke-width:0.8;\"/>\n   </g>\n   <g id=\"patch_19\">\n    <path d=\"M 126.314063 224.64 \nL 461.114063 224.64 \n\" style=\"fill:none;stroke:#000000;stroke-linecap:square;stroke-linejoin:miter;stroke-width:0.8;\"/>\n   </g>\n   <g id=\"patch_20\">\n    <path d=\"M 126.314063 7.2 \nL 461.114063 7.2 \n\" style=\"fill:none;stroke:#000000;stroke-linecap:square;stroke-linejoin:miter;stroke-width:0.8;\"/>\n   </g>\n  </g>\n </g>\n <defs>\n  <clipPath id=\"pa8412d4ba7\">\n   <rect height=\"217.44\" width=\"334.8\" x=\"126.314063\" y=\"7.2\"/>\n  </clipPath>\n </defs>\n</svg>\n"
          },
          "metadata": {
            "needs_background": "light"
          }
        }
      ]
    },
    {
      "cell_type": "code",
      "metadata": {
        "colab": {
          "base_uri": "https://localhost:8080/",
          "height": 375
        },
        "id": "8T26ToVCR8jt",
        "outputId": "5bc16051-d789-4ff9-ecc2-1689fef4905c"
      },
      "source": [
        "import seaborn as sns\n",
        "sns.heatmap(df.corr('spearman').abs()[['label']].sort_values('label'))"
      ],
      "execution_count": null,
      "outputs": [
        {
          "output_type": "execute_result",
          "data": {
            "text/plain": [
              "<matplotlib.axes._subplots.AxesSubplot at 0x7f3ef6725950>"
            ]
          },
          "metadata": {},
          "execution_count": 9
        },
        {
          "output_type": "display_data",
          "data": {
            "text/plain": [
              "<Figure size 432x288 with 2 Axes>"
            ],
            "image/svg+xml": "<?xml version=\"1.0\" encoding=\"utf-8\" standalone=\"no\"?>\n<!DOCTYPE svg PUBLIC \"-//W3C//DTD SVG 1.1//EN\"\n  \"http://www.w3.org/Graphics/SVG/1.1/DTD/svg11.dtd\">\n<!-- Created with matplotlib (https://matplotlib.org/) -->\n<svg height=\"252.317344pt\" version=\"1.1\" viewBox=\"0 0 514.923875 252.317344\" width=\"514.923875pt\" xmlns=\"http://www.w3.org/2000/svg\" xmlns:xlink=\"http://www.w3.org/1999/xlink\">\n <defs>\n  <style type=\"text/css\">\n*{stroke-linecap:butt;stroke-linejoin:round;}\n  </style>\n </defs>\n <g id=\"figure_1\">\n  <g id=\"patch_1\">\n   <path d=\"M 0 252.317344 \nL 514.923875 252.317344 \nL 514.923875 0 \nL 0 0 \nz\n\" style=\"fill:none;\"/>\n  </g>\n  <g id=\"axes_1\">\n   <g id=\"patch_2\">\n    <path d=\"M 189.36875 228.439219 \nL 457.20875 228.439219 \nL 457.20875 10.999219 \nL 189.36875 10.999219 \nz\n\" style=\"fill:#ffffff;\"/>\n   </g>\n   <g id=\"QuadMesh_1\">\n    <path clip-path=\"url(#p6c1f874318)\" d=\"M 189.36875 10.999219 \nL 457.20875 10.999219 \nL 457.20875 21.353504 \nL 189.36875 21.353504 \nL 189.36875 10.999219 \n\" style=\"fill:#03051a;\"/>\n    <path clip-path=\"url(#p6c1f874318)\" d=\"M 189.36875 21.353504 \nL 457.20875 21.353504 \nL 457.20875 31.70779 \nL 189.36875 31.70779 \nL 189.36875 21.353504 \n\" style=\"fill:#03051a;\"/>\n    <path clip-path=\"url(#p6c1f874318)\" d=\"M 189.36875 31.70779 \nL 457.20875 31.70779 \nL 457.20875 42.062076 \nL 189.36875 42.062076 \nL 189.36875 31.70779 \n\" style=\"fill:#05061b;\"/>\n    <path clip-path=\"url(#p6c1f874318)\" d=\"M 189.36875 42.062076 \nL 457.20875 42.062076 \nL 457.20875 52.416362 \nL 189.36875 52.416362 \nL 189.36875 42.062076 \n\" style=\"fill:#05061b;\"/>\n    <path clip-path=\"url(#p6c1f874318)\" d=\"M 189.36875 52.416362 \nL 457.20875 52.416362 \nL 457.20875 62.770647 \nL 189.36875 62.770647 \nL 189.36875 52.416362 \n\" style=\"fill:#08081e;\"/>\n    <path clip-path=\"url(#p6c1f874318)\" d=\"M 189.36875 62.770647 \nL 457.20875 62.770647 \nL 457.20875 73.124933 \nL 189.36875 73.124933 \nL 189.36875 62.770647 \n\" style=\"fill:#0b0920;\"/>\n    <path clip-path=\"url(#p6c1f874318)\" d=\"M 189.36875 73.124933 \nL 457.20875 73.124933 \nL 457.20875 83.479219 \nL 189.36875 83.479219 \nL 189.36875 73.124933 \n\" style=\"fill:#100b23;\"/>\n    <path clip-path=\"url(#p6c1f874318)\" d=\"M 189.36875 83.479219 \nL 457.20875 83.479219 \nL 457.20875 93.833504 \nL 189.36875 93.833504 \nL 189.36875 83.479219 \n\" style=\"fill:#160e27;\"/>\n    <path clip-path=\"url(#p6c1f874318)\" d=\"M 189.36875 93.833504 \nL 457.20875 93.833504 \nL 457.20875 104.18779 \nL 189.36875 104.18779 \nL 189.36875 93.833504 \n\" style=\"fill:#160e27;\"/>\n    <path clip-path=\"url(#p6c1f874318)\" d=\"M 189.36875 104.18779 \nL 457.20875 104.18779 \nL 457.20875 114.542076 \nL 189.36875 114.542076 \nL 189.36875 104.18779 \n\" style=\"fill:#160e27;\"/>\n    <path clip-path=\"url(#p6c1f874318)\" d=\"M 189.36875 114.542076 \nL 457.20875 114.542076 \nL 457.20875 124.896362 \nL 189.36875 124.896362 \nL 189.36875 114.542076 \n\" style=\"fill:#1b112b;\"/>\n    <path clip-path=\"url(#p6c1f874318)\" d=\"M 189.36875 124.896362 \nL 457.20875 124.896362 \nL 457.20875 135.250647 \nL 189.36875 135.250647 \nL 189.36875 124.896362 \n\" style=\"fill:#20122e;\"/>\n    <path clip-path=\"url(#p6c1f874318)\" d=\"M 189.36875 135.250647 \nL 457.20875 135.250647 \nL 457.20875 145.604933 \nL 189.36875 145.604933 \nL 189.36875 135.250647 \n\" style=\"fill:#211330;\"/>\n    <path clip-path=\"url(#p6c1f874318)\" d=\"M 189.36875 145.604933 \nL 457.20875 145.604933 \nL 457.20875 155.959219 \nL 189.36875 155.959219 \nL 189.36875 145.604933 \n\" style=\"fill:#251433;\"/>\n    <path clip-path=\"url(#p6c1f874318)\" d=\"M 189.36875 155.959219 \nL 457.20875 155.959219 \nL 457.20875 166.313504 \nL 189.36875 166.313504 \nL 189.36875 155.959219 \n\" style=\"fill:#2a1636;\"/>\n    <path clip-path=\"url(#p6c1f874318)\" d=\"M 189.36875 166.313504 \nL 457.20875 166.313504 \nL 457.20875 176.66779 \nL 189.36875 176.66779 \nL 189.36875 166.313504 \n\" style=\"fill:#2b1637;\"/>\n    <path clip-path=\"url(#p6c1f874318)\" d=\"M 189.36875 176.66779 \nL 457.20875 176.66779 \nL 457.20875 187.022076 \nL 189.36875 187.022076 \nL 189.36875 176.66779 \n\" style=\"fill:#421b45;\"/>\n    <path clip-path=\"url(#p6c1f874318)\" d=\"M 189.36875 187.022076 \nL 457.20875 187.022076 \nL 457.20875 197.376362 \nL 189.36875 197.376362 \nL 189.36875 187.022076 \n\" style=\"fill:#491d49;\"/>\n    <path clip-path=\"url(#p6c1f874318)\" d=\"M 189.36875 197.376362 \nL 457.20875 197.376362 \nL 457.20875 207.730647 \nL 189.36875 207.730647 \nL 189.36875 197.376362 \n\" style=\"fill:#4e1d4b;\"/>\n    <path clip-path=\"url(#p6c1f874318)\" d=\"M 189.36875 207.730647 \nL 457.20875 207.730647 \nL 457.20875 218.084933 \nL 189.36875 218.084933 \nL 189.36875 207.730647 \n\" style=\"fill:#faebdd;\"/>\n    <path clip-path=\"url(#p6c1f874318)\" d=\"M 189.36875 218.084933 \nL 457.20875 218.084933 \nL 457.20875 228.439219 \nL 189.36875 228.439219 \nL 189.36875 218.084933 \n\" style=\"fill:none;\"/>\n   </g>\n   <g id=\"matplotlib.axis_1\">\n    <g id=\"xtick_1\">\n     <g id=\"line2d_1\">\n      <defs>\n       <path d=\"M 0 0 \nL 0 3.5 \n\" id=\"mb153a2e3af\" style=\"stroke:#000000;stroke-width:0.8;\"/>\n      </defs>\n      <g>\n       <use style=\"stroke:#000000;stroke-width:0.8;\" x=\"323.28875\" xlink:href=\"#mb153a2e3af\" y=\"228.439219\"/>\n      </g>\n     </g>\n     <g id=\"text_1\">\n      <!-- label -->\n      <defs>\n       <path d=\"M 9.421875 75.984375 \nL 18.40625 75.984375 \nL 18.40625 0 \nL 9.421875 0 \nz\n\" id=\"DejaVuSans-108\"/>\n       <path d=\"M 34.28125 27.484375 \nQ 23.390625 27.484375 19.1875 25 \nQ 14.984375 22.515625 14.984375 16.5 \nQ 14.984375 11.71875 18.140625 8.90625 \nQ 21.296875 6.109375 26.703125 6.109375 \nQ 34.1875 6.109375 38.703125 11.40625 \nQ 43.21875 16.703125 43.21875 25.484375 \nL 43.21875 27.484375 \nz\nM 52.203125 31.203125 \nL 52.203125 0 \nL 43.21875 0 \nL 43.21875 8.296875 \nQ 40.140625 3.328125 35.546875 0.953125 \nQ 30.953125 -1.421875 24.3125 -1.421875 \nQ 15.921875 -1.421875 10.953125 3.296875 \nQ 6 8.015625 6 15.921875 \nQ 6 25.140625 12.171875 29.828125 \nQ 18.359375 34.515625 30.609375 34.515625 \nL 43.21875 34.515625 \nL 43.21875 35.40625 \nQ 43.21875 41.609375 39.140625 45 \nQ 35.0625 48.390625 27.6875 48.390625 \nQ 23 48.390625 18.546875 47.265625 \nQ 14.109375 46.140625 10.015625 43.890625 \nL 10.015625 52.203125 \nQ 14.9375 54.109375 19.578125 55.046875 \nQ 24.21875 56 28.609375 56 \nQ 40.484375 56 46.34375 49.84375 \nQ 52.203125 43.703125 52.203125 31.203125 \nz\n\" id=\"DejaVuSans-97\"/>\n       <path d=\"M 48.6875 27.296875 \nQ 48.6875 37.203125 44.609375 42.84375 \nQ 40.53125 48.484375 33.40625 48.484375 \nQ 26.265625 48.484375 22.1875 42.84375 \nQ 18.109375 37.203125 18.109375 27.296875 \nQ 18.109375 17.390625 22.1875 11.75 \nQ 26.265625 6.109375 33.40625 6.109375 \nQ 40.53125 6.109375 44.609375 11.75 \nQ 48.6875 17.390625 48.6875 27.296875 \nz\nM 18.109375 46.390625 \nQ 20.953125 51.265625 25.265625 53.625 \nQ 29.59375 56 35.59375 56 \nQ 45.5625 56 51.78125 48.09375 \nQ 58.015625 40.1875 58.015625 27.296875 \nQ 58.015625 14.40625 51.78125 6.484375 \nQ 45.5625 -1.421875 35.59375 -1.421875 \nQ 29.59375 -1.421875 25.265625 0.953125 \nQ 20.953125 3.328125 18.109375 8.203125 \nL 18.109375 0 \nL 9.078125 0 \nL 9.078125 75.984375 \nL 18.109375 75.984375 \nz\n\" id=\"DejaVuSans-98\"/>\n       <path d=\"M 56.203125 29.59375 \nL 56.203125 25.203125 \nL 14.890625 25.203125 \nQ 15.484375 15.921875 20.484375 11.0625 \nQ 25.484375 6.203125 34.421875 6.203125 \nQ 39.59375 6.203125 44.453125 7.46875 \nQ 49.3125 8.734375 54.109375 11.28125 \nL 54.109375 2.78125 \nQ 49.265625 0.734375 44.1875 -0.34375 \nQ 39.109375 -1.421875 33.890625 -1.421875 \nQ 20.796875 -1.421875 13.15625 6.1875 \nQ 5.515625 13.8125 5.515625 26.8125 \nQ 5.515625 40.234375 12.765625 48.109375 \nQ 20.015625 56 32.328125 56 \nQ 43.359375 56 49.78125 48.890625 \nQ 56.203125 41.796875 56.203125 29.59375 \nz\nM 47.21875 32.234375 \nQ 47.125 39.59375 43.09375 43.984375 \nQ 39.0625 48.390625 32.421875 48.390625 \nQ 24.90625 48.390625 20.390625 44.140625 \nQ 15.875 39.890625 15.1875 32.171875 \nz\n\" id=\"DejaVuSans-101\"/>\n      </defs>\n      <g transform=\"translate(311.195781 243.037656)scale(0.1 -0.1)\">\n       <use xlink:href=\"#DejaVuSans-108\"/>\n       <use x=\"27.783203\" xlink:href=\"#DejaVuSans-97\"/>\n       <use x=\"89.0625\" xlink:href=\"#DejaVuSans-98\"/>\n       <use x=\"152.539062\" xlink:href=\"#DejaVuSans-101\"/>\n       <use x=\"214.0625\" xlink:href=\"#DejaVuSans-108\"/>\n      </g>\n     </g>\n    </g>\n   </g>\n   <g id=\"matplotlib.axis_2\">\n    <g id=\"ytick_1\">\n     <g id=\"line2d_2\">\n      <defs>\n       <path d=\"M 0 0 \nL -3.5 0 \n\" id=\"m8693d256ea\" style=\"stroke:#000000;stroke-width:0.8;\"/>\n      </defs>\n      <g>\n       <use style=\"stroke:#000000;stroke-width:0.8;\" x=\"189.36875\" xlink:href=\"#m8693d256ea\" y=\"16.176362\"/>\n      </g>\n     </g>\n     <g id=\"text_2\">\n      <!-- hasDomainLink -->\n      <defs>\n       <path d=\"M 54.890625 33.015625 \nL 54.890625 0 \nL 45.90625 0 \nL 45.90625 32.71875 \nQ 45.90625 40.484375 42.875 44.328125 \nQ 39.84375 48.1875 33.796875 48.1875 \nQ 26.515625 48.1875 22.3125 43.546875 \nQ 18.109375 38.921875 18.109375 30.90625 \nL 18.109375 0 \nL 9.078125 0 \nL 9.078125 75.984375 \nL 18.109375 75.984375 \nL 18.109375 46.1875 \nQ 21.34375 51.125 25.703125 53.5625 \nQ 30.078125 56 35.796875 56 \nQ 45.21875 56 50.046875 50.171875 \nQ 54.890625 44.34375 54.890625 33.015625 \nz\n\" id=\"DejaVuSans-104\"/>\n       <path d=\"M 44.28125 53.078125 \nL 44.28125 44.578125 \nQ 40.484375 46.53125 36.375 47.5 \nQ 32.28125 48.484375 27.875 48.484375 \nQ 21.1875 48.484375 17.84375 46.4375 \nQ 14.5 44.390625 14.5 40.28125 \nQ 14.5 37.15625 16.890625 35.375 \nQ 19.28125 33.59375 26.515625 31.984375 \nL 29.59375 31.296875 \nQ 39.15625 29.25 43.1875 25.515625 \nQ 47.21875 21.78125 47.21875 15.09375 \nQ 47.21875 7.46875 41.1875 3.015625 \nQ 35.15625 -1.421875 24.609375 -1.421875 \nQ 20.21875 -1.421875 15.453125 -0.5625 \nQ 10.6875 0.296875 5.421875 2 \nL 5.421875 11.28125 \nQ 10.40625 8.6875 15.234375 7.390625 \nQ 20.0625 6.109375 24.8125 6.109375 \nQ 31.15625 6.109375 34.5625 8.28125 \nQ 37.984375 10.453125 37.984375 14.40625 \nQ 37.984375 18.0625 35.515625 20.015625 \nQ 33.0625 21.96875 24.703125 23.78125 \nL 21.578125 24.515625 \nQ 13.234375 26.265625 9.515625 29.90625 \nQ 5.8125 33.546875 5.8125 39.890625 \nQ 5.8125 47.609375 11.28125 51.796875 \nQ 16.75 56 26.8125 56 \nQ 31.78125 56 36.171875 55.265625 \nQ 40.578125 54.546875 44.28125 53.078125 \nz\n\" id=\"DejaVuSans-115\"/>\n       <path d=\"M 19.671875 64.796875 \nL 19.671875 8.109375 \nL 31.59375 8.109375 \nQ 46.6875 8.109375 53.6875 14.9375 \nQ 60.6875 21.78125 60.6875 36.53125 \nQ 60.6875 51.171875 53.6875 57.984375 \nQ 46.6875 64.796875 31.59375 64.796875 \nz\nM 9.8125 72.90625 \nL 30.078125 72.90625 \nQ 51.265625 72.90625 61.171875 64.09375 \nQ 71.09375 55.28125 71.09375 36.53125 \nQ 71.09375 17.671875 61.125 8.828125 \nQ 51.171875 0 30.078125 0 \nL 9.8125 0 \nz\n\" id=\"DejaVuSans-68\"/>\n       <path d=\"M 30.609375 48.390625 \nQ 23.390625 48.390625 19.1875 42.75 \nQ 14.984375 37.109375 14.984375 27.296875 \nQ 14.984375 17.484375 19.15625 11.84375 \nQ 23.34375 6.203125 30.609375 6.203125 \nQ 37.796875 6.203125 41.984375 11.859375 \nQ 46.1875 17.53125 46.1875 27.296875 \nQ 46.1875 37.015625 41.984375 42.703125 \nQ 37.796875 48.390625 30.609375 48.390625 \nz\nM 30.609375 56 \nQ 42.328125 56 49.015625 48.375 \nQ 55.71875 40.765625 55.71875 27.296875 \nQ 55.71875 13.875 49.015625 6.21875 \nQ 42.328125 -1.421875 30.609375 -1.421875 \nQ 18.84375 -1.421875 12.171875 6.21875 \nQ 5.515625 13.875 5.515625 27.296875 \nQ 5.515625 40.765625 12.171875 48.375 \nQ 18.84375 56 30.609375 56 \nz\n\" id=\"DejaVuSans-111\"/>\n       <path d=\"M 52 44.1875 \nQ 55.375 50.25 60.0625 53.125 \nQ 64.75 56 71.09375 56 \nQ 79.640625 56 84.28125 50.015625 \nQ 88.921875 44.046875 88.921875 33.015625 \nL 88.921875 0 \nL 79.890625 0 \nL 79.890625 32.71875 \nQ 79.890625 40.578125 77.09375 44.375 \nQ 74.3125 48.1875 68.609375 48.1875 \nQ 61.625 48.1875 57.5625 43.546875 \nQ 53.515625 38.921875 53.515625 30.90625 \nL 53.515625 0 \nL 44.484375 0 \nL 44.484375 32.71875 \nQ 44.484375 40.625 41.703125 44.40625 \nQ 38.921875 48.1875 33.109375 48.1875 \nQ 26.21875 48.1875 22.15625 43.53125 \nQ 18.109375 38.875 18.109375 30.90625 \nL 18.109375 0 \nL 9.078125 0 \nL 9.078125 54.6875 \nL 18.109375 54.6875 \nL 18.109375 46.1875 \nQ 21.1875 51.21875 25.484375 53.609375 \nQ 29.78125 56 35.6875 56 \nQ 41.65625 56 45.828125 52.96875 \nQ 50 49.953125 52 44.1875 \nz\n\" id=\"DejaVuSans-109\"/>\n       <path d=\"M 9.421875 54.6875 \nL 18.40625 54.6875 \nL 18.40625 0 \nL 9.421875 0 \nz\nM 9.421875 75.984375 \nL 18.40625 75.984375 \nL 18.40625 64.59375 \nL 9.421875 64.59375 \nz\n\" id=\"DejaVuSans-105\"/>\n       <path d=\"M 54.890625 33.015625 \nL 54.890625 0 \nL 45.90625 0 \nL 45.90625 32.71875 \nQ 45.90625 40.484375 42.875 44.328125 \nQ 39.84375 48.1875 33.796875 48.1875 \nQ 26.515625 48.1875 22.3125 43.546875 \nQ 18.109375 38.921875 18.109375 30.90625 \nL 18.109375 0 \nL 9.078125 0 \nL 9.078125 54.6875 \nL 18.109375 54.6875 \nL 18.109375 46.1875 \nQ 21.34375 51.125 25.703125 53.5625 \nQ 30.078125 56 35.796875 56 \nQ 45.21875 56 50.046875 50.171875 \nQ 54.890625 44.34375 54.890625 33.015625 \nz\n\" id=\"DejaVuSans-110\"/>\n       <path d=\"M 9.8125 72.90625 \nL 19.671875 72.90625 \nL 19.671875 8.296875 \nL 55.171875 8.296875 \nL 55.171875 0 \nL 9.8125 0 \nz\n\" id=\"DejaVuSans-76\"/>\n       <path d=\"M 9.078125 75.984375 \nL 18.109375 75.984375 \nL 18.109375 31.109375 \nL 44.921875 54.6875 \nL 56.390625 54.6875 \nL 27.390625 29.109375 \nL 57.625 0 \nL 45.90625 0 \nL 18.109375 26.703125 \nL 18.109375 0 \nL 9.078125 0 \nz\n\" id=\"DejaVuSans-107\"/>\n      </defs>\n      <g transform=\"translate(105.4125 18.935737)scale(0.1 -0.1)\">\n       <use xlink:href=\"#DejaVuSans-104\"/>\n       <use x=\"63.378906\" xlink:href=\"#DejaVuSans-97\"/>\n       <use x=\"124.658203\" xlink:href=\"#DejaVuSans-115\"/>\n       <use x=\"176.757812\" xlink:href=\"#DejaVuSans-68\"/>\n       <use x=\"253.759766\" xlink:href=\"#DejaVuSans-111\"/>\n       <use x=\"314.941406\" xlink:href=\"#DejaVuSans-109\"/>\n       <use x=\"412.353516\" xlink:href=\"#DejaVuSans-97\"/>\n       <use x=\"473.632812\" xlink:href=\"#DejaVuSans-105\"/>\n       <use x=\"501.416016\" xlink:href=\"#DejaVuSans-110\"/>\n       <use x=\"564.794922\" xlink:href=\"#DejaVuSans-76\"/>\n       <use x=\"620.507812\" xlink:href=\"#DejaVuSans-105\"/>\n       <use x=\"648.291016\" xlink:href=\"#DejaVuSans-110\"/>\n       <use x=\"711.669922\" xlink:href=\"#DejaVuSans-107\"/>\n      </g>\n     </g>\n    </g>\n    <g id=\"ytick_2\">\n     <g id=\"line2d_3\">\n      <g>\n       <use style=\"stroke:#000000;stroke-width:0.8;\" x=\"189.36875\" xlink:href=\"#m8693d256ea\" y=\"36.884933\"/>\n      </g>\n     </g>\n     <g id=\"text_3\">\n      <!-- numwords_in_url -->\n      <defs>\n       <path d=\"M 8.5 21.578125 \nL 8.5 54.6875 \nL 17.484375 54.6875 \nL 17.484375 21.921875 \nQ 17.484375 14.15625 20.5 10.265625 \nQ 23.53125 6.390625 29.59375 6.390625 \nQ 36.859375 6.390625 41.078125 11.03125 \nQ 45.3125 15.671875 45.3125 23.6875 \nL 45.3125 54.6875 \nL 54.296875 54.6875 \nL 54.296875 0 \nL 45.3125 0 \nL 45.3125 8.40625 \nQ 42.046875 3.421875 37.71875 1 \nQ 33.40625 -1.421875 27.6875 -1.421875 \nQ 18.265625 -1.421875 13.375 4.4375 \nQ 8.5 10.296875 8.5 21.578125 \nz\nM 31.109375 56 \nz\n\" id=\"DejaVuSans-117\"/>\n       <path d=\"M 4.203125 54.6875 \nL 13.1875 54.6875 \nL 24.421875 12.015625 \nL 35.59375 54.6875 \nL 46.1875 54.6875 \nL 57.421875 12.015625 \nL 68.609375 54.6875 \nL 77.59375 54.6875 \nL 63.28125 0 \nL 52.6875 0 \nL 40.921875 44.828125 \nL 29.109375 0 \nL 18.5 0 \nz\n\" id=\"DejaVuSans-119\"/>\n       <path d=\"M 41.109375 46.296875 \nQ 39.59375 47.171875 37.8125 47.578125 \nQ 36.03125 48 33.890625 48 \nQ 26.265625 48 22.1875 43.046875 \nQ 18.109375 38.09375 18.109375 28.8125 \nL 18.109375 0 \nL 9.078125 0 \nL 9.078125 54.6875 \nL 18.109375 54.6875 \nL 18.109375 46.1875 \nQ 20.953125 51.171875 25.484375 53.578125 \nQ 30.03125 56 36.53125 56 \nQ 37.453125 56 38.578125 55.875 \nQ 39.703125 55.765625 41.0625 55.515625 \nz\n\" id=\"DejaVuSans-114\"/>\n       <path d=\"M 45.40625 46.390625 \nL 45.40625 75.984375 \nL 54.390625 75.984375 \nL 54.390625 0 \nL 45.40625 0 \nL 45.40625 8.203125 \nQ 42.578125 3.328125 38.25 0.953125 \nQ 33.9375 -1.421875 27.875 -1.421875 \nQ 17.96875 -1.421875 11.734375 6.484375 \nQ 5.515625 14.40625 5.515625 27.296875 \nQ 5.515625 40.1875 11.734375 48.09375 \nQ 17.96875 56 27.875 56 \nQ 33.9375 56 38.25 53.625 \nQ 42.578125 51.265625 45.40625 46.390625 \nz\nM 14.796875 27.296875 \nQ 14.796875 17.390625 18.875 11.75 \nQ 22.953125 6.109375 30.078125 6.109375 \nQ 37.203125 6.109375 41.296875 11.75 \nQ 45.40625 17.390625 45.40625 27.296875 \nQ 45.40625 37.203125 41.296875 42.84375 \nQ 37.203125 48.484375 30.078125 48.484375 \nQ 22.953125 48.484375 18.875 42.84375 \nQ 14.796875 37.203125 14.796875 27.296875 \nz\n\" id=\"DejaVuSans-100\"/>\n       <path d=\"M 50.984375 -16.609375 \nL 50.984375 -23.578125 \nL -0.984375 -23.578125 \nL -0.984375 -16.609375 \nz\n\" id=\"DejaVuSans-95\"/>\n      </defs>\n      <g transform=\"translate(97.820313 39.505246)scale(0.1 -0.1)\">\n       <use xlink:href=\"#DejaVuSans-110\"/>\n       <use x=\"63.378906\" xlink:href=\"#DejaVuSans-117\"/>\n       <use x=\"126.757812\" xlink:href=\"#DejaVuSans-109\"/>\n       <use x=\"224.169922\" xlink:href=\"#DejaVuSans-119\"/>\n       <use x=\"305.957031\" xlink:href=\"#DejaVuSans-111\"/>\n       <use x=\"367.138672\" xlink:href=\"#DejaVuSans-114\"/>\n       <use x=\"406.501953\" xlink:href=\"#DejaVuSans-100\"/>\n       <use x=\"469.978516\" xlink:href=\"#DejaVuSans-115\"/>\n       <use x=\"522.078125\" xlink:href=\"#DejaVuSans-95\"/>\n       <use x=\"572.078125\" xlink:href=\"#DejaVuSans-105\"/>\n       <use x=\"599.861328\" xlink:href=\"#DejaVuSans-110\"/>\n       <use x=\"663.240234\" xlink:href=\"#DejaVuSans-95\"/>\n       <use x=\"713.240234\" xlink:href=\"#DejaVuSans-117\"/>\n       <use x=\"776.619141\" xlink:href=\"#DejaVuSans-114\"/>\n       <use x=\"817.732422\" xlink:href=\"#DejaVuSans-108\"/>\n      </g>\n     </g>\n    </g>\n    <g id=\"ytick_3\">\n     <g id=\"line2d_4\">\n      <g>\n       <use style=\"stroke:#000000;stroke-width:0.8;\" x=\"189.36875\" xlink:href=\"#m8693d256ea\" y=\"57.593504\"/>\n      </g>\n     </g>\n     <g id=\"text_4\">\n      <!-- image_ratio -->\n      <defs>\n       <path d=\"M 45.40625 27.984375 \nQ 45.40625 37.75 41.375 43.109375 \nQ 37.359375 48.484375 30.078125 48.484375 \nQ 22.859375 48.484375 18.828125 43.109375 \nQ 14.796875 37.75 14.796875 27.984375 \nQ 14.796875 18.265625 18.828125 12.890625 \nQ 22.859375 7.515625 30.078125 7.515625 \nQ 37.359375 7.515625 41.375 12.890625 \nQ 45.40625 18.265625 45.40625 27.984375 \nz\nM 54.390625 6.78125 \nQ 54.390625 -7.171875 48.1875 -13.984375 \nQ 42 -20.796875 29.203125 -20.796875 \nQ 24.46875 -20.796875 20.265625 -20.09375 \nQ 16.0625 -19.390625 12.109375 -17.921875 \nL 12.109375 -9.1875 \nQ 16.0625 -11.328125 19.921875 -12.34375 \nQ 23.78125 -13.375 27.78125 -13.375 \nQ 36.625 -13.375 41.015625 -8.765625 \nQ 45.40625 -4.15625 45.40625 5.171875 \nL 45.40625 9.625 \nQ 42.625 4.78125 38.28125 2.390625 \nQ 33.9375 0 27.875 0 \nQ 17.828125 0 11.671875 7.65625 \nQ 5.515625 15.328125 5.515625 27.984375 \nQ 5.515625 40.671875 11.671875 48.328125 \nQ 17.828125 56 27.875 56 \nQ 33.9375 56 38.28125 53.609375 \nQ 42.625 51.21875 45.40625 46.390625 \nL 45.40625 54.6875 \nL 54.390625 54.6875 \nz\n\" id=\"DejaVuSans-103\"/>\n       <path d=\"M 18.3125 70.21875 \nL 18.3125 54.6875 \nL 36.8125 54.6875 \nL 36.8125 47.703125 \nL 18.3125 47.703125 \nL 18.3125 18.015625 \nQ 18.3125 11.328125 20.140625 9.421875 \nQ 21.96875 7.515625 27.59375 7.515625 \nL 36.8125 7.515625 \nL 36.8125 0 \nL 27.59375 0 \nQ 17.1875 0 13.234375 3.875 \nQ 9.28125 7.765625 9.28125 18.015625 \nL 9.28125 47.703125 \nL 2.6875 47.703125 \nL 2.6875 54.6875 \nL 9.28125 54.6875 \nL 9.28125 70.21875 \nz\n\" id=\"DejaVuSans-116\"/>\n      </defs>\n      <g transform=\"translate(123.164063 60.213817)scale(0.1 -0.1)\">\n       <use xlink:href=\"#DejaVuSans-105\"/>\n       <use x=\"27.783203\" xlink:href=\"#DejaVuSans-109\"/>\n       <use x=\"125.195312\" xlink:href=\"#DejaVuSans-97\"/>\n       <use x=\"186.474609\" xlink:href=\"#DejaVuSans-103\"/>\n       <use x=\"249.951172\" xlink:href=\"#DejaVuSans-101\"/>\n       <use x=\"311.474609\" xlink:href=\"#DejaVuSans-95\"/>\n       <use x=\"361.474609\" xlink:href=\"#DejaVuSans-114\"/>\n       <use x=\"402.587891\" xlink:href=\"#DejaVuSans-97\"/>\n       <use x=\"463.867188\" xlink:href=\"#DejaVuSans-116\"/>\n       <use x=\"503.076172\" xlink:href=\"#DejaVuSans-105\"/>\n       <use x=\"530.859375\" xlink:href=\"#DejaVuSans-111\"/>\n      </g>\n     </g>\n    </g>\n    <g id=\"ytick_4\">\n     <g id=\"line2d_5\">\n      <g>\n       <use style=\"stroke:#000000;stroke-width:0.8;\" x=\"189.36875\" xlink:href=\"#m8693d256ea\" y=\"78.302076\"/>\n      </g>\n     </g>\n     <g id=\"text_5\">\n      <!-- parametrizedLinkRatio -->\n      <defs>\n       <path d=\"M 18.109375 8.203125 \nL 18.109375 -20.796875 \nL 9.078125 -20.796875 \nL 9.078125 54.6875 \nL 18.109375 54.6875 \nL 18.109375 46.390625 \nQ 20.953125 51.265625 25.265625 53.625 \nQ 29.59375 56 35.59375 56 \nQ 45.5625 56 51.78125 48.09375 \nQ 58.015625 40.1875 58.015625 27.296875 \nQ 58.015625 14.40625 51.78125 6.484375 \nQ 45.5625 -1.421875 35.59375 -1.421875 \nQ 29.59375 -1.421875 25.265625 0.953125 \nQ 20.953125 3.328125 18.109375 8.203125 \nz\nM 48.6875 27.296875 \nQ 48.6875 37.203125 44.609375 42.84375 \nQ 40.53125 48.484375 33.40625 48.484375 \nQ 26.265625 48.484375 22.1875 42.84375 \nQ 18.109375 37.203125 18.109375 27.296875 \nQ 18.109375 17.390625 22.1875 11.75 \nQ 26.265625 6.109375 33.40625 6.109375 \nQ 40.53125 6.109375 44.609375 11.75 \nQ 48.6875 17.390625 48.6875 27.296875 \nz\n\" id=\"DejaVuSans-112\"/>\n       <path d=\"M 5.515625 54.6875 \nL 48.1875 54.6875 \nL 48.1875 46.484375 \nL 14.40625 7.171875 \nL 48.1875 7.171875 \nL 48.1875 0 \nL 4.296875 0 \nL 4.296875 8.203125 \nL 38.09375 47.515625 \nL 5.515625 47.515625 \nz\n\" id=\"DejaVuSans-122\"/>\n       <path d=\"M 44.390625 34.1875 \nQ 47.5625 33.109375 50.5625 29.59375 \nQ 53.5625 26.078125 56.59375 19.921875 \nL 66.609375 0 \nL 56 0 \nL 46.6875 18.703125 \nQ 43.0625 26.03125 39.671875 28.421875 \nQ 36.28125 30.8125 30.421875 30.8125 \nL 19.671875 30.8125 \nL 19.671875 0 \nL 9.8125 0 \nL 9.8125 72.90625 \nL 32.078125 72.90625 \nQ 44.578125 72.90625 50.734375 67.671875 \nQ 56.890625 62.453125 56.890625 51.90625 \nQ 56.890625 45.015625 53.6875 40.46875 \nQ 50.484375 35.9375 44.390625 34.1875 \nz\nM 19.671875 64.796875 \nL 19.671875 38.921875 \nL 32.078125 38.921875 \nQ 39.203125 38.921875 42.84375 42.21875 \nQ 46.484375 45.515625 46.484375 51.90625 \nQ 46.484375 58.296875 42.84375 61.546875 \nQ 39.203125 64.796875 32.078125 64.796875 \nz\n\" id=\"DejaVuSans-82\"/>\n      </defs>\n      <g transform=\"translate(69.053125 81.061451)scale(0.1 -0.1)\">\n       <use xlink:href=\"#DejaVuSans-112\"/>\n       <use x=\"63.476562\" xlink:href=\"#DejaVuSans-97\"/>\n       <use x=\"124.755859\" xlink:href=\"#DejaVuSans-114\"/>\n       <use x=\"165.869141\" xlink:href=\"#DejaVuSans-97\"/>\n       <use x=\"227.148438\" xlink:href=\"#DejaVuSans-109\"/>\n       <use x=\"324.560547\" xlink:href=\"#DejaVuSans-101\"/>\n       <use x=\"386.083984\" xlink:href=\"#DejaVuSans-116\"/>\n       <use x=\"425.292969\" xlink:href=\"#DejaVuSans-114\"/>\n       <use x=\"466.40625\" xlink:href=\"#DejaVuSans-105\"/>\n       <use x=\"494.189453\" xlink:href=\"#DejaVuSans-122\"/>\n       <use x=\"546.679688\" xlink:href=\"#DejaVuSans-101\"/>\n       <use x=\"608.203125\" xlink:href=\"#DejaVuSans-100\"/>\n       <use x=\"671.679688\" xlink:href=\"#DejaVuSans-76\"/>\n       <use x=\"727.392578\" xlink:href=\"#DejaVuSans-105\"/>\n       <use x=\"755.175781\" xlink:href=\"#DejaVuSans-110\"/>\n       <use x=\"818.554688\" xlink:href=\"#DejaVuSans-107\"/>\n       <use x=\"876.464844\" xlink:href=\"#DejaVuSans-82\"/>\n       <use x=\"943.697266\" xlink:href=\"#DejaVuSans-97\"/>\n       <use x=\"1004.976562\" xlink:href=\"#DejaVuSans-116\"/>\n       <use x=\"1044.185547\" xlink:href=\"#DejaVuSans-105\"/>\n       <use x=\"1071.96875\" xlink:href=\"#DejaVuSans-111\"/>\n      </g>\n     </g>\n    </g>\n    <g id=\"ytick_5\">\n     <g id=\"line2d_6\">\n      <g>\n       <use style=\"stroke:#000000;stroke-width:0.8;\" x=\"189.36875\" xlink:href=\"#m8693d256ea\" y=\"99.010647\"/>\n      </g>\n     </g>\n     <g id=\"text_6\">\n      <!-- html_ratio -->\n      <g transform=\"translate(131.535938 101.63096)scale(0.1 -0.1)\">\n       <use xlink:href=\"#DejaVuSans-104\"/>\n       <use x=\"63.378906\" xlink:href=\"#DejaVuSans-116\"/>\n       <use x=\"102.587891\" xlink:href=\"#DejaVuSans-109\"/>\n       <use x=\"200\" xlink:href=\"#DejaVuSans-108\"/>\n       <use x=\"227.783203\" xlink:href=\"#DejaVuSans-95\"/>\n       <use x=\"277.783203\" xlink:href=\"#DejaVuSans-114\"/>\n       <use x=\"318.896484\" xlink:href=\"#DejaVuSans-97\"/>\n       <use x=\"380.175781\" xlink:href=\"#DejaVuSans-116\"/>\n       <use x=\"419.384766\" xlink:href=\"#DejaVuSans-105\"/>\n       <use x=\"447.167969\" xlink:href=\"#DejaVuSans-111\"/>\n      </g>\n     </g>\n    </g>\n    <g id=\"ytick_6\">\n     <g id=\"line2d_7\">\n      <g>\n       <use style=\"stroke:#000000;stroke-width:0.8;\" x=\"189.36875\" xlink:href=\"#m8693d256ea\" y=\"119.719219\"/>\n      </g>\n     </g>\n     <g id=\"text_7\">\n      <!-- commonlinkratio_1 -->\n      <defs>\n       <path d=\"M 48.78125 52.59375 \nL 48.78125 44.1875 \nQ 44.96875 46.296875 41.140625 47.34375 \nQ 37.3125 48.390625 33.40625 48.390625 \nQ 24.65625 48.390625 19.8125 42.84375 \nQ 14.984375 37.3125 14.984375 27.296875 \nQ 14.984375 17.28125 19.8125 11.734375 \nQ 24.65625 6.203125 33.40625 6.203125 \nQ 37.3125 6.203125 41.140625 7.25 \nQ 44.96875 8.296875 48.78125 10.40625 \nL 48.78125 2.09375 \nQ 45.015625 0.34375 40.984375 -0.53125 \nQ 36.96875 -1.421875 32.421875 -1.421875 \nQ 20.0625 -1.421875 12.78125 6.34375 \nQ 5.515625 14.109375 5.515625 27.296875 \nQ 5.515625 40.671875 12.859375 48.328125 \nQ 20.21875 56 33.015625 56 \nQ 37.15625 56 41.109375 55.140625 \nQ 45.0625 54.296875 48.78125 52.59375 \nz\n\" id=\"DejaVuSans-99\"/>\n       <path d=\"M 12.40625 8.296875 \nL 28.515625 8.296875 \nL 28.515625 63.921875 \nL 10.984375 60.40625 \nL 10.984375 69.390625 \nL 28.421875 72.90625 \nL 38.28125 72.90625 \nL 38.28125 8.296875 \nL 54.390625 8.296875 \nL 54.390625 0 \nL 12.40625 0 \nz\n\" id=\"DejaVuSans-49\"/>\n      </defs>\n      <g transform=\"translate(86.710938 122.339531)scale(0.1 -0.1)\">\n       <use xlink:href=\"#DejaVuSans-99\"/>\n       <use x=\"54.980469\" xlink:href=\"#DejaVuSans-111\"/>\n       <use x=\"116.162109\" xlink:href=\"#DejaVuSans-109\"/>\n       <use x=\"213.574219\" xlink:href=\"#DejaVuSans-109\"/>\n       <use x=\"310.986328\" xlink:href=\"#DejaVuSans-111\"/>\n       <use x=\"372.167969\" xlink:href=\"#DejaVuSans-110\"/>\n       <use x=\"435.546875\" xlink:href=\"#DejaVuSans-108\"/>\n       <use x=\"463.330078\" xlink:href=\"#DejaVuSans-105\"/>\n       <use x=\"491.113281\" xlink:href=\"#DejaVuSans-110\"/>\n       <use x=\"554.492188\" xlink:href=\"#DejaVuSans-107\"/>\n       <use x=\"612.402344\" xlink:href=\"#DejaVuSans-114\"/>\n       <use x=\"653.515625\" xlink:href=\"#DejaVuSans-97\"/>\n       <use x=\"714.794922\" xlink:href=\"#DejaVuSans-116\"/>\n       <use x=\"754.003906\" xlink:href=\"#DejaVuSans-105\"/>\n       <use x=\"781.787109\" xlink:href=\"#DejaVuSans-111\"/>\n       <use x=\"842.96875\" xlink:href=\"#DejaVuSans-95\"/>\n       <use x=\"892.96875\" xlink:href=\"#DejaVuSans-49\"/>\n      </g>\n     </g>\n    </g>\n    <g id=\"ytick_7\">\n     <g id=\"line2d_8\">\n      <g>\n       <use style=\"stroke:#000000;stroke-width:0.8;\" x=\"189.36875\" xlink:href=\"#m8693d256ea\" y=\"140.42779\"/>\n      </g>\n     </g>\n     <g id=\"text_8\">\n      <!-- commonlinkratio_4 -->\n      <defs>\n       <path d=\"M 37.796875 64.3125 \nL 12.890625 25.390625 \nL 37.796875 25.390625 \nz\nM 35.203125 72.90625 \nL 47.609375 72.90625 \nL 47.609375 25.390625 \nL 58.015625 25.390625 \nL 58.015625 17.1875 \nL 47.609375 17.1875 \nL 47.609375 0 \nL 37.796875 0 \nL 37.796875 17.1875 \nL 4.890625 17.1875 \nL 4.890625 26.703125 \nz\n\" id=\"DejaVuSans-52\"/>\n      </defs>\n      <g transform=\"translate(86.710938 143.048103)scale(0.1 -0.1)\">\n       <use xlink:href=\"#DejaVuSans-99\"/>\n       <use x=\"54.980469\" xlink:href=\"#DejaVuSans-111\"/>\n       <use x=\"116.162109\" xlink:href=\"#DejaVuSans-109\"/>\n       <use x=\"213.574219\" xlink:href=\"#DejaVuSans-109\"/>\n       <use x=\"310.986328\" xlink:href=\"#DejaVuSans-111\"/>\n       <use x=\"372.167969\" xlink:href=\"#DejaVuSans-110\"/>\n       <use x=\"435.546875\" xlink:href=\"#DejaVuSans-108\"/>\n       <use x=\"463.330078\" xlink:href=\"#DejaVuSans-105\"/>\n       <use x=\"491.113281\" xlink:href=\"#DejaVuSans-110\"/>\n       <use x=\"554.492188\" xlink:href=\"#DejaVuSans-107\"/>\n       <use x=\"612.402344\" xlink:href=\"#DejaVuSans-114\"/>\n       <use x=\"653.515625\" xlink:href=\"#DejaVuSans-97\"/>\n       <use x=\"714.794922\" xlink:href=\"#DejaVuSans-116\"/>\n       <use x=\"754.003906\" xlink:href=\"#DejaVuSans-105\"/>\n       <use x=\"781.787109\" xlink:href=\"#DejaVuSans-111\"/>\n       <use x=\"842.96875\" xlink:href=\"#DejaVuSans-95\"/>\n       <use x=\"892.96875\" xlink:href=\"#DejaVuSans-52\"/>\n      </g>\n     </g>\n    </g>\n    <g id=\"ytick_8\">\n     <g id=\"line2d_9\">\n      <g>\n       <use style=\"stroke:#000000;stroke-width:0.8;\" x=\"189.36875\" xlink:href=\"#m8693d256ea\" y=\"161.136362\"/>\n      </g>\n     </g>\n     <g id=\"text_9\">\n      <!-- compression_ratio -->\n      <g transform=\"translate(90.914063 163.756674)scale(0.1 -0.1)\">\n       <use xlink:href=\"#DejaVuSans-99\"/>\n       <use x=\"54.980469\" xlink:href=\"#DejaVuSans-111\"/>\n       <use x=\"116.162109\" xlink:href=\"#DejaVuSans-109\"/>\n       <use x=\"213.574219\" xlink:href=\"#DejaVuSans-112\"/>\n       <use x=\"277.050781\" xlink:href=\"#DejaVuSans-114\"/>\n       <use x=\"315.914062\" xlink:href=\"#DejaVuSans-101\"/>\n       <use x=\"377.4375\" xlink:href=\"#DejaVuSans-115\"/>\n       <use x=\"429.537109\" xlink:href=\"#DejaVuSans-115\"/>\n       <use x=\"481.636719\" xlink:href=\"#DejaVuSans-105\"/>\n       <use x=\"509.419922\" xlink:href=\"#DejaVuSans-111\"/>\n       <use x=\"570.601562\" xlink:href=\"#DejaVuSans-110\"/>\n       <use x=\"633.980469\" xlink:href=\"#DejaVuSans-95\"/>\n       <use x=\"683.980469\" xlink:href=\"#DejaVuSans-114\"/>\n       <use x=\"725.09375\" xlink:href=\"#DejaVuSans-97\"/>\n       <use x=\"786.373047\" xlink:href=\"#DejaVuSans-116\"/>\n       <use x=\"825.582031\" xlink:href=\"#DejaVuSans-105\"/>\n       <use x=\"853.365234\" xlink:href=\"#DejaVuSans-111\"/>\n      </g>\n     </g>\n    </g>\n    <g id=\"ytick_9\">\n     <g id=\"line2d_10\">\n      <g>\n       <use style=\"stroke:#000000;stroke-width:0.8;\" x=\"189.36875\" xlink:href=\"#m8693d256ea\" y=\"181.844933\"/>\n      </g>\n     </g>\n     <g id=\"text_10\">\n      <!-- linkwordscore -->\n      <g transform=\"translate(113.2375 184.604308)scale(0.1 -0.1)\">\n       <use xlink:href=\"#DejaVuSans-108\"/>\n       <use x=\"27.783203\" xlink:href=\"#DejaVuSans-105\"/>\n       <use x=\"55.566406\" xlink:href=\"#DejaVuSans-110\"/>\n       <use x=\"118.945312\" xlink:href=\"#DejaVuSans-107\"/>\n       <use x=\"176.855469\" xlink:href=\"#DejaVuSans-119\"/>\n       <use x=\"258.642578\" xlink:href=\"#DejaVuSans-111\"/>\n       <use x=\"319.824219\" xlink:href=\"#DejaVuSans-114\"/>\n       <use x=\"359.1875\" xlink:href=\"#DejaVuSans-100\"/>\n       <use x=\"422.664062\" xlink:href=\"#DejaVuSans-115\"/>\n       <use x=\"474.763672\" xlink:href=\"#DejaVuSans-99\"/>\n       <use x=\"529.744141\" xlink:href=\"#DejaVuSans-111\"/>\n       <use x=\"590.925781\" xlink:href=\"#DejaVuSans-114\"/>\n       <use x=\"629.789062\" xlink:href=\"#DejaVuSans-101\"/>\n      </g>\n     </g>\n    </g>\n    <g id=\"ytick_10\">\n     <g id=\"line2d_11\">\n      <g>\n       <use style=\"stroke:#000000;stroke-width:0.8;\" x=\"189.36875\" xlink:href=\"#m8693d256ea\" y=\"202.553504\"/>\n      </g>\n     </g>\n     <g id=\"text_11\">\n      <!-- non_markup_alphanum_characters -->\n      <g transform=\"translate(7.2 205.173817)scale(0.1 -0.1)\">\n       <use xlink:href=\"#DejaVuSans-110\"/>\n       <use x=\"63.378906\" xlink:href=\"#DejaVuSans-111\"/>\n       <use x=\"124.560547\" xlink:href=\"#DejaVuSans-110\"/>\n       <use x=\"187.939453\" xlink:href=\"#DejaVuSans-95\"/>\n       <use x=\"237.939453\" xlink:href=\"#DejaVuSans-109\"/>\n       <use x=\"335.351562\" xlink:href=\"#DejaVuSans-97\"/>\n       <use x=\"396.630859\" xlink:href=\"#DejaVuSans-114\"/>\n       <use x=\"437.744141\" xlink:href=\"#DejaVuSans-107\"/>\n       <use x=\"492.529297\" xlink:href=\"#DejaVuSans-117\"/>\n       <use x=\"555.908203\" xlink:href=\"#DejaVuSans-112\"/>\n       <use x=\"619.384766\" xlink:href=\"#DejaVuSans-95\"/>\n       <use x=\"669.384766\" xlink:href=\"#DejaVuSans-97\"/>\n       <use x=\"730.664062\" xlink:href=\"#DejaVuSans-108\"/>\n       <use x=\"758.447266\" xlink:href=\"#DejaVuSans-112\"/>\n       <use x=\"821.923828\" xlink:href=\"#DejaVuSans-104\"/>\n       <use x=\"885.302734\" xlink:href=\"#DejaVuSans-97\"/>\n       <use x=\"946.582031\" xlink:href=\"#DejaVuSans-110\"/>\n       <use x=\"1009.960938\" xlink:href=\"#DejaVuSans-117\"/>\n       <use x=\"1073.339844\" xlink:href=\"#DejaVuSans-109\"/>\n       <use x=\"1170.751953\" xlink:href=\"#DejaVuSans-95\"/>\n       <use x=\"1220.751953\" xlink:href=\"#DejaVuSans-99\"/>\n       <use x=\"1275.732422\" xlink:href=\"#DejaVuSans-104\"/>\n       <use x=\"1339.111328\" xlink:href=\"#DejaVuSans-97\"/>\n       <use x=\"1400.390625\" xlink:href=\"#DejaVuSans-114\"/>\n       <use x=\"1441.503906\" xlink:href=\"#DejaVuSans-97\"/>\n       <use x=\"1502.783203\" xlink:href=\"#DejaVuSans-99\"/>\n       <use x=\"1557.763672\" xlink:href=\"#DejaVuSans-116\"/>\n       <use x=\"1596.972656\" xlink:href=\"#DejaVuSans-101\"/>\n       <use x=\"1658.496094\" xlink:href=\"#DejaVuSans-114\"/>\n       <use x=\"1699.609375\" xlink:href=\"#DejaVuSans-115\"/>\n      </g>\n     </g>\n    </g>\n    <g id=\"ytick_11\">\n     <g id=\"line2d_12\">\n      <g>\n       <use style=\"stroke:#000000;stroke-width:0.8;\" x=\"189.36875\" xlink:href=\"#m8693d256ea\" y=\"223.262076\"/>\n      </g>\n     </g>\n     <g id=\"text_12\">\n      <!-- framebased -->\n      <defs>\n       <path d=\"M 37.109375 75.984375 \nL 37.109375 68.5 \nL 28.515625 68.5 \nQ 23.6875 68.5 21.796875 66.546875 \nQ 19.921875 64.59375 19.921875 59.515625 \nL 19.921875 54.6875 \nL 34.71875 54.6875 \nL 34.71875 47.703125 \nL 19.921875 47.703125 \nL 19.921875 0 \nL 10.890625 0 \nL 10.890625 47.703125 \nL 2.296875 47.703125 \nL 2.296875 54.6875 \nL 10.890625 54.6875 \nL 10.890625 58.5 \nQ 10.890625 67.625 15.140625 71.796875 \nQ 19.390625 75.984375 28.609375 75.984375 \nz\n\" id=\"DejaVuSans-102\"/>\n      </defs>\n      <g transform=\"translate(122.528125 226.021451)scale(0.1 -0.1)\">\n       <use xlink:href=\"#DejaVuSans-102\"/>\n       <use x=\"35.205078\" xlink:href=\"#DejaVuSans-114\"/>\n       <use x=\"76.318359\" xlink:href=\"#DejaVuSans-97\"/>\n       <use x=\"137.597656\" xlink:href=\"#DejaVuSans-109\"/>\n       <use x=\"235.009766\" xlink:href=\"#DejaVuSans-101\"/>\n       <use x=\"296.533203\" xlink:href=\"#DejaVuSans-98\"/>\n       <use x=\"360.009766\" xlink:href=\"#DejaVuSans-97\"/>\n       <use x=\"421.289062\" xlink:href=\"#DejaVuSans-115\"/>\n       <use x=\"473.388672\" xlink:href=\"#DejaVuSans-101\"/>\n       <use x=\"534.912109\" xlink:href=\"#DejaVuSans-100\"/>\n      </g>\n     </g>\n    </g>\n   </g>\n  </g>\n  <g id=\"axes_2\">\n   <g id=\"patch_3\">\n    <path clip-path=\"url(#p03e8403506)\" d=\"M 473.94875 228.439219 \nL 473.94875 227.589844 \nL 473.94875 11.848594 \nL 473.94875 10.999219 \nL 484.82075 10.999219 \nL 484.82075 11.848594 \nL 484.82075 227.589844 \nL 484.82075 228.439219 \nz\n\" style=\"fill:#ffffff;stroke:#ffffff;stroke-linejoin:miter;stroke-width:0.01;\"/>\n   </g>\n   <image height=\"217\" id=\"imageb0247d51a2\" transform=\"scale(1 -1)translate(0 -217)\" width=\"11\" x=\"474\" xlink:href=\"data:image/png;base64,\niVBORw0KGgoAAAANSUhEUgAAAAsAAADZCAYAAAD2WsoCAAAABHNCSVQICAgIfAhkiAAAAV9JREFUaIHVmtsNAzEIwHjdEt1/zl5XwB+WaL4RMoakuag5z+eN5ZrM3MbS4ADBXSVlLq3AIhgoM7LhYRzx3OnZODF1qECxKTcym+3WbGgYE2g29sucDa3dEGO/zJOfBI82SMyG125vW61D6fB76qANgCGq05iRjSPMCIPtbpKZFbj+PPhbGySY2PAw5gYGazdhHoRxxIaGMe8+tbgH6wYGspFhMcMCAUYzZhIMRIvqEpwF0yS4SDDCgJnXsTFdXymzWCA47BhzNbABmQEGUifaGG02ELOmrsBVhmGENxteMLj3kMceqo5lBjdzlhncCyYIhsfMMMDPJsxMnixQZhhM3us0G0GeDT0bSWxEt4SBmuJ5ztEKFNtNMqM9CD55VRukgx4GssHOOtRBSx3c3RqGVyDK3Gj4bzCzdqN51jZs3pg60QYp8MbwZz9SZnP4iWfSbvQviysFsnZrZ51V4A9keCojHT7iJgAAAABJRU5ErkJggg==\" y=\"-11\"/>\n   <g id=\"matplotlib.axis_3\"/>\n   <g id=\"matplotlib.axis_4\">\n    <g id=\"ytick_12\">\n     <g id=\"line2d_13\">\n      <defs>\n       <path d=\"M 0 0 \nL 3.5 0 \n\" id=\"m9c7bd545cb\" style=\"stroke:#000000;stroke-width:0.8;\"/>\n      </defs>\n      <g>\n       <use style=\"stroke:#000000;stroke-width:0.8;\" x=\"484.82075\" xlink:href=\"#m9c7bd545cb\" y=\"185.801327\"/>\n      </g>\n     </g>\n     <g id=\"text_13\">\n      <!-- 0.2 -->\n      <defs>\n       <path d=\"M 31.78125 66.40625 \nQ 24.171875 66.40625 20.328125 58.90625 \nQ 16.5 51.421875 16.5 36.375 \nQ 16.5 21.390625 20.328125 13.890625 \nQ 24.171875 6.390625 31.78125 6.390625 \nQ 39.453125 6.390625 43.28125 13.890625 \nQ 47.125 21.390625 47.125 36.375 \nQ 47.125 51.421875 43.28125 58.90625 \nQ 39.453125 66.40625 31.78125 66.40625 \nz\nM 31.78125 74.21875 \nQ 44.046875 74.21875 50.515625 64.515625 \nQ 56.984375 54.828125 56.984375 36.375 \nQ 56.984375 17.96875 50.515625 8.265625 \nQ 44.046875 -1.421875 31.78125 -1.421875 \nQ 19.53125 -1.421875 13.0625 8.265625 \nQ 6.59375 17.96875 6.59375 36.375 \nQ 6.59375 54.828125 13.0625 64.515625 \nQ 19.53125 74.21875 31.78125 74.21875 \nz\n\" id=\"DejaVuSans-48\"/>\n       <path d=\"M 10.6875 12.40625 \nL 21 12.40625 \nL 21 0 \nL 10.6875 0 \nz\n\" id=\"DejaVuSans-46\"/>\n       <path d=\"M 19.1875 8.296875 \nL 53.609375 8.296875 \nL 53.609375 0 \nL 7.328125 0 \nL 7.328125 8.296875 \nQ 12.9375 14.109375 22.625 23.890625 \nQ 32.328125 33.6875 34.8125 36.53125 \nQ 39.546875 41.84375 41.421875 45.53125 \nQ 43.3125 49.21875 43.3125 52.78125 \nQ 43.3125 58.59375 39.234375 62.25 \nQ 35.15625 65.921875 28.609375 65.921875 \nQ 23.96875 65.921875 18.8125 64.3125 \nQ 13.671875 62.703125 7.8125 59.421875 \nL 7.8125 69.390625 \nQ 13.765625 71.78125 18.9375 73 \nQ 24.125 74.21875 28.421875 74.21875 \nQ 39.75 74.21875 46.484375 68.546875 \nQ 53.21875 62.890625 53.21875 53.421875 \nQ 53.21875 48.921875 51.53125 44.890625 \nQ 49.859375 40.875 45.40625 35.40625 \nQ 44.1875 33.984375 37.640625 27.21875 \nQ 31.109375 20.453125 19.1875 8.296875 \nz\n\" id=\"DejaVuSans-50\"/>\n      </defs>\n      <g transform=\"translate(491.82075 189.600546)scale(0.1 -0.1)\">\n       <use xlink:href=\"#DejaVuSans-48\"/>\n       <use x=\"63.623047\" xlink:href=\"#DejaVuSans-46\"/>\n       <use x=\"95.410156\" xlink:href=\"#DejaVuSans-50\"/>\n      </g>\n     </g>\n    </g>\n    <g id=\"ytick_13\">\n     <g id=\"line2d_14\">\n      <g>\n       <use style=\"stroke:#000000;stroke-width:0.8;\" x=\"484.82075\" xlink:href=\"#m9c7bd545cb\" y=\"142.1008\"/>\n      </g>\n     </g>\n     <g id=\"text_14\">\n      <!-- 0.4 -->\n      <g transform=\"translate(491.82075 145.900019)scale(0.1 -0.1)\">\n       <use xlink:href=\"#DejaVuSans-48\"/>\n       <use x=\"63.623047\" xlink:href=\"#DejaVuSans-46\"/>\n       <use x=\"95.410156\" xlink:href=\"#DejaVuSans-52\"/>\n      </g>\n     </g>\n    </g>\n    <g id=\"ytick_14\">\n     <g id=\"line2d_15\">\n      <g>\n       <use style=\"stroke:#000000;stroke-width:0.8;\" x=\"484.82075\" xlink:href=\"#m9c7bd545cb\" y=\"98.400273\"/>\n      </g>\n     </g>\n     <g id=\"text_15\">\n      <!-- 0.6 -->\n      <defs>\n       <path d=\"M 33.015625 40.375 \nQ 26.375 40.375 22.484375 35.828125 \nQ 18.609375 31.296875 18.609375 23.390625 \nQ 18.609375 15.53125 22.484375 10.953125 \nQ 26.375 6.390625 33.015625 6.390625 \nQ 39.65625 6.390625 43.53125 10.953125 \nQ 47.40625 15.53125 47.40625 23.390625 \nQ 47.40625 31.296875 43.53125 35.828125 \nQ 39.65625 40.375 33.015625 40.375 \nz\nM 52.59375 71.296875 \nL 52.59375 62.3125 \nQ 48.875 64.0625 45.09375 64.984375 \nQ 41.3125 65.921875 37.59375 65.921875 \nQ 27.828125 65.921875 22.671875 59.328125 \nQ 17.53125 52.734375 16.796875 39.40625 \nQ 19.671875 43.65625 24.015625 45.921875 \nQ 28.375 48.1875 33.59375 48.1875 \nQ 44.578125 48.1875 50.953125 41.515625 \nQ 57.328125 34.859375 57.328125 23.390625 \nQ 57.328125 12.15625 50.6875 5.359375 \nQ 44.046875 -1.421875 33.015625 -1.421875 \nQ 20.359375 -1.421875 13.671875 8.265625 \nQ 6.984375 17.96875 6.984375 36.375 \nQ 6.984375 53.65625 15.1875 63.9375 \nQ 23.390625 74.21875 37.203125 74.21875 \nQ 40.921875 74.21875 44.703125 73.484375 \nQ 48.484375 72.75 52.59375 71.296875 \nz\n\" id=\"DejaVuSans-54\"/>\n      </defs>\n      <g transform=\"translate(491.82075 102.199492)scale(0.1 -0.1)\">\n       <use xlink:href=\"#DejaVuSans-48\"/>\n       <use x=\"63.623047\" xlink:href=\"#DejaVuSans-46\"/>\n       <use x=\"95.410156\" xlink:href=\"#DejaVuSans-54\"/>\n      </g>\n     </g>\n    </g>\n    <g id=\"ytick_15\">\n     <g id=\"line2d_16\">\n      <g>\n       <use style=\"stroke:#000000;stroke-width:0.8;\" x=\"484.82075\" xlink:href=\"#m9c7bd545cb\" y=\"54.699746\"/>\n      </g>\n     </g>\n     <g id=\"text_16\">\n      <!-- 0.8 -->\n      <defs>\n       <path d=\"M 31.78125 34.625 \nQ 24.75 34.625 20.71875 30.859375 \nQ 16.703125 27.09375 16.703125 20.515625 \nQ 16.703125 13.921875 20.71875 10.15625 \nQ 24.75 6.390625 31.78125 6.390625 \nQ 38.8125 6.390625 42.859375 10.171875 \nQ 46.921875 13.96875 46.921875 20.515625 \nQ 46.921875 27.09375 42.890625 30.859375 \nQ 38.875 34.625 31.78125 34.625 \nz\nM 21.921875 38.8125 \nQ 15.578125 40.375 12.03125 44.71875 \nQ 8.5 49.078125 8.5 55.328125 \nQ 8.5 64.0625 14.71875 69.140625 \nQ 20.953125 74.21875 31.78125 74.21875 \nQ 42.671875 74.21875 48.875 69.140625 \nQ 55.078125 64.0625 55.078125 55.328125 \nQ 55.078125 49.078125 51.53125 44.71875 \nQ 48 40.375 41.703125 38.8125 \nQ 48.828125 37.15625 52.796875 32.3125 \nQ 56.78125 27.484375 56.78125 20.515625 \nQ 56.78125 9.90625 50.3125 4.234375 \nQ 43.84375 -1.421875 31.78125 -1.421875 \nQ 19.734375 -1.421875 13.25 4.234375 \nQ 6.78125 9.90625 6.78125 20.515625 \nQ 6.78125 27.484375 10.78125 32.3125 \nQ 14.796875 37.15625 21.921875 38.8125 \nz\nM 18.3125 54.390625 \nQ 18.3125 48.734375 21.84375 45.5625 \nQ 25.390625 42.390625 31.78125 42.390625 \nQ 38.140625 42.390625 41.71875 45.5625 \nQ 45.3125 48.734375 45.3125 54.390625 \nQ 45.3125 60.0625 41.71875 63.234375 \nQ 38.140625 66.40625 31.78125 66.40625 \nQ 25.390625 66.40625 21.84375 63.234375 \nQ 18.3125 60.0625 18.3125 54.390625 \nz\n\" id=\"DejaVuSans-56\"/>\n      </defs>\n      <g transform=\"translate(491.82075 58.498965)scale(0.1 -0.1)\">\n       <use xlink:href=\"#DejaVuSans-48\"/>\n       <use x=\"63.623047\" xlink:href=\"#DejaVuSans-46\"/>\n       <use x=\"95.410156\" xlink:href=\"#DejaVuSans-56\"/>\n      </g>\n     </g>\n    </g>\n    <g id=\"ytick_16\">\n     <g id=\"line2d_17\">\n      <g>\n       <use style=\"stroke:#000000;stroke-width:0.8;\" x=\"484.82075\" xlink:href=\"#m9c7bd545cb\" y=\"10.999219\"/>\n      </g>\n     </g>\n     <g id=\"text_17\">\n      <!-- 1.0 -->\n      <g transform=\"translate(491.82075 14.798437)scale(0.1 -0.1)\">\n       <use xlink:href=\"#DejaVuSans-49\"/>\n       <use x=\"63.623047\" xlink:href=\"#DejaVuSans-46\"/>\n       <use x=\"95.410156\" xlink:href=\"#DejaVuSans-48\"/>\n      </g>\n     </g>\n    </g>\n   </g>\n   <g id=\"patch_4\">\n    <path d=\"M 473.94875 228.439219 \nL 473.94875 227.589844 \nL 473.94875 11.848594 \nL 473.94875 10.999219 \nL 484.82075 10.999219 \nL 484.82075 11.848594 \nL 484.82075 227.589844 \nL 484.82075 228.439219 \nz\n\" style=\"fill:none;\"/>\n   </g>\n  </g>\n </g>\n <defs>\n  <clipPath id=\"p6c1f874318\">\n   <rect height=\"217.44\" width=\"267.84\" x=\"189.36875\" y=\"10.999219\"/>\n  </clipPath>\n  <clipPath id=\"p03e8403506\">\n   <rect height=\"217.44\" width=\"10.872\" x=\"473.94875\" y=\"10.999219\"/>\n  </clipPath>\n </defs>\n</svg>\n"
          },
          "metadata": {
            "needs_background": "light"
          }
        }
      ]
    },
    {
      "cell_type": "code",
      "metadata": {
        "colab": {
          "base_uri": "https://localhost:8080/",
          "height": 596
        },
        "id": "XTNMdhkETEDt",
        "outputId": "fed16483-1f74-4d80-f616-6ad40140fcae"
      },
      "source": [
        "sns.heatmap(df.corr('spearman').abs())"
      ],
      "execution_count": null,
      "outputs": [
        {
          "output_type": "execute_result",
          "data": {
            "text/plain": [
              "<matplotlib.axes._subplots.AxesSubplot at 0x7f3ef6e7ccd0>"
            ]
          },
          "metadata": {},
          "execution_count": 10
        },
        {
          "output_type": "display_data",
          "data": {
            "text/plain": [
              "<Figure size 432x288 with 2 Axes>"
            ],
            "image/svg+xml": "<?xml version=\"1.0\" encoding=\"utf-8\" standalone=\"no\"?>\n<!DOCTYPE svg PUBLIC \"-//W3C//DTD SVG 1.1//EN\"\n  \"http://www.w3.org/Graphics/SVG/1.1/DTD/svg11.dtd\">\n<!-- Created with matplotlib (https://matplotlib.org/) -->\n<svg height=\"417.807969pt\" version=\"1.1\" viewBox=\"0 0 453.07075 417.807969\" width=\"453.07075pt\" xmlns=\"http://www.w3.org/2000/svg\" xmlns:xlink=\"http://www.w3.org/1999/xlink\">\n <defs>\n  <style type=\"text/css\">\n*{stroke-linecap:butt;stroke-linejoin:round;}\n  </style>\n </defs>\n <g id=\"figure_1\">\n  <g id=\"patch_1\">\n   <path d=\"M 0 417.807969 \nL 453.07075 417.807969 \nL 453.07075 0 \nL 0 0 \nz\n\" style=\"fill:none;\"/>\n  </g>\n  <g id=\"axes_1\">\n   <g id=\"patch_2\">\n    <path d=\"M 127.515625 228.439219 \nL 395.355625 228.439219 \nL 395.355625 10.999219 \nL 127.515625 10.999219 \nz\n\" style=\"fill:#ffffff;\"/>\n   </g>\n   <g id=\"QuadMesh_1\">\n    <path clip-path=\"url(#p6d303ce28e)\" d=\"M 127.515625 10.999219 \nL 140.269911 10.999219 \nL 140.269911 21.353504 \nL 127.515625 21.353504 \nL 127.515625 10.999219 \n\" style=\"fill:#faebdd;\"/>\n    <path clip-path=\"url(#p6d303ce28e)\" d=\"M 140.269911 10.999219 \nL 153.024196 10.999219 \nL 153.024196 21.353504 \nL 140.269911 21.353504 \nL 140.269911 10.999219 \n\" style=\"fill:#04051a;\"/>\n    <path clip-path=\"url(#p6d303ce28e)\" d=\"M 153.024196 10.999219 \nL 165.778482 10.999219 \nL 165.778482 21.353504 \nL 153.024196 21.353504 \nL 153.024196 10.999219 \n\" style=\"fill:#03051a;\"/>\n    <path clip-path=\"url(#p6d303ce28e)\" d=\"M 165.778482 10.999219 \nL 178.532768 10.999219 \nL 178.532768 21.353504 \nL 165.778482 21.353504 \nL 165.778482 10.999219 \n\" style=\"fill:#05061b;\"/>\n    <path clip-path=\"url(#p6d303ce28e)\" d=\"M 178.532768 10.999219 \nL 191.287054 10.999219 \nL 191.287054 21.353504 \nL 178.532768 21.353504 \nL 178.532768 10.999219 \n\" style=\"fill:#05061b;\"/>\n    <path clip-path=\"url(#p6d303ce28e)\" d=\"M 191.287054 10.999219 \nL 204.041339 10.999219 \nL 204.041339 21.353504 \nL 191.287054 21.353504 \nL 191.287054 10.999219 \n\" style=\"fill:#05061b;\"/>\n    <path clip-path=\"url(#p6d303ce28e)\" d=\"M 204.041339 10.999219 \nL 216.795625 10.999219 \nL 216.795625 21.353504 \nL 204.041339 21.353504 \nL 204.041339 10.999219 \n\" style=\"fill:#04051a;\"/>\n    <path clip-path=\"url(#p6d303ce28e)\" d=\"M 216.795625 10.999219 \nL 229.549911 10.999219 \nL 229.549911 21.353504 \nL 216.795625 21.353504 \nL 216.795625 10.999219 \n\" style=\"fill:#05061b;\"/>\n    <path clip-path=\"url(#p6d303ce28e)\" d=\"M 229.549911 10.999219 \nL 242.304196 10.999219 \nL 242.304196 21.353504 \nL 229.549911 21.353504 \nL 229.549911 10.999219 \n\" style=\"fill:none;\"/>\n    <path clip-path=\"url(#p6d303ce28e)\" d=\"M 242.304196 10.999219 \nL 255.058482 10.999219 \nL 255.058482 21.353504 \nL 242.304196 21.353504 \nL 242.304196 10.999219 \n\" style=\"fill:#03051a;\"/>\n    <path clip-path=\"url(#p6d303ce28e)\" d=\"M 255.058482 10.999219 \nL 267.812768 10.999219 \nL 267.812768 21.353504 \nL 255.058482 21.353504 \nL 255.058482 10.999219 \n\" style=\"fill:#04051a;\"/>\n    <path clip-path=\"url(#p6d303ce28e)\" d=\"M 267.812768 10.999219 \nL 280.567054 10.999219 \nL 280.567054 21.353504 \nL 267.812768 21.353504 \nL 267.812768 10.999219 \n\" style=\"fill:#07071d;\"/>\n    <path clip-path=\"url(#p6d303ce28e)\" d=\"M 280.567054 10.999219 \nL 293.321339 10.999219 \nL 293.321339 21.353504 \nL 280.567054 21.353504 \nL 280.567054 10.999219 \n\" style=\"fill:#03051a;\"/>\n    <path clip-path=\"url(#p6d303ce28e)\" d=\"M 293.321339 10.999219 \nL 306.075625 10.999219 \nL 306.075625 21.353504 \nL 293.321339 21.353504 \nL 293.321339 10.999219 \n\" style=\"fill:#04051a;\"/>\n    <path clip-path=\"url(#p6d303ce28e)\" d=\"M 306.075625 10.999219 \nL 318.829911 10.999219 \nL 318.829911 21.353504 \nL 306.075625 21.353504 \nL 306.075625 10.999219 \n\" style=\"fill:#05061b;\"/>\n    <path clip-path=\"url(#p6d303ce28e)\" d=\"M 318.829911 10.999219 \nL 331.584196 10.999219 \nL 331.584196 21.353504 \nL 318.829911 21.353504 \nL 318.829911 10.999219 \n\" style=\"fill:#03051a;\"/>\n    <path clip-path=\"url(#p6d303ce28e)\" d=\"M 331.584196 10.999219 \nL 344.338482 10.999219 \nL 344.338482 21.353504 \nL 331.584196 21.353504 \nL 331.584196 10.999219 \n\" style=\"fill:#05061b;\"/>\n    <path clip-path=\"url(#p6d303ce28e)\" d=\"M 344.338482 10.999219 \nL 357.092768 10.999219 \nL 357.092768 21.353504 \nL 344.338482 21.353504 \nL 344.338482 10.999219 \n\" style=\"fill:#05061b;\"/>\n    <path clip-path=\"url(#p6d303ce28e)\" d=\"M 357.092768 10.999219 \nL 369.847054 10.999219 \nL 369.847054 21.353504 \nL 357.092768 21.353504 \nL 357.092768 10.999219 \n\" style=\"fill:#05061b;\"/>\n    <path clip-path=\"url(#p6d303ce28e)\" d=\"M 369.847054 10.999219 \nL 382.601339 10.999219 \nL 382.601339 21.353504 \nL 369.847054 21.353504 \nL 369.847054 10.999219 \n\" style=\"fill:#03051a;\"/>\n    <path clip-path=\"url(#p6d303ce28e)\" d=\"M 382.601339 10.999219 \nL 395.355625 10.999219 \nL 395.355625 21.353504 \nL 382.601339 21.353504 \nL 382.601339 10.999219 \n\" style=\"fill:#06071c;\"/>\n    <path clip-path=\"url(#p6d303ce28e)\" d=\"M 127.515625 21.353504 \nL 140.269911 21.353504 \nL 140.269911 31.70779 \nL 127.515625 31.70779 \nL 127.515625 21.353504 \n\" style=\"fill:#04051a;\"/>\n    <path clip-path=\"url(#p6d303ce28e)\" d=\"M 140.269911 21.353504 \nL 153.024196 21.353504 \nL 153.024196 31.70779 \nL 140.269911 31.70779 \nL 140.269911 21.353504 \n\" style=\"fill:#faebdd;\"/>\n    <path clip-path=\"url(#p6d303ce28e)\" d=\"M 153.024196 21.353504 \nL 165.778482 21.353504 \nL 165.778482 31.70779 \nL 153.024196 31.70779 \nL 153.024196 21.353504 \n\" style=\"fill:#ba1656;\"/>\n    <path clip-path=\"url(#p6d303ce28e)\" d=\"M 165.778482 21.353504 \nL 178.532768 21.353504 \nL 178.532768 31.70779 \nL 165.778482 31.70779 \nL 165.778482 21.353504 \n\" style=\"fill:#cb1b4f;\"/>\n    <path clip-path=\"url(#p6d303ce28e)\" d=\"M 178.532768 21.353504 \nL 191.287054 21.353504 \nL 191.287054 31.70779 \nL 178.532768 31.70779 \nL 178.532768 21.353504 \n\" style=\"fill:#d11f4c;\"/>\n    <path clip-path=\"url(#p6d303ce28e)\" d=\"M 191.287054 21.353504 \nL 204.041339 21.353504 \nL 204.041339 31.70779 \nL 191.287054 31.70779 \nL 191.287054 21.353504 \n\" style=\"fill:#b71657;\"/>\n    <path clip-path=\"url(#p6d303ce28e)\" d=\"M 204.041339 21.353504 \nL 216.795625 21.353504 \nL 216.795625 31.70779 \nL 204.041339 31.70779 \nL 204.041339 21.353504 \n\" style=\"fill:#160e27;\"/>\n    <path clip-path=\"url(#p6d303ce28e)\" d=\"M 216.795625 21.353504 \nL 229.549911 21.353504 \nL 229.549911 31.70779 \nL 216.795625 31.70779 \nL 216.795625 21.353504 \n\" style=\"fill:#07071d;\"/>\n    <path clip-path=\"url(#p6d303ce28e)\" d=\"M 229.549911 21.353504 \nL 242.304196 21.353504 \nL 242.304196 31.70779 \nL 229.549911 31.70779 \nL 229.549911 21.353504 \n\" style=\"fill:none;\"/>\n    <path clip-path=\"url(#p6d303ce28e)\" d=\"M 242.304196 21.353504 \nL 255.058482 21.353504 \nL 255.058482 31.70779 \nL 242.304196 31.70779 \nL 242.304196 21.353504 \n\" style=\"fill:#03051a;\"/>\n    <path clip-path=\"url(#p6d303ce28e)\" d=\"M 255.058482 21.353504 \nL 267.812768 21.353504 \nL 267.812768 31.70779 \nL 255.058482 31.70779 \nL 255.058482 21.353504 \n\" style=\"fill:#08081e;\"/>\n    <path clip-path=\"url(#p6d303ce28e)\" d=\"M 267.812768 21.353504 \nL 280.567054 21.353504 \nL 280.567054 31.70779 \nL 267.812768 31.70779 \nL 267.812768 21.353504 \n\" style=\"fill:#33183c;\"/>\n    <path clip-path=\"url(#p6d303ce28e)\" d=\"M 280.567054 21.353504 \nL 293.321339 21.353504 \nL 293.321339 31.70779 \nL 280.567054 31.70779 \nL 280.567054 21.353504 \n\" style=\"fill:#451c47;\"/>\n    <path clip-path=\"url(#p6d303ce28e)\" d=\"M 293.321339 21.353504 \nL 306.075625 21.353504 \nL 306.075625 31.70779 \nL 293.321339 31.70779 \nL 293.321339 21.353504 \n\" style=\"fill:#aa185a;\"/>\n    <path clip-path=\"url(#p6d303ce28e)\" d=\"M 306.075625 21.353504 \nL 318.829911 21.353504 \nL 318.829911 31.70779 \nL 306.075625 31.70779 \nL 306.075625 21.353504 \n\" style=\"fill:#641f54;\"/>\n    <path clip-path=\"url(#p6d303ce28e)\" d=\"M 318.829911 21.353504 \nL 331.584196 21.353504 \nL 331.584196 31.70779 \nL 318.829911 31.70779 \nL 318.829911 21.353504 \n\" style=\"fill:#30173a;\"/>\n    <path clip-path=\"url(#p6d303ce28e)\" d=\"M 331.584196 21.353504 \nL 344.338482 21.353504 \nL 344.338482 31.70779 \nL 331.584196 31.70779 \nL 331.584196 21.353504 \n\" style=\"fill:#211330;\"/>\n    <path clip-path=\"url(#p6d303ce28e)\" d=\"M 344.338482 21.353504 \nL 357.092768 21.353504 \nL 357.092768 31.70779 \nL 344.338482 31.70779 \nL 344.338482 21.353504 \n\" style=\"fill:#33183c;\"/>\n    <path clip-path=\"url(#p6d303ce28e)\" d=\"M 357.092768 21.353504 \nL 369.847054 21.353504 \nL 369.847054 31.70779 \nL 357.092768 31.70779 \nL 357.092768 21.353504 \n\" style=\"fill:#130d25;\"/>\n    <path clip-path=\"url(#p6d303ce28e)\" d=\"M 369.847054 21.353504 \nL 382.601339 21.353504 \nL 382.601339 31.70779 \nL 369.847054 31.70779 \nL 369.847054 21.353504 \n\" style=\"fill:#0d0a21;\"/>\n    <path clip-path=\"url(#p6d303ce28e)\" d=\"M 382.601339 21.353504 \nL 395.355625 21.353504 \nL 395.355625 31.70779 \nL 382.601339 31.70779 \nL 382.601339 21.353504 \n\" style=\"fill:#160e27;\"/>\n    <path clip-path=\"url(#p6d303ce28e)\" d=\"M 127.515625 31.70779 \nL 140.269911 31.70779 \nL 140.269911 42.062076 \nL 127.515625 42.062076 \nL 127.515625 31.70779 \n\" style=\"fill:#03051a;\"/>\n    <path clip-path=\"url(#p6d303ce28e)\" d=\"M 140.269911 31.70779 \nL 153.024196 31.70779 \nL 153.024196 42.062076 \nL 140.269911 42.062076 \nL 140.269911 31.70779 \n\" style=\"fill:#ba1656;\"/>\n    <path clip-path=\"url(#p6d303ce28e)\" d=\"M 153.024196 31.70779 \nL 165.778482 31.70779 \nL 165.778482 42.062076 \nL 153.024196 42.062076 \nL 153.024196 31.70779 \n\" style=\"fill:#faebdd;\"/>\n    <path clip-path=\"url(#p6d303ce28e)\" d=\"M 165.778482 31.70779 \nL 178.532768 31.70779 \nL 178.532768 42.062076 \nL 165.778482 42.062076 \nL 165.778482 31.70779 \n\" style=\"fill:#f6a880;\"/>\n    <path clip-path=\"url(#p6d303ce28e)\" d=\"M 178.532768 31.70779 \nL 191.287054 31.70779 \nL 191.287054 42.062076 \nL 178.532768 42.062076 \nL 178.532768 31.70779 \n\" style=\"fill:#ec4c3e;\"/>\n    <path clip-path=\"url(#p6d303ce28e)\" d=\"M 191.287054 31.70779 \nL 204.041339 31.70779 \nL 204.041339 42.062076 \nL 191.287054 42.062076 \nL 191.287054 31.70779 \n\" style=\"fill:#c71951;\"/>\n    <path clip-path=\"url(#p6d303ce28e)\" d=\"M 204.041339 31.70779 \nL 216.795625 31.70779 \nL 216.795625 42.062076 \nL 204.041339 42.062076 \nL 204.041339 31.70779 \n\" style=\"fill:#30173a;\"/>\n    <path clip-path=\"url(#p6d303ce28e)\" d=\"M 216.795625 31.70779 \nL 229.549911 31.70779 \nL 229.549911 42.062076 \nL 216.795625 42.062076 \nL 216.795625 31.70779 \n\" style=\"fill:#0a091f;\"/>\n    <path clip-path=\"url(#p6d303ce28e)\" d=\"M 229.549911 31.70779 \nL 242.304196 31.70779 \nL 242.304196 42.062076 \nL 229.549911 42.062076 \nL 229.549911 31.70779 \n\" style=\"fill:none;\"/>\n    <path clip-path=\"url(#p6d303ce28e)\" d=\"M 242.304196 31.70779 \nL 255.058482 31.70779 \nL 255.058482 42.062076 \nL 242.304196 42.062076 \nL 242.304196 31.70779 \n\" style=\"fill:#581e4f;\"/>\n    <path clip-path=\"url(#p6d303ce28e)\" d=\"M 255.058482 31.70779 \nL 267.812768 31.70779 \nL 267.812768 42.062076 \nL 255.058482 42.062076 \nL 255.058482 31.70779 \n\" style=\"fill:#03051a;\"/>\n    <path clip-path=\"url(#p6d303ce28e)\" d=\"M 267.812768 31.70779 \nL 280.567054 31.70779 \nL 280.567054 42.062076 \nL 267.812768 42.062076 \nL 267.812768 31.70779 \n\" style=\"fill:#381a40;\"/>\n    <path clip-path=\"url(#p6d303ce28e)\" d=\"M 280.567054 31.70779 \nL 293.321339 31.70779 \nL 293.321339 42.062076 \nL 280.567054 42.062076 \nL 280.567054 31.70779 \n\" style=\"fill:#37193f;\"/>\n    <path clip-path=\"url(#p6d303ce28e)\" d=\"M 293.321339 31.70779 \nL 306.075625 31.70779 \nL 306.075625 42.062076 \nL 293.321339 42.062076 \nL 293.321339 31.70779 \n\" style=\"fill:#a11a5b;\"/>\n    <path clip-path=\"url(#p6d303ce28e)\" d=\"M 306.075625 31.70779 \nL 318.829911 31.70779 \nL 318.829911 42.062076 \nL 306.075625 42.062076 \nL 306.075625 31.70779 \n\" style=\"fill:#681f55;\"/>\n    <path clip-path=\"url(#p6d303ce28e)\" d=\"M 318.829911 31.70779 \nL 331.584196 31.70779 \nL 331.584196 42.062076 \nL 318.829911 42.062076 \nL 318.829911 31.70779 \n\" style=\"fill:#631f53;\"/>\n    <path clip-path=\"url(#p6d303ce28e)\" d=\"M 331.584196 31.70779 \nL 344.338482 31.70779 \nL 344.338482 42.062076 \nL 331.584196 42.062076 \nL 331.584196 31.70779 \n\" style=\"fill:#aa185a;\"/>\n    <path clip-path=\"url(#p6d303ce28e)\" d=\"M 344.338482 31.70779 \nL 357.092768 31.70779 \nL 357.092768 42.062076 \nL 344.338482 42.062076 \nL 344.338482 31.70779 \n\" style=\"fill:#34193d;\"/>\n    <path clip-path=\"url(#p6d303ce28e)\" d=\"M 357.092768 31.70779 \nL 369.847054 31.70779 \nL 369.847054 42.062076 \nL 357.092768 42.062076 \nL 357.092768 31.70779 \n\" style=\"fill:#160e27;\"/>\n    <path clip-path=\"url(#p6d303ce28e)\" d=\"M 369.847054 31.70779 \nL 382.601339 31.70779 \nL 382.601339 42.062076 \nL 369.847054 42.062076 \nL 369.847054 31.70779 \n\" style=\"fill:#06071c;\"/>\n    <path clip-path=\"url(#p6d303ce28e)\" d=\"M 382.601339 31.70779 \nL 395.355625 31.70779 \nL 395.355625 42.062076 \nL 382.601339 42.062076 \nL 382.601339 31.70779 \n\" style=\"fill:#1d112c;\"/>\n    <path clip-path=\"url(#p6d303ce28e)\" d=\"M 127.515625 42.062076 \nL 140.269911 42.062076 \nL 140.269911 52.416362 \nL 127.515625 52.416362 \nL 127.515625 42.062076 \n\" style=\"fill:#05061b;\"/>\n    <path clip-path=\"url(#p6d303ce28e)\" d=\"M 140.269911 42.062076 \nL 153.024196 42.062076 \nL 153.024196 52.416362 \nL 140.269911 52.416362 \nL 140.269911 42.062076 \n\" style=\"fill:#cb1b4f;\"/>\n    <path clip-path=\"url(#p6d303ce28e)\" d=\"M 153.024196 42.062076 \nL 165.778482 42.062076 \nL 165.778482 52.416362 \nL 153.024196 52.416362 \nL 153.024196 42.062076 \n\" style=\"fill:#f6a880;\"/>\n    <path clip-path=\"url(#p6d303ce28e)\" d=\"M 165.778482 42.062076 \nL 178.532768 42.062076 \nL 178.532768 52.416362 \nL 165.778482 52.416362 \nL 165.778482 42.062076 \n\" style=\"fill:#faebdd;\"/>\n    <path clip-path=\"url(#p6d303ce28e)\" d=\"M 178.532768 42.062076 \nL 191.287054 42.062076 \nL 191.287054 52.416362 \nL 178.532768 52.416362 \nL 178.532768 42.062076 \n\" style=\"fill:#f5976e;\"/>\n    <path clip-path=\"url(#p6d303ce28e)\" d=\"M 191.287054 42.062076 \nL 204.041339 42.062076 \nL 204.041339 52.416362 \nL 191.287054 52.416362 \nL 191.287054 42.062076 \n\" style=\"fill:#ec4c3e;\"/>\n    <path clip-path=\"url(#p6d303ce28e)\" d=\"M 204.041339 42.062076 \nL 216.795625 42.062076 \nL 216.795625 52.416362 \nL 204.041339 52.416362 \nL 204.041339 42.062076 \n\" style=\"fill:#35193e;\"/>\n    <path clip-path=\"url(#p6d303ce28e)\" d=\"M 216.795625 42.062076 \nL 229.549911 42.062076 \nL 229.549911 52.416362 \nL 216.795625 52.416362 \nL 216.795625 42.062076 \n\" style=\"fill:#04051a;\"/>\n    <path clip-path=\"url(#p6d303ce28e)\" d=\"M 229.549911 42.062076 \nL 242.304196 42.062076 \nL 242.304196 52.416362 \nL 229.549911 52.416362 \nL 229.549911 42.062076 \n\" style=\"fill:none;\"/>\n    <path clip-path=\"url(#p6d303ce28e)\" d=\"M 242.304196 42.062076 \nL 255.058482 42.062076 \nL 255.058482 52.416362 \nL 242.304196 52.416362 \nL 242.304196 42.062076 \n\" style=\"fill:#561e4f;\"/>\n    <path clip-path=\"url(#p6d303ce28e)\" d=\"M 255.058482 42.062076 \nL 267.812768 42.062076 \nL 267.812768 52.416362 \nL 255.058482 52.416362 \nL 255.058482 42.062076 \n\" style=\"fill:#04051a;\"/>\n    <path clip-path=\"url(#p6d303ce28e)\" d=\"M 267.812768 42.062076 \nL 280.567054 42.062076 \nL 280.567054 52.416362 \nL 267.812768 52.416362 \nL 267.812768 42.062076 \n\" style=\"fill:#35193e;\"/>\n    <path clip-path=\"url(#p6d303ce28e)\" d=\"M 280.567054 42.062076 \nL 293.321339 42.062076 \nL 293.321339 52.416362 \nL 280.567054 52.416362 \nL 280.567054 42.062076 \n\" style=\"fill:#271534;\"/>\n    <path clip-path=\"url(#p6d303ce28e)\" d=\"M 293.321339 42.062076 \nL 306.075625 42.062076 \nL 306.075625 52.416362 \nL 293.321339 52.416362 \nL 293.321339 42.062076 \n\" style=\"fill:#b01759;\"/>\n    <path clip-path=\"url(#p6d303ce28e)\" d=\"M 306.075625 42.062076 \nL 318.829911 42.062076 \nL 318.829911 52.416362 \nL 306.075625 52.416362 \nL 306.075625 42.062076 \n\" style=\"fill:#641f54;\"/>\n    <path clip-path=\"url(#p6d303ce28e)\" d=\"M 318.829911 42.062076 \nL 331.584196 42.062076 \nL 331.584196 52.416362 \nL 318.829911 52.416362 \nL 318.829911 42.062076 \n\" style=\"fill:#631f53;\"/>\n    <path clip-path=\"url(#p6d303ce28e)\" d=\"M 331.584196 42.062076 \nL 344.338482 42.062076 \nL 344.338482 52.416362 \nL 331.584196 52.416362 \nL 331.584196 42.062076 \n\" style=\"fill:#a11a5b;\"/>\n    <path clip-path=\"url(#p6d303ce28e)\" d=\"M 344.338482 42.062076 \nL 357.092768 42.062076 \nL 357.092768 52.416362 \nL 344.338482 52.416362 \nL 344.338482 42.062076 \n\" style=\"fill:#30173a;\"/>\n    <path clip-path=\"url(#p6d303ce28e)\" d=\"M 357.092768 42.062076 \nL 369.847054 42.062076 \nL 369.847054 52.416362 \nL 357.092768 52.416362 \nL 357.092768 42.062076 \n\" style=\"fill:#160e27;\"/>\n    <path clip-path=\"url(#p6d303ce28e)\" d=\"M 369.847054 42.062076 \nL 382.601339 42.062076 \nL 382.601339 52.416362 \nL 369.847054 52.416362 \nL 369.847054 42.062076 \n\" style=\"fill:#0b0920;\"/>\n    <path clip-path=\"url(#p6d303ce28e)\" d=\"M 382.601339 42.062076 \nL 395.355625 42.062076 \nL 395.355625 52.416362 \nL 382.601339 52.416362 \nL 382.601339 42.062076 \n\" style=\"fill:#211330;\"/>\n    <path clip-path=\"url(#p6d303ce28e)\" d=\"M 127.515625 52.416362 \nL 140.269911 52.416362 \nL 140.269911 62.770647 \nL 127.515625 62.770647 \nL 127.515625 52.416362 \n\" style=\"fill:#05061b;\"/>\n    <path clip-path=\"url(#p6d303ce28e)\" d=\"M 140.269911 52.416362 \nL 153.024196 52.416362 \nL 153.024196 62.770647 \nL 140.269911 62.770647 \nL 140.269911 52.416362 \n\" style=\"fill:#d11f4c;\"/>\n    <path clip-path=\"url(#p6d303ce28e)\" d=\"M 153.024196 52.416362 \nL 165.778482 52.416362 \nL 165.778482 62.770647 \nL 153.024196 62.770647 \nL 153.024196 52.416362 \n\" style=\"fill:#ec4c3e;\"/>\n    <path clip-path=\"url(#p6d303ce28e)\" d=\"M 165.778482 52.416362 \nL 178.532768 52.416362 \nL 178.532768 62.770647 \nL 165.778482 62.770647 \nL 165.778482 52.416362 \n\" style=\"fill:#f5976e;\"/>\n    <path clip-path=\"url(#p6d303ce28e)\" d=\"M 178.532768 52.416362 \nL 191.287054 52.416362 \nL 191.287054 62.770647 \nL 178.532768 62.770647 \nL 178.532768 52.416362 \n\" style=\"fill:#faebdd;\"/>\n    <path clip-path=\"url(#p6d303ce28e)\" d=\"M 191.287054 52.416362 \nL 204.041339 52.416362 \nL 204.041339 62.770647 \nL 191.287054 62.770647 \nL 191.287054 52.416362 \n\" style=\"fill:#f6b893;\"/>\n    <path clip-path=\"url(#p6d303ce28e)\" d=\"M 204.041339 52.416362 \nL 216.795625 52.416362 \nL 216.795625 62.770647 \nL 204.041339 62.770647 \nL 204.041339 52.416362 \n\" style=\"fill:#3f1b43;\"/>\n    <path clip-path=\"url(#p6d303ce28e)\" d=\"M 216.795625 52.416362 \nL 229.549911 52.416362 \nL 229.549911 62.770647 \nL 216.795625 62.770647 \nL 216.795625 52.416362 \n\" style=\"fill:#03051a;\"/>\n    <path clip-path=\"url(#p6d303ce28e)\" d=\"M 229.549911 52.416362 \nL 242.304196 52.416362 \nL 242.304196 62.770647 \nL 229.549911 62.770647 \nL 229.549911 52.416362 \n\" style=\"fill:none;\"/>\n    <path clip-path=\"url(#p6d303ce28e)\" d=\"M 242.304196 52.416362 \nL 255.058482 52.416362 \nL 255.058482 62.770647 \nL 242.304196 62.770647 \nL 242.304196 52.416362 \n\" style=\"fill:#501d4c;\"/>\n    <path clip-path=\"url(#p6d303ce28e)\" d=\"M 255.058482 52.416362 \nL 267.812768 52.416362 \nL 267.812768 62.770647 \nL 255.058482 62.770647 \nL 255.058482 52.416362 \n\" style=\"fill:#08081e;\"/>\n    <path clip-path=\"url(#p6d303ce28e)\" d=\"M 267.812768 52.416362 \nL 280.567054 52.416362 \nL 280.567054 62.770647 \nL 267.812768 62.770647 \nL 267.812768 52.416362 \n\" style=\"fill:#381a40;\"/>\n    <path clip-path=\"url(#p6d303ce28e)\" d=\"M 280.567054 52.416362 \nL 293.321339 52.416362 \nL 293.321339 62.770647 \nL 280.567054 62.770647 \nL 280.567054 52.416362 \n\" style=\"fill:#1e122d;\"/>\n    <path clip-path=\"url(#p6d303ce28e)\" d=\"M 293.321339 52.416362 \nL 306.075625 52.416362 \nL 306.075625 62.770647 \nL 293.321339 62.770647 \nL 293.321339 52.416362 \n\" style=\"fill:#cb1b4f;\"/>\n    <path clip-path=\"url(#p6d303ce28e)\" d=\"M 306.075625 52.416362 \nL 318.829911 52.416362 \nL 318.829911 62.770647 \nL 306.075625 62.770647 \nL 306.075625 52.416362 \n\" style=\"fill:#35193e;\"/>\n    <path clip-path=\"url(#p6d303ce28e)\" d=\"M 318.829911 52.416362 \nL 331.584196 52.416362 \nL 331.584196 62.770647 \nL 318.829911 62.770647 \nL 318.829911 52.416362 \n\" style=\"fill:#8b1d5b;\"/>\n    <path clip-path=\"url(#p6d303ce28e)\" d=\"M 331.584196 52.416362 \nL 344.338482 52.416362 \nL 344.338482 62.770647 \nL 331.584196 62.770647 \nL 331.584196 52.416362 \n\" style=\"fill:#951c5b;\"/>\n    <path clip-path=\"url(#p6d303ce28e)\" d=\"M 344.338482 52.416362 \nL 357.092768 52.416362 \nL 357.092768 62.770647 \nL 344.338482 62.770647 \nL 344.338482 52.416362 \n\" style=\"fill:#33183c;\"/>\n    <path clip-path=\"url(#p6d303ce28e)\" d=\"M 357.092768 52.416362 \nL 369.847054 52.416362 \nL 369.847054 62.770647 \nL 357.092768 62.770647 \nL 357.092768 52.416362 \n\" style=\"fill:#0a091f;\"/>\n    <path clip-path=\"url(#p6d303ce28e)\" d=\"M 369.847054 52.416362 \nL 382.601339 52.416362 \nL 382.601339 62.770647 \nL 369.847054 62.770647 \nL 369.847054 52.416362 \n\" style=\"fill:#03051a;\"/>\n    <path clip-path=\"url(#p6d303ce28e)\" d=\"M 382.601339 52.416362 \nL 395.355625 52.416362 \nL 395.355625 62.770647 \nL 382.601339 62.770647 \nL 382.601339 52.416362 \n\" style=\"fill:#2d1738;\"/>\n    <path clip-path=\"url(#p6d303ce28e)\" d=\"M 127.515625 62.770647 \nL 140.269911 62.770647 \nL 140.269911 73.124933 \nL 127.515625 73.124933 \nL 127.515625 62.770647 \n\" style=\"fill:#05061b;\"/>\n    <path clip-path=\"url(#p6d303ce28e)\" d=\"M 140.269911 62.770647 \nL 153.024196 62.770647 \nL 153.024196 73.124933 \nL 140.269911 73.124933 \nL 140.269911 62.770647 \n\" style=\"fill:#b71657;\"/>\n    <path clip-path=\"url(#p6d303ce28e)\" d=\"M 153.024196 62.770647 \nL 165.778482 62.770647 \nL 165.778482 73.124933 \nL 153.024196 73.124933 \nL 153.024196 62.770647 \n\" style=\"fill:#c71951;\"/>\n    <path clip-path=\"url(#p6d303ce28e)\" d=\"M 165.778482 62.770647 \nL 178.532768 62.770647 \nL 178.532768 73.124933 \nL 165.778482 73.124933 \nL 165.778482 62.770647 \n\" style=\"fill:#ec4c3e;\"/>\n    <path clip-path=\"url(#p6d303ce28e)\" d=\"M 178.532768 62.770647 \nL 191.287054 62.770647 \nL 191.287054 73.124933 \nL 178.532768 73.124933 \nL 178.532768 62.770647 \n\" style=\"fill:#f6b893;\"/>\n    <path clip-path=\"url(#p6d303ce28e)\" d=\"M 191.287054 62.770647 \nL 204.041339 62.770647 \nL 204.041339 73.124933 \nL 191.287054 73.124933 \nL 191.287054 62.770647 \n\" style=\"fill:#faebdd;\"/>\n    <path clip-path=\"url(#p6d303ce28e)\" d=\"M 204.041339 62.770647 \nL 216.795625 62.770647 \nL 216.795625 73.124933 \nL 204.041339 73.124933 \nL 204.041339 62.770647 \n\" style=\"fill:#401b44;\"/>\n    <path clip-path=\"url(#p6d303ce28e)\" d=\"M 216.795625 62.770647 \nL 229.549911 62.770647 \nL 229.549911 73.124933 \nL 216.795625 73.124933 \nL 216.795625 62.770647 \n\" style=\"fill:#08081e;\"/>\n    <path clip-path=\"url(#p6d303ce28e)\" d=\"M 229.549911 62.770647 \nL 242.304196 62.770647 \nL 242.304196 73.124933 \nL 229.549911 73.124933 \nL 229.549911 62.770647 \n\" style=\"fill:none;\"/>\n    <path clip-path=\"url(#p6d303ce28e)\" d=\"M 242.304196 62.770647 \nL 255.058482 62.770647 \nL 255.058482 73.124933 \nL 242.304196 73.124933 \nL 242.304196 62.770647 \n\" style=\"fill:#4b1d4a;\"/>\n    <path clip-path=\"url(#p6d303ce28e)\" d=\"M 255.058482 62.770647 \nL 267.812768 62.770647 \nL 267.812768 73.124933 \nL 255.058482 73.124933 \nL 255.058482 62.770647 \n\" style=\"fill:#110c24;\"/>\n    <path clip-path=\"url(#p6d303ce28e)\" d=\"M 267.812768 62.770647 \nL 280.567054 62.770647 \nL 280.567054 73.124933 \nL 267.812768 73.124933 \nL 267.812768 62.770647 \n\" style=\"fill:#431c46;\"/>\n    <path clip-path=\"url(#p6d303ce28e)\" d=\"M 280.567054 62.770647 \nL 293.321339 62.770647 \nL 293.321339 73.124933 \nL 280.567054 73.124933 \nL 280.567054 62.770647 \n\" style=\"fill:#0b0920;\"/>\n    <path clip-path=\"url(#p6d303ce28e)\" d=\"M 293.321339 62.770647 \nL 306.075625 62.770647 \nL 306.075625 73.124933 \nL 293.321339 73.124933 \nL 293.321339 62.770647 \n\" style=\"fill:#d2204c;\"/>\n    <path clip-path=\"url(#p6d303ce28e)\" d=\"M 306.075625 62.770647 \nL 318.829911 62.770647 \nL 318.829911 73.124933 \nL 306.075625 73.124933 \nL 306.075625 62.770647 \n\" style=\"fill:#31183b;\"/>\n    <path clip-path=\"url(#p6d303ce28e)\" d=\"M 318.829911 62.770647 \nL 331.584196 62.770647 \nL 331.584196 73.124933 \nL 318.829911 73.124933 \nL 318.829911 62.770647 \n\" style=\"fill:#8b1d5b;\"/>\n    <path clip-path=\"url(#p6d303ce28e)\" d=\"M 331.584196 62.770647 \nL 344.338482 62.770647 \nL 344.338482 73.124933 \nL 331.584196 73.124933 \nL 331.584196 62.770647 \n\" style=\"fill:#9a1b5b;\"/>\n    <path clip-path=\"url(#p6d303ce28e)\" d=\"M 344.338482 62.770647 \nL 357.092768 62.770647 \nL 357.092768 73.124933 \nL 344.338482 73.124933 \nL 344.338482 62.770647 \n\" style=\"fill:#2d1738;\"/>\n    <path clip-path=\"url(#p6d303ce28e)\" d=\"M 357.092768 62.770647 \nL 369.847054 62.770647 \nL 369.847054 73.124933 \nL 357.092768 73.124933 \nL 357.092768 62.770647 \n\" style=\"fill:#20122e;\"/>\n    <path clip-path=\"url(#p6d303ce28e)\" d=\"M 369.847054 62.770647 \nL 382.601339 62.770647 \nL 382.601339 73.124933 \nL 369.847054 73.124933 \nL 369.847054 62.770647 \n\" style=\"fill:#05061b;\"/>\n    <path clip-path=\"url(#p6d303ce28e)\" d=\"M 382.601339 62.770647 \nL 395.355625 62.770647 \nL 395.355625 73.124933 \nL 382.601339 73.124933 \nL 382.601339 62.770647 \n\" style=\"fill:#221331;\"/>\n    <path clip-path=\"url(#p6d303ce28e)\" d=\"M 127.515625 73.124933 \nL 140.269911 73.124933 \nL 140.269911 83.479219 \nL 127.515625 83.479219 \nL 127.515625 73.124933 \n\" style=\"fill:#04051a;\"/>\n    <path clip-path=\"url(#p6d303ce28e)\" d=\"M 140.269911 73.124933 \nL 153.024196 73.124933 \nL 153.024196 83.479219 \nL 140.269911 83.479219 \nL 140.269911 73.124933 \n\" style=\"fill:#160e27;\"/>\n    <path clip-path=\"url(#p6d303ce28e)\" d=\"M 153.024196 73.124933 \nL 165.778482 73.124933 \nL 165.778482 83.479219 \nL 153.024196 83.479219 \nL 153.024196 73.124933 \n\" style=\"fill:#30173a;\"/>\n    <path clip-path=\"url(#p6d303ce28e)\" d=\"M 165.778482 73.124933 \nL 178.532768 73.124933 \nL 178.532768 83.479219 \nL 165.778482 83.479219 \nL 165.778482 73.124933 \n\" style=\"fill:#35193e;\"/>\n    <path clip-path=\"url(#p6d303ce28e)\" d=\"M 178.532768 73.124933 \nL 191.287054 73.124933 \nL 191.287054 83.479219 \nL 178.532768 83.479219 \nL 178.532768 73.124933 \n\" style=\"fill:#3f1b43;\"/>\n    <path clip-path=\"url(#p6d303ce28e)\" d=\"M 191.287054 73.124933 \nL 204.041339 73.124933 \nL 204.041339 83.479219 \nL 191.287054 83.479219 \nL 191.287054 73.124933 \n\" style=\"fill:#401b44;\"/>\n    <path clip-path=\"url(#p6d303ce28e)\" d=\"M 204.041339 73.124933 \nL 216.795625 73.124933 \nL 216.795625 83.479219 \nL 204.041339 83.479219 \nL 204.041339 73.124933 \n\" style=\"fill:#faebdd;\"/>\n    <path clip-path=\"url(#p6d303ce28e)\" d=\"M 216.795625 73.124933 \nL 229.549911 73.124933 \nL 229.549911 83.479219 \nL 216.795625 83.479219 \nL 216.795625 73.124933 \n\" style=\"fill:#6e1f57;\"/>\n    <path clip-path=\"url(#p6d303ce28e)\" d=\"M 229.549911 73.124933 \nL 242.304196 73.124933 \nL 242.304196 83.479219 \nL 229.549911 83.479219 \nL 229.549911 73.124933 \n\" style=\"fill:none;\"/>\n    <path clip-path=\"url(#p6d303ce28e)\" d=\"M 242.304196 73.124933 \nL 255.058482 73.124933 \nL 255.058482 83.479219 \nL 242.304196 83.479219 \nL 242.304196 73.124933 \n\" style=\"fill:#35193e;\"/>\n    <path clip-path=\"url(#p6d303ce28e)\" d=\"M 255.058482 73.124933 \nL 267.812768 73.124933 \nL 267.812768 83.479219 \nL 255.058482 83.479219 \nL 255.058482 73.124933 \n\" style=\"fill:#07071d;\"/>\n    <path clip-path=\"url(#p6d303ce28e)\" d=\"M 267.812768 73.124933 \nL 280.567054 73.124933 \nL 280.567054 83.479219 \nL 267.812768 83.479219 \nL 267.812768 73.124933 \n\" style=\"fill:#07071d;\"/>\n    <path clip-path=\"url(#p6d303ce28e)\" d=\"M 280.567054 73.124933 \nL 293.321339 73.124933 \nL 293.321339 83.479219 \nL 280.567054 83.479219 \nL 280.567054 73.124933 \n\" style=\"fill:#3f1b43;\"/>\n    <path clip-path=\"url(#p6d303ce28e)\" d=\"M 293.321339 73.124933 \nL 306.075625 73.124933 \nL 306.075625 83.479219 \nL 293.321339 83.479219 \nL 293.321339 73.124933 \n\" style=\"fill:#451c47;\"/>\n    <path clip-path=\"url(#p6d303ce28e)\" d=\"M 306.075625 73.124933 \nL 318.829911 73.124933 \nL 318.829911 83.479219 \nL 306.075625 83.479219 \nL 306.075625 73.124933 \n\" style=\"fill:#871e5b;\"/>\n    <path clip-path=\"url(#p6d303ce28e)\" d=\"M 318.829911 73.124933 \nL 331.584196 73.124933 \nL 331.584196 83.479219 \nL 318.829911 83.479219 \nL 318.829911 73.124933 \n\" style=\"fill:#b71657;\"/>\n    <path clip-path=\"url(#p6d303ce28e)\" d=\"M 331.584196 73.124933 \nL 344.338482 73.124933 \nL 344.338482 83.479219 \nL 331.584196 83.479219 \nL 331.584196 73.124933 \n\" style=\"fill:#381a40;\"/>\n    <path clip-path=\"url(#p6d303ce28e)\" d=\"M 344.338482 73.124933 \nL 357.092768 73.124933 \nL 357.092768 83.479219 \nL 344.338482 83.479219 \nL 344.338482 73.124933 \n\" style=\"fill:#35193e;\"/>\n    <path clip-path=\"url(#p6d303ce28e)\" d=\"M 357.092768 73.124933 \nL 369.847054 73.124933 \nL 369.847054 83.479219 \nL 357.092768 83.479219 \nL 357.092768 73.124933 \n\" style=\"fill:#03051a;\"/>\n    <path clip-path=\"url(#p6d303ce28e)\" d=\"M 369.847054 73.124933 \nL 382.601339 73.124933 \nL 382.601339 83.479219 \nL 369.847054 83.479219 \nL 369.847054 73.124933 \n\" style=\"fill:#241432;\"/>\n    <path clip-path=\"url(#p6d303ce28e)\" d=\"M 382.601339 73.124933 \nL 395.355625 73.124933 \nL 395.355625 83.479219 \nL 382.601339 83.479219 \nL 382.601339 73.124933 \n\" style=\"fill:#2b1637;\"/>\n    <path clip-path=\"url(#p6d303ce28e)\" d=\"M 127.515625 83.479219 \nL 140.269911 83.479219 \nL 140.269911 93.833504 \nL 127.515625 93.833504 \nL 127.515625 83.479219 \n\" style=\"fill:#05061b;\"/>\n    <path clip-path=\"url(#p6d303ce28e)\" d=\"M 140.269911 83.479219 \nL 153.024196 83.479219 \nL 153.024196 93.833504 \nL 140.269911 93.833504 \nL 140.269911 83.479219 \n\" style=\"fill:#07071d;\"/>\n    <path clip-path=\"url(#p6d303ce28e)\" d=\"M 153.024196 83.479219 \nL 165.778482 83.479219 \nL 165.778482 93.833504 \nL 153.024196 93.833504 \nL 153.024196 83.479219 \n\" style=\"fill:#0a091f;\"/>\n    <path clip-path=\"url(#p6d303ce28e)\" d=\"M 165.778482 83.479219 \nL 178.532768 83.479219 \nL 178.532768 93.833504 \nL 165.778482 93.833504 \nL 165.778482 83.479219 \n\" style=\"fill:#04051a;\"/>\n    <path clip-path=\"url(#p6d303ce28e)\" d=\"M 178.532768 83.479219 \nL 191.287054 83.479219 \nL 191.287054 93.833504 \nL 178.532768 93.833504 \nL 178.532768 83.479219 \n\" style=\"fill:#03051a;\"/>\n    <path clip-path=\"url(#p6d303ce28e)\" d=\"M 191.287054 83.479219 \nL 204.041339 83.479219 \nL 204.041339 93.833504 \nL 191.287054 93.833504 \nL 191.287054 83.479219 \n\" style=\"fill:#08081e;\"/>\n    <path clip-path=\"url(#p6d303ce28e)\" d=\"M 204.041339 83.479219 \nL 216.795625 83.479219 \nL 216.795625 93.833504 \nL 204.041339 93.833504 \nL 204.041339 83.479219 \n\" style=\"fill:#6e1f57;\"/>\n    <path clip-path=\"url(#p6d303ce28e)\" d=\"M 216.795625 83.479219 \nL 229.549911 83.479219 \nL 229.549911 93.833504 \nL 216.795625 93.833504 \nL 216.795625 83.479219 \n\" style=\"fill:#faebdd;\"/>\n    <path clip-path=\"url(#p6d303ce28e)\" d=\"M 229.549911 83.479219 \nL 242.304196 83.479219 \nL 242.304196 93.833504 \nL 229.549911 93.833504 \nL 229.549911 83.479219 \n\" style=\"fill:none;\"/>\n    <path clip-path=\"url(#p6d303ce28e)\" d=\"M 242.304196 83.479219 \nL 255.058482 83.479219 \nL 255.058482 93.833504 \nL 242.304196 93.833504 \nL 242.304196 83.479219 \n\" style=\"fill:#1b112b;\"/>\n    <path clip-path=\"url(#p6d303ce28e)\" d=\"M 255.058482 83.479219 \nL 267.812768 83.479219 \nL 267.812768 93.833504 \nL 255.058482 93.833504 \nL 255.058482 83.479219 \n\" style=\"fill:#08081e;\"/>\n    <path clip-path=\"url(#p6d303ce28e)\" d=\"M 267.812768 83.479219 \nL 280.567054 83.479219 \nL 280.567054 93.833504 \nL 267.812768 93.833504 \nL 267.812768 83.479219 \n\" style=\"fill:#170f28;\"/>\n    <path clip-path=\"url(#p6d303ce28e)\" d=\"M 280.567054 83.479219 \nL 293.321339 83.479219 \nL 293.321339 93.833504 \nL 280.567054 93.833504 \nL 280.567054 83.479219 \n\" style=\"fill:#a4195b;\"/>\n    <path clip-path=\"url(#p6d303ce28e)\" d=\"M 293.321339 83.479219 \nL 306.075625 83.479219 \nL 306.075625 93.833504 \nL 293.321339 93.833504 \nL 293.321339 83.479219 \n\" style=\"fill:#110c24;\"/>\n    <path clip-path=\"url(#p6d303ce28e)\" d=\"M 306.075625 83.479219 \nL 318.829911 83.479219 \nL 318.829911 93.833504 \nL 306.075625 93.833504 \nL 306.075625 83.479219 \n\" style=\"fill:#20122e;\"/>\n    <path clip-path=\"url(#p6d303ce28e)\" d=\"M 318.829911 83.479219 \nL 331.584196 83.479219 \nL 331.584196 93.833504 \nL 318.829911 93.833504 \nL 318.829911 83.479219 \n\" style=\"fill:#211330;\"/>\n    <path clip-path=\"url(#p6d303ce28e)\" d=\"M 331.584196 83.479219 \nL 344.338482 83.479219 \nL 344.338482 93.833504 \nL 331.584196 93.833504 \nL 331.584196 83.479219 \n\" style=\"fill:#180f29;\"/>\n    <path clip-path=\"url(#p6d303ce28e)\" d=\"M 344.338482 83.479219 \nL 357.092768 83.479219 \nL 357.092768 93.833504 \nL 344.338482 93.833504 \nL 344.338482 83.479219 \n\" style=\"fill:#05061b;\"/>\n    <path clip-path=\"url(#p6d303ce28e)\" d=\"M 357.092768 83.479219 \nL 369.847054 83.479219 \nL 369.847054 93.833504 \nL 357.092768 93.833504 \nL 357.092768 83.479219 \n\" style=\"fill:#241432;\"/>\n    <path clip-path=\"url(#p6d303ce28e)\" d=\"M 369.847054 83.479219 \nL 382.601339 83.479219 \nL 382.601339 93.833504 \nL 369.847054 93.833504 \nL 369.847054 83.479219 \n\" style=\"fill:#3f1b43;\"/>\n    <path clip-path=\"url(#p6d303ce28e)\" d=\"M 382.601339 83.479219 \nL 395.355625 83.479219 \nL 395.355625 93.833504 \nL 382.601339 93.833504 \nL 382.601339 83.479219 \n\" style=\"fill:#04051a;\"/>\n    <path clip-path=\"url(#p6d303ce28e)\" d=\"M 127.515625 93.833504 \nL 140.269911 93.833504 \nL 140.269911 104.18779 \nL 127.515625 104.18779 \nL 127.515625 93.833504 \n\" style=\"fill:none;\"/>\n    <path clip-path=\"url(#p6d303ce28e)\" d=\"M 140.269911 93.833504 \nL 153.024196 93.833504 \nL 153.024196 104.18779 \nL 140.269911 104.18779 \nL 140.269911 93.833504 \n\" style=\"fill:none;\"/>\n    <path clip-path=\"url(#p6d303ce28e)\" d=\"M 153.024196 93.833504 \nL 165.778482 93.833504 \nL 165.778482 104.18779 \nL 153.024196 104.18779 \nL 153.024196 93.833504 \n\" style=\"fill:none;\"/>\n    <path clip-path=\"url(#p6d303ce28e)\" d=\"M 165.778482 93.833504 \nL 178.532768 93.833504 \nL 178.532768 104.18779 \nL 165.778482 104.18779 \nL 165.778482 93.833504 \n\" style=\"fill:none;\"/>\n    <path clip-path=\"url(#p6d303ce28e)\" d=\"M 178.532768 93.833504 \nL 191.287054 93.833504 \nL 191.287054 104.18779 \nL 178.532768 104.18779 \nL 178.532768 93.833504 \n\" style=\"fill:none;\"/>\n    <path clip-path=\"url(#p6d303ce28e)\" d=\"M 191.287054 93.833504 \nL 204.041339 93.833504 \nL 204.041339 104.18779 \nL 191.287054 104.18779 \nL 191.287054 93.833504 \n\" style=\"fill:none;\"/>\n    <path clip-path=\"url(#p6d303ce28e)\" d=\"M 204.041339 93.833504 \nL 216.795625 93.833504 \nL 216.795625 104.18779 \nL 204.041339 104.18779 \nL 204.041339 93.833504 \n\" style=\"fill:none;\"/>\n    <path clip-path=\"url(#p6d303ce28e)\" d=\"M 216.795625 93.833504 \nL 229.549911 93.833504 \nL 229.549911 104.18779 \nL 216.795625 104.18779 \nL 216.795625 93.833504 \n\" style=\"fill:none;\"/>\n    <path clip-path=\"url(#p6d303ce28e)\" d=\"M 229.549911 93.833504 \nL 242.304196 93.833504 \nL 242.304196 104.18779 \nL 229.549911 104.18779 \nL 229.549911 93.833504 \n\" style=\"fill:none;\"/>\n    <path clip-path=\"url(#p6d303ce28e)\" d=\"M 242.304196 93.833504 \nL 255.058482 93.833504 \nL 255.058482 104.18779 \nL 242.304196 104.18779 \nL 242.304196 93.833504 \n\" style=\"fill:none;\"/>\n    <path clip-path=\"url(#p6d303ce28e)\" d=\"M 255.058482 93.833504 \nL 267.812768 93.833504 \nL 267.812768 104.18779 \nL 255.058482 104.18779 \nL 255.058482 93.833504 \n\" style=\"fill:none;\"/>\n    <path clip-path=\"url(#p6d303ce28e)\" d=\"M 267.812768 93.833504 \nL 280.567054 93.833504 \nL 280.567054 104.18779 \nL 267.812768 104.18779 \nL 267.812768 93.833504 \n\" style=\"fill:none;\"/>\n    <path clip-path=\"url(#p6d303ce28e)\" d=\"M 280.567054 93.833504 \nL 293.321339 93.833504 \nL 293.321339 104.18779 \nL 280.567054 104.18779 \nL 280.567054 93.833504 \n\" style=\"fill:none;\"/>\n    <path clip-path=\"url(#p6d303ce28e)\" d=\"M 293.321339 93.833504 \nL 306.075625 93.833504 \nL 306.075625 104.18779 \nL 293.321339 104.18779 \nL 293.321339 93.833504 \n\" style=\"fill:none;\"/>\n    <path clip-path=\"url(#p6d303ce28e)\" d=\"M 306.075625 93.833504 \nL 318.829911 93.833504 \nL 318.829911 104.18779 \nL 306.075625 104.18779 \nL 306.075625 93.833504 \n\" style=\"fill:none;\"/>\n    <path clip-path=\"url(#p6d303ce28e)\" d=\"M 318.829911 93.833504 \nL 331.584196 93.833504 \nL 331.584196 104.18779 \nL 318.829911 104.18779 \nL 318.829911 93.833504 \n\" style=\"fill:none;\"/>\n    <path clip-path=\"url(#p6d303ce28e)\" d=\"M 331.584196 93.833504 \nL 344.338482 93.833504 \nL 344.338482 104.18779 \nL 331.584196 104.18779 \nL 331.584196 93.833504 \n\" style=\"fill:none;\"/>\n    <path clip-path=\"url(#p6d303ce28e)\" d=\"M 344.338482 93.833504 \nL 357.092768 93.833504 \nL 357.092768 104.18779 \nL 344.338482 104.18779 \nL 344.338482 93.833504 \n\" style=\"fill:none;\"/>\n    <path clip-path=\"url(#p6d303ce28e)\" d=\"M 357.092768 93.833504 \nL 369.847054 93.833504 \nL 369.847054 104.18779 \nL 357.092768 104.18779 \nL 357.092768 93.833504 \n\" style=\"fill:none;\"/>\n    <path clip-path=\"url(#p6d303ce28e)\" d=\"M 369.847054 93.833504 \nL 382.601339 93.833504 \nL 382.601339 104.18779 \nL 369.847054 104.18779 \nL 369.847054 93.833504 \n\" style=\"fill:none;\"/>\n    <path clip-path=\"url(#p6d303ce28e)\" d=\"M 382.601339 93.833504 \nL 395.355625 93.833504 \nL 395.355625 104.18779 \nL 382.601339 104.18779 \nL 382.601339 93.833504 \n\" style=\"fill:none;\"/>\n    <path clip-path=\"url(#p6d303ce28e)\" d=\"M 127.515625 104.18779 \nL 140.269911 104.18779 \nL 140.269911 114.542076 \nL 127.515625 114.542076 \nL 127.515625 104.18779 \n\" style=\"fill:#03051a;\"/>\n    <path clip-path=\"url(#p6d303ce28e)\" d=\"M 140.269911 104.18779 \nL 153.024196 104.18779 \nL 153.024196 114.542076 \nL 140.269911 114.542076 \nL 140.269911 104.18779 \n\" style=\"fill:#03051a;\"/>\n    <path clip-path=\"url(#p6d303ce28e)\" d=\"M 153.024196 104.18779 \nL 165.778482 104.18779 \nL 165.778482 114.542076 \nL 153.024196 114.542076 \nL 153.024196 104.18779 \n\" style=\"fill:#581e4f;\"/>\n    <path clip-path=\"url(#p6d303ce28e)\" d=\"M 165.778482 104.18779 \nL 178.532768 104.18779 \nL 178.532768 114.542076 \nL 165.778482 114.542076 \nL 165.778482 104.18779 \n\" style=\"fill:#561e4f;\"/>\n    <path clip-path=\"url(#p6d303ce28e)\" d=\"M 178.532768 104.18779 \nL 191.287054 104.18779 \nL 191.287054 114.542076 \nL 178.532768 114.542076 \nL 178.532768 104.18779 \n\" style=\"fill:#501d4c;\"/>\n    <path clip-path=\"url(#p6d303ce28e)\" d=\"M 191.287054 104.18779 \nL 204.041339 104.18779 \nL 204.041339 114.542076 \nL 191.287054 114.542076 \nL 191.287054 104.18779 \n\" style=\"fill:#4b1d4a;\"/>\n    <path clip-path=\"url(#p6d303ce28e)\" d=\"M 204.041339 104.18779 \nL 216.795625 104.18779 \nL 216.795625 114.542076 \nL 204.041339 114.542076 \nL 204.041339 104.18779 \n\" style=\"fill:#35193e;\"/>\n    <path clip-path=\"url(#p6d303ce28e)\" d=\"M 216.795625 104.18779 \nL 229.549911 104.18779 \nL 229.549911 114.542076 \nL 216.795625 114.542076 \nL 216.795625 104.18779 \n\" style=\"fill:#1b112b;\"/>\n    <path clip-path=\"url(#p6d303ce28e)\" d=\"M 229.549911 104.18779 \nL 242.304196 104.18779 \nL 242.304196 114.542076 \nL 229.549911 114.542076 \nL 229.549911 104.18779 \n\" style=\"fill:none;\"/>\n    <path clip-path=\"url(#p6d303ce28e)\" d=\"M 242.304196 104.18779 \nL 255.058482 104.18779 \nL 255.058482 114.542076 \nL 242.304196 114.542076 \nL 242.304196 104.18779 \n\" style=\"fill:#faebdd;\"/>\n    <path clip-path=\"url(#p6d303ce28e)\" d=\"M 255.058482 104.18779 \nL 267.812768 104.18779 \nL 267.812768 114.542076 \nL 255.058482 114.542076 \nL 255.058482 104.18779 \n\" style=\"fill:#0d0a21;\"/>\n    <path clip-path=\"url(#p6d303ce28e)\" d=\"M 267.812768 104.18779 \nL 280.567054 104.18779 \nL 280.567054 114.542076 \nL 267.812768 114.542076 \nL 267.812768 104.18779 \n\" style=\"fill:#a11a5b;\"/>\n    <path clip-path=\"url(#p6d303ce28e)\" d=\"M 280.567054 104.18779 \nL 293.321339 104.18779 \nL 293.321339 114.542076 \nL 280.567054 114.542076 \nL 280.567054 104.18779 \n\" style=\"fill:#2a1636;\"/>\n    <path clip-path=\"url(#p6d303ce28e)\" d=\"M 293.321339 104.18779 \nL 306.075625 104.18779 \nL 306.075625 114.542076 \nL 293.321339 114.542076 \nL 293.321339 104.18779 \n\" style=\"fill:#2e1739;\"/>\n    <path clip-path=\"url(#p6d303ce28e)\" d=\"M 306.075625 104.18779 \nL 318.829911 104.18779 \nL 318.829911 114.542076 \nL 306.075625 114.542076 \nL 306.075625 104.18779 \n\" style=\"fill:#4b1d4a;\"/>\n    <path clip-path=\"url(#p6d303ce28e)\" d=\"M 318.829911 104.18779 \nL 331.584196 104.18779 \nL 331.584196 114.542076 \nL 318.829911 114.542076 \nL 318.829911 104.18779 \n\" style=\"fill:#bf1654;\"/>\n    <path clip-path=\"url(#p6d303ce28e)\" d=\"M 331.584196 104.18779 \nL 344.338482 104.18779 \nL 344.338482 114.542076 \nL 331.584196 114.542076 \nL 331.584196 104.18779 \n\" style=\"fill:#bd1655;\"/>\n    <path clip-path=\"url(#p6d303ce28e)\" d=\"M 344.338482 104.18779 \nL 357.092768 104.18779 \nL 357.092768 114.542076 \nL 344.338482 114.542076 \nL 344.338482 104.18779 \n\" style=\"fill:#37193f;\"/>\n    <path clip-path=\"url(#p6d303ce28e)\" d=\"M 357.092768 104.18779 \nL 369.847054 104.18779 \nL 369.847054 114.542076 \nL 357.092768 114.542076 \nL 357.092768 104.18779 \n\" style=\"fill:#221331;\"/>\n    <path clip-path=\"url(#p6d303ce28e)\" d=\"M 369.847054 104.18779 \nL 382.601339 104.18779 \nL 382.601339 114.542076 \nL 369.847054 114.542076 \nL 369.847054 104.18779 \n\" style=\"fill:#08081e;\"/>\n    <path clip-path=\"url(#p6d303ce28e)\" d=\"M 382.601339 104.18779 \nL 395.355625 104.18779 \nL 395.355625 114.542076 \nL 382.601339 114.542076 \nL 382.601339 104.18779 \n\" style=\"fill:#491d49;\"/>\n    <path clip-path=\"url(#p6d303ce28e)\" d=\"M 127.515625 114.542076 \nL 140.269911 114.542076 \nL 140.269911 124.896362 \nL 127.515625 124.896362 \nL 127.515625 114.542076 \n\" style=\"fill:#04051a;\"/>\n    <path clip-path=\"url(#p6d303ce28e)\" d=\"M 140.269911 114.542076 \nL 153.024196 114.542076 \nL 153.024196 124.896362 \nL 140.269911 124.896362 \nL 140.269911 114.542076 \n\" style=\"fill:#08081e;\"/>\n    <path clip-path=\"url(#p6d303ce28e)\" d=\"M 153.024196 114.542076 \nL 165.778482 114.542076 \nL 165.778482 124.896362 \nL 153.024196 124.896362 \nL 153.024196 114.542076 \n\" style=\"fill:#03051a;\"/>\n    <path clip-path=\"url(#p6d303ce28e)\" d=\"M 165.778482 114.542076 \nL 178.532768 114.542076 \nL 178.532768 124.896362 \nL 165.778482 124.896362 \nL 165.778482 114.542076 \n\" style=\"fill:#04051a;\"/>\n    <path clip-path=\"url(#p6d303ce28e)\" d=\"M 178.532768 114.542076 \nL 191.287054 114.542076 \nL 191.287054 124.896362 \nL 178.532768 124.896362 \nL 178.532768 114.542076 \n\" style=\"fill:#08081e;\"/>\n    <path clip-path=\"url(#p6d303ce28e)\" d=\"M 191.287054 114.542076 \nL 204.041339 114.542076 \nL 204.041339 124.896362 \nL 191.287054 124.896362 \nL 191.287054 114.542076 \n\" style=\"fill:#110c24;\"/>\n    <path clip-path=\"url(#p6d303ce28e)\" d=\"M 204.041339 114.542076 \nL 216.795625 114.542076 \nL 216.795625 124.896362 \nL 204.041339 124.896362 \nL 204.041339 114.542076 \n\" style=\"fill:#07071d;\"/>\n    <path clip-path=\"url(#p6d303ce28e)\" d=\"M 216.795625 114.542076 \nL 229.549911 114.542076 \nL 229.549911 124.896362 \nL 216.795625 124.896362 \nL 216.795625 114.542076 \n\" style=\"fill:#08081e;\"/>\n    <path clip-path=\"url(#p6d303ce28e)\" d=\"M 229.549911 114.542076 \nL 242.304196 114.542076 \nL 242.304196 124.896362 \nL 229.549911 124.896362 \nL 229.549911 114.542076 \n\" style=\"fill:none;\"/>\n    <path clip-path=\"url(#p6d303ce28e)\" d=\"M 242.304196 114.542076 \nL 255.058482 114.542076 \nL 255.058482 124.896362 \nL 242.304196 124.896362 \nL 242.304196 114.542076 \n\" style=\"fill:#0d0a21;\"/>\n    <path clip-path=\"url(#p6d303ce28e)\" d=\"M 255.058482 114.542076 \nL 267.812768 114.542076 \nL 267.812768 124.896362 \nL 255.058482 124.896362 \nL 255.058482 114.542076 \n\" style=\"fill:#faebdd;\"/>\n    <path clip-path=\"url(#p6d303ce28e)\" d=\"M 267.812768 114.542076 \nL 280.567054 114.542076 \nL 280.567054 124.896362 \nL 267.812768 124.896362 \nL 267.812768 114.542076 \n\" style=\"fill:#05061b;\"/>\n    <path clip-path=\"url(#p6d303ce28e)\" d=\"M 280.567054 114.542076 \nL 293.321339 114.542076 \nL 293.321339 124.896362 \nL 280.567054 124.896362 \nL 280.567054 114.542076 \n\" style=\"fill:#03051a;\"/>\n    <path clip-path=\"url(#p6d303ce28e)\" d=\"M 293.321339 114.542076 \nL 306.075625 114.542076 \nL 306.075625 124.896362 \nL 293.321339 124.896362 \nL 293.321339 114.542076 \n\" style=\"fill:#04051a;\"/>\n    <path clip-path=\"url(#p6d303ce28e)\" d=\"M 306.075625 114.542076 \nL 318.829911 114.542076 \nL 318.829911 124.896362 \nL 306.075625 124.896362 \nL 306.075625 114.542076 \n\" style=\"fill:#0a091f;\"/>\n    <path clip-path=\"url(#p6d303ce28e)\" d=\"M 318.829911 114.542076 \nL 331.584196 114.542076 \nL 331.584196 124.896362 \nL 318.829911 124.896362 \nL 318.829911 114.542076 \n\" style=\"fill:#04051a;\"/>\n    <path clip-path=\"url(#p6d303ce28e)\" d=\"M 331.584196 114.542076 \nL 344.338482 114.542076 \nL 344.338482 124.896362 \nL 331.584196 124.896362 \nL 331.584196 114.542076 \n\" style=\"fill:#07071d;\"/>\n    <path clip-path=\"url(#p6d303ce28e)\" d=\"M 344.338482 114.542076 \nL 357.092768 114.542076 \nL 357.092768 124.896362 \nL 344.338482 124.896362 \nL 344.338482 114.542076 \n\" style=\"fill:#160e27;\"/>\n    <path clip-path=\"url(#p6d303ce28e)\" d=\"M 357.092768 114.542076 \nL 369.847054 114.542076 \nL 369.847054 124.896362 \nL 357.092768 124.896362 \nL 357.092768 114.542076 \n\" style=\"fill:#0b0920;\"/>\n    <path clip-path=\"url(#p6d303ce28e)\" d=\"M 369.847054 114.542076 \nL 382.601339 114.542076 \nL 382.601339 124.896362 \nL 369.847054 124.896362 \nL 369.847054 114.542076 \n\" style=\"fill:#04051a;\"/>\n    <path clip-path=\"url(#p6d303ce28e)\" d=\"M 382.601339 114.542076 \nL 395.355625 114.542076 \nL 395.355625 124.896362 \nL 382.601339 124.896362 \nL 382.601339 114.542076 \n\" style=\"fill:#03051a;\"/>\n    <path clip-path=\"url(#p6d303ce28e)\" d=\"M 127.515625 124.896362 \nL 140.269911 124.896362 \nL 140.269911 135.250647 \nL 127.515625 135.250647 \nL 127.515625 124.896362 \n\" style=\"fill:#07071d;\"/>\n    <path clip-path=\"url(#p6d303ce28e)\" d=\"M 140.269911 124.896362 \nL 153.024196 124.896362 \nL 153.024196 135.250647 \nL 140.269911 135.250647 \nL 140.269911 124.896362 \n\" style=\"fill:#33183c;\"/>\n    <path clip-path=\"url(#p6d303ce28e)\" d=\"M 153.024196 124.896362 \nL 165.778482 124.896362 \nL 165.778482 135.250647 \nL 153.024196 135.250647 \nL 153.024196 124.896362 \n\" style=\"fill:#381a40;\"/>\n    <path clip-path=\"url(#p6d303ce28e)\" d=\"M 165.778482 124.896362 \nL 178.532768 124.896362 \nL 178.532768 135.250647 \nL 165.778482 135.250647 \nL 165.778482 124.896362 \n\" style=\"fill:#35193e;\"/>\n    <path clip-path=\"url(#p6d303ce28e)\" d=\"M 178.532768 124.896362 \nL 191.287054 124.896362 \nL 191.287054 135.250647 \nL 178.532768 135.250647 \nL 178.532768 124.896362 \n\" style=\"fill:#381a40;\"/>\n    <path clip-path=\"url(#p6d303ce28e)\" d=\"M 191.287054 124.896362 \nL 204.041339 124.896362 \nL 204.041339 135.250647 \nL 191.287054 135.250647 \nL 191.287054 124.896362 \n\" style=\"fill:#431c46;\"/>\n    <path clip-path=\"url(#p6d303ce28e)\" d=\"M 204.041339 124.896362 \nL 216.795625 124.896362 \nL 216.795625 135.250647 \nL 204.041339 135.250647 \nL 204.041339 124.896362 \n\" style=\"fill:#07071d;\"/>\n    <path clip-path=\"url(#p6d303ce28e)\" d=\"M 216.795625 124.896362 \nL 229.549911 124.896362 \nL 229.549911 135.250647 \nL 216.795625 135.250647 \nL 216.795625 124.896362 \n\" style=\"fill:#170f28;\"/>\n    <path clip-path=\"url(#p6d303ce28e)\" d=\"M 229.549911 124.896362 \nL 242.304196 124.896362 \nL 242.304196 135.250647 \nL 229.549911 135.250647 \nL 229.549911 124.896362 \n\" style=\"fill:none;\"/>\n    <path clip-path=\"url(#p6d303ce28e)\" d=\"M 242.304196 124.896362 \nL 255.058482 124.896362 \nL 255.058482 135.250647 \nL 242.304196 135.250647 \nL 242.304196 124.896362 \n\" style=\"fill:#a11a5b;\"/>\n    <path clip-path=\"url(#p6d303ce28e)\" d=\"M 255.058482 124.896362 \nL 267.812768 124.896362 \nL 267.812768 135.250647 \nL 255.058482 135.250647 \nL 255.058482 124.896362 \n\" style=\"fill:#05061b;\"/>\n    <path clip-path=\"url(#p6d303ce28e)\" d=\"M 267.812768 124.896362 \nL 280.567054 124.896362 \nL 280.567054 135.250647 \nL 267.812768 135.250647 \nL 267.812768 124.896362 \n\" style=\"fill:#faebdd;\"/>\n    <path clip-path=\"url(#p6d303ce28e)\" d=\"M 280.567054 124.896362 \nL 293.321339 124.896362 \nL 293.321339 135.250647 \nL 280.567054 135.250647 \nL 280.567054 124.896362 \n\" style=\"fill:#af1759;\"/>\n    <path clip-path=\"url(#p6d303ce28e)\" d=\"M 293.321339 124.896362 \nL 306.075625 124.896362 \nL 306.075625 135.250647 \nL 293.321339 135.250647 \nL 293.321339 124.896362 \n\" style=\"fill:#461c48;\"/>\n    <path clip-path=\"url(#p6d303ce28e)\" d=\"M 306.075625 124.896362 \nL 318.829911 124.896362 \nL 318.829911 135.250647 \nL 306.075625 135.250647 \nL 306.075625 124.896362 \n\" style=\"fill:#381a40;\"/>\n    <path clip-path=\"url(#p6d303ce28e)\" d=\"M 318.829911 124.896362 \nL 331.584196 124.896362 \nL 331.584196 135.250647 \nL 318.829911 135.250647 \nL 318.829911 124.896362 \n\" style=\"fill:#501d4c;\"/>\n    <path clip-path=\"url(#p6d303ce28e)\" d=\"M 331.584196 124.896362 \nL 344.338482 124.896362 \nL 344.338482 135.250647 \nL 331.584196 135.250647 \nL 331.584196 124.896362 \n\" style=\"fill:#e8403e;\"/>\n    <path clip-path=\"url(#p6d303ce28e)\" d=\"M 344.338482 124.896362 \nL 357.092768 124.896362 \nL 357.092768 135.250647 \nL 344.338482 135.250647 \nL 344.338482 124.896362 \n\" style=\"fill:#05061b;\"/>\n    <path clip-path=\"url(#p6d303ce28e)\" d=\"M 357.092768 124.896362 \nL 369.847054 124.896362 \nL 369.847054 135.250647 \nL 357.092768 135.250647 \nL 357.092768 124.896362 \n\" style=\"fill:#5c1e51;\"/>\n    <path clip-path=\"url(#p6d303ce28e)\" d=\"M 369.847054 124.896362 \nL 382.601339 124.896362 \nL 382.601339 135.250647 \nL 369.847054 135.250647 \nL 369.847054 124.896362 \n\" style=\"fill:#110c24;\"/>\n    <path clip-path=\"url(#p6d303ce28e)\" d=\"M 382.601339 124.896362 \nL 395.355625 124.896362 \nL 395.355625 135.250647 \nL 382.601339 135.250647 \nL 382.601339 124.896362 \n\" style=\"fill:#170f28;\"/>\n    <path clip-path=\"url(#p6d303ce28e)\" d=\"M 127.515625 135.250647 \nL 140.269911 135.250647 \nL 140.269911 145.604933 \nL 127.515625 145.604933 \nL 127.515625 135.250647 \n\" style=\"fill:#03051a;\"/>\n    <path clip-path=\"url(#p6d303ce28e)\" d=\"M 140.269911 135.250647 \nL 153.024196 135.250647 \nL 153.024196 145.604933 \nL 140.269911 145.604933 \nL 140.269911 135.250647 \n\" style=\"fill:#451c47;\"/>\n    <path clip-path=\"url(#p6d303ce28e)\" d=\"M 153.024196 135.250647 \nL 165.778482 135.250647 \nL 165.778482 145.604933 \nL 153.024196 145.604933 \nL 153.024196 135.250647 \n\" style=\"fill:#37193f;\"/>\n    <path clip-path=\"url(#p6d303ce28e)\" d=\"M 165.778482 135.250647 \nL 178.532768 135.250647 \nL 178.532768 145.604933 \nL 165.778482 145.604933 \nL 165.778482 135.250647 \n\" style=\"fill:#271534;\"/>\n    <path clip-path=\"url(#p6d303ce28e)\" d=\"M 178.532768 135.250647 \nL 191.287054 135.250647 \nL 191.287054 145.604933 \nL 178.532768 145.604933 \nL 178.532768 135.250647 \n\" style=\"fill:#1e122d;\"/>\n    <path clip-path=\"url(#p6d303ce28e)\" d=\"M 191.287054 135.250647 \nL 204.041339 135.250647 \nL 204.041339 145.604933 \nL 191.287054 145.604933 \nL 191.287054 135.250647 \n\" style=\"fill:#0b0920;\"/>\n    <path clip-path=\"url(#p6d303ce28e)\" d=\"M 204.041339 135.250647 \nL 216.795625 135.250647 \nL 216.795625 145.604933 \nL 204.041339 145.604933 \nL 204.041339 135.250647 \n\" style=\"fill:#3f1b43;\"/>\n    <path clip-path=\"url(#p6d303ce28e)\" d=\"M 216.795625 135.250647 \nL 229.549911 135.250647 \nL 229.549911 145.604933 \nL 216.795625 145.604933 \nL 216.795625 135.250647 \n\" style=\"fill:#a4195b;\"/>\n    <path clip-path=\"url(#p6d303ce28e)\" d=\"M 229.549911 135.250647 \nL 242.304196 135.250647 \nL 242.304196 145.604933 \nL 229.549911 145.604933 \nL 229.549911 135.250647 \n\" style=\"fill:none;\"/>\n    <path clip-path=\"url(#p6d303ce28e)\" d=\"M 242.304196 135.250647 \nL 255.058482 135.250647 \nL 255.058482 145.604933 \nL 242.304196 145.604933 \nL 242.304196 135.250647 \n\" style=\"fill:#2a1636;\"/>\n    <path clip-path=\"url(#p6d303ce28e)\" d=\"M 255.058482 135.250647 \nL 267.812768 135.250647 \nL 267.812768 145.604933 \nL 255.058482 145.604933 \nL 255.058482 135.250647 \n\" style=\"fill:#03051a;\"/>\n    <path clip-path=\"url(#p6d303ce28e)\" d=\"M 267.812768 135.250647 \nL 280.567054 135.250647 \nL 280.567054 145.604933 \nL 267.812768 145.604933 \nL 267.812768 135.250647 \n\" style=\"fill:#af1759;\"/>\n    <path clip-path=\"url(#p6d303ce28e)\" d=\"M 280.567054 135.250647 \nL 293.321339 135.250647 \nL 293.321339 145.604933 \nL 280.567054 145.604933 \nL 280.567054 135.250647 \n\" style=\"fill:#faebdd;\"/>\n    <path clip-path=\"url(#p6d303ce28e)\" d=\"M 293.321339 135.250647 \nL 306.075625 135.250647 \nL 306.075625 145.604933 \nL 293.321339 145.604933 \nL 293.321339 135.250647 \n\" style=\"fill:#04051a;\"/>\n    <path clip-path=\"url(#p6d303ce28e)\" d=\"M 306.075625 135.250647 \nL 318.829911 135.250647 \nL 318.829911 145.604933 \nL 306.075625 145.604933 \nL 306.075625 135.250647 \n\" style=\"fill:#5b1e51;\"/>\n    <path clip-path=\"url(#p6d303ce28e)\" d=\"M 318.829911 135.250647 \nL 331.584196 135.250647 \nL 331.584196 145.604933 \nL 318.829911 145.604933 \nL 318.829911 135.250647 \n\" style=\"fill:#33183c;\"/>\n    <path clip-path=\"url(#p6d303ce28e)\" d=\"M 331.584196 135.250647 \nL 344.338482 135.250647 \nL 344.338482 145.604933 \nL 331.584196 145.604933 \nL 331.584196 135.250647 \n\" style=\"fill:#691f55;\"/>\n    <path clip-path=\"url(#p6d303ce28e)\" d=\"M 344.338482 135.250647 \nL 357.092768 135.250647 \nL 357.092768 145.604933 \nL 344.338482 145.604933 \nL 344.338482 135.250647 \n\" style=\"fill:#0e0b22;\"/>\n    <path clip-path=\"url(#p6d303ce28e)\" d=\"M 357.092768 135.250647 \nL 369.847054 135.250647 \nL 369.847054 145.604933 \nL 357.092768 145.604933 \nL 357.092768 135.250647 \n\" style=\"fill:#541e4e;\"/>\n    <path clip-path=\"url(#p6d303ce28e)\" d=\"M 369.847054 135.250647 \nL 382.601339 135.250647 \nL 382.601339 145.604933 \nL 369.847054 145.604933 \nL 369.847054 135.250647 \n\" style=\"fill:#401b44;\"/>\n    <path clip-path=\"url(#p6d303ce28e)\" d=\"M 382.601339 135.250647 \nL 395.355625 135.250647 \nL 395.355625 145.604933 \nL 382.601339 145.604933 \nL 382.601339 135.250647 \n\" style=\"fill:#0a091f;\"/>\n    <path clip-path=\"url(#p6d303ce28e)\" d=\"M 127.515625 145.604933 \nL 140.269911 145.604933 \nL 140.269911 155.959219 \nL 127.515625 155.959219 \nL 127.515625 145.604933 \n\" style=\"fill:#04051a;\"/>\n    <path clip-path=\"url(#p6d303ce28e)\" d=\"M 140.269911 145.604933 \nL 153.024196 145.604933 \nL 153.024196 155.959219 \nL 140.269911 155.959219 \nL 140.269911 145.604933 \n\" style=\"fill:#aa185a;\"/>\n    <path clip-path=\"url(#p6d303ce28e)\" d=\"M 153.024196 145.604933 \nL 165.778482 145.604933 \nL 165.778482 155.959219 \nL 153.024196 155.959219 \nL 153.024196 145.604933 \n\" style=\"fill:#a11a5b;\"/>\n    <path clip-path=\"url(#p6d303ce28e)\" d=\"M 165.778482 145.604933 \nL 178.532768 145.604933 \nL 178.532768 155.959219 \nL 165.778482 155.959219 \nL 165.778482 145.604933 \n\" style=\"fill:#b01759;\"/>\n    <path clip-path=\"url(#p6d303ce28e)\" d=\"M 178.532768 145.604933 \nL 191.287054 145.604933 \nL 191.287054 155.959219 \nL 178.532768 155.959219 \nL 178.532768 145.604933 \n\" style=\"fill:#cb1b4f;\"/>\n    <path clip-path=\"url(#p6d303ce28e)\" d=\"M 191.287054 145.604933 \nL 204.041339 145.604933 \nL 204.041339 155.959219 \nL 191.287054 155.959219 \nL 191.287054 145.604933 \n\" style=\"fill:#d2204c;\"/>\n    <path clip-path=\"url(#p6d303ce28e)\" d=\"M 204.041339 145.604933 \nL 216.795625 145.604933 \nL 216.795625 155.959219 \nL 204.041339 155.959219 \nL 204.041339 145.604933 \n\" style=\"fill:#451c47;\"/>\n    <path clip-path=\"url(#p6d303ce28e)\" d=\"M 216.795625 145.604933 \nL 229.549911 145.604933 \nL 229.549911 155.959219 \nL 216.795625 155.959219 \nL 216.795625 145.604933 \n\" style=\"fill:#110c24;\"/>\n    <path clip-path=\"url(#p6d303ce28e)\" d=\"M 229.549911 145.604933 \nL 242.304196 145.604933 \nL 242.304196 155.959219 \nL 229.549911 155.959219 \nL 229.549911 145.604933 \n\" style=\"fill:none;\"/>\n    <path clip-path=\"url(#p6d303ce28e)\" d=\"M 242.304196 145.604933 \nL 255.058482 145.604933 \nL 255.058482 155.959219 \nL 242.304196 155.959219 \nL 242.304196 145.604933 \n\" style=\"fill:#2e1739;\"/>\n    <path clip-path=\"url(#p6d303ce28e)\" d=\"M 255.058482 145.604933 \nL 267.812768 145.604933 \nL 267.812768 155.959219 \nL 255.058482 155.959219 \nL 255.058482 145.604933 \n\" style=\"fill:#04051a;\"/>\n    <path clip-path=\"url(#p6d303ce28e)\" d=\"M 267.812768 145.604933 \nL 280.567054 145.604933 \nL 280.567054 155.959219 \nL 267.812768 155.959219 \nL 267.812768 145.604933 \n\" style=\"fill:#461c48;\"/>\n    <path clip-path=\"url(#p6d303ce28e)\" d=\"M 280.567054 145.604933 \nL 293.321339 145.604933 \nL 293.321339 155.959219 \nL 280.567054 155.959219 \nL 280.567054 145.604933 \n\" style=\"fill:#04051a;\"/>\n    <path clip-path=\"url(#p6d303ce28e)\" d=\"M 293.321339 145.604933 \nL 306.075625 145.604933 \nL 306.075625 155.959219 \nL 293.321339 155.959219 \nL 293.321339 145.604933 \n\" style=\"fill:#faebdd;\"/>\n    <path clip-path=\"url(#p6d303ce28e)\" d=\"M 306.075625 145.604933 \nL 318.829911 145.604933 \nL 318.829911 155.959219 \nL 306.075625 155.959219 \nL 306.075625 145.604933 \n\" style=\"fill:#421b45;\"/>\n    <path clip-path=\"url(#p6d303ce28e)\" d=\"M 318.829911 145.604933 \nL 331.584196 145.604933 \nL 331.584196 155.959219 \nL 318.829911 155.959219 \nL 318.829911 145.604933 \n\" style=\"fill:#8e1d5b;\"/>\n    <path clip-path=\"url(#p6d303ce28e)\" d=\"M 331.584196 145.604933 \nL 344.338482 145.604933 \nL 344.338482 155.959219 \nL 331.584196 155.959219 \nL 331.584196 145.604933 \n\" style=\"fill:#bf1654;\"/>\n    <path clip-path=\"url(#p6d303ce28e)\" d=\"M 344.338482 145.604933 \nL 357.092768 145.604933 \nL 357.092768 155.959219 \nL 344.338482 155.959219 \nL 344.338482 145.604933 \n\" style=\"fill:#5b1e51;\"/>\n    <path clip-path=\"url(#p6d303ce28e)\" d=\"M 357.092768 145.604933 \nL 369.847054 145.604933 \nL 369.847054 155.959219 \nL 357.092768 155.959219 \nL 357.092768 145.604933 \n\" style=\"fill:#140e26;\"/>\n    <path clip-path=\"url(#p6d303ce28e)\" d=\"M 369.847054 145.604933 \nL 382.601339 145.604933 \nL 382.601339 155.959219 \nL 369.847054 155.959219 \nL 369.847054 145.604933 \n\" style=\"fill:#08081e;\"/>\n    <path clip-path=\"url(#p6d303ce28e)\" d=\"M 382.601339 145.604933 \nL 395.355625 145.604933 \nL 395.355625 155.959219 \nL 382.601339 155.959219 \nL 382.601339 145.604933 \n\" style=\"fill:#0d0a21;\"/>\n    <path clip-path=\"url(#p6d303ce28e)\" d=\"M 127.515625 155.959219 \nL 140.269911 155.959219 \nL 140.269911 166.313504 \nL 127.515625 166.313504 \nL 127.515625 155.959219 \n\" style=\"fill:#05061b;\"/>\n    <path clip-path=\"url(#p6d303ce28e)\" d=\"M 140.269911 155.959219 \nL 153.024196 155.959219 \nL 153.024196 166.313504 \nL 140.269911 166.313504 \nL 140.269911 155.959219 \n\" style=\"fill:#641f54;\"/>\n    <path clip-path=\"url(#p6d303ce28e)\" d=\"M 153.024196 155.959219 \nL 165.778482 155.959219 \nL 165.778482 166.313504 \nL 153.024196 166.313504 \nL 153.024196 155.959219 \n\" style=\"fill:#681f55;\"/>\n    <path clip-path=\"url(#p6d303ce28e)\" d=\"M 165.778482 155.959219 \nL 178.532768 155.959219 \nL 178.532768 166.313504 \nL 165.778482 166.313504 \nL 165.778482 155.959219 \n\" style=\"fill:#641f54;\"/>\n    <path clip-path=\"url(#p6d303ce28e)\" d=\"M 178.532768 155.959219 \nL 191.287054 155.959219 \nL 191.287054 166.313504 \nL 178.532768 166.313504 \nL 178.532768 155.959219 \n\" style=\"fill:#35193e;\"/>\n    <path clip-path=\"url(#p6d303ce28e)\" d=\"M 191.287054 155.959219 \nL 204.041339 155.959219 \nL 204.041339 166.313504 \nL 191.287054 166.313504 \nL 191.287054 155.959219 \n\" style=\"fill:#31183b;\"/>\n    <path clip-path=\"url(#p6d303ce28e)\" d=\"M 204.041339 155.959219 \nL 216.795625 155.959219 \nL 216.795625 166.313504 \nL 204.041339 166.313504 \nL 204.041339 155.959219 \n\" style=\"fill:#871e5b;\"/>\n    <path clip-path=\"url(#p6d303ce28e)\" d=\"M 216.795625 155.959219 \nL 229.549911 155.959219 \nL 229.549911 166.313504 \nL 216.795625 166.313504 \nL 216.795625 155.959219 \n\" style=\"fill:#20122e;\"/>\n    <path clip-path=\"url(#p6d303ce28e)\" d=\"M 229.549911 155.959219 \nL 242.304196 155.959219 \nL 242.304196 166.313504 \nL 229.549911 166.313504 \nL 229.549911 155.959219 \n\" style=\"fill:none;\"/>\n    <path clip-path=\"url(#p6d303ce28e)\" d=\"M 242.304196 155.959219 \nL 255.058482 155.959219 \nL 255.058482 166.313504 \nL 242.304196 166.313504 \nL 242.304196 155.959219 \n\" style=\"fill:#4b1d4a;\"/>\n    <path clip-path=\"url(#p6d303ce28e)\" d=\"M 255.058482 155.959219 \nL 267.812768 155.959219 \nL 267.812768 166.313504 \nL 255.058482 166.313504 \nL 255.058482 155.959219 \n\" style=\"fill:#0a091f;\"/>\n    <path clip-path=\"url(#p6d303ce28e)\" d=\"M 267.812768 155.959219 \nL 280.567054 155.959219 \nL 280.567054 166.313504 \nL 267.812768 166.313504 \nL 267.812768 155.959219 \n\" style=\"fill:#381a40;\"/>\n    <path clip-path=\"url(#p6d303ce28e)\" d=\"M 280.567054 155.959219 \nL 293.321339 155.959219 \nL 293.321339 166.313504 \nL 280.567054 166.313504 \nL 280.567054 155.959219 \n\" style=\"fill:#5b1e51;\"/>\n    <path clip-path=\"url(#p6d303ce28e)\" d=\"M 293.321339 155.959219 \nL 306.075625 155.959219 \nL 306.075625 166.313504 \nL 293.321339 166.313504 \nL 293.321339 155.959219 \n\" style=\"fill:#421b45;\"/>\n    <path clip-path=\"url(#p6d303ce28e)\" d=\"M 306.075625 155.959219 \nL 318.829911 155.959219 \nL 318.829911 166.313504 \nL 306.075625 166.313504 \nL 306.075625 155.959219 \n\" style=\"fill:#faebdd;\"/>\n    <path clip-path=\"url(#p6d303ce28e)\" d=\"M 318.829911 155.959219 \nL 331.584196 155.959219 \nL 331.584196 166.313504 \nL 318.829911 166.313504 \nL 318.829911 155.959219 \n\" style=\"fill:#e43841;\"/>\n    <path clip-path=\"url(#p6d303ce28e)\" d=\"M 331.584196 155.959219 \nL 344.338482 155.959219 \nL 344.338482 166.313504 \nL 331.584196 166.313504 \nL 331.584196 155.959219 \n\" style=\"fill:#531e4d;\"/>\n    <path clip-path=\"url(#p6d303ce28e)\" d=\"M 344.338482 155.959219 \nL 357.092768 155.959219 \nL 357.092768 166.313504 \nL 344.338482 166.313504 \nL 344.338482 155.959219 \n\" style=\"fill:#07071d;\"/>\n    <path clip-path=\"url(#p6d303ce28e)\" d=\"M 357.092768 155.959219 \nL 369.847054 155.959219 \nL 369.847054 166.313504 \nL 357.092768 166.313504 \nL 357.092768 155.959219 \n\" style=\"fill:#0b0920;\"/>\n    <path clip-path=\"url(#p6d303ce28e)\" d=\"M 369.847054 155.959219 \nL 382.601339 155.959219 \nL 382.601339 166.313504 \nL 369.847054 166.313504 \nL 369.847054 155.959219 \n\" style=\"fill:#180f29;\"/>\n    <path clip-path=\"url(#p6d303ce28e)\" d=\"M 382.601339 155.959219 \nL 395.355625 155.959219 \nL 395.355625 166.313504 \nL 382.601339 166.313504 \nL 382.601339 155.959219 \n\" style=\"fill:#431c46;\"/>\n    <path clip-path=\"url(#p6d303ce28e)\" d=\"M 127.515625 166.313504 \nL 140.269911 166.313504 \nL 140.269911 176.66779 \nL 127.515625 176.66779 \nL 127.515625 166.313504 \n\" style=\"fill:#03051a;\"/>\n    <path clip-path=\"url(#p6d303ce28e)\" d=\"M 140.269911 166.313504 \nL 153.024196 166.313504 \nL 153.024196 176.66779 \nL 140.269911 176.66779 \nL 140.269911 166.313504 \n\" style=\"fill:#30173a;\"/>\n    <path clip-path=\"url(#p6d303ce28e)\" d=\"M 153.024196 166.313504 \nL 165.778482 166.313504 \nL 165.778482 176.66779 \nL 153.024196 176.66779 \nL 153.024196 166.313504 \n\" style=\"fill:#631f53;\"/>\n    <path clip-path=\"url(#p6d303ce28e)\" d=\"M 165.778482 166.313504 \nL 178.532768 166.313504 \nL 178.532768 176.66779 \nL 165.778482 176.66779 \nL 165.778482 166.313504 \n\" style=\"fill:#631f53;\"/>\n    <path clip-path=\"url(#p6d303ce28e)\" d=\"M 178.532768 166.313504 \nL 191.287054 166.313504 \nL 191.287054 176.66779 \nL 178.532768 176.66779 \nL 178.532768 166.313504 \n\" style=\"fill:#8b1d5b;\"/>\n    <path clip-path=\"url(#p6d303ce28e)\" d=\"M 191.287054 166.313504 \nL 204.041339 166.313504 \nL 204.041339 176.66779 \nL 191.287054 176.66779 \nL 191.287054 166.313504 \n\" style=\"fill:#8b1d5b;\"/>\n    <path clip-path=\"url(#p6d303ce28e)\" d=\"M 204.041339 166.313504 \nL 216.795625 166.313504 \nL 216.795625 176.66779 \nL 204.041339 176.66779 \nL 204.041339 166.313504 \n\" style=\"fill:#b71657;\"/>\n    <path clip-path=\"url(#p6d303ce28e)\" d=\"M 216.795625 166.313504 \nL 229.549911 166.313504 \nL 229.549911 176.66779 \nL 216.795625 176.66779 \nL 216.795625 166.313504 \n\" style=\"fill:#211330;\"/>\n    <path clip-path=\"url(#p6d303ce28e)\" d=\"M 229.549911 166.313504 \nL 242.304196 166.313504 \nL 242.304196 176.66779 \nL 229.549911 176.66779 \nL 229.549911 166.313504 \n\" style=\"fill:none;\"/>\n    <path clip-path=\"url(#p6d303ce28e)\" d=\"M 242.304196 166.313504 \nL 255.058482 166.313504 \nL 255.058482 176.66779 \nL 242.304196 176.66779 \nL 242.304196 166.313504 \n\" style=\"fill:#bf1654;\"/>\n    <path clip-path=\"url(#p6d303ce28e)\" d=\"M 255.058482 166.313504 \nL 267.812768 166.313504 \nL 267.812768 176.66779 \nL 255.058482 176.66779 \nL 255.058482 166.313504 \n\" style=\"fill:#04051a;\"/>\n    <path clip-path=\"url(#p6d303ce28e)\" d=\"M 267.812768 166.313504 \nL 280.567054 166.313504 \nL 280.567054 176.66779 \nL 267.812768 176.66779 \nL 267.812768 166.313504 \n\" style=\"fill:#501d4c;\"/>\n    <path clip-path=\"url(#p6d303ce28e)\" d=\"M 280.567054 166.313504 \nL 293.321339 166.313504 \nL 293.321339 176.66779 \nL 280.567054 176.66779 \nL 280.567054 166.313504 \n\" style=\"fill:#33183c;\"/>\n    <path clip-path=\"url(#p6d303ce28e)\" d=\"M 293.321339 166.313504 \nL 306.075625 166.313504 \nL 306.075625 176.66779 \nL 293.321339 176.66779 \nL 293.321339 166.313504 \n\" style=\"fill:#8e1d5b;\"/>\n    <path clip-path=\"url(#p6d303ce28e)\" d=\"M 306.075625 166.313504 \nL 318.829911 166.313504 \nL 318.829911 176.66779 \nL 306.075625 176.66779 \nL 306.075625 166.313504 \n\" style=\"fill:#e43841;\"/>\n    <path clip-path=\"url(#p6d303ce28e)\" d=\"M 318.829911 166.313504 \nL 331.584196 166.313504 \nL 331.584196 176.66779 \nL 318.829911 176.66779 \nL 318.829911 166.313504 \n\" style=\"fill:#faebdd;\"/>\n    <path clip-path=\"url(#p6d303ce28e)\" d=\"M 331.584196 166.313504 \nL 344.338482 166.313504 \nL 344.338482 176.66779 \nL 331.584196 176.66779 \nL 331.584196 166.313504 \n\" style=\"fill:#cd1c4e;\"/>\n    <path clip-path=\"url(#p6d303ce28e)\" d=\"M 344.338482 166.313504 \nL 357.092768 166.313504 \nL 357.092768 176.66779 \nL 344.338482 176.66779 \nL 344.338482 166.313504 \n\" style=\"fill:#381a40;\"/>\n    <path clip-path=\"url(#p6d303ce28e)\" d=\"M 357.092768 166.313504 \nL 369.847054 166.313504 \nL 369.847054 176.66779 \nL 357.092768 176.66779 \nL 357.092768 166.313504 \n\" style=\"fill:#35193e;\"/>\n    <path clip-path=\"url(#p6d303ce28e)\" d=\"M 369.847054 166.313504 \nL 382.601339 166.313504 \nL 382.601339 176.66779 \nL 369.847054 176.66779 \nL 369.847054 166.313504 \n\" style=\"fill:#160e27;\"/>\n    <path clip-path=\"url(#p6d303ce28e)\" d=\"M 382.601339 166.313504 \nL 395.355625 166.313504 \nL 395.355625 176.66779 \nL 382.601339 176.66779 \nL 382.601339 166.313504 \n\" style=\"fill:#501d4c;\"/>\n    <path clip-path=\"url(#p6d303ce28e)\" d=\"M 127.515625 176.66779 \nL 140.269911 176.66779 \nL 140.269911 187.022076 \nL 127.515625 187.022076 \nL 127.515625 176.66779 \n\" style=\"fill:#05061b;\"/>\n    <path clip-path=\"url(#p6d303ce28e)\" d=\"M 140.269911 176.66779 \nL 153.024196 176.66779 \nL 153.024196 187.022076 \nL 140.269911 187.022076 \nL 140.269911 176.66779 \n\" style=\"fill:#211330;\"/>\n    <path clip-path=\"url(#p6d303ce28e)\" d=\"M 153.024196 176.66779 \nL 165.778482 176.66779 \nL 165.778482 187.022076 \nL 153.024196 187.022076 \nL 153.024196 176.66779 \n\" style=\"fill:#aa185a;\"/>\n    <path clip-path=\"url(#p6d303ce28e)\" d=\"M 165.778482 176.66779 \nL 178.532768 176.66779 \nL 178.532768 187.022076 \nL 165.778482 187.022076 \nL 165.778482 176.66779 \n\" style=\"fill:#a11a5b;\"/>\n    <path clip-path=\"url(#p6d303ce28e)\" d=\"M 178.532768 176.66779 \nL 191.287054 176.66779 \nL 191.287054 187.022076 \nL 178.532768 187.022076 \nL 178.532768 176.66779 \n\" style=\"fill:#951c5b;\"/>\n    <path clip-path=\"url(#p6d303ce28e)\" d=\"M 191.287054 176.66779 \nL 204.041339 176.66779 \nL 204.041339 187.022076 \nL 191.287054 187.022076 \nL 191.287054 176.66779 \n\" style=\"fill:#9a1b5b;\"/>\n    <path clip-path=\"url(#p6d303ce28e)\" d=\"M 204.041339 176.66779 \nL 216.795625 176.66779 \nL 216.795625 187.022076 \nL 204.041339 187.022076 \nL 204.041339 176.66779 \n\" style=\"fill:#381a40;\"/>\n    <path clip-path=\"url(#p6d303ce28e)\" d=\"M 216.795625 176.66779 \nL 229.549911 176.66779 \nL 229.549911 187.022076 \nL 216.795625 187.022076 \nL 216.795625 176.66779 \n\" style=\"fill:#180f29;\"/>\n    <path clip-path=\"url(#p6d303ce28e)\" d=\"M 229.549911 176.66779 \nL 242.304196 176.66779 \nL 242.304196 187.022076 \nL 229.549911 187.022076 \nL 229.549911 176.66779 \n\" style=\"fill:none;\"/>\n    <path clip-path=\"url(#p6d303ce28e)\" d=\"M 242.304196 176.66779 \nL 255.058482 176.66779 \nL 255.058482 187.022076 \nL 242.304196 187.022076 \nL 242.304196 176.66779 \n\" style=\"fill:#bd1655;\"/>\n    <path clip-path=\"url(#p6d303ce28e)\" d=\"M 255.058482 176.66779 \nL 267.812768 176.66779 \nL 267.812768 187.022076 \nL 255.058482 187.022076 \nL 255.058482 176.66779 \n\" style=\"fill:#07071d;\"/>\n    <path clip-path=\"url(#p6d303ce28e)\" d=\"M 267.812768 176.66779 \nL 280.567054 176.66779 \nL 280.567054 187.022076 \nL 267.812768 187.022076 \nL 267.812768 176.66779 \n\" style=\"fill:#e8403e;\"/>\n    <path clip-path=\"url(#p6d303ce28e)\" d=\"M 280.567054 176.66779 \nL 293.321339 176.66779 \nL 293.321339 187.022076 \nL 280.567054 187.022076 \nL 280.567054 176.66779 \n\" style=\"fill:#691f55;\"/>\n    <path clip-path=\"url(#p6d303ce28e)\" d=\"M 293.321339 176.66779 \nL 306.075625 176.66779 \nL 306.075625 187.022076 \nL 293.321339 187.022076 \nL 293.321339 176.66779 \n\" style=\"fill:#bf1654;\"/>\n    <path clip-path=\"url(#p6d303ce28e)\" d=\"M 306.075625 176.66779 \nL 318.829911 176.66779 \nL 318.829911 187.022076 \nL 306.075625 187.022076 \nL 306.075625 176.66779 \n\" style=\"fill:#531e4d;\"/>\n    <path clip-path=\"url(#p6d303ce28e)\" d=\"M 318.829911 176.66779 \nL 331.584196 176.66779 \nL 331.584196 187.022076 \nL 318.829911 187.022076 \nL 318.829911 176.66779 \n\" style=\"fill:#cd1c4e;\"/>\n    <path clip-path=\"url(#p6d303ce28e)\" d=\"M 331.584196 176.66779 \nL 344.338482 176.66779 \nL 344.338482 187.022076 \nL 331.584196 187.022076 \nL 331.584196 176.66779 \n\" style=\"fill:#faebdd;\"/>\n    <path clip-path=\"url(#p6d303ce28e)\" d=\"M 344.338482 176.66779 \nL 357.092768 176.66779 \nL 357.092768 187.022076 \nL 344.338482 187.022076 \nL 344.338482 176.66779 \n\" style=\"fill:#3a1a41;\"/>\n    <path clip-path=\"url(#p6d303ce28e)\" d=\"M 357.092768 176.66779 \nL 369.847054 176.66779 \nL 369.847054 187.022076 \nL 357.092768 187.022076 \nL 357.092768 176.66779 \n\" style=\"fill:#541e4e;\"/>\n    <path clip-path=\"url(#p6d303ce28e)\" d=\"M 369.847054 176.66779 \nL 382.601339 176.66779 \nL 382.601339 187.022076 \nL 369.847054 187.022076 \nL 369.847054 176.66779 \n\" style=\"fill:#0a091f;\"/>\n    <path clip-path=\"url(#p6d303ce28e)\" d=\"M 382.601339 176.66779 \nL 395.355625 176.66779 \nL 395.355625 187.022076 \nL 382.601339 187.022076 \nL 382.601339 176.66779 \n\" style=\"fill:#271534;\"/>\n    <path clip-path=\"url(#p6d303ce28e)\" d=\"M 127.515625 187.022076 \nL 140.269911 187.022076 \nL 140.269911 197.376362 \nL 127.515625 197.376362 \nL 127.515625 187.022076 \n\" style=\"fill:#05061b;\"/>\n    <path clip-path=\"url(#p6d303ce28e)\" d=\"M 140.269911 187.022076 \nL 153.024196 187.022076 \nL 153.024196 197.376362 \nL 140.269911 197.376362 \nL 140.269911 187.022076 \n\" style=\"fill:#33183c;\"/>\n    <path clip-path=\"url(#p6d303ce28e)\" d=\"M 153.024196 187.022076 \nL 165.778482 187.022076 \nL 165.778482 197.376362 \nL 153.024196 197.376362 \nL 153.024196 187.022076 \n\" style=\"fill:#34193d;\"/>\n    <path clip-path=\"url(#p6d303ce28e)\" d=\"M 165.778482 187.022076 \nL 178.532768 187.022076 \nL 178.532768 197.376362 \nL 165.778482 197.376362 \nL 165.778482 187.022076 \n\" style=\"fill:#30173a;\"/>\n    <path clip-path=\"url(#p6d303ce28e)\" d=\"M 178.532768 187.022076 \nL 191.287054 187.022076 \nL 191.287054 197.376362 \nL 178.532768 197.376362 \nL 178.532768 187.022076 \n\" style=\"fill:#33183c;\"/>\n    <path clip-path=\"url(#p6d303ce28e)\" d=\"M 191.287054 187.022076 \nL 204.041339 187.022076 \nL 204.041339 197.376362 \nL 191.287054 197.376362 \nL 191.287054 187.022076 \n\" style=\"fill:#2d1738;\"/>\n    <path clip-path=\"url(#p6d303ce28e)\" d=\"M 204.041339 187.022076 \nL 216.795625 187.022076 \nL 216.795625 197.376362 \nL 204.041339 197.376362 \nL 204.041339 187.022076 \n\" style=\"fill:#35193e;\"/>\n    <path clip-path=\"url(#p6d303ce28e)\" d=\"M 216.795625 187.022076 \nL 229.549911 187.022076 \nL 229.549911 197.376362 \nL 216.795625 197.376362 \nL 216.795625 187.022076 \n\" style=\"fill:#05061b;\"/>\n    <path clip-path=\"url(#p6d303ce28e)\" d=\"M 229.549911 187.022076 \nL 242.304196 187.022076 \nL 242.304196 197.376362 \nL 229.549911 197.376362 \nL 229.549911 187.022076 \n\" style=\"fill:none;\"/>\n    <path clip-path=\"url(#p6d303ce28e)\" d=\"M 242.304196 187.022076 \nL 255.058482 187.022076 \nL 255.058482 197.376362 \nL 242.304196 197.376362 \nL 242.304196 187.022076 \n\" style=\"fill:#37193f;\"/>\n    <path clip-path=\"url(#p6d303ce28e)\" d=\"M 255.058482 187.022076 \nL 267.812768 187.022076 \nL 267.812768 197.376362 \nL 255.058482 197.376362 \nL 255.058482 187.022076 \n\" style=\"fill:#160e27;\"/>\n    <path clip-path=\"url(#p6d303ce28e)\" d=\"M 267.812768 187.022076 \nL 280.567054 187.022076 \nL 280.567054 197.376362 \nL 267.812768 197.376362 \nL 267.812768 187.022076 \n\" style=\"fill:#05061b;\"/>\n    <path clip-path=\"url(#p6d303ce28e)\" d=\"M 280.567054 187.022076 \nL 293.321339 187.022076 \nL 293.321339 197.376362 \nL 280.567054 197.376362 \nL 280.567054 187.022076 \n\" style=\"fill:#0e0b22;\"/>\n    <path clip-path=\"url(#p6d303ce28e)\" d=\"M 293.321339 187.022076 \nL 306.075625 187.022076 \nL 306.075625 197.376362 \nL 293.321339 197.376362 \nL 293.321339 187.022076 \n\" style=\"fill:#5b1e51;\"/>\n    <path clip-path=\"url(#p6d303ce28e)\" d=\"M 306.075625 187.022076 \nL 318.829911 187.022076 \nL 318.829911 197.376362 \nL 306.075625 197.376362 \nL 306.075625 187.022076 \n\" style=\"fill:#07071d;\"/>\n    <path clip-path=\"url(#p6d303ce28e)\" d=\"M 318.829911 187.022076 \nL 331.584196 187.022076 \nL 331.584196 197.376362 \nL 318.829911 197.376362 \nL 318.829911 187.022076 \n\" style=\"fill:#381a40;\"/>\n    <path clip-path=\"url(#p6d303ce28e)\" d=\"M 331.584196 187.022076 \nL 344.338482 187.022076 \nL 344.338482 197.376362 \nL 331.584196 197.376362 \nL 331.584196 187.022076 \n\" style=\"fill:#3a1a41;\"/>\n    <path clip-path=\"url(#p6d303ce28e)\" d=\"M 344.338482 187.022076 \nL 357.092768 187.022076 \nL 357.092768 197.376362 \nL 344.338482 197.376362 \nL 344.338482 187.022076 \n\" style=\"fill:#faebdd;\"/>\n    <path clip-path=\"url(#p6d303ce28e)\" d=\"M 357.092768 187.022076 \nL 369.847054 187.022076 \nL 369.847054 197.376362 \nL 357.092768 197.376362 \nL 357.092768 187.022076 \n\" style=\"fill:#03051a;\"/>\n    <path clip-path=\"url(#p6d303ce28e)\" d=\"M 369.847054 187.022076 \nL 382.601339 187.022076 \nL 382.601339 197.376362 \nL 369.847054 197.376362 \nL 369.847054 187.022076 \n\" style=\"fill:#04051a;\"/>\n    <path clip-path=\"url(#p6d303ce28e)\" d=\"M 382.601339 187.022076 \nL 395.355625 187.022076 \nL 395.355625 197.376362 \nL 382.601339 197.376362 \nL 382.601339 187.022076 \n\" style=\"fill:#06071c;\"/>\n    <path clip-path=\"url(#p6d303ce28e)\" d=\"M 127.515625 197.376362 \nL 140.269911 197.376362 \nL 140.269911 207.730647 \nL 127.515625 207.730647 \nL 127.515625 197.376362 \n\" style=\"fill:#05061b;\"/>\n    <path clip-path=\"url(#p6d303ce28e)\" d=\"M 140.269911 197.376362 \nL 153.024196 197.376362 \nL 153.024196 207.730647 \nL 140.269911 207.730647 \nL 140.269911 197.376362 \n\" style=\"fill:#130d25;\"/>\n    <path clip-path=\"url(#p6d303ce28e)\" d=\"M 153.024196 197.376362 \nL 165.778482 197.376362 \nL 165.778482 207.730647 \nL 153.024196 207.730647 \nL 153.024196 197.376362 \n\" style=\"fill:#160e27;\"/>\n    <path clip-path=\"url(#p6d303ce28e)\" d=\"M 165.778482 197.376362 \nL 178.532768 197.376362 \nL 178.532768 207.730647 \nL 165.778482 207.730647 \nL 165.778482 197.376362 \n\" style=\"fill:#160e27;\"/>\n    <path clip-path=\"url(#p6d303ce28e)\" d=\"M 178.532768 197.376362 \nL 191.287054 197.376362 \nL 191.287054 207.730647 \nL 178.532768 207.730647 \nL 178.532768 197.376362 \n\" style=\"fill:#0a091f;\"/>\n    <path clip-path=\"url(#p6d303ce28e)\" d=\"M 191.287054 197.376362 \nL 204.041339 197.376362 \nL 204.041339 207.730647 \nL 191.287054 207.730647 \nL 191.287054 197.376362 \n\" style=\"fill:#20122e;\"/>\n    <path clip-path=\"url(#p6d303ce28e)\" d=\"M 204.041339 197.376362 \nL 216.795625 197.376362 \nL 216.795625 207.730647 \nL 204.041339 207.730647 \nL 204.041339 197.376362 \n\" style=\"fill:#03051a;\"/>\n    <path clip-path=\"url(#p6d303ce28e)\" d=\"M 216.795625 197.376362 \nL 229.549911 197.376362 \nL 229.549911 207.730647 \nL 216.795625 207.730647 \nL 216.795625 197.376362 \n\" style=\"fill:#241432;\"/>\n    <path clip-path=\"url(#p6d303ce28e)\" d=\"M 229.549911 197.376362 \nL 242.304196 197.376362 \nL 242.304196 207.730647 \nL 229.549911 207.730647 \nL 229.549911 197.376362 \n\" style=\"fill:none;\"/>\n    <path clip-path=\"url(#p6d303ce28e)\" d=\"M 242.304196 197.376362 \nL 255.058482 197.376362 \nL 255.058482 207.730647 \nL 242.304196 207.730647 \nL 242.304196 197.376362 \n\" style=\"fill:#221331;\"/>\n    <path clip-path=\"url(#p6d303ce28e)\" d=\"M 255.058482 197.376362 \nL 267.812768 197.376362 \nL 267.812768 207.730647 \nL 255.058482 207.730647 \nL 255.058482 197.376362 \n\" style=\"fill:#0b0920;\"/>\n    <path clip-path=\"url(#p6d303ce28e)\" d=\"M 267.812768 197.376362 \nL 280.567054 197.376362 \nL 280.567054 207.730647 \nL 267.812768 207.730647 \nL 267.812768 197.376362 \n\" style=\"fill:#5c1e51;\"/>\n    <path clip-path=\"url(#p6d303ce28e)\" d=\"M 280.567054 197.376362 \nL 293.321339 197.376362 \nL 293.321339 207.730647 \nL 280.567054 207.730647 \nL 280.567054 197.376362 \n\" style=\"fill:#541e4e;\"/>\n    <path clip-path=\"url(#p6d303ce28e)\" d=\"M 293.321339 197.376362 \nL 306.075625 197.376362 \nL 306.075625 207.730647 \nL 293.321339 207.730647 \nL 293.321339 197.376362 \n\" style=\"fill:#140e26;\"/>\n    <path clip-path=\"url(#p6d303ce28e)\" d=\"M 306.075625 197.376362 \nL 318.829911 197.376362 \nL 318.829911 207.730647 \nL 306.075625 207.730647 \nL 306.075625 197.376362 \n\" style=\"fill:#0b0920;\"/>\n    <path clip-path=\"url(#p6d303ce28e)\" d=\"M 318.829911 197.376362 \nL 331.584196 197.376362 \nL 331.584196 207.730647 \nL 318.829911 207.730647 \nL 318.829911 197.376362 \n\" style=\"fill:#35193e;\"/>\n    <path clip-path=\"url(#p6d303ce28e)\" d=\"M 331.584196 197.376362 \nL 344.338482 197.376362 \nL 344.338482 207.730647 \nL 331.584196 207.730647 \nL 331.584196 197.376362 \n\" style=\"fill:#541e4e;\"/>\n    <path clip-path=\"url(#p6d303ce28e)\" d=\"M 344.338482 197.376362 \nL 357.092768 197.376362 \nL 357.092768 207.730647 \nL 344.338482 207.730647 \nL 344.338482 197.376362 \n\" style=\"fill:#03051a;\"/>\n    <path clip-path=\"url(#p6d303ce28e)\" d=\"M 357.092768 197.376362 \nL 369.847054 197.376362 \nL 369.847054 207.730647 \nL 357.092768 207.730647 \nL 357.092768 197.376362 \n\" style=\"fill:#faebdd;\"/>\n    <path clip-path=\"url(#p6d303ce28e)\" d=\"M 369.847054 197.376362 \nL 382.601339 197.376362 \nL 382.601339 207.730647 \nL 369.847054 207.730647 \nL 369.847054 197.376362 \n\" style=\"fill:#03051a;\"/>\n    <path clip-path=\"url(#p6d303ce28e)\" d=\"M 382.601339 197.376362 \nL 395.355625 197.376362 \nL 395.355625 207.730647 \nL 382.601339 207.730647 \nL 382.601339 197.376362 \n\" style=\"fill:#110c24;\"/>\n    <path clip-path=\"url(#p6d303ce28e)\" d=\"M 127.515625 207.730647 \nL 140.269911 207.730647 \nL 140.269911 218.084933 \nL 127.515625 218.084933 \nL 127.515625 207.730647 \n\" style=\"fill:#03051a;\"/>\n    <path clip-path=\"url(#p6d303ce28e)\" d=\"M 140.269911 207.730647 \nL 153.024196 207.730647 \nL 153.024196 218.084933 \nL 140.269911 218.084933 \nL 140.269911 207.730647 \n\" style=\"fill:#0d0a21;\"/>\n    <path clip-path=\"url(#p6d303ce28e)\" d=\"M 153.024196 207.730647 \nL 165.778482 207.730647 \nL 165.778482 218.084933 \nL 153.024196 218.084933 \nL 153.024196 207.730647 \n\" style=\"fill:#06071c;\"/>\n    <path clip-path=\"url(#p6d303ce28e)\" d=\"M 165.778482 207.730647 \nL 178.532768 207.730647 \nL 178.532768 218.084933 \nL 165.778482 218.084933 \nL 165.778482 207.730647 \n\" style=\"fill:#0b0920;\"/>\n    <path clip-path=\"url(#p6d303ce28e)\" d=\"M 178.532768 207.730647 \nL 191.287054 207.730647 \nL 191.287054 218.084933 \nL 178.532768 218.084933 \nL 178.532768 207.730647 \n\" style=\"fill:#03051a;\"/>\n    <path clip-path=\"url(#p6d303ce28e)\" d=\"M 191.287054 207.730647 \nL 204.041339 207.730647 \nL 204.041339 218.084933 \nL 191.287054 218.084933 \nL 191.287054 207.730647 \n\" style=\"fill:#05061b;\"/>\n    <path clip-path=\"url(#p6d303ce28e)\" d=\"M 204.041339 207.730647 \nL 216.795625 207.730647 \nL 216.795625 218.084933 \nL 204.041339 218.084933 \nL 204.041339 207.730647 \n\" style=\"fill:#241432;\"/>\n    <path clip-path=\"url(#p6d303ce28e)\" d=\"M 216.795625 207.730647 \nL 229.549911 207.730647 \nL 229.549911 218.084933 \nL 216.795625 218.084933 \nL 216.795625 207.730647 \n\" style=\"fill:#3f1b43;\"/>\n    <path clip-path=\"url(#p6d303ce28e)\" d=\"M 229.549911 207.730647 \nL 242.304196 207.730647 \nL 242.304196 218.084933 \nL 229.549911 218.084933 \nL 229.549911 207.730647 \n\" style=\"fill:none;\"/>\n    <path clip-path=\"url(#p6d303ce28e)\" d=\"M 242.304196 207.730647 \nL 255.058482 207.730647 \nL 255.058482 218.084933 \nL 242.304196 218.084933 \nL 242.304196 207.730647 \n\" style=\"fill:#08081e;\"/>\n    <path clip-path=\"url(#p6d303ce28e)\" d=\"M 255.058482 207.730647 \nL 267.812768 207.730647 \nL 267.812768 218.084933 \nL 255.058482 218.084933 \nL 255.058482 207.730647 \n\" style=\"fill:#04051a;\"/>\n    <path clip-path=\"url(#p6d303ce28e)\" d=\"M 267.812768 207.730647 \nL 280.567054 207.730647 \nL 280.567054 218.084933 \nL 267.812768 218.084933 \nL 267.812768 207.730647 \n\" style=\"fill:#110c24;\"/>\n    <path clip-path=\"url(#p6d303ce28e)\" d=\"M 280.567054 207.730647 \nL 293.321339 207.730647 \nL 293.321339 218.084933 \nL 280.567054 218.084933 \nL 280.567054 207.730647 \n\" style=\"fill:#401b44;\"/>\n    <path clip-path=\"url(#p6d303ce28e)\" d=\"M 293.321339 207.730647 \nL 306.075625 207.730647 \nL 306.075625 218.084933 \nL 293.321339 218.084933 \nL 293.321339 207.730647 \n\" style=\"fill:#08081e;\"/>\n    <path clip-path=\"url(#p6d303ce28e)\" d=\"M 306.075625 207.730647 \nL 318.829911 207.730647 \nL 318.829911 218.084933 \nL 306.075625 218.084933 \nL 306.075625 207.730647 \n\" style=\"fill:#180f29;\"/>\n    <path clip-path=\"url(#p6d303ce28e)\" d=\"M 318.829911 207.730647 \nL 331.584196 207.730647 \nL 331.584196 218.084933 \nL 318.829911 218.084933 \nL 318.829911 207.730647 \n\" style=\"fill:#160e27;\"/>\n    <path clip-path=\"url(#p6d303ce28e)\" d=\"M 331.584196 207.730647 \nL 344.338482 207.730647 \nL 344.338482 218.084933 \nL 331.584196 218.084933 \nL 331.584196 207.730647 \n\" style=\"fill:#0a091f;\"/>\n    <path clip-path=\"url(#p6d303ce28e)\" d=\"M 344.338482 207.730647 \nL 357.092768 207.730647 \nL 357.092768 218.084933 \nL 344.338482 218.084933 \nL 344.338482 207.730647 \n\" style=\"fill:#04051a;\"/>\n    <path clip-path=\"url(#p6d303ce28e)\" d=\"M 357.092768 207.730647 \nL 369.847054 207.730647 \nL 369.847054 218.084933 \nL 357.092768 218.084933 \nL 357.092768 207.730647 \n\" style=\"fill:#03051a;\"/>\n    <path clip-path=\"url(#p6d303ce28e)\" d=\"M 369.847054 207.730647 \nL 382.601339 207.730647 \nL 382.601339 218.084933 \nL 369.847054 218.084933 \nL 369.847054 207.730647 \n\" style=\"fill:#faebdd;\"/>\n    <path clip-path=\"url(#p6d303ce28e)\" d=\"M 382.601339 207.730647 \nL 395.355625 207.730647 \nL 395.355625 218.084933 \nL 382.601339 218.084933 \nL 382.601339 207.730647 \n\" style=\"fill:#170f28;\"/>\n    <path clip-path=\"url(#p6d303ce28e)\" d=\"M 127.515625 218.084933 \nL 140.269911 218.084933 \nL 140.269911 228.439219 \nL 127.515625 228.439219 \nL 127.515625 218.084933 \n\" style=\"fill:#06071c;\"/>\n    <path clip-path=\"url(#p6d303ce28e)\" d=\"M 140.269911 218.084933 \nL 153.024196 218.084933 \nL 153.024196 228.439219 \nL 140.269911 228.439219 \nL 140.269911 218.084933 \n\" style=\"fill:#160e27;\"/>\n    <path clip-path=\"url(#p6d303ce28e)\" d=\"M 153.024196 218.084933 \nL 165.778482 218.084933 \nL 165.778482 228.439219 \nL 153.024196 228.439219 \nL 153.024196 218.084933 \n\" style=\"fill:#1d112c;\"/>\n    <path clip-path=\"url(#p6d303ce28e)\" d=\"M 165.778482 218.084933 \nL 178.532768 218.084933 \nL 178.532768 228.439219 \nL 165.778482 228.439219 \nL 165.778482 218.084933 \n\" style=\"fill:#211330;\"/>\n    <path clip-path=\"url(#p6d303ce28e)\" d=\"M 178.532768 218.084933 \nL 191.287054 218.084933 \nL 191.287054 228.439219 \nL 178.532768 228.439219 \nL 178.532768 218.084933 \n\" style=\"fill:#2d1738;\"/>\n    <path clip-path=\"url(#p6d303ce28e)\" d=\"M 191.287054 218.084933 \nL 204.041339 218.084933 \nL 204.041339 228.439219 \nL 191.287054 228.439219 \nL 191.287054 218.084933 \n\" style=\"fill:#221331;\"/>\n    <path clip-path=\"url(#p6d303ce28e)\" d=\"M 204.041339 218.084933 \nL 216.795625 218.084933 \nL 216.795625 228.439219 \nL 204.041339 228.439219 \nL 204.041339 218.084933 \n\" style=\"fill:#2b1637;\"/>\n    <path clip-path=\"url(#p6d303ce28e)\" d=\"M 216.795625 218.084933 \nL 229.549911 218.084933 \nL 229.549911 228.439219 \nL 216.795625 228.439219 \nL 216.795625 218.084933 \n\" style=\"fill:#04051a;\"/>\n    <path clip-path=\"url(#p6d303ce28e)\" d=\"M 229.549911 218.084933 \nL 242.304196 218.084933 \nL 242.304196 228.439219 \nL 229.549911 228.439219 \nL 229.549911 218.084933 \n\" style=\"fill:none;\"/>\n    <path clip-path=\"url(#p6d303ce28e)\" d=\"M 242.304196 218.084933 \nL 255.058482 218.084933 \nL 255.058482 228.439219 \nL 242.304196 228.439219 \nL 242.304196 218.084933 \n\" style=\"fill:#491d49;\"/>\n    <path clip-path=\"url(#p6d303ce28e)\" d=\"M 255.058482 218.084933 \nL 267.812768 218.084933 \nL 267.812768 228.439219 \nL 255.058482 228.439219 \nL 255.058482 218.084933 \n\" style=\"fill:#03051a;\"/>\n    <path clip-path=\"url(#p6d303ce28e)\" d=\"M 267.812768 218.084933 \nL 280.567054 218.084933 \nL 280.567054 228.439219 \nL 267.812768 228.439219 \nL 267.812768 218.084933 \n\" style=\"fill:#170f28;\"/>\n    <path clip-path=\"url(#p6d303ce28e)\" d=\"M 280.567054 218.084933 \nL 293.321339 218.084933 \nL 293.321339 228.439219 \nL 280.567054 228.439219 \nL 280.567054 218.084933 \n\" style=\"fill:#0a091f;\"/>\n    <path clip-path=\"url(#p6d303ce28e)\" d=\"M 293.321339 218.084933 \nL 306.075625 218.084933 \nL 306.075625 228.439219 \nL 293.321339 228.439219 \nL 293.321339 218.084933 \n\" style=\"fill:#0d0a21;\"/>\n    <path clip-path=\"url(#p6d303ce28e)\" d=\"M 306.075625 218.084933 \nL 318.829911 218.084933 \nL 318.829911 228.439219 \nL 306.075625 228.439219 \nL 306.075625 218.084933 \n\" style=\"fill:#431c46;\"/>\n    <path clip-path=\"url(#p6d303ce28e)\" d=\"M 318.829911 218.084933 \nL 331.584196 218.084933 \nL 331.584196 228.439219 \nL 318.829911 228.439219 \nL 318.829911 218.084933 \n\" style=\"fill:#501d4c;\"/>\n    <path clip-path=\"url(#p6d303ce28e)\" d=\"M 331.584196 218.084933 \nL 344.338482 218.084933 \nL 344.338482 228.439219 \nL 331.584196 228.439219 \nL 331.584196 218.084933 \n\" style=\"fill:#271534;\"/>\n    <path clip-path=\"url(#p6d303ce28e)\" d=\"M 344.338482 218.084933 \nL 357.092768 218.084933 \nL 357.092768 228.439219 \nL 344.338482 228.439219 \nL 344.338482 218.084933 \n\" style=\"fill:#06071c;\"/>\n    <path clip-path=\"url(#p6d303ce28e)\" d=\"M 357.092768 218.084933 \nL 369.847054 218.084933 \nL 369.847054 228.439219 \nL 357.092768 228.439219 \nL 357.092768 218.084933 \n\" style=\"fill:#110c24;\"/>\n    <path clip-path=\"url(#p6d303ce28e)\" d=\"M 369.847054 218.084933 \nL 382.601339 218.084933 \nL 382.601339 228.439219 \nL 369.847054 228.439219 \nL 369.847054 218.084933 \n\" style=\"fill:#170f28;\"/>\n    <path clip-path=\"url(#p6d303ce28e)\" d=\"M 382.601339 218.084933 \nL 395.355625 218.084933 \nL 395.355625 228.439219 \nL 382.601339 228.439219 \nL 382.601339 218.084933 \n\" style=\"fill:#faebdd;\"/>\n   </g>\n   <g id=\"matplotlib.axis_1\">\n    <g id=\"xtick_1\">\n     <g id=\"line2d_1\">\n      <defs>\n       <path d=\"M 0 0 \nL 0 3.5 \n\" id=\"mc374cc2959\" style=\"stroke:#000000;stroke-width:0.8;\"/>\n      </defs>\n      <g>\n       <use style=\"stroke:#000000;stroke-width:0.8;\" x=\"133.892768\" xlink:href=\"#mc374cc2959\" y=\"228.439219\"/>\n      </g>\n     </g>\n     <g id=\"text_1\">\n      <!-- urlid -->\n      <defs>\n       <path d=\"M 8.5 21.578125 \nL 8.5 54.6875 \nL 17.484375 54.6875 \nL 17.484375 21.921875 \nQ 17.484375 14.15625 20.5 10.265625 \nQ 23.53125 6.390625 29.59375 6.390625 \nQ 36.859375 6.390625 41.078125 11.03125 \nQ 45.3125 15.671875 45.3125 23.6875 \nL 45.3125 54.6875 \nL 54.296875 54.6875 \nL 54.296875 0 \nL 45.3125 0 \nL 45.3125 8.40625 \nQ 42.046875 3.421875 37.71875 1 \nQ 33.40625 -1.421875 27.6875 -1.421875 \nQ 18.265625 -1.421875 13.375 4.4375 \nQ 8.5 10.296875 8.5 21.578125 \nz\nM 31.109375 56 \nz\n\" id=\"DejaVuSans-117\"/>\n       <path d=\"M 41.109375 46.296875 \nQ 39.59375 47.171875 37.8125 47.578125 \nQ 36.03125 48 33.890625 48 \nQ 26.265625 48 22.1875 43.046875 \nQ 18.109375 38.09375 18.109375 28.8125 \nL 18.109375 0 \nL 9.078125 0 \nL 9.078125 54.6875 \nL 18.109375 54.6875 \nL 18.109375 46.1875 \nQ 20.953125 51.171875 25.484375 53.578125 \nQ 30.03125 56 36.53125 56 \nQ 37.453125 56 38.578125 55.875 \nQ 39.703125 55.765625 41.0625 55.515625 \nz\n\" id=\"DejaVuSans-114\"/>\n       <path d=\"M 9.421875 75.984375 \nL 18.40625 75.984375 \nL 18.40625 0 \nL 9.421875 0 \nz\n\" id=\"DejaVuSans-108\"/>\n       <path d=\"M 9.421875 54.6875 \nL 18.40625 54.6875 \nL 18.40625 0 \nL 9.421875 0 \nz\nM 9.421875 75.984375 \nL 18.40625 75.984375 \nL 18.40625 64.59375 \nL 9.421875 64.59375 \nz\n\" id=\"DejaVuSans-105\"/>\n       <path d=\"M 45.40625 46.390625 \nL 45.40625 75.984375 \nL 54.390625 75.984375 \nL 54.390625 0 \nL 45.40625 0 \nL 45.40625 8.203125 \nQ 42.578125 3.328125 38.25 0.953125 \nQ 33.9375 -1.421875 27.875 -1.421875 \nQ 17.96875 -1.421875 11.734375 6.484375 \nQ 5.515625 14.40625 5.515625 27.296875 \nQ 5.515625 40.1875 11.734375 48.09375 \nQ 17.96875 56 27.875 56 \nQ 33.9375 56 38.25 53.625 \nQ 42.578125 51.265625 45.40625 46.390625 \nz\nM 14.796875 27.296875 \nQ 14.796875 17.390625 18.875 11.75 \nQ 22.953125 6.109375 30.078125 6.109375 \nQ 37.203125 6.109375 41.296875 11.75 \nQ 45.40625 17.390625 45.40625 27.296875 \nQ 45.40625 37.203125 41.296875 42.84375 \nQ 37.203125 48.484375 30.078125 48.484375 \nQ 22.953125 48.484375 18.875 42.84375 \nQ 14.796875 37.203125 14.796875 27.296875 \nz\n\" id=\"DejaVuSans-100\"/>\n      </defs>\n      <g transform=\"translate(136.652143 257.792344)rotate(-90)scale(0.1 -0.1)\">\n       <use xlink:href=\"#DejaVuSans-117\"/>\n       <use x=\"63.378906\" xlink:href=\"#DejaVuSans-114\"/>\n       <use x=\"104.492188\" xlink:href=\"#DejaVuSans-108\"/>\n       <use x=\"132.275391\" xlink:href=\"#DejaVuSans-105\"/>\n       <use x=\"160.058594\" xlink:href=\"#DejaVuSans-100\"/>\n      </g>\n     </g>\n    </g>\n    <g id=\"xtick_2\">\n     <g id=\"line2d_2\">\n      <g>\n       <use style=\"stroke:#000000;stroke-width:0.8;\" x=\"146.647054\" xlink:href=\"#mc374cc2959\" y=\"228.439219\"/>\n      </g>\n     </g>\n     <g id=\"text_2\">\n      <!-- avglinksize -->\n      <defs>\n       <path d=\"M 34.28125 27.484375 \nQ 23.390625 27.484375 19.1875 25 \nQ 14.984375 22.515625 14.984375 16.5 \nQ 14.984375 11.71875 18.140625 8.90625 \nQ 21.296875 6.109375 26.703125 6.109375 \nQ 34.1875 6.109375 38.703125 11.40625 \nQ 43.21875 16.703125 43.21875 25.484375 \nL 43.21875 27.484375 \nz\nM 52.203125 31.203125 \nL 52.203125 0 \nL 43.21875 0 \nL 43.21875 8.296875 \nQ 40.140625 3.328125 35.546875 0.953125 \nQ 30.953125 -1.421875 24.3125 -1.421875 \nQ 15.921875 -1.421875 10.953125 3.296875 \nQ 6 8.015625 6 15.921875 \nQ 6 25.140625 12.171875 29.828125 \nQ 18.359375 34.515625 30.609375 34.515625 \nL 43.21875 34.515625 \nL 43.21875 35.40625 \nQ 43.21875 41.609375 39.140625 45 \nQ 35.0625 48.390625 27.6875 48.390625 \nQ 23 48.390625 18.546875 47.265625 \nQ 14.109375 46.140625 10.015625 43.890625 \nL 10.015625 52.203125 \nQ 14.9375 54.109375 19.578125 55.046875 \nQ 24.21875 56 28.609375 56 \nQ 40.484375 56 46.34375 49.84375 \nQ 52.203125 43.703125 52.203125 31.203125 \nz\n\" id=\"DejaVuSans-97\"/>\n       <path d=\"M 2.984375 54.6875 \nL 12.5 54.6875 \nL 29.59375 8.796875 \nL 46.6875 54.6875 \nL 56.203125 54.6875 \nL 35.6875 0 \nL 23.484375 0 \nz\n\" id=\"DejaVuSans-118\"/>\n       <path d=\"M 45.40625 27.984375 \nQ 45.40625 37.75 41.375 43.109375 \nQ 37.359375 48.484375 30.078125 48.484375 \nQ 22.859375 48.484375 18.828125 43.109375 \nQ 14.796875 37.75 14.796875 27.984375 \nQ 14.796875 18.265625 18.828125 12.890625 \nQ 22.859375 7.515625 30.078125 7.515625 \nQ 37.359375 7.515625 41.375 12.890625 \nQ 45.40625 18.265625 45.40625 27.984375 \nz\nM 54.390625 6.78125 \nQ 54.390625 -7.171875 48.1875 -13.984375 \nQ 42 -20.796875 29.203125 -20.796875 \nQ 24.46875 -20.796875 20.265625 -20.09375 \nQ 16.0625 -19.390625 12.109375 -17.921875 \nL 12.109375 -9.1875 \nQ 16.0625 -11.328125 19.921875 -12.34375 \nQ 23.78125 -13.375 27.78125 -13.375 \nQ 36.625 -13.375 41.015625 -8.765625 \nQ 45.40625 -4.15625 45.40625 5.171875 \nL 45.40625 9.625 \nQ 42.625 4.78125 38.28125 2.390625 \nQ 33.9375 0 27.875 0 \nQ 17.828125 0 11.671875 7.65625 \nQ 5.515625 15.328125 5.515625 27.984375 \nQ 5.515625 40.671875 11.671875 48.328125 \nQ 17.828125 56 27.875 56 \nQ 33.9375 56 38.28125 53.609375 \nQ 42.625 51.21875 45.40625 46.390625 \nL 45.40625 54.6875 \nL 54.390625 54.6875 \nz\n\" id=\"DejaVuSans-103\"/>\n       <path d=\"M 54.890625 33.015625 \nL 54.890625 0 \nL 45.90625 0 \nL 45.90625 32.71875 \nQ 45.90625 40.484375 42.875 44.328125 \nQ 39.84375 48.1875 33.796875 48.1875 \nQ 26.515625 48.1875 22.3125 43.546875 \nQ 18.109375 38.921875 18.109375 30.90625 \nL 18.109375 0 \nL 9.078125 0 \nL 9.078125 54.6875 \nL 18.109375 54.6875 \nL 18.109375 46.1875 \nQ 21.34375 51.125 25.703125 53.5625 \nQ 30.078125 56 35.796875 56 \nQ 45.21875 56 50.046875 50.171875 \nQ 54.890625 44.34375 54.890625 33.015625 \nz\n\" id=\"DejaVuSans-110\"/>\n       <path d=\"M 9.078125 75.984375 \nL 18.109375 75.984375 \nL 18.109375 31.109375 \nL 44.921875 54.6875 \nL 56.390625 54.6875 \nL 27.390625 29.109375 \nL 57.625 0 \nL 45.90625 0 \nL 18.109375 26.703125 \nL 18.109375 0 \nL 9.078125 0 \nz\n\" id=\"DejaVuSans-107\"/>\n       <path d=\"M 44.28125 53.078125 \nL 44.28125 44.578125 \nQ 40.484375 46.53125 36.375 47.5 \nQ 32.28125 48.484375 27.875 48.484375 \nQ 21.1875 48.484375 17.84375 46.4375 \nQ 14.5 44.390625 14.5 40.28125 \nQ 14.5 37.15625 16.890625 35.375 \nQ 19.28125 33.59375 26.515625 31.984375 \nL 29.59375 31.296875 \nQ 39.15625 29.25 43.1875 25.515625 \nQ 47.21875 21.78125 47.21875 15.09375 \nQ 47.21875 7.46875 41.1875 3.015625 \nQ 35.15625 -1.421875 24.609375 -1.421875 \nQ 20.21875 -1.421875 15.453125 -0.5625 \nQ 10.6875 0.296875 5.421875 2 \nL 5.421875 11.28125 \nQ 10.40625 8.6875 15.234375 7.390625 \nQ 20.0625 6.109375 24.8125 6.109375 \nQ 31.15625 6.109375 34.5625 8.28125 \nQ 37.984375 10.453125 37.984375 14.40625 \nQ 37.984375 18.0625 35.515625 20.015625 \nQ 33.0625 21.96875 24.703125 23.78125 \nL 21.578125 24.515625 \nQ 13.234375 26.265625 9.515625 29.90625 \nQ 5.8125 33.546875 5.8125 39.890625 \nQ 5.8125 47.609375 11.28125 51.796875 \nQ 16.75 56 26.8125 56 \nQ 31.78125 56 36.171875 55.265625 \nQ 40.578125 54.546875 44.28125 53.078125 \nz\n\" id=\"DejaVuSans-115\"/>\n       <path d=\"M 5.515625 54.6875 \nL 48.1875 54.6875 \nL 48.1875 46.484375 \nL 14.40625 7.171875 \nL 48.1875 7.171875 \nL 48.1875 0 \nL 4.296875 0 \nL 4.296875 8.203125 \nL 38.09375 47.515625 \nL 5.515625 47.515625 \nz\n\" id=\"DejaVuSans-122\"/>\n       <path d=\"M 56.203125 29.59375 \nL 56.203125 25.203125 \nL 14.890625 25.203125 \nQ 15.484375 15.921875 20.484375 11.0625 \nQ 25.484375 6.203125 34.421875 6.203125 \nQ 39.59375 6.203125 44.453125 7.46875 \nQ 49.3125 8.734375 54.109375 11.28125 \nL 54.109375 2.78125 \nQ 49.265625 0.734375 44.1875 -0.34375 \nQ 39.109375 -1.421875 33.890625 -1.421875 \nQ 20.796875 -1.421875 13.15625 6.1875 \nQ 5.515625 13.8125 5.515625 26.8125 \nQ 5.515625 40.234375 12.765625 48.109375 \nQ 20.015625 56 32.328125 56 \nQ 43.359375 56 49.78125 48.890625 \nQ 56.203125 41.796875 56.203125 29.59375 \nz\nM 47.21875 32.234375 \nQ 47.125 39.59375 43.09375 43.984375 \nQ 39.0625 48.390625 32.421875 48.390625 \nQ 24.90625 48.390625 20.390625 44.140625 \nQ 15.875 39.890625 15.1875 32.171875 \nz\n\" id=\"DejaVuSans-101\"/>\n      </defs>\n      <g transform=\"translate(149.406429 290.907969)rotate(-90)scale(0.1 -0.1)\">\n       <use xlink:href=\"#DejaVuSans-97\"/>\n       <use x=\"61.279297\" xlink:href=\"#DejaVuSans-118\"/>\n       <use x=\"120.458984\" xlink:href=\"#DejaVuSans-103\"/>\n       <use x=\"183.935547\" xlink:href=\"#DejaVuSans-108\"/>\n       <use x=\"211.71875\" xlink:href=\"#DejaVuSans-105\"/>\n       <use x=\"239.501953\" xlink:href=\"#DejaVuSans-110\"/>\n       <use x=\"302.880859\" xlink:href=\"#DejaVuSans-107\"/>\n       <use x=\"360.791016\" xlink:href=\"#DejaVuSans-115\"/>\n       <use x=\"412.890625\" xlink:href=\"#DejaVuSans-105\"/>\n       <use x=\"440.673828\" xlink:href=\"#DejaVuSans-122\"/>\n       <use x=\"493.164062\" xlink:href=\"#DejaVuSans-101\"/>\n      </g>\n     </g>\n    </g>\n    <g id=\"xtick_3\">\n     <g id=\"line2d_3\">\n      <g>\n       <use style=\"stroke:#000000;stroke-width:0.8;\" x=\"159.401339\" xlink:href=\"#mc374cc2959\" y=\"228.439219\"/>\n      </g>\n     </g>\n     <g id=\"text_3\">\n      <!-- commonlinkratio_1 -->\n      <defs>\n       <path d=\"M 48.78125 52.59375 \nL 48.78125 44.1875 \nQ 44.96875 46.296875 41.140625 47.34375 \nQ 37.3125 48.390625 33.40625 48.390625 \nQ 24.65625 48.390625 19.8125 42.84375 \nQ 14.984375 37.3125 14.984375 27.296875 \nQ 14.984375 17.28125 19.8125 11.734375 \nQ 24.65625 6.203125 33.40625 6.203125 \nQ 37.3125 6.203125 41.140625 7.25 \nQ 44.96875 8.296875 48.78125 10.40625 \nL 48.78125 2.09375 \nQ 45.015625 0.34375 40.984375 -0.53125 \nQ 36.96875 -1.421875 32.421875 -1.421875 \nQ 20.0625 -1.421875 12.78125 6.34375 \nQ 5.515625 14.109375 5.515625 27.296875 \nQ 5.515625 40.671875 12.859375 48.328125 \nQ 20.21875 56 33.015625 56 \nQ 37.15625 56 41.109375 55.140625 \nQ 45.0625 54.296875 48.78125 52.59375 \nz\n\" id=\"DejaVuSans-99\"/>\n       <path d=\"M 30.609375 48.390625 \nQ 23.390625 48.390625 19.1875 42.75 \nQ 14.984375 37.109375 14.984375 27.296875 \nQ 14.984375 17.484375 19.15625 11.84375 \nQ 23.34375 6.203125 30.609375 6.203125 \nQ 37.796875 6.203125 41.984375 11.859375 \nQ 46.1875 17.53125 46.1875 27.296875 \nQ 46.1875 37.015625 41.984375 42.703125 \nQ 37.796875 48.390625 30.609375 48.390625 \nz\nM 30.609375 56 \nQ 42.328125 56 49.015625 48.375 \nQ 55.71875 40.765625 55.71875 27.296875 \nQ 55.71875 13.875 49.015625 6.21875 \nQ 42.328125 -1.421875 30.609375 -1.421875 \nQ 18.84375 -1.421875 12.171875 6.21875 \nQ 5.515625 13.875 5.515625 27.296875 \nQ 5.515625 40.765625 12.171875 48.375 \nQ 18.84375 56 30.609375 56 \nz\n\" id=\"DejaVuSans-111\"/>\n       <path d=\"M 52 44.1875 \nQ 55.375 50.25 60.0625 53.125 \nQ 64.75 56 71.09375 56 \nQ 79.640625 56 84.28125 50.015625 \nQ 88.921875 44.046875 88.921875 33.015625 \nL 88.921875 0 \nL 79.890625 0 \nL 79.890625 32.71875 \nQ 79.890625 40.578125 77.09375 44.375 \nQ 74.3125 48.1875 68.609375 48.1875 \nQ 61.625 48.1875 57.5625 43.546875 \nQ 53.515625 38.921875 53.515625 30.90625 \nL 53.515625 0 \nL 44.484375 0 \nL 44.484375 32.71875 \nQ 44.484375 40.625 41.703125 44.40625 \nQ 38.921875 48.1875 33.109375 48.1875 \nQ 26.21875 48.1875 22.15625 43.53125 \nQ 18.109375 38.875 18.109375 30.90625 \nL 18.109375 0 \nL 9.078125 0 \nL 9.078125 54.6875 \nL 18.109375 54.6875 \nL 18.109375 46.1875 \nQ 21.1875 51.21875 25.484375 53.609375 \nQ 29.78125 56 35.6875 56 \nQ 41.65625 56 45.828125 52.96875 \nQ 50 49.953125 52 44.1875 \nz\n\" id=\"DejaVuSans-109\"/>\n       <path d=\"M 18.3125 70.21875 \nL 18.3125 54.6875 \nL 36.8125 54.6875 \nL 36.8125 47.703125 \nL 18.3125 47.703125 \nL 18.3125 18.015625 \nQ 18.3125 11.328125 20.140625 9.421875 \nQ 21.96875 7.515625 27.59375 7.515625 \nL 36.8125 7.515625 \nL 36.8125 0 \nL 27.59375 0 \nQ 17.1875 0 13.234375 3.875 \nQ 9.28125 7.765625 9.28125 18.015625 \nL 9.28125 47.703125 \nL 2.6875 47.703125 \nL 2.6875 54.6875 \nL 9.28125 54.6875 \nL 9.28125 70.21875 \nz\n\" id=\"DejaVuSans-116\"/>\n       <path d=\"M 50.984375 -16.609375 \nL 50.984375 -23.578125 \nL -0.984375 -23.578125 \nL -0.984375 -16.609375 \nz\n\" id=\"DejaVuSans-95\"/>\n       <path d=\"M 12.40625 8.296875 \nL 28.515625 8.296875 \nL 28.515625 63.921875 \nL 10.984375 60.40625 \nL 10.984375 69.390625 \nL 28.421875 72.90625 \nL 38.28125 72.90625 \nL 38.28125 8.296875 \nL 54.390625 8.296875 \nL 54.390625 0 \nL 12.40625 0 \nz\n\" id=\"DejaVuSans-49\"/>\n      </defs>\n      <g transform=\"translate(162.021652 331.097031)rotate(-90)scale(0.1 -0.1)\">\n       <use xlink:href=\"#DejaVuSans-99\"/>\n       <use x=\"54.980469\" xlink:href=\"#DejaVuSans-111\"/>\n       <use x=\"116.162109\" xlink:href=\"#DejaVuSans-109\"/>\n       <use x=\"213.574219\" xlink:href=\"#DejaVuSans-109\"/>\n       <use x=\"310.986328\" xlink:href=\"#DejaVuSans-111\"/>\n       <use x=\"372.167969\" xlink:href=\"#DejaVuSans-110\"/>\n       <use x=\"435.546875\" xlink:href=\"#DejaVuSans-108\"/>\n       <use x=\"463.330078\" xlink:href=\"#DejaVuSans-105\"/>\n       <use x=\"491.113281\" xlink:href=\"#DejaVuSans-110\"/>\n       <use x=\"554.492188\" xlink:href=\"#DejaVuSans-107\"/>\n       <use x=\"612.402344\" xlink:href=\"#DejaVuSans-114\"/>\n       <use x=\"653.515625\" xlink:href=\"#DejaVuSans-97\"/>\n       <use x=\"714.794922\" xlink:href=\"#DejaVuSans-116\"/>\n       <use x=\"754.003906\" xlink:href=\"#DejaVuSans-105\"/>\n       <use x=\"781.787109\" xlink:href=\"#DejaVuSans-111\"/>\n       <use x=\"842.96875\" xlink:href=\"#DejaVuSans-95\"/>\n       <use x=\"892.96875\" xlink:href=\"#DejaVuSans-49\"/>\n      </g>\n     </g>\n    </g>\n    <g id=\"xtick_4\">\n     <g id=\"line2d_4\">\n      <g>\n       <use style=\"stroke:#000000;stroke-width:0.8;\" x=\"172.155625\" xlink:href=\"#mc374cc2959\" y=\"228.439219\"/>\n      </g>\n     </g>\n     <g id=\"text_4\">\n      <!-- commonlinkratio_2 -->\n      <defs>\n       <path d=\"M 19.1875 8.296875 \nL 53.609375 8.296875 \nL 53.609375 0 \nL 7.328125 0 \nL 7.328125 8.296875 \nQ 12.9375 14.109375 22.625 23.890625 \nQ 32.328125 33.6875 34.8125 36.53125 \nQ 39.546875 41.84375 41.421875 45.53125 \nQ 43.3125 49.21875 43.3125 52.78125 \nQ 43.3125 58.59375 39.234375 62.25 \nQ 35.15625 65.921875 28.609375 65.921875 \nQ 23.96875 65.921875 18.8125 64.3125 \nQ 13.671875 62.703125 7.8125 59.421875 \nL 7.8125 69.390625 \nQ 13.765625 71.78125 18.9375 73 \nQ 24.125 74.21875 28.421875 74.21875 \nQ 39.75 74.21875 46.484375 68.546875 \nQ 53.21875 62.890625 53.21875 53.421875 \nQ 53.21875 48.921875 51.53125 44.890625 \nQ 49.859375 40.875 45.40625 35.40625 \nQ 44.1875 33.984375 37.640625 27.21875 \nQ 31.109375 20.453125 19.1875 8.296875 \nz\n\" id=\"DejaVuSans-50\"/>\n      </defs>\n      <g transform=\"translate(174.775937 331.097031)rotate(-90)scale(0.1 -0.1)\">\n       <use xlink:href=\"#DejaVuSans-99\"/>\n       <use x=\"54.980469\" xlink:href=\"#DejaVuSans-111\"/>\n       <use x=\"116.162109\" xlink:href=\"#DejaVuSans-109\"/>\n       <use x=\"213.574219\" xlink:href=\"#DejaVuSans-109\"/>\n       <use x=\"310.986328\" xlink:href=\"#DejaVuSans-111\"/>\n       <use x=\"372.167969\" xlink:href=\"#DejaVuSans-110\"/>\n       <use x=\"435.546875\" xlink:href=\"#DejaVuSans-108\"/>\n       <use x=\"463.330078\" xlink:href=\"#DejaVuSans-105\"/>\n       <use x=\"491.113281\" xlink:href=\"#DejaVuSans-110\"/>\n       <use x=\"554.492188\" xlink:href=\"#DejaVuSans-107\"/>\n       <use x=\"612.402344\" xlink:href=\"#DejaVuSans-114\"/>\n       <use x=\"653.515625\" xlink:href=\"#DejaVuSans-97\"/>\n       <use x=\"714.794922\" xlink:href=\"#DejaVuSans-116\"/>\n       <use x=\"754.003906\" xlink:href=\"#DejaVuSans-105\"/>\n       <use x=\"781.787109\" xlink:href=\"#DejaVuSans-111\"/>\n       <use x=\"842.96875\" xlink:href=\"#DejaVuSans-95\"/>\n       <use x=\"892.96875\" xlink:href=\"#DejaVuSans-50\"/>\n      </g>\n     </g>\n    </g>\n    <g id=\"xtick_5\">\n     <g id=\"line2d_5\">\n      <g>\n       <use style=\"stroke:#000000;stroke-width:0.8;\" x=\"184.909911\" xlink:href=\"#mc374cc2959\" y=\"228.439219\"/>\n      </g>\n     </g>\n     <g id=\"text_5\">\n      <!-- commonlinkratio_3 -->\n      <defs>\n       <path d=\"M 40.578125 39.3125 \nQ 47.65625 37.796875 51.625 33 \nQ 55.609375 28.21875 55.609375 21.1875 \nQ 55.609375 10.40625 48.1875 4.484375 \nQ 40.765625 -1.421875 27.09375 -1.421875 \nQ 22.515625 -1.421875 17.65625 -0.515625 \nQ 12.796875 0.390625 7.625 2.203125 \nL 7.625 11.71875 \nQ 11.71875 9.328125 16.59375 8.109375 \nQ 21.484375 6.890625 26.8125 6.890625 \nQ 36.078125 6.890625 40.9375 10.546875 \nQ 45.796875 14.203125 45.796875 21.1875 \nQ 45.796875 27.640625 41.28125 31.265625 \nQ 36.765625 34.90625 28.71875 34.90625 \nL 20.21875 34.90625 \nL 20.21875 43.015625 \nL 29.109375 43.015625 \nQ 36.375 43.015625 40.234375 45.921875 \nQ 44.09375 48.828125 44.09375 54.296875 \nQ 44.09375 59.90625 40.109375 62.90625 \nQ 36.140625 65.921875 28.71875 65.921875 \nQ 24.65625 65.921875 20.015625 65.03125 \nQ 15.375 64.15625 9.8125 62.3125 \nL 9.8125 71.09375 \nQ 15.4375 72.65625 20.34375 73.4375 \nQ 25.25 74.21875 29.59375 74.21875 \nQ 40.828125 74.21875 47.359375 69.109375 \nQ 53.90625 64.015625 53.90625 55.328125 \nQ 53.90625 49.265625 50.4375 45.09375 \nQ 46.96875 40.921875 40.578125 39.3125 \nz\n\" id=\"DejaVuSans-51\"/>\n      </defs>\n      <g transform=\"translate(187.530223 331.097031)rotate(-90)scale(0.1 -0.1)\">\n       <use xlink:href=\"#DejaVuSans-99\"/>\n       <use x=\"54.980469\" xlink:href=\"#DejaVuSans-111\"/>\n       <use x=\"116.162109\" xlink:href=\"#DejaVuSans-109\"/>\n       <use x=\"213.574219\" xlink:href=\"#DejaVuSans-109\"/>\n       <use x=\"310.986328\" xlink:href=\"#DejaVuSans-111\"/>\n       <use x=\"372.167969\" xlink:href=\"#DejaVuSans-110\"/>\n       <use x=\"435.546875\" xlink:href=\"#DejaVuSans-108\"/>\n       <use x=\"463.330078\" xlink:href=\"#DejaVuSans-105\"/>\n       <use x=\"491.113281\" xlink:href=\"#DejaVuSans-110\"/>\n       <use x=\"554.492188\" xlink:href=\"#DejaVuSans-107\"/>\n       <use x=\"612.402344\" xlink:href=\"#DejaVuSans-114\"/>\n       <use x=\"653.515625\" xlink:href=\"#DejaVuSans-97\"/>\n       <use x=\"714.794922\" xlink:href=\"#DejaVuSans-116\"/>\n       <use x=\"754.003906\" xlink:href=\"#DejaVuSans-105\"/>\n       <use x=\"781.787109\" xlink:href=\"#DejaVuSans-111\"/>\n       <use x=\"842.96875\" xlink:href=\"#DejaVuSans-95\"/>\n       <use x=\"892.96875\" xlink:href=\"#DejaVuSans-51\"/>\n      </g>\n     </g>\n    </g>\n    <g id=\"xtick_6\">\n     <g id=\"line2d_6\">\n      <g>\n       <use style=\"stroke:#000000;stroke-width:0.8;\" x=\"197.664196\" xlink:href=\"#mc374cc2959\" y=\"228.439219\"/>\n      </g>\n     </g>\n     <g id=\"text_6\">\n      <!-- commonlinkratio_4 -->\n      <defs>\n       <path d=\"M 37.796875 64.3125 \nL 12.890625 25.390625 \nL 37.796875 25.390625 \nz\nM 35.203125 72.90625 \nL 47.609375 72.90625 \nL 47.609375 25.390625 \nL 58.015625 25.390625 \nL 58.015625 17.1875 \nL 47.609375 17.1875 \nL 47.609375 0 \nL 37.796875 0 \nL 37.796875 17.1875 \nL 4.890625 17.1875 \nL 4.890625 26.703125 \nz\n\" id=\"DejaVuSans-52\"/>\n      </defs>\n      <g transform=\"translate(200.284509 331.097031)rotate(-90)scale(0.1 -0.1)\">\n       <use xlink:href=\"#DejaVuSans-99\"/>\n       <use x=\"54.980469\" xlink:href=\"#DejaVuSans-111\"/>\n       <use x=\"116.162109\" xlink:href=\"#DejaVuSans-109\"/>\n       <use x=\"213.574219\" xlink:href=\"#DejaVuSans-109\"/>\n       <use x=\"310.986328\" xlink:href=\"#DejaVuSans-111\"/>\n       <use x=\"372.167969\" xlink:href=\"#DejaVuSans-110\"/>\n       <use x=\"435.546875\" xlink:href=\"#DejaVuSans-108\"/>\n       <use x=\"463.330078\" xlink:href=\"#DejaVuSans-105\"/>\n       <use x=\"491.113281\" xlink:href=\"#DejaVuSans-110\"/>\n       <use x=\"554.492188\" xlink:href=\"#DejaVuSans-107\"/>\n       <use x=\"612.402344\" xlink:href=\"#DejaVuSans-114\"/>\n       <use x=\"653.515625\" xlink:href=\"#DejaVuSans-97\"/>\n       <use x=\"714.794922\" xlink:href=\"#DejaVuSans-116\"/>\n       <use x=\"754.003906\" xlink:href=\"#DejaVuSans-105\"/>\n       <use x=\"781.787109\" xlink:href=\"#DejaVuSans-111\"/>\n       <use x=\"842.96875\" xlink:href=\"#DejaVuSans-95\"/>\n       <use x=\"892.96875\" xlink:href=\"#DejaVuSans-52\"/>\n      </g>\n     </g>\n    </g>\n    <g id=\"xtick_7\">\n     <g id=\"line2d_7\">\n      <g>\n       <use style=\"stroke:#000000;stroke-width:0.8;\" x=\"210.418482\" xlink:href=\"#mc374cc2959\" y=\"228.439219\"/>\n      </g>\n     </g>\n     <g id=\"text_7\">\n      <!-- compression_ratio -->\n      <defs>\n       <path d=\"M 18.109375 8.203125 \nL 18.109375 -20.796875 \nL 9.078125 -20.796875 \nL 9.078125 54.6875 \nL 18.109375 54.6875 \nL 18.109375 46.390625 \nQ 20.953125 51.265625 25.265625 53.625 \nQ 29.59375 56 35.59375 56 \nQ 45.5625 56 51.78125 48.09375 \nQ 58.015625 40.1875 58.015625 27.296875 \nQ 58.015625 14.40625 51.78125 6.484375 \nQ 45.5625 -1.421875 35.59375 -1.421875 \nQ 29.59375 -1.421875 25.265625 0.953125 \nQ 20.953125 3.328125 18.109375 8.203125 \nz\nM 48.6875 27.296875 \nQ 48.6875 37.203125 44.609375 42.84375 \nQ 40.53125 48.484375 33.40625 48.484375 \nQ 26.265625 48.484375 22.1875 42.84375 \nQ 18.109375 37.203125 18.109375 27.296875 \nQ 18.109375 17.390625 22.1875 11.75 \nQ 26.265625 6.109375 33.40625 6.109375 \nQ 40.53125 6.109375 44.609375 11.75 \nQ 48.6875 17.390625 48.6875 27.296875 \nz\n\" id=\"DejaVuSans-112\"/>\n      </defs>\n      <g transform=\"translate(213.038795 326.893906)rotate(-90)scale(0.1 -0.1)\">\n       <use xlink:href=\"#DejaVuSans-99\"/>\n       <use x=\"54.980469\" xlink:href=\"#DejaVuSans-111\"/>\n       <use x=\"116.162109\" xlink:href=\"#DejaVuSans-109\"/>\n       <use x=\"213.574219\" xlink:href=\"#DejaVuSans-112\"/>\n       <use x=\"277.050781\" xlink:href=\"#DejaVuSans-114\"/>\n       <use x=\"315.914062\" xlink:href=\"#DejaVuSans-101\"/>\n       <use x=\"377.4375\" xlink:href=\"#DejaVuSans-115\"/>\n       <use x=\"429.537109\" xlink:href=\"#DejaVuSans-115\"/>\n       <use x=\"481.636719\" xlink:href=\"#DejaVuSans-105\"/>\n       <use x=\"509.419922\" xlink:href=\"#DejaVuSans-111\"/>\n       <use x=\"570.601562\" xlink:href=\"#DejaVuSans-110\"/>\n       <use x=\"633.980469\" xlink:href=\"#DejaVuSans-95\"/>\n       <use x=\"683.980469\" xlink:href=\"#DejaVuSans-114\"/>\n       <use x=\"725.09375\" xlink:href=\"#DejaVuSans-97\"/>\n       <use x=\"786.373047\" xlink:href=\"#DejaVuSans-116\"/>\n       <use x=\"825.582031\" xlink:href=\"#DejaVuSans-105\"/>\n       <use x=\"853.365234\" xlink:href=\"#DejaVuSans-111\"/>\n      </g>\n     </g>\n    </g>\n    <g id=\"xtick_8\">\n     <g id=\"line2d_8\">\n      <g>\n       <use style=\"stroke:#000000;stroke-width:0.8;\" x=\"223.172768\" xlink:href=\"#mc374cc2959\" y=\"228.439219\"/>\n      </g>\n     </g>\n     <g id=\"text_8\">\n      <!-- embed_ratio -->\n      <defs>\n       <path d=\"M 48.6875 27.296875 \nQ 48.6875 37.203125 44.609375 42.84375 \nQ 40.53125 48.484375 33.40625 48.484375 \nQ 26.265625 48.484375 22.1875 42.84375 \nQ 18.109375 37.203125 18.109375 27.296875 \nQ 18.109375 17.390625 22.1875 11.75 \nQ 26.265625 6.109375 33.40625 6.109375 \nQ 40.53125 6.109375 44.609375 11.75 \nQ 48.6875 17.390625 48.6875 27.296875 \nz\nM 18.109375 46.390625 \nQ 20.953125 51.265625 25.265625 53.625 \nQ 29.59375 56 35.59375 56 \nQ 45.5625 56 51.78125 48.09375 \nQ 58.015625 40.1875 58.015625 27.296875 \nQ 58.015625 14.40625 51.78125 6.484375 \nQ 45.5625 -1.421875 35.59375 -1.421875 \nQ 29.59375 -1.421875 25.265625 0.953125 \nQ 20.953125 3.328125 18.109375 8.203125 \nL 18.109375 0 \nL 9.078125 0 \nL 9.078125 75.984375 \nL 18.109375 75.984375 \nz\n\" id=\"DejaVuSans-98\"/>\n      </defs>\n      <g transform=\"translate(225.79308 298.239219)rotate(-90)scale(0.1 -0.1)\">\n       <use xlink:href=\"#DejaVuSans-101\"/>\n       <use x=\"61.523438\" xlink:href=\"#DejaVuSans-109\"/>\n       <use x=\"158.935547\" xlink:href=\"#DejaVuSans-98\"/>\n       <use x=\"222.412109\" xlink:href=\"#DejaVuSans-101\"/>\n       <use x=\"283.935547\" xlink:href=\"#DejaVuSans-100\"/>\n       <use x=\"347.412109\" xlink:href=\"#DejaVuSans-95\"/>\n       <use x=\"397.412109\" xlink:href=\"#DejaVuSans-114\"/>\n       <use x=\"438.525391\" xlink:href=\"#DejaVuSans-97\"/>\n       <use x=\"499.804688\" xlink:href=\"#DejaVuSans-116\"/>\n       <use x=\"539.013672\" xlink:href=\"#DejaVuSans-105\"/>\n       <use x=\"566.796875\" xlink:href=\"#DejaVuSans-111\"/>\n      </g>\n     </g>\n    </g>\n    <g id=\"xtick_9\">\n     <g id=\"line2d_9\">\n      <g>\n       <use style=\"stroke:#000000;stroke-width:0.8;\" x=\"235.927054\" xlink:href=\"#mc374cc2959\" y=\"228.439219\"/>\n      </g>\n     </g>\n     <g id=\"text_9\">\n      <!-- framebased -->\n      <defs>\n       <path d=\"M 37.109375 75.984375 \nL 37.109375 68.5 \nL 28.515625 68.5 \nQ 23.6875 68.5 21.796875 66.546875 \nQ 19.921875 64.59375 19.921875 59.515625 \nL 19.921875 54.6875 \nL 34.71875 54.6875 \nL 34.71875 47.703125 \nL 19.921875 47.703125 \nL 19.921875 0 \nL 10.890625 0 \nL 10.890625 47.703125 \nL 2.296875 47.703125 \nL 2.296875 54.6875 \nL 10.890625 54.6875 \nL 10.890625 58.5 \nQ 10.890625 67.625 15.140625 71.796875 \nQ 19.390625 75.984375 28.609375 75.984375 \nz\n\" id=\"DejaVuSans-102\"/>\n      </defs>\n      <g transform=\"translate(238.686429 295.279844)rotate(-90)scale(0.1 -0.1)\">\n       <use xlink:href=\"#DejaVuSans-102\"/>\n       <use x=\"35.205078\" xlink:href=\"#DejaVuSans-114\"/>\n       <use x=\"76.318359\" xlink:href=\"#DejaVuSans-97\"/>\n       <use x=\"137.597656\" xlink:href=\"#DejaVuSans-109\"/>\n       <use x=\"235.009766\" xlink:href=\"#DejaVuSans-101\"/>\n       <use x=\"296.533203\" xlink:href=\"#DejaVuSans-98\"/>\n       <use x=\"360.009766\" xlink:href=\"#DejaVuSans-97\"/>\n       <use x=\"421.289062\" xlink:href=\"#DejaVuSans-115\"/>\n       <use x=\"473.388672\" xlink:href=\"#DejaVuSans-101\"/>\n       <use x=\"534.912109\" xlink:href=\"#DejaVuSans-100\"/>\n      </g>\n     </g>\n    </g>\n    <g id=\"xtick_10\">\n     <g id=\"line2d_10\">\n      <g>\n       <use style=\"stroke:#000000;stroke-width:0.8;\" x=\"248.681339\" xlink:href=\"#mc374cc2959\" y=\"228.439219\"/>\n      </g>\n     </g>\n     <g id=\"text_10\">\n      <!-- frameTagRatio -->\n      <defs>\n       <path d=\"M -0.296875 72.90625 \nL 61.375 72.90625 \nL 61.375 64.59375 \nL 35.5 64.59375 \nL 35.5 0 \nL 25.59375 0 \nL 25.59375 64.59375 \nL -0.296875 64.59375 \nz\n\" id=\"DejaVuSans-84\"/>\n       <path d=\"M 44.390625 34.1875 \nQ 47.5625 33.109375 50.5625 29.59375 \nQ 53.5625 26.078125 56.59375 19.921875 \nL 66.609375 0 \nL 56 0 \nL 46.6875 18.703125 \nQ 43.0625 26.03125 39.671875 28.421875 \nQ 36.28125 30.8125 30.421875 30.8125 \nL 19.671875 30.8125 \nL 19.671875 0 \nL 9.8125 0 \nL 9.8125 72.90625 \nL 32.078125 72.90625 \nQ 44.578125 72.90625 50.734375 67.671875 \nQ 56.890625 62.453125 56.890625 51.90625 \nQ 56.890625 45.015625 53.6875 40.46875 \nQ 50.484375 35.9375 44.390625 34.1875 \nz\nM 19.671875 64.796875 \nL 19.671875 38.921875 \nL 32.078125 38.921875 \nQ 39.203125 38.921875 42.84375 42.21875 \nQ 46.484375 45.515625 46.484375 51.90625 \nQ 46.484375 58.296875 42.84375 61.546875 \nQ 39.203125 64.796875 32.078125 64.796875 \nz\n\" id=\"DejaVuSans-82\"/>\n      </defs>\n      <g transform=\"translate(251.440714 307.695469)rotate(-90)scale(0.1 -0.1)\">\n       <use xlink:href=\"#DejaVuSans-102\"/>\n       <use x=\"35.205078\" xlink:href=\"#DejaVuSans-114\"/>\n       <use x=\"76.318359\" xlink:href=\"#DejaVuSans-97\"/>\n       <use x=\"137.597656\" xlink:href=\"#DejaVuSans-109\"/>\n       <use x=\"235.009766\" xlink:href=\"#DejaVuSans-101\"/>\n       <use x=\"296.533203\" xlink:href=\"#DejaVuSans-84\"/>\n       <use x=\"341.117188\" xlink:href=\"#DejaVuSans-97\"/>\n       <use x=\"402.396484\" xlink:href=\"#DejaVuSans-103\"/>\n       <use x=\"465.873047\" xlink:href=\"#DejaVuSans-82\"/>\n       <use x=\"533.105469\" xlink:href=\"#DejaVuSans-97\"/>\n       <use x=\"594.384766\" xlink:href=\"#DejaVuSans-116\"/>\n       <use x=\"633.59375\" xlink:href=\"#DejaVuSans-105\"/>\n       <use x=\"661.376953\" xlink:href=\"#DejaVuSans-111\"/>\n      </g>\n     </g>\n    </g>\n    <g id=\"xtick_11\">\n     <g id=\"line2d_11\">\n      <g>\n       <use style=\"stroke:#000000;stroke-width:0.8;\" x=\"261.435625\" xlink:href=\"#mc374cc2959\" y=\"228.439219\"/>\n      </g>\n     </g>\n     <g id=\"text_11\">\n      <!-- hasDomainLink -->\n      <defs>\n       <path d=\"M 54.890625 33.015625 \nL 54.890625 0 \nL 45.90625 0 \nL 45.90625 32.71875 \nQ 45.90625 40.484375 42.875 44.328125 \nQ 39.84375 48.1875 33.796875 48.1875 \nQ 26.515625 48.1875 22.3125 43.546875 \nQ 18.109375 38.921875 18.109375 30.90625 \nL 18.109375 0 \nL 9.078125 0 \nL 9.078125 75.984375 \nL 18.109375 75.984375 \nL 18.109375 46.1875 \nQ 21.34375 51.125 25.703125 53.5625 \nQ 30.078125 56 35.796875 56 \nQ 45.21875 56 50.046875 50.171875 \nQ 54.890625 44.34375 54.890625 33.015625 \nz\n\" id=\"DejaVuSans-104\"/>\n       <path d=\"M 19.671875 64.796875 \nL 19.671875 8.109375 \nL 31.59375 8.109375 \nQ 46.6875 8.109375 53.6875 14.9375 \nQ 60.6875 21.78125 60.6875 36.53125 \nQ 60.6875 51.171875 53.6875 57.984375 \nQ 46.6875 64.796875 31.59375 64.796875 \nz\nM 9.8125 72.90625 \nL 30.078125 72.90625 \nQ 51.265625 72.90625 61.171875 64.09375 \nQ 71.09375 55.28125 71.09375 36.53125 \nQ 71.09375 17.671875 61.125 8.828125 \nQ 51.171875 0 30.078125 0 \nL 9.8125 0 \nz\n\" id=\"DejaVuSans-68\"/>\n       <path d=\"M 9.8125 72.90625 \nL 19.671875 72.90625 \nL 19.671875 8.296875 \nL 55.171875 8.296875 \nL 55.171875 0 \nL 9.8125 0 \nz\n\" id=\"DejaVuSans-76\"/>\n      </defs>\n      <g transform=\"translate(264.195 312.395469)rotate(-90)scale(0.1 -0.1)\">\n       <use xlink:href=\"#DejaVuSans-104\"/>\n       <use x=\"63.378906\" xlink:href=\"#DejaVuSans-97\"/>\n       <use x=\"124.658203\" xlink:href=\"#DejaVuSans-115\"/>\n       <use x=\"176.757812\" xlink:href=\"#DejaVuSans-68\"/>\n       <use x=\"253.759766\" xlink:href=\"#DejaVuSans-111\"/>\n       <use x=\"314.941406\" xlink:href=\"#DejaVuSans-109\"/>\n       <use x=\"412.353516\" xlink:href=\"#DejaVuSans-97\"/>\n       <use x=\"473.632812\" xlink:href=\"#DejaVuSans-105\"/>\n       <use x=\"501.416016\" xlink:href=\"#DejaVuSans-110\"/>\n       <use x=\"564.794922\" xlink:href=\"#DejaVuSans-76\"/>\n       <use x=\"620.507812\" xlink:href=\"#DejaVuSans-105\"/>\n       <use x=\"648.291016\" xlink:href=\"#DejaVuSans-110\"/>\n       <use x=\"711.669922\" xlink:href=\"#DejaVuSans-107\"/>\n      </g>\n     </g>\n    </g>\n    <g id=\"xtick_12\">\n     <g id=\"line2d_12\">\n      <g>\n       <use style=\"stroke:#000000;stroke-width:0.8;\" x=\"274.189911\" xlink:href=\"#mc374cc2959\" y=\"228.439219\"/>\n      </g>\n     </g>\n     <g id=\"text_12\">\n      <!-- html_ratio -->\n      <g transform=\"translate(276.810223 286.272031)rotate(-90)scale(0.1 -0.1)\">\n       <use xlink:href=\"#DejaVuSans-104\"/>\n       <use x=\"63.378906\" xlink:href=\"#DejaVuSans-116\"/>\n       <use x=\"102.587891\" xlink:href=\"#DejaVuSans-109\"/>\n       <use x=\"200\" xlink:href=\"#DejaVuSans-108\"/>\n       <use x=\"227.783203\" xlink:href=\"#DejaVuSans-95\"/>\n       <use x=\"277.783203\" xlink:href=\"#DejaVuSans-114\"/>\n       <use x=\"318.896484\" xlink:href=\"#DejaVuSans-97\"/>\n       <use x=\"380.175781\" xlink:href=\"#DejaVuSans-116\"/>\n       <use x=\"419.384766\" xlink:href=\"#DejaVuSans-105\"/>\n       <use x=\"447.167969\" xlink:href=\"#DejaVuSans-111\"/>\n      </g>\n     </g>\n    </g>\n    <g id=\"xtick_13\">\n     <g id=\"line2d_13\">\n      <g>\n       <use style=\"stroke:#000000;stroke-width:0.8;\" x=\"286.944196\" xlink:href=\"#mc374cc2959\" y=\"228.439219\"/>\n      </g>\n     </g>\n     <g id=\"text_13\">\n      <!-- image_ratio -->\n      <g transform=\"translate(289.564509 294.643906)rotate(-90)scale(0.1 -0.1)\">\n       <use xlink:href=\"#DejaVuSans-105\"/>\n       <use x=\"27.783203\" xlink:href=\"#DejaVuSans-109\"/>\n       <use x=\"125.195312\" xlink:href=\"#DejaVuSans-97\"/>\n       <use x=\"186.474609\" xlink:href=\"#DejaVuSans-103\"/>\n       <use x=\"249.951172\" xlink:href=\"#DejaVuSans-101\"/>\n       <use x=\"311.474609\" xlink:href=\"#DejaVuSans-95\"/>\n       <use x=\"361.474609\" xlink:href=\"#DejaVuSans-114\"/>\n       <use x=\"402.587891\" xlink:href=\"#DejaVuSans-97\"/>\n       <use x=\"463.867188\" xlink:href=\"#DejaVuSans-116\"/>\n       <use x=\"503.076172\" xlink:href=\"#DejaVuSans-105\"/>\n       <use x=\"530.859375\" xlink:href=\"#DejaVuSans-111\"/>\n      </g>\n     </g>\n    </g>\n    <g id=\"xtick_14\">\n     <g id=\"line2d_14\">\n      <g>\n       <use style=\"stroke:#000000;stroke-width:0.8;\" x=\"299.698482\" xlink:href=\"#mc374cc2959\" y=\"228.439219\"/>\n      </g>\n     </g>\n     <g id=\"text_14\">\n      <!-- lengthyLinkDomain -->\n      <defs>\n       <path d=\"M 32.171875 -5.078125 \nQ 28.375 -14.84375 24.75 -17.8125 \nQ 21.140625 -20.796875 15.09375 -20.796875 \nL 7.90625 -20.796875 \nL 7.90625 -13.28125 \nL 13.1875 -13.28125 \nQ 16.890625 -13.28125 18.9375 -11.515625 \nQ 21 -9.765625 23.484375 -3.21875 \nL 25.09375 0.875 \nL 2.984375 54.6875 \nL 12.5 54.6875 \nL 29.59375 11.921875 \nL 46.6875 54.6875 \nL 56.203125 54.6875 \nz\n\" id=\"DejaVuSans-121\"/>\n      </defs>\n      <g transform=\"translate(302.457857 332.514219)rotate(-90)scale(0.1 -0.1)\">\n       <use xlink:href=\"#DejaVuSans-108\"/>\n       <use x=\"27.783203\" xlink:href=\"#DejaVuSans-101\"/>\n       <use x=\"89.306641\" xlink:href=\"#DejaVuSans-110\"/>\n       <use x=\"152.685547\" xlink:href=\"#DejaVuSans-103\"/>\n       <use x=\"216.162109\" xlink:href=\"#DejaVuSans-116\"/>\n       <use x=\"255.371094\" xlink:href=\"#DejaVuSans-104\"/>\n       <use x=\"318.75\" xlink:href=\"#DejaVuSans-121\"/>\n       <use x=\"377.929688\" xlink:href=\"#DejaVuSans-76\"/>\n       <use x=\"433.642578\" xlink:href=\"#DejaVuSans-105\"/>\n       <use x=\"461.425781\" xlink:href=\"#DejaVuSans-110\"/>\n       <use x=\"524.804688\" xlink:href=\"#DejaVuSans-107\"/>\n       <use x=\"582.714844\" xlink:href=\"#DejaVuSans-68\"/>\n       <use x=\"659.716797\" xlink:href=\"#DejaVuSans-111\"/>\n       <use x=\"720.898438\" xlink:href=\"#DejaVuSans-109\"/>\n       <use x=\"818.310547\" xlink:href=\"#DejaVuSans-97\"/>\n       <use x=\"879.589844\" xlink:href=\"#DejaVuSans-105\"/>\n       <use x=\"907.373047\" xlink:href=\"#DejaVuSans-110\"/>\n      </g>\n     </g>\n    </g>\n    <g id=\"xtick_15\">\n     <g id=\"line2d_15\">\n      <g>\n       <use style=\"stroke:#000000;stroke-width:0.8;\" x=\"312.452768\" xlink:href=\"#mc374cc2959\" y=\"228.439219\"/>\n      </g>\n     </g>\n     <g id=\"text_15\">\n      <!-- linkwordscore -->\n      <defs>\n       <path d=\"M 4.203125 54.6875 \nL 13.1875 54.6875 \nL 24.421875 12.015625 \nL 35.59375 54.6875 \nL 46.1875 54.6875 \nL 57.421875 12.015625 \nL 68.609375 54.6875 \nL 77.59375 54.6875 \nL 63.28125 0 \nL 52.6875 0 \nL 40.921875 44.828125 \nL 29.109375 0 \nL 18.5 0 \nz\n\" id=\"DejaVuSans-119\"/>\n      </defs>\n      <g transform=\"translate(315.212143 304.570469)rotate(-90)scale(0.1 -0.1)\">\n       <use xlink:href=\"#DejaVuSans-108\"/>\n       <use x=\"27.783203\" xlink:href=\"#DejaVuSans-105\"/>\n       <use x=\"55.566406\" xlink:href=\"#DejaVuSans-110\"/>\n       <use x=\"118.945312\" xlink:href=\"#DejaVuSans-107\"/>\n       <use x=\"176.855469\" xlink:href=\"#DejaVuSans-119\"/>\n       <use x=\"258.642578\" xlink:href=\"#DejaVuSans-111\"/>\n       <use x=\"319.824219\" xlink:href=\"#DejaVuSans-114\"/>\n       <use x=\"359.1875\" xlink:href=\"#DejaVuSans-100\"/>\n       <use x=\"422.664062\" xlink:href=\"#DejaVuSans-115\"/>\n       <use x=\"474.763672\" xlink:href=\"#DejaVuSans-99\"/>\n       <use x=\"529.744141\" xlink:href=\"#DejaVuSans-111\"/>\n       <use x=\"590.925781\" xlink:href=\"#DejaVuSans-114\"/>\n       <use x=\"629.789062\" xlink:href=\"#DejaVuSans-101\"/>\n      </g>\n     </g>\n    </g>\n    <g id=\"xtick_16\">\n     <g id=\"line2d_16\">\n      <g>\n       <use style=\"stroke:#000000;stroke-width:0.8;\" x=\"325.207054\" xlink:href=\"#mc374cc2959\" y=\"228.439219\"/>\n      </g>\n     </g>\n     <g id=\"text_16\">\n      <!-- non_markup_alphanum_characters -->\n      <g transform=\"translate(327.827366 410.607969)rotate(-90)scale(0.1 -0.1)\">\n       <use xlink:href=\"#DejaVuSans-110\"/>\n       <use x=\"63.378906\" xlink:href=\"#DejaVuSans-111\"/>\n       <use x=\"124.560547\" xlink:href=\"#DejaVuSans-110\"/>\n       <use x=\"187.939453\" xlink:href=\"#DejaVuSans-95\"/>\n       <use x=\"237.939453\" xlink:href=\"#DejaVuSans-109\"/>\n       <use x=\"335.351562\" xlink:href=\"#DejaVuSans-97\"/>\n       <use x=\"396.630859\" xlink:href=\"#DejaVuSans-114\"/>\n       <use x=\"437.744141\" xlink:href=\"#DejaVuSans-107\"/>\n       <use x=\"492.529297\" xlink:href=\"#DejaVuSans-117\"/>\n       <use x=\"555.908203\" xlink:href=\"#DejaVuSans-112\"/>\n       <use x=\"619.384766\" xlink:href=\"#DejaVuSans-95\"/>\n       <use x=\"669.384766\" xlink:href=\"#DejaVuSans-97\"/>\n       <use x=\"730.664062\" xlink:href=\"#DejaVuSans-108\"/>\n       <use x=\"758.447266\" xlink:href=\"#DejaVuSans-112\"/>\n       <use x=\"821.923828\" xlink:href=\"#DejaVuSans-104\"/>\n       <use x=\"885.302734\" xlink:href=\"#DejaVuSans-97\"/>\n       <use x=\"946.582031\" xlink:href=\"#DejaVuSans-110\"/>\n       <use x=\"1009.960938\" xlink:href=\"#DejaVuSans-117\"/>\n       <use x=\"1073.339844\" xlink:href=\"#DejaVuSans-109\"/>\n       <use x=\"1170.751953\" xlink:href=\"#DejaVuSans-95\"/>\n       <use x=\"1220.751953\" xlink:href=\"#DejaVuSans-99\"/>\n       <use x=\"1275.732422\" xlink:href=\"#DejaVuSans-104\"/>\n       <use x=\"1339.111328\" xlink:href=\"#DejaVuSans-97\"/>\n       <use x=\"1400.390625\" xlink:href=\"#DejaVuSans-114\"/>\n       <use x=\"1441.503906\" xlink:href=\"#DejaVuSans-97\"/>\n       <use x=\"1502.783203\" xlink:href=\"#DejaVuSans-99\"/>\n       <use x=\"1557.763672\" xlink:href=\"#DejaVuSans-116\"/>\n       <use x=\"1596.972656\" xlink:href=\"#DejaVuSans-101\"/>\n       <use x=\"1658.496094\" xlink:href=\"#DejaVuSans-114\"/>\n       <use x=\"1699.609375\" xlink:href=\"#DejaVuSans-115\"/>\n      </g>\n     </g>\n    </g>\n    <g id=\"xtick_17\">\n     <g id=\"line2d_17\">\n      <g>\n       <use style=\"stroke:#000000;stroke-width:0.8;\" x=\"337.961339\" xlink:href=\"#mc374cc2959\" y=\"228.439219\"/>\n      </g>\n     </g>\n     <g id=\"text_17\">\n      <!-- numberOfLinks -->\n      <defs>\n       <path d=\"M 39.40625 66.21875 \nQ 28.65625 66.21875 22.328125 58.203125 \nQ 16.015625 50.203125 16.015625 36.375 \nQ 16.015625 22.609375 22.328125 14.59375 \nQ 28.65625 6.59375 39.40625 6.59375 \nQ 50.140625 6.59375 56.421875 14.59375 \nQ 62.703125 22.609375 62.703125 36.375 \nQ 62.703125 50.203125 56.421875 58.203125 \nQ 50.140625 66.21875 39.40625 66.21875 \nz\nM 39.40625 74.21875 \nQ 54.734375 74.21875 63.90625 63.9375 \nQ 73.09375 53.65625 73.09375 36.375 \nQ 73.09375 19.140625 63.90625 8.859375 \nQ 54.734375 -1.421875 39.40625 -1.421875 \nQ 24.03125 -1.421875 14.8125 8.828125 \nQ 5.609375 19.09375 5.609375 36.375 \nQ 5.609375 53.65625 14.8125 63.9375 \nQ 24.03125 74.21875 39.40625 74.21875 \nz\n\" id=\"DejaVuSans-79\"/>\n      </defs>\n      <g transform=\"translate(340.720714 311.547031)rotate(-90)scale(0.1 -0.1)\">\n       <use xlink:href=\"#DejaVuSans-110\"/>\n       <use x=\"63.378906\" xlink:href=\"#DejaVuSans-117\"/>\n       <use x=\"126.757812\" xlink:href=\"#DejaVuSans-109\"/>\n       <use x=\"224.169922\" xlink:href=\"#DejaVuSans-98\"/>\n       <use x=\"287.646484\" xlink:href=\"#DejaVuSans-101\"/>\n       <use x=\"349.169922\" xlink:href=\"#DejaVuSans-114\"/>\n       <use x=\"390.283203\" xlink:href=\"#DejaVuSans-79\"/>\n       <use x=\"468.994141\" xlink:href=\"#DejaVuSans-102\"/>\n       <use x=\"504.199219\" xlink:href=\"#DejaVuSans-76\"/>\n       <use x=\"559.912109\" xlink:href=\"#DejaVuSans-105\"/>\n       <use x=\"587.695312\" xlink:href=\"#DejaVuSans-110\"/>\n       <use x=\"651.074219\" xlink:href=\"#DejaVuSans-107\"/>\n       <use x=\"708.984375\" xlink:href=\"#DejaVuSans-115\"/>\n      </g>\n     </g>\n    </g>\n    <g id=\"xtick_18\">\n     <g id=\"line2d_18\">\n      <g>\n       <use style=\"stroke:#000000;stroke-width:0.8;\" x=\"350.715625\" xlink:href=\"#mc374cc2959\" y=\"228.439219\"/>\n      </g>\n     </g>\n     <g id=\"text_18\">\n      <!-- numwords_in_url -->\n      <g transform=\"translate(353.335938 319.987656)rotate(-90)scale(0.1 -0.1)\">\n       <use xlink:href=\"#DejaVuSans-110\"/>\n       <use x=\"63.378906\" xlink:href=\"#DejaVuSans-117\"/>\n       <use x=\"126.757812\" xlink:href=\"#DejaVuSans-109\"/>\n       <use x=\"224.169922\" xlink:href=\"#DejaVuSans-119\"/>\n       <use x=\"305.957031\" xlink:href=\"#DejaVuSans-111\"/>\n       <use x=\"367.138672\" xlink:href=\"#DejaVuSans-114\"/>\n       <use x=\"406.501953\" xlink:href=\"#DejaVuSans-100\"/>\n       <use x=\"469.978516\" xlink:href=\"#DejaVuSans-115\"/>\n       <use x=\"522.078125\" xlink:href=\"#DejaVuSans-95\"/>\n       <use x=\"572.078125\" xlink:href=\"#DejaVuSans-105\"/>\n       <use x=\"599.861328\" xlink:href=\"#DejaVuSans-110\"/>\n       <use x=\"663.240234\" xlink:href=\"#DejaVuSans-95\"/>\n       <use x=\"713.240234\" xlink:href=\"#DejaVuSans-117\"/>\n       <use x=\"776.619141\" xlink:href=\"#DejaVuSans-114\"/>\n       <use x=\"817.732422\" xlink:href=\"#DejaVuSans-108\"/>\n      </g>\n     </g>\n    </g>\n    <g id=\"xtick_19\">\n     <g id=\"line2d_19\">\n      <g>\n       <use style=\"stroke:#000000;stroke-width:0.8;\" x=\"363.469911\" xlink:href=\"#mc374cc2959\" y=\"228.439219\"/>\n      </g>\n     </g>\n     <g id=\"text_19\">\n      <!-- parametrizedLinkRatio -->\n      <g transform=\"translate(366.229286 348.754844)rotate(-90)scale(0.1 -0.1)\">\n       <use xlink:href=\"#DejaVuSans-112\"/>\n       <use x=\"63.476562\" xlink:href=\"#DejaVuSans-97\"/>\n       <use x=\"124.755859\" xlink:href=\"#DejaVuSans-114\"/>\n       <use x=\"165.869141\" xlink:href=\"#DejaVuSans-97\"/>\n       <use x=\"227.148438\" xlink:href=\"#DejaVuSans-109\"/>\n       <use x=\"324.560547\" xlink:href=\"#DejaVuSans-101\"/>\n       <use x=\"386.083984\" xlink:href=\"#DejaVuSans-116\"/>\n       <use x=\"425.292969\" xlink:href=\"#DejaVuSans-114\"/>\n       <use x=\"466.40625\" xlink:href=\"#DejaVuSans-105\"/>\n       <use x=\"494.189453\" xlink:href=\"#DejaVuSans-122\"/>\n       <use x=\"546.679688\" xlink:href=\"#DejaVuSans-101\"/>\n       <use x=\"608.203125\" xlink:href=\"#DejaVuSans-100\"/>\n       <use x=\"671.679688\" xlink:href=\"#DejaVuSans-76\"/>\n       <use x=\"727.392578\" xlink:href=\"#DejaVuSans-105\"/>\n       <use x=\"755.175781\" xlink:href=\"#DejaVuSans-110\"/>\n       <use x=\"818.554688\" xlink:href=\"#DejaVuSans-107\"/>\n       <use x=\"876.464844\" xlink:href=\"#DejaVuSans-82\"/>\n       <use x=\"943.697266\" xlink:href=\"#DejaVuSans-97\"/>\n       <use x=\"1004.976562\" xlink:href=\"#DejaVuSans-116\"/>\n       <use x=\"1044.185547\" xlink:href=\"#DejaVuSans-105\"/>\n       <use x=\"1071.96875\" xlink:href=\"#DejaVuSans-111\"/>\n      </g>\n     </g>\n    </g>\n    <g id=\"xtick_20\">\n     <g id=\"line2d_20\">\n      <g>\n       <use style=\"stroke:#000000;stroke-width:0.8;\" x=\"376.224196\" xlink:href=\"#mc374cc2959\" y=\"228.439219\"/>\n      </g>\n     </g>\n     <g id=\"text_20\">\n      <!-- spelling_errors_ratio -->\n      <g transform=\"translate(378.844509 336.640781)rotate(-90)scale(0.1 -0.1)\">\n       <use xlink:href=\"#DejaVuSans-115\"/>\n       <use x=\"52.099609\" xlink:href=\"#DejaVuSans-112\"/>\n       <use x=\"115.576172\" xlink:href=\"#DejaVuSans-101\"/>\n       <use x=\"177.099609\" xlink:href=\"#DejaVuSans-108\"/>\n       <use x=\"204.882812\" xlink:href=\"#DejaVuSans-108\"/>\n       <use x=\"232.666016\" xlink:href=\"#DejaVuSans-105\"/>\n       <use x=\"260.449219\" xlink:href=\"#DejaVuSans-110\"/>\n       <use x=\"323.828125\" xlink:href=\"#DejaVuSans-103\"/>\n       <use x=\"387.304688\" xlink:href=\"#DejaVuSans-95\"/>\n       <use x=\"437.304688\" xlink:href=\"#DejaVuSans-101\"/>\n       <use x=\"498.828125\" xlink:href=\"#DejaVuSans-114\"/>\n       <use x=\"538.191406\" xlink:href=\"#DejaVuSans-114\"/>\n       <use x=\"577.054688\" xlink:href=\"#DejaVuSans-111\"/>\n       <use x=\"638.236328\" xlink:href=\"#DejaVuSans-114\"/>\n       <use x=\"679.349609\" xlink:href=\"#DejaVuSans-115\"/>\n       <use x=\"731.449219\" xlink:href=\"#DejaVuSans-95\"/>\n       <use x=\"781.449219\" xlink:href=\"#DejaVuSans-114\"/>\n       <use x=\"822.5625\" xlink:href=\"#DejaVuSans-97\"/>\n       <use x=\"883.841797\" xlink:href=\"#DejaVuSans-116\"/>\n       <use x=\"923.050781\" xlink:href=\"#DejaVuSans-105\"/>\n       <use x=\"950.833984\" xlink:href=\"#DejaVuSans-111\"/>\n      </g>\n     </g>\n    </g>\n    <g id=\"xtick_21\">\n     <g id=\"line2d_21\">\n      <g>\n       <use style=\"stroke:#000000;stroke-width:0.8;\" x=\"388.978482\" xlink:href=\"#mc374cc2959\" y=\"228.439219\"/>\n      </g>\n     </g>\n     <g id=\"text_21\">\n      <!-- label -->\n      <g transform=\"translate(391.737857 259.625156)rotate(-90)scale(0.1 -0.1)\">\n       <use xlink:href=\"#DejaVuSans-108\"/>\n       <use x=\"27.783203\" xlink:href=\"#DejaVuSans-97\"/>\n       <use x=\"89.0625\" xlink:href=\"#DejaVuSans-98\"/>\n       <use x=\"152.539062\" xlink:href=\"#DejaVuSans-101\"/>\n       <use x=\"214.0625\" xlink:href=\"#DejaVuSans-108\"/>\n      </g>\n     </g>\n    </g>\n   </g>\n   <g id=\"matplotlib.axis_2\">\n    <g id=\"ytick_1\">\n     <g id=\"line2d_22\">\n      <defs>\n       <path d=\"M 0 0 \nL -3.5 0 \n\" id=\"m9619a6adc7\" style=\"stroke:#000000;stroke-width:0.8;\"/>\n      </defs>\n      <g>\n       <use style=\"stroke:#000000;stroke-width:0.8;\" x=\"127.515625\" xlink:href=\"#m9619a6adc7\" y=\"16.176362\"/>\n      </g>\n     </g>\n     <g id=\"text_22\">\n      <!-- urlid -->\n      <g transform=\"translate(98.1625 18.935737)scale(0.1 -0.1)\">\n       <use xlink:href=\"#DejaVuSans-117\"/>\n       <use x=\"63.378906\" xlink:href=\"#DejaVuSans-114\"/>\n       <use x=\"104.492188\" xlink:href=\"#DejaVuSans-108\"/>\n       <use x=\"132.275391\" xlink:href=\"#DejaVuSans-105\"/>\n       <use x=\"160.058594\" xlink:href=\"#DejaVuSans-100\"/>\n      </g>\n     </g>\n    </g>\n    <g id=\"ytick_2\">\n     <g id=\"line2d_23\">\n      <g>\n       <use style=\"stroke:#000000;stroke-width:0.8;\" x=\"127.515625\" xlink:href=\"#m9619a6adc7\" y=\"36.884933\"/>\n      </g>\n     </g>\n     <g id=\"text_23\">\n      <!-- commonlinkratio_1 -->\n      <g transform=\"translate(24.857812 39.505246)scale(0.1 -0.1)\">\n       <use xlink:href=\"#DejaVuSans-99\"/>\n       <use x=\"54.980469\" xlink:href=\"#DejaVuSans-111\"/>\n       <use x=\"116.162109\" xlink:href=\"#DejaVuSans-109\"/>\n       <use x=\"213.574219\" xlink:href=\"#DejaVuSans-109\"/>\n       <use x=\"310.986328\" xlink:href=\"#DejaVuSans-111\"/>\n       <use x=\"372.167969\" xlink:href=\"#DejaVuSans-110\"/>\n       <use x=\"435.546875\" xlink:href=\"#DejaVuSans-108\"/>\n       <use x=\"463.330078\" xlink:href=\"#DejaVuSans-105\"/>\n       <use x=\"491.113281\" xlink:href=\"#DejaVuSans-110\"/>\n       <use x=\"554.492188\" xlink:href=\"#DejaVuSans-107\"/>\n       <use x=\"612.402344\" xlink:href=\"#DejaVuSans-114\"/>\n       <use x=\"653.515625\" xlink:href=\"#DejaVuSans-97\"/>\n       <use x=\"714.794922\" xlink:href=\"#DejaVuSans-116\"/>\n       <use x=\"754.003906\" xlink:href=\"#DejaVuSans-105\"/>\n       <use x=\"781.787109\" xlink:href=\"#DejaVuSans-111\"/>\n       <use x=\"842.96875\" xlink:href=\"#DejaVuSans-95\"/>\n       <use x=\"892.96875\" xlink:href=\"#DejaVuSans-49\"/>\n      </g>\n     </g>\n    </g>\n    <g id=\"ytick_3\">\n     <g id=\"line2d_24\">\n      <g>\n       <use style=\"stroke:#000000;stroke-width:0.8;\" x=\"127.515625\" xlink:href=\"#m9619a6adc7\" y=\"57.593504\"/>\n      </g>\n     </g>\n     <g id=\"text_24\">\n      <!-- commonlinkratio_3 -->\n      <g transform=\"translate(24.857812 60.213817)scale(0.1 -0.1)\">\n       <use xlink:href=\"#DejaVuSans-99\"/>\n       <use x=\"54.980469\" xlink:href=\"#DejaVuSans-111\"/>\n       <use x=\"116.162109\" xlink:href=\"#DejaVuSans-109\"/>\n       <use x=\"213.574219\" xlink:href=\"#DejaVuSans-109\"/>\n       <use x=\"310.986328\" xlink:href=\"#DejaVuSans-111\"/>\n       <use x=\"372.167969\" xlink:href=\"#DejaVuSans-110\"/>\n       <use x=\"435.546875\" xlink:href=\"#DejaVuSans-108\"/>\n       <use x=\"463.330078\" xlink:href=\"#DejaVuSans-105\"/>\n       <use x=\"491.113281\" xlink:href=\"#DejaVuSans-110\"/>\n       <use x=\"554.492188\" xlink:href=\"#DejaVuSans-107\"/>\n       <use x=\"612.402344\" xlink:href=\"#DejaVuSans-114\"/>\n       <use x=\"653.515625\" xlink:href=\"#DejaVuSans-97\"/>\n       <use x=\"714.794922\" xlink:href=\"#DejaVuSans-116\"/>\n       <use x=\"754.003906\" xlink:href=\"#DejaVuSans-105\"/>\n       <use x=\"781.787109\" xlink:href=\"#DejaVuSans-111\"/>\n       <use x=\"842.96875\" xlink:href=\"#DejaVuSans-95\"/>\n       <use x=\"892.96875\" xlink:href=\"#DejaVuSans-51\"/>\n      </g>\n     </g>\n    </g>\n    <g id=\"ytick_4\">\n     <g id=\"line2d_25\">\n      <g>\n       <use style=\"stroke:#000000;stroke-width:0.8;\" x=\"127.515625\" xlink:href=\"#m9619a6adc7\" y=\"78.302076\"/>\n      </g>\n     </g>\n     <g id=\"text_25\">\n      <!-- compression_ratio -->\n      <g transform=\"translate(29.060937 80.922388)scale(0.1 -0.1)\">\n       <use xlink:href=\"#DejaVuSans-99\"/>\n       <use x=\"54.980469\" xlink:href=\"#DejaVuSans-111\"/>\n       <use x=\"116.162109\" xlink:href=\"#DejaVuSans-109\"/>\n       <use x=\"213.574219\" xlink:href=\"#DejaVuSans-112\"/>\n       <use x=\"277.050781\" xlink:href=\"#DejaVuSans-114\"/>\n       <use x=\"315.914062\" xlink:href=\"#DejaVuSans-101\"/>\n       <use x=\"377.4375\" xlink:href=\"#DejaVuSans-115\"/>\n       <use x=\"429.537109\" xlink:href=\"#DejaVuSans-115\"/>\n       <use x=\"481.636719\" xlink:href=\"#DejaVuSans-105\"/>\n       <use x=\"509.419922\" xlink:href=\"#DejaVuSans-111\"/>\n       <use x=\"570.601562\" xlink:href=\"#DejaVuSans-110\"/>\n       <use x=\"633.980469\" xlink:href=\"#DejaVuSans-95\"/>\n       <use x=\"683.980469\" xlink:href=\"#DejaVuSans-114\"/>\n       <use x=\"725.09375\" xlink:href=\"#DejaVuSans-97\"/>\n       <use x=\"786.373047\" xlink:href=\"#DejaVuSans-116\"/>\n       <use x=\"825.582031\" xlink:href=\"#DejaVuSans-105\"/>\n       <use x=\"853.365234\" xlink:href=\"#DejaVuSans-111\"/>\n      </g>\n     </g>\n    </g>\n    <g id=\"ytick_5\">\n     <g id=\"line2d_26\">\n      <g>\n       <use style=\"stroke:#000000;stroke-width:0.8;\" x=\"127.515625\" xlink:href=\"#m9619a6adc7\" y=\"99.010647\"/>\n      </g>\n     </g>\n     <g id=\"text_26\">\n      <!-- framebased -->\n      <g transform=\"translate(60.675 101.770022)scale(0.1 -0.1)\">\n       <use xlink:href=\"#DejaVuSans-102\"/>\n       <use x=\"35.205078\" xlink:href=\"#DejaVuSans-114\"/>\n       <use x=\"76.318359\" xlink:href=\"#DejaVuSans-97\"/>\n       <use x=\"137.597656\" xlink:href=\"#DejaVuSans-109\"/>\n       <use x=\"235.009766\" xlink:href=\"#DejaVuSans-101\"/>\n       <use x=\"296.533203\" xlink:href=\"#DejaVuSans-98\"/>\n       <use x=\"360.009766\" xlink:href=\"#DejaVuSans-97\"/>\n       <use x=\"421.289062\" xlink:href=\"#DejaVuSans-115\"/>\n       <use x=\"473.388672\" xlink:href=\"#DejaVuSans-101\"/>\n       <use x=\"534.912109\" xlink:href=\"#DejaVuSans-100\"/>\n      </g>\n     </g>\n    </g>\n    <g id=\"ytick_6\">\n     <g id=\"line2d_27\">\n      <g>\n       <use style=\"stroke:#000000;stroke-width:0.8;\" x=\"127.515625\" xlink:href=\"#m9619a6adc7\" y=\"119.719219\"/>\n      </g>\n     </g>\n     <g id=\"text_27\">\n      <!-- hasDomainLink -->\n      <g transform=\"translate(43.559375 122.478594)scale(0.1 -0.1)\">\n       <use xlink:href=\"#DejaVuSans-104\"/>\n       <use x=\"63.378906\" xlink:href=\"#DejaVuSans-97\"/>\n       <use x=\"124.658203\" xlink:href=\"#DejaVuSans-115\"/>\n       <use x=\"176.757812\" xlink:href=\"#DejaVuSans-68\"/>\n       <use x=\"253.759766\" xlink:href=\"#DejaVuSans-111\"/>\n       <use x=\"314.941406\" xlink:href=\"#DejaVuSans-109\"/>\n       <use x=\"412.353516\" xlink:href=\"#DejaVuSans-97\"/>\n       <use x=\"473.632812\" xlink:href=\"#DejaVuSans-105\"/>\n       <use x=\"501.416016\" xlink:href=\"#DejaVuSans-110\"/>\n       <use x=\"564.794922\" xlink:href=\"#DejaVuSans-76\"/>\n       <use x=\"620.507812\" xlink:href=\"#DejaVuSans-105\"/>\n       <use x=\"648.291016\" xlink:href=\"#DejaVuSans-110\"/>\n       <use x=\"711.669922\" xlink:href=\"#DejaVuSans-107\"/>\n      </g>\n     </g>\n    </g>\n    <g id=\"ytick_7\">\n     <g id=\"line2d_28\">\n      <g>\n       <use style=\"stroke:#000000;stroke-width:0.8;\" x=\"127.515625\" xlink:href=\"#m9619a6adc7\" y=\"140.42779\"/>\n      </g>\n     </g>\n     <g id=\"text_28\">\n      <!-- image_ratio -->\n      <g transform=\"translate(61.310937 143.048103)scale(0.1 -0.1)\">\n       <use xlink:href=\"#DejaVuSans-105\"/>\n       <use x=\"27.783203\" xlink:href=\"#DejaVuSans-109\"/>\n       <use x=\"125.195312\" xlink:href=\"#DejaVuSans-97\"/>\n       <use x=\"186.474609\" xlink:href=\"#DejaVuSans-103\"/>\n       <use x=\"249.951172\" xlink:href=\"#DejaVuSans-101\"/>\n       <use x=\"311.474609\" xlink:href=\"#DejaVuSans-95\"/>\n       <use x=\"361.474609\" xlink:href=\"#DejaVuSans-114\"/>\n       <use x=\"402.587891\" xlink:href=\"#DejaVuSans-97\"/>\n       <use x=\"463.867188\" xlink:href=\"#DejaVuSans-116\"/>\n       <use x=\"503.076172\" xlink:href=\"#DejaVuSans-105\"/>\n       <use x=\"530.859375\" xlink:href=\"#DejaVuSans-111\"/>\n      </g>\n     </g>\n    </g>\n    <g id=\"ytick_8\">\n     <g id=\"line2d_29\">\n      <g>\n       <use style=\"stroke:#000000;stroke-width:0.8;\" x=\"127.515625\" xlink:href=\"#m9619a6adc7\" y=\"161.136362\"/>\n      </g>\n     </g>\n     <g id=\"text_29\">\n      <!-- linkwordscore -->\n      <g transform=\"translate(51.384375 163.895737)scale(0.1 -0.1)\">\n       <use xlink:href=\"#DejaVuSans-108\"/>\n       <use x=\"27.783203\" xlink:href=\"#DejaVuSans-105\"/>\n       <use x=\"55.566406\" xlink:href=\"#DejaVuSans-110\"/>\n       <use x=\"118.945312\" xlink:href=\"#DejaVuSans-107\"/>\n       <use x=\"176.855469\" xlink:href=\"#DejaVuSans-119\"/>\n       <use x=\"258.642578\" xlink:href=\"#DejaVuSans-111\"/>\n       <use x=\"319.824219\" xlink:href=\"#DejaVuSans-114\"/>\n       <use x=\"359.1875\" xlink:href=\"#DejaVuSans-100\"/>\n       <use x=\"422.664062\" xlink:href=\"#DejaVuSans-115\"/>\n       <use x=\"474.763672\" xlink:href=\"#DejaVuSans-99\"/>\n       <use x=\"529.744141\" xlink:href=\"#DejaVuSans-111\"/>\n       <use x=\"590.925781\" xlink:href=\"#DejaVuSans-114\"/>\n       <use x=\"629.789062\" xlink:href=\"#DejaVuSans-101\"/>\n      </g>\n     </g>\n    </g>\n    <g id=\"ytick_9\">\n     <g id=\"line2d_30\">\n      <g>\n       <use style=\"stroke:#000000;stroke-width:0.8;\" x=\"127.515625\" xlink:href=\"#m9619a6adc7\" y=\"181.844933\"/>\n      </g>\n     </g>\n     <g id=\"text_30\">\n      <!-- numberOfLinks -->\n      <g transform=\"translate(44.407812 184.604308)scale(0.1 -0.1)\">\n       <use xlink:href=\"#DejaVuSans-110\"/>\n       <use x=\"63.378906\" xlink:href=\"#DejaVuSans-117\"/>\n       <use x=\"126.757812\" xlink:href=\"#DejaVuSans-109\"/>\n       <use x=\"224.169922\" xlink:href=\"#DejaVuSans-98\"/>\n       <use x=\"287.646484\" xlink:href=\"#DejaVuSans-101\"/>\n       <use x=\"349.169922\" xlink:href=\"#DejaVuSans-114\"/>\n       <use x=\"390.283203\" xlink:href=\"#DejaVuSans-79\"/>\n       <use x=\"468.994141\" xlink:href=\"#DejaVuSans-102\"/>\n       <use x=\"504.199219\" xlink:href=\"#DejaVuSans-76\"/>\n       <use x=\"559.912109\" xlink:href=\"#DejaVuSans-105\"/>\n       <use x=\"587.695312\" xlink:href=\"#DejaVuSans-110\"/>\n       <use x=\"651.074219\" xlink:href=\"#DejaVuSans-107\"/>\n       <use x=\"708.984375\" xlink:href=\"#DejaVuSans-115\"/>\n      </g>\n     </g>\n    </g>\n    <g id=\"ytick_10\">\n     <g id=\"line2d_31\">\n      <g>\n       <use style=\"stroke:#000000;stroke-width:0.8;\" x=\"127.515625\" xlink:href=\"#m9619a6adc7\" y=\"202.553504\"/>\n      </g>\n     </g>\n     <g id=\"text_31\">\n      <!-- parametrizedLinkRatio -->\n      <g transform=\"translate(7.2 205.312879)scale(0.1 -0.1)\">\n       <use xlink:href=\"#DejaVuSans-112\"/>\n       <use x=\"63.476562\" xlink:href=\"#DejaVuSans-97\"/>\n       <use x=\"124.755859\" xlink:href=\"#DejaVuSans-114\"/>\n       <use x=\"165.869141\" xlink:href=\"#DejaVuSans-97\"/>\n       <use x=\"227.148438\" xlink:href=\"#DejaVuSans-109\"/>\n       <use x=\"324.560547\" xlink:href=\"#DejaVuSans-101\"/>\n       <use x=\"386.083984\" xlink:href=\"#DejaVuSans-116\"/>\n       <use x=\"425.292969\" xlink:href=\"#DejaVuSans-114\"/>\n       <use x=\"466.40625\" xlink:href=\"#DejaVuSans-105\"/>\n       <use x=\"494.189453\" xlink:href=\"#DejaVuSans-122\"/>\n       <use x=\"546.679688\" xlink:href=\"#DejaVuSans-101\"/>\n       <use x=\"608.203125\" xlink:href=\"#DejaVuSans-100\"/>\n       <use x=\"671.679688\" xlink:href=\"#DejaVuSans-76\"/>\n       <use x=\"727.392578\" xlink:href=\"#DejaVuSans-105\"/>\n       <use x=\"755.175781\" xlink:href=\"#DejaVuSans-110\"/>\n       <use x=\"818.554688\" xlink:href=\"#DejaVuSans-107\"/>\n       <use x=\"876.464844\" xlink:href=\"#DejaVuSans-82\"/>\n       <use x=\"943.697266\" xlink:href=\"#DejaVuSans-97\"/>\n       <use x=\"1004.976562\" xlink:href=\"#DejaVuSans-116\"/>\n       <use x=\"1044.185547\" xlink:href=\"#DejaVuSans-105\"/>\n       <use x=\"1071.96875\" xlink:href=\"#DejaVuSans-111\"/>\n      </g>\n     </g>\n    </g>\n    <g id=\"ytick_11\">\n     <g id=\"line2d_32\">\n      <g>\n       <use style=\"stroke:#000000;stroke-width:0.8;\" x=\"127.515625\" xlink:href=\"#m9619a6adc7\" y=\"223.262076\"/>\n      </g>\n     </g>\n     <g id=\"text_32\">\n      <!-- label -->\n      <g transform=\"translate(96.329688 226.021451)scale(0.1 -0.1)\">\n       <use xlink:href=\"#DejaVuSans-108\"/>\n       <use x=\"27.783203\" xlink:href=\"#DejaVuSans-97\"/>\n       <use x=\"89.0625\" xlink:href=\"#DejaVuSans-98\"/>\n       <use x=\"152.539062\" xlink:href=\"#DejaVuSans-101\"/>\n       <use x=\"214.0625\" xlink:href=\"#DejaVuSans-108\"/>\n      </g>\n     </g>\n    </g>\n   </g>\n  </g>\n  <g id=\"axes_2\">\n   <g id=\"patch_3\">\n    <path clip-path=\"url(#p44418c8892)\" d=\"M 412.095625 228.439219 \nL 412.095625 227.589844 \nL 412.095625 11.848594 \nL 412.095625 10.999219 \nL 422.967625 10.999219 \nL 422.967625 11.848594 \nL 422.967625 227.589844 \nL 422.967625 228.439219 \nz\n\" style=\"fill:#ffffff;stroke:#ffffff;stroke-linejoin:miter;stroke-width:0.01;\"/>\n   </g>\n   <image height=\"218\" id=\"imagec0af9d316a\" transform=\"scale(1 -1)translate(0 -218)\" width=\"11\" x=\"412\" xlink:href=\"data:image/png;base64,\niVBORw0KGgoAAAANSUhEUgAAAAsAAADaCAYAAABwzrisAAAABHNCSVQICAgIfAhkiAAAAWNJREFUaIHt2jGOAzEMQ1HLci6x9z9nsu2WfgUBTbCpCeKLkjUTJ9Wvn8+6/Jy6Va61zt77Xlzr3vtUgXiLmDDIuUvSyBVIzpYGFDiEOZlGi3jEiE4ZfsKY0m4Z/iHMhHEt1XYPSYOmrmdg3KcczbljU0cFBveGYJzcyhWMnPMz203OID6xQUpGl8I4198lHIPEsdM9pUARx5iPiEswHplGcDbura1A2/wfwRDnIWmUONvwE3PQGcQNJxaZyVnENkji3PsNGMCRTCOG0R1LA05sMLrdgmHM11p1jmFseLZZU+CqgNMA50WzAasfMSyNmLMVCC/bWGDKeYlzwVMFna3AGIZcWcij/iz5DWhKdA1X98icSmPJjas5H0kjhhGMztotGHSsrMBcGverH8+gzUZMTE2RNKYwk3OuwFy7c87/afwRV79CzlPSmFFgyV8FkmnQ8OfeCii63CqQ2fjyAuVub/0COG8rJemuL6kAAAAASUVORK5CYII=\" y=\"-10\"/>\n   <g id=\"matplotlib.axis_3\"/>\n   <g id=\"matplotlib.axis_4\">\n    <g id=\"ytick_12\">\n     <g id=\"line2d_33\">\n      <defs>\n       <path d=\"M 0 0 \nL 3.5 0 \n\" id=\"m1458281467\" style=\"stroke:#000000;stroke-width:0.8;\"/>\n      </defs>\n      <g>\n       <use style=\"stroke:#000000;stroke-width:0.8;\" x=\"422.967625\" xlink:href=\"#m1458281467\" y=\"185.193529\"/>\n      </g>\n     </g>\n     <g id=\"text_33\">\n      <!-- 0.2 -->\n      <defs>\n       <path d=\"M 31.78125 66.40625 \nQ 24.171875 66.40625 20.328125 58.90625 \nQ 16.5 51.421875 16.5 36.375 \nQ 16.5 21.390625 20.328125 13.890625 \nQ 24.171875 6.390625 31.78125 6.390625 \nQ 39.453125 6.390625 43.28125 13.890625 \nQ 47.125 21.390625 47.125 36.375 \nQ 47.125 51.421875 43.28125 58.90625 \nQ 39.453125 66.40625 31.78125 66.40625 \nz\nM 31.78125 74.21875 \nQ 44.046875 74.21875 50.515625 64.515625 \nQ 56.984375 54.828125 56.984375 36.375 \nQ 56.984375 17.96875 50.515625 8.265625 \nQ 44.046875 -1.421875 31.78125 -1.421875 \nQ 19.53125 -1.421875 13.0625 8.265625 \nQ 6.59375 17.96875 6.59375 36.375 \nQ 6.59375 54.828125 13.0625 64.515625 \nQ 19.53125 74.21875 31.78125 74.21875 \nz\n\" id=\"DejaVuSans-48\"/>\n       <path d=\"M 10.6875 12.40625 \nL 21 12.40625 \nL 21 0 \nL 10.6875 0 \nz\n\" id=\"DejaVuSans-46\"/>\n      </defs>\n      <g transform=\"translate(429.967625 188.992748)scale(0.1 -0.1)\">\n       <use xlink:href=\"#DejaVuSans-48\"/>\n       <use x=\"63.623047\" xlink:href=\"#DejaVuSans-46\"/>\n       <use x=\"95.410156\" xlink:href=\"#DejaVuSans-50\"/>\n      </g>\n     </g>\n    </g>\n    <g id=\"ytick_13\">\n     <g id=\"line2d_34\">\n      <g>\n       <use style=\"stroke:#000000;stroke-width:0.8;\" x=\"422.967625\" xlink:href=\"#m1458281467\" y=\"141.644952\"/>\n      </g>\n     </g>\n     <g id=\"text_34\">\n      <!-- 0.4 -->\n      <g transform=\"translate(429.967625 145.44417)scale(0.1 -0.1)\">\n       <use xlink:href=\"#DejaVuSans-48\"/>\n       <use x=\"63.623047\" xlink:href=\"#DejaVuSans-46\"/>\n       <use x=\"95.410156\" xlink:href=\"#DejaVuSans-52\"/>\n      </g>\n     </g>\n    </g>\n    <g id=\"ytick_14\">\n     <g id=\"line2d_35\">\n      <g>\n       <use style=\"stroke:#000000;stroke-width:0.8;\" x=\"422.967625\" xlink:href=\"#m1458281467\" y=\"98.096374\"/>\n      </g>\n     </g>\n     <g id=\"text_35\">\n      <!-- 0.6 -->\n      <defs>\n       <path d=\"M 33.015625 40.375 \nQ 26.375 40.375 22.484375 35.828125 \nQ 18.609375 31.296875 18.609375 23.390625 \nQ 18.609375 15.53125 22.484375 10.953125 \nQ 26.375 6.390625 33.015625 6.390625 \nQ 39.65625 6.390625 43.53125 10.953125 \nQ 47.40625 15.53125 47.40625 23.390625 \nQ 47.40625 31.296875 43.53125 35.828125 \nQ 39.65625 40.375 33.015625 40.375 \nz\nM 52.59375 71.296875 \nL 52.59375 62.3125 \nQ 48.875 64.0625 45.09375 64.984375 \nQ 41.3125 65.921875 37.59375 65.921875 \nQ 27.828125 65.921875 22.671875 59.328125 \nQ 17.53125 52.734375 16.796875 39.40625 \nQ 19.671875 43.65625 24.015625 45.921875 \nQ 28.375 48.1875 33.59375 48.1875 \nQ 44.578125 48.1875 50.953125 41.515625 \nQ 57.328125 34.859375 57.328125 23.390625 \nQ 57.328125 12.15625 50.6875 5.359375 \nQ 44.046875 -1.421875 33.015625 -1.421875 \nQ 20.359375 -1.421875 13.671875 8.265625 \nQ 6.984375 17.96875 6.984375 36.375 \nQ 6.984375 53.65625 15.1875 63.9375 \nQ 23.390625 74.21875 37.203125 74.21875 \nQ 40.921875 74.21875 44.703125 73.484375 \nQ 48.484375 72.75 52.59375 71.296875 \nz\n\" id=\"DejaVuSans-54\"/>\n      </defs>\n      <g transform=\"translate(429.967625 101.895593)scale(0.1 -0.1)\">\n       <use xlink:href=\"#DejaVuSans-48\"/>\n       <use x=\"63.623047\" xlink:href=\"#DejaVuSans-46\"/>\n       <use x=\"95.410156\" xlink:href=\"#DejaVuSans-54\"/>\n      </g>\n     </g>\n    </g>\n    <g id=\"ytick_15\">\n     <g id=\"line2d_36\">\n      <g>\n       <use style=\"stroke:#000000;stroke-width:0.8;\" x=\"422.967625\" xlink:href=\"#m1458281467\" y=\"54.547796\"/>\n      </g>\n     </g>\n     <g id=\"text_36\">\n      <!-- 0.8 -->\n      <defs>\n       <path d=\"M 31.78125 34.625 \nQ 24.75 34.625 20.71875 30.859375 \nQ 16.703125 27.09375 16.703125 20.515625 \nQ 16.703125 13.921875 20.71875 10.15625 \nQ 24.75 6.390625 31.78125 6.390625 \nQ 38.8125 6.390625 42.859375 10.171875 \nQ 46.921875 13.96875 46.921875 20.515625 \nQ 46.921875 27.09375 42.890625 30.859375 \nQ 38.875 34.625 31.78125 34.625 \nz\nM 21.921875 38.8125 \nQ 15.578125 40.375 12.03125 44.71875 \nQ 8.5 49.078125 8.5 55.328125 \nQ 8.5 64.0625 14.71875 69.140625 \nQ 20.953125 74.21875 31.78125 74.21875 \nQ 42.671875 74.21875 48.875 69.140625 \nQ 55.078125 64.0625 55.078125 55.328125 \nQ 55.078125 49.078125 51.53125 44.71875 \nQ 48 40.375 41.703125 38.8125 \nQ 48.828125 37.15625 52.796875 32.3125 \nQ 56.78125 27.484375 56.78125 20.515625 \nQ 56.78125 9.90625 50.3125 4.234375 \nQ 43.84375 -1.421875 31.78125 -1.421875 \nQ 19.734375 -1.421875 13.25 4.234375 \nQ 6.78125 9.90625 6.78125 20.515625 \nQ 6.78125 27.484375 10.78125 32.3125 \nQ 14.796875 37.15625 21.921875 38.8125 \nz\nM 18.3125 54.390625 \nQ 18.3125 48.734375 21.84375 45.5625 \nQ 25.390625 42.390625 31.78125 42.390625 \nQ 38.140625 42.390625 41.71875 45.5625 \nQ 45.3125 48.734375 45.3125 54.390625 \nQ 45.3125 60.0625 41.71875 63.234375 \nQ 38.140625 66.40625 31.78125 66.40625 \nQ 25.390625 66.40625 21.84375 63.234375 \nQ 18.3125 60.0625 18.3125 54.390625 \nz\n\" id=\"DejaVuSans-56\"/>\n      </defs>\n      <g transform=\"translate(429.967625 58.347015)scale(0.1 -0.1)\">\n       <use xlink:href=\"#DejaVuSans-48\"/>\n       <use x=\"63.623047\" xlink:href=\"#DejaVuSans-46\"/>\n       <use x=\"95.410156\" xlink:href=\"#DejaVuSans-56\"/>\n      </g>\n     </g>\n    </g>\n    <g id=\"ytick_16\">\n     <g id=\"line2d_37\">\n      <g>\n       <use style=\"stroke:#000000;stroke-width:0.8;\" x=\"422.967625\" xlink:href=\"#m1458281467\" y=\"10.999219\"/>\n      </g>\n     </g>\n     <g id=\"text_37\">\n      <!-- 1.0 -->\n      <g transform=\"translate(429.967625 14.798438)scale(0.1 -0.1)\">\n       <use xlink:href=\"#DejaVuSans-49\"/>\n       <use x=\"63.623047\" xlink:href=\"#DejaVuSans-46\"/>\n       <use x=\"95.410156\" xlink:href=\"#DejaVuSans-48\"/>\n      </g>\n     </g>\n    </g>\n   </g>\n   <g id=\"patch_4\">\n    <path d=\"M 412.095625 228.439219 \nL 412.095625 227.589844 \nL 412.095625 11.848594 \nL 412.095625 10.999219 \nL 422.967625 10.999219 \nL 422.967625 11.848594 \nL 422.967625 227.589844 \nL 422.967625 228.439219 \nz\n\" style=\"fill:none;\"/>\n   </g>\n  </g>\n </g>\n <defs>\n  <clipPath id=\"p6d303ce28e\">\n   <rect height=\"217.44\" width=\"267.84\" x=\"127.515625\" y=\"10.999219\"/>\n  </clipPath>\n  <clipPath id=\"p44418c8892\">\n   <rect height=\"217.44\" width=\"10.872\" x=\"412.095625\" y=\"10.999219\"/>\n  </clipPath>\n </defs>\n</svg>\n"
          },
          "metadata": {
            "needs_background": "light"
          }
        }
      ]
    },
    {
      "cell_type": "code",
      "metadata": {
        "id": "MpRZ2ssBVnLd"
      },
      "source": [
        "del df['framebased']\n",
        "del df['urlid']\n",
        "del df['alchemy_category_score']"
      ],
      "execution_count": null,
      "outputs": []
    },
    {
      "cell_type": "code",
      "metadata": {
        "id": "7M7jbCh8bVzE"
      },
      "source": [
        "df['is_news'] = df['is_news'].str.replace('?', '0').astype(int)"
      ],
      "execution_count": null,
      "outputs": []
    },
    {
      "cell_type": "code",
      "metadata": {
        "colab": {
          "base_uri": "https://localhost:8080/"
        },
        "id": "RhDZytntZSqS",
        "outputId": "b36906d6-32c0-43f4-bc9d-73af8c8ac1e5"
      },
      "source": [
        "df.columns"
      ],
      "execution_count": null,
      "outputs": [
        {
          "output_type": "execute_result",
          "data": {
            "text/plain": [
              "Index(['url', 'boilerplate', 'alchemy_category', 'avglinksize',\n",
              "       'commonlinkratio_1', 'commonlinkratio_2', 'commonlinkratio_3',\n",
              "       'commonlinkratio_4', 'compression_ratio', 'embed_ratio',\n",
              "       'frameTagRatio', 'hasDomainLink', 'html_ratio', 'image_ratio',\n",
              "       'is_news', 'lengthyLinkDomain', 'linkwordscore', 'news_front_page',\n",
              "       'non_markup_alphanum_characters', 'numberOfLinks', 'numwords_in_url',\n",
              "       'parametrizedLinkRatio', 'spelling_errors_ratio', 'label'],\n",
              "      dtype='object')"
            ]
          },
          "metadata": {},
          "execution_count": 13
        }
      ]
    },
    {
      "cell_type": "code",
      "metadata": {
        "colab": {
          "base_uri": "https://localhost:8080/",
          "height": 226
        },
        "id": "c8W0OrGyW0EJ",
        "outputId": "a1fb6b92-0feb-434a-d3f9-efe1ad65a552"
      },
      "source": [
        "features_df = df.drop('label' , axis = 1)\n",
        "num_features = features_df.select_dtypes(np.number)\n",
        "num_features.sample(5)"
      ],
      "execution_count": null,
      "outputs": [
        {
          "output_type": "execute_result",
          "data": {
            "text/html": [
              "<div>\n",
              "<style scoped>\n",
              "    .dataframe tbody tr th:only-of-type {\n",
              "        vertical-align: middle;\n",
              "    }\n",
              "\n",
              "    .dataframe tbody tr th {\n",
              "        vertical-align: top;\n",
              "    }\n",
              "\n",
              "    .dataframe thead th {\n",
              "        text-align: right;\n",
              "    }\n",
              "</style>\n",
              "<table border=\"1\" class=\"dataframe\">\n",
              "  <thead>\n",
              "    <tr style=\"text-align: right;\">\n",
              "      <th></th>\n",
              "      <th>avglinksize</th>\n",
              "      <th>commonlinkratio_1</th>\n",
              "      <th>commonlinkratio_2</th>\n",
              "      <th>commonlinkratio_3</th>\n",
              "      <th>commonlinkratio_4</th>\n",
              "      <th>compression_ratio</th>\n",
              "      <th>embed_ratio</th>\n",
              "      <th>frameTagRatio</th>\n",
              "      <th>hasDomainLink</th>\n",
              "      <th>html_ratio</th>\n",
              "      <th>image_ratio</th>\n",
              "      <th>is_news</th>\n",
              "      <th>lengthyLinkDomain</th>\n",
              "      <th>linkwordscore</th>\n",
              "      <th>non_markup_alphanum_characters</th>\n",
              "      <th>numberOfLinks</th>\n",
              "      <th>numwords_in_url</th>\n",
              "      <th>parametrizedLinkRatio</th>\n",
              "      <th>spelling_errors_ratio</th>\n",
              "    </tr>\n",
              "  </thead>\n",
              "  <tbody>\n",
              "    <tr>\n",
              "      <th>5897</th>\n",
              "      <td>1.046875</td>\n",
              "      <td>0.184211</td>\n",
              "      <td>0.039474</td>\n",
              "      <td>0.000000</td>\n",
              "      <td>0.000000</td>\n",
              "      <td>0.521438</td>\n",
              "      <td>0.0</td>\n",
              "      <td>0.168950</td>\n",
              "      <td>0</td>\n",
              "      <td>0.224373</td>\n",
              "      <td>0.304348</td>\n",
              "      <td>1</td>\n",
              "      <td>0</td>\n",
              "      <td>23</td>\n",
              "      <td>1159</td>\n",
              "      <td>76</td>\n",
              "      <td>5</td>\n",
              "      <td>0.355263</td>\n",
              "      <td>0.128788</td>\n",
              "    </tr>\n",
              "    <tr>\n",
              "      <th>5259</th>\n",
              "      <td>1.040541</td>\n",
              "      <td>0.175824</td>\n",
              "      <td>0.054945</td>\n",
              "      <td>0.000000</td>\n",
              "      <td>0.000000</td>\n",
              "      <td>0.495565</td>\n",
              "      <td>0.0</td>\n",
              "      <td>0.152263</td>\n",
              "      <td>0</td>\n",
              "      <td>0.224610</td>\n",
              "      <td>0.250000</td>\n",
              "      <td>1</td>\n",
              "      <td>0</td>\n",
              "      <td>20</td>\n",
              "      <td>1562</td>\n",
              "      <td>91</td>\n",
              "      <td>6</td>\n",
              "      <td>0.296703</td>\n",
              "      <td>0.084848</td>\n",
              "    </tr>\n",
              "    <tr>\n",
              "      <th>383</th>\n",
              "      <td>1.750000</td>\n",
              "      <td>0.708861</td>\n",
              "      <td>0.274262</td>\n",
              "      <td>0.084388</td>\n",
              "      <td>0.016878</td>\n",
              "      <td>0.003554</td>\n",
              "      <td>-1.0</td>\n",
              "      <td>0.014659</td>\n",
              "      <td>1</td>\n",
              "      <td>0.204944</td>\n",
              "      <td>-1.000000</td>\n",
              "      <td>1</td>\n",
              "      <td>0</td>\n",
              "      <td>6</td>\n",
              "      <td>29274</td>\n",
              "      <td>237</td>\n",
              "      <td>8</td>\n",
              "      <td>0.734177</td>\n",
              "      <td>0.045455</td>\n",
              "    </tr>\n",
              "    <tr>\n",
              "      <th>796</th>\n",
              "      <td>1.671756</td>\n",
              "      <td>0.328244</td>\n",
              "      <td>0.259542</td>\n",
              "      <td>0.038168</td>\n",
              "      <td>0.030534</td>\n",
              "      <td>0.367338</td>\n",
              "      <td>0.0</td>\n",
              "      <td>0.064356</td>\n",
              "      <td>0</td>\n",
              "      <td>0.218206</td>\n",
              "      <td>0.138418</td>\n",
              "      <td>1</td>\n",
              "      <td>1</td>\n",
              "      <td>30</td>\n",
              "      <td>2673</td>\n",
              "      <td>131</td>\n",
              "      <td>7</td>\n",
              "      <td>0.053435</td>\n",
              "      <td>0.076712</td>\n",
              "    </tr>\n",
              "    <tr>\n",
              "      <th>2280</th>\n",
              "      <td>4.730159</td>\n",
              "      <td>0.700935</td>\n",
              "      <td>0.467290</td>\n",
              "      <td>0.233645</td>\n",
              "      <td>0.112150</td>\n",
              "      <td>0.376776</td>\n",
              "      <td>0.0</td>\n",
              "      <td>0.062837</td>\n",
              "      <td>0</td>\n",
              "      <td>0.276505</td>\n",
              "      <td>0.080882</td>\n",
              "      <td>0</td>\n",
              "      <td>1</td>\n",
              "      <td>49</td>\n",
              "      <td>1716</td>\n",
              "      <td>107</td>\n",
              "      <td>7</td>\n",
              "      <td>0.289720</td>\n",
              "      <td>0.116608</td>\n",
              "    </tr>\n",
              "  </tbody>\n",
              "</table>\n",
              "</div>"
            ],
            "text/plain": [
              "      avglinksize  ...  spelling_errors_ratio\n",
              "5897     1.046875  ...               0.128788\n",
              "5259     1.040541  ...               0.084848\n",
              "383      1.750000  ...               0.045455\n",
              "796      1.671756  ...               0.076712\n",
              "2280     4.730159  ...               0.116608\n",
              "\n",
              "[5 rows x 19 columns]"
            ]
          },
          "metadata": {},
          "execution_count": 15
        }
      ]
    },
    {
      "cell_type": "code",
      "metadata": {
        "colab": {
          "base_uri": "https://localhost:8080/",
          "height": 320
        },
        "id": "DS0St7upZOdX",
        "outputId": "6445a822-e43d-4ab7-99c0-c3e0c939cf58"
      },
      "source": [
        "num_features.describe()"
      ],
      "execution_count": null,
      "outputs": [
        {
          "output_type": "execute_result",
          "data": {
            "text/html": [
              "<div>\n",
              "<style scoped>\n",
              "    .dataframe tbody tr th:only-of-type {\n",
              "        vertical-align: middle;\n",
              "    }\n",
              "\n",
              "    .dataframe tbody tr th {\n",
              "        vertical-align: top;\n",
              "    }\n",
              "\n",
              "    .dataframe thead th {\n",
              "        text-align: right;\n",
              "    }\n",
              "</style>\n",
              "<table border=\"1\" class=\"dataframe\">\n",
              "  <thead>\n",
              "    <tr style=\"text-align: right;\">\n",
              "      <th></th>\n",
              "      <th>avglinksize</th>\n",
              "      <th>commonlinkratio_1</th>\n",
              "      <th>commonlinkratio_2</th>\n",
              "      <th>commonlinkratio_3</th>\n",
              "      <th>commonlinkratio_4</th>\n",
              "      <th>compression_ratio</th>\n",
              "      <th>embed_ratio</th>\n",
              "      <th>frameTagRatio</th>\n",
              "      <th>hasDomainLink</th>\n",
              "      <th>html_ratio</th>\n",
              "      <th>image_ratio</th>\n",
              "      <th>is_news</th>\n",
              "      <th>lengthyLinkDomain</th>\n",
              "      <th>linkwordscore</th>\n",
              "      <th>non_markup_alphanum_characters</th>\n",
              "      <th>numberOfLinks</th>\n",
              "      <th>numwords_in_url</th>\n",
              "      <th>parametrizedLinkRatio</th>\n",
              "      <th>spelling_errors_ratio</th>\n",
              "    </tr>\n",
              "  </thead>\n",
              "  <tbody>\n",
              "    <tr>\n",
              "      <th>count</th>\n",
              "      <td>7395.000000</td>\n",
              "      <td>7395.000000</td>\n",
              "      <td>7395.000000</td>\n",
              "      <td>7395.000000</td>\n",
              "      <td>7395.000000</td>\n",
              "      <td>7395.000000</td>\n",
              "      <td>7395.000000</td>\n",
              "      <td>7395.000000</td>\n",
              "      <td>7395.000000</td>\n",
              "      <td>7395.000000</td>\n",
              "      <td>7395.000000</td>\n",
              "      <td>7395.000000</td>\n",
              "      <td>7395.000000</td>\n",
              "      <td>7395.000000</td>\n",
              "      <td>7395.000000</td>\n",
              "      <td>7395.000000</td>\n",
              "      <td>7395.000000</td>\n",
              "      <td>7395.000000</td>\n",
              "      <td>7395.000000</td>\n",
              "    </tr>\n",
              "    <tr>\n",
              "      <th>mean</th>\n",
              "      <td>2.761823</td>\n",
              "      <td>0.468230</td>\n",
              "      <td>0.214080</td>\n",
              "      <td>0.092062</td>\n",
              "      <td>0.049262</td>\n",
              "      <td>2.255103</td>\n",
              "      <td>-0.103750</td>\n",
              "      <td>0.056423</td>\n",
              "      <td>0.021231</td>\n",
              "      <td>0.233778</td>\n",
              "      <td>0.275709</td>\n",
              "      <td>0.615551</td>\n",
              "      <td>0.660311</td>\n",
              "      <td>30.077079</td>\n",
              "      <td>5716.598242</td>\n",
              "      <td>178.754564</td>\n",
              "      <td>4.960649</td>\n",
              "      <td>0.172864</td>\n",
              "      <td>0.101221</td>\n",
              "    </tr>\n",
              "    <tr>\n",
              "      <th>std</th>\n",
              "      <td>8.619793</td>\n",
              "      <td>0.203133</td>\n",
              "      <td>0.146743</td>\n",
              "      <td>0.095978</td>\n",
              "      <td>0.072629</td>\n",
              "      <td>5.704313</td>\n",
              "      <td>0.306545</td>\n",
              "      <td>0.041446</td>\n",
              "      <td>0.144162</td>\n",
              "      <td>0.052487</td>\n",
              "      <td>1.919320</td>\n",
              "      <td>0.486498</td>\n",
              "      <td>0.473636</td>\n",
              "      <td>20.393101</td>\n",
              "      <td>8875.432430</td>\n",
              "      <td>179.466198</td>\n",
              "      <td>3.233111</td>\n",
              "      <td>0.183286</td>\n",
              "      <td>0.079231</td>\n",
              "    </tr>\n",
              "    <tr>\n",
              "      <th>min</th>\n",
              "      <td>0.000000</td>\n",
              "      <td>0.000000</td>\n",
              "      <td>0.000000</td>\n",
              "      <td>0.000000</td>\n",
              "      <td>0.000000</td>\n",
              "      <td>0.000000</td>\n",
              "      <td>-1.000000</td>\n",
              "      <td>0.000000</td>\n",
              "      <td>0.000000</td>\n",
              "      <td>0.045564</td>\n",
              "      <td>-1.000000</td>\n",
              "      <td>0.000000</td>\n",
              "      <td>0.000000</td>\n",
              "      <td>0.000000</td>\n",
              "      <td>0.000000</td>\n",
              "      <td>1.000000</td>\n",
              "      <td>0.000000</td>\n",
              "      <td>0.000000</td>\n",
              "      <td>0.000000</td>\n",
              "    </tr>\n",
              "    <tr>\n",
              "      <th>25%</th>\n",
              "      <td>1.602062</td>\n",
              "      <td>0.340370</td>\n",
              "      <td>0.105263</td>\n",
              "      <td>0.022222</td>\n",
              "      <td>0.000000</td>\n",
              "      <td>0.442616</td>\n",
              "      <td>0.000000</td>\n",
              "      <td>0.028502</td>\n",
              "      <td>0.000000</td>\n",
              "      <td>0.201061</td>\n",
              "      <td>0.025900</td>\n",
              "      <td>0.000000</td>\n",
              "      <td>0.000000</td>\n",
              "      <td>14.000000</td>\n",
              "      <td>1579.000000</td>\n",
              "      <td>82.000000</td>\n",
              "      <td>3.000000</td>\n",
              "      <td>0.040984</td>\n",
              "      <td>0.068739</td>\n",
              "    </tr>\n",
              "    <tr>\n",
              "      <th>50%</th>\n",
              "      <td>2.088235</td>\n",
              "      <td>0.481481</td>\n",
              "      <td>0.202454</td>\n",
              "      <td>0.068627</td>\n",
              "      <td>0.022222</td>\n",
              "      <td>0.483680</td>\n",
              "      <td>0.000000</td>\n",
              "      <td>0.045775</td>\n",
              "      <td>0.000000</td>\n",
              "      <td>0.230564</td>\n",
              "      <td>0.083051</td>\n",
              "      <td>1.000000</td>\n",
              "      <td>1.000000</td>\n",
              "      <td>25.000000</td>\n",
              "      <td>3500.000000</td>\n",
              "      <td>139.000000</td>\n",
              "      <td>5.000000</td>\n",
              "      <td>0.113402</td>\n",
              "      <td>0.089312</td>\n",
              "    </tr>\n",
              "    <tr>\n",
              "      <th>75%</th>\n",
              "      <td>2.627451</td>\n",
              "      <td>0.616604</td>\n",
              "      <td>0.300000</td>\n",
              "      <td>0.133333</td>\n",
              "      <td>0.065065</td>\n",
              "      <td>0.578227</td>\n",
              "      <td>0.000000</td>\n",
              "      <td>0.073459</td>\n",
              "      <td>0.000000</td>\n",
              "      <td>0.260770</td>\n",
              "      <td>0.236700</td>\n",
              "      <td>1.000000</td>\n",
              "      <td>1.000000</td>\n",
              "      <td>43.000000</td>\n",
              "      <td>6377.000000</td>\n",
              "      <td>222.000000</td>\n",
              "      <td>7.000000</td>\n",
              "      <td>0.241299</td>\n",
              "      <td>0.112376</td>\n",
              "    </tr>\n",
              "    <tr>\n",
              "      <th>max</th>\n",
              "      <td>363.000000</td>\n",
              "      <td>1.000000</td>\n",
              "      <td>1.000000</td>\n",
              "      <td>0.980392</td>\n",
              "      <td>0.980392</td>\n",
              "      <td>21.000000</td>\n",
              "      <td>0.250000</td>\n",
              "      <td>0.444444</td>\n",
              "      <td>1.000000</td>\n",
              "      <td>0.716883</td>\n",
              "      <td>113.333333</td>\n",
              "      <td>1.000000</td>\n",
              "      <td>1.000000</td>\n",
              "      <td>100.000000</td>\n",
              "      <td>207952.000000</td>\n",
              "      <td>4997.000000</td>\n",
              "      <td>22.000000</td>\n",
              "      <td>1.000000</td>\n",
              "      <td>1.000000</td>\n",
              "    </tr>\n",
              "  </tbody>\n",
              "</table>\n",
              "</div>"
            ],
            "text/plain": [
              "       avglinksize  ...  spelling_errors_ratio\n",
              "count  7395.000000  ...            7395.000000\n",
              "mean      2.761823  ...               0.101221\n",
              "std       8.619793  ...               0.079231\n",
              "min       0.000000  ...               0.000000\n",
              "25%       1.602062  ...               0.068739\n",
              "50%       2.088235  ...               0.089312\n",
              "75%       2.627451  ...               0.112376\n",
              "max     363.000000  ...               1.000000\n",
              "\n",
              "[8 rows x 19 columns]"
            ]
          },
          "metadata": {},
          "execution_count": 16
        }
      ]
    },
    {
      "cell_type": "code",
      "metadata": {
        "colab": {
          "base_uri": "https://localhost:8080/",
          "height": 206
        },
        "id": "7ddzhRreb9qF",
        "outputId": "b31313a7-3335-47cd-91e0-fe119cd3425b"
      },
      "source": [
        "cat_features = df.select_dtypes(include = [np.object])\n",
        "cat_features.head(5)"
      ],
      "execution_count": null,
      "outputs": [
        {
          "output_type": "execute_result",
          "data": {
            "text/html": [
              "<div>\n",
              "<style scoped>\n",
              "    .dataframe tbody tr th:only-of-type {\n",
              "        vertical-align: middle;\n",
              "    }\n",
              "\n",
              "    .dataframe tbody tr th {\n",
              "        vertical-align: top;\n",
              "    }\n",
              "\n",
              "    .dataframe thead th {\n",
              "        text-align: right;\n",
              "    }\n",
              "</style>\n",
              "<table border=\"1\" class=\"dataframe\">\n",
              "  <thead>\n",
              "    <tr style=\"text-align: right;\">\n",
              "      <th></th>\n",
              "      <th>url</th>\n",
              "      <th>boilerplate</th>\n",
              "      <th>alchemy_category</th>\n",
              "      <th>news_front_page</th>\n",
              "    </tr>\n",
              "  </thead>\n",
              "  <tbody>\n",
              "    <tr>\n",
              "      <th>0</th>\n",
              "      <td>http://www.bloomberg.com/news/2010-12-23/ibm-p...</td>\n",
              "      <td>{\"title\":\"IBM Sees Holographic Calls Air Breat...</td>\n",
              "      <td>business</td>\n",
              "      <td>0</td>\n",
              "    </tr>\n",
              "    <tr>\n",
              "      <th>1</th>\n",
              "      <td>http://www.popsci.com/technology/article/2012-...</td>\n",
              "      <td>{\"title\":\"The Fully Electronic Futuristic Star...</td>\n",
              "      <td>recreation</td>\n",
              "      <td>0</td>\n",
              "    </tr>\n",
              "    <tr>\n",
              "      <th>2</th>\n",
              "      <td>http://www.menshealth.com/health/flu-fighting-...</td>\n",
              "      <td>{\"title\":\"Fruits that Fight the Flu fruits tha...</td>\n",
              "      <td>health</td>\n",
              "      <td>0</td>\n",
              "    </tr>\n",
              "    <tr>\n",
              "      <th>3</th>\n",
              "      <td>http://www.dumblittleman.com/2007/12/10-foolpr...</td>\n",
              "      <td>{\"title\":\"10 Foolproof Tips for Better Sleep \"...</td>\n",
              "      <td>health</td>\n",
              "      <td>0</td>\n",
              "    </tr>\n",
              "    <tr>\n",
              "      <th>4</th>\n",
              "      <td>http://bleacherreport.com/articles/1205138-the...</td>\n",
              "      <td>{\"title\":\"The 50 Coolest Jerseys You Didn t Kn...</td>\n",
              "      <td>sports</td>\n",
              "      <td>0</td>\n",
              "    </tr>\n",
              "  </tbody>\n",
              "</table>\n",
              "</div>"
            ],
            "text/plain": [
              "                                                 url  ... news_front_page\n",
              "0  http://www.bloomberg.com/news/2010-12-23/ibm-p...  ...               0\n",
              "1  http://www.popsci.com/technology/article/2012-...  ...               0\n",
              "2  http://www.menshealth.com/health/flu-fighting-...  ...               0\n",
              "3  http://www.dumblittleman.com/2007/12/10-foolpr...  ...               0\n",
              "4  http://bleacherreport.com/articles/1205138-the...  ...               0\n",
              "\n",
              "[5 rows x 4 columns]"
            ]
          },
          "metadata": {},
          "execution_count": 17
        }
      ]
    },
    {
      "cell_type": "code",
      "metadata": {
        "colab": {
          "base_uri": "https://localhost:8080/",
          "height": 206
        },
        "id": "VUBE-LciZx64",
        "outputId": "ba159e18-8991-474c-fa3a-5bcaadca0d22"
      },
      "source": [
        "cat_features = df.select_dtypes(include = [np.object])\n",
        "cat_features = cat_features[['alchemy_category', 'news_front_page']]\n",
        "cat_features.sample(5 , random_state = 0)"
      ],
      "execution_count": null,
      "outputs": [
        {
          "output_type": "execute_result",
          "data": {
            "text/html": [
              "<div>\n",
              "<style scoped>\n",
              "    .dataframe tbody tr th:only-of-type {\n",
              "        vertical-align: middle;\n",
              "    }\n",
              "\n",
              "    .dataframe tbody tr th {\n",
              "        vertical-align: top;\n",
              "    }\n",
              "\n",
              "    .dataframe thead th {\n",
              "        text-align: right;\n",
              "    }\n",
              "</style>\n",
              "<table border=\"1\" class=\"dataframe\">\n",
              "  <thead>\n",
              "    <tr style=\"text-align: right;\">\n",
              "      <th></th>\n",
              "      <th>alchemy_category</th>\n",
              "      <th>news_front_page</th>\n",
              "    </tr>\n",
              "  </thead>\n",
              "  <tbody>\n",
              "    <tr>\n",
              "      <th>4646</th>\n",
              "      <td>?</td>\n",
              "      <td>?</td>\n",
              "    </tr>\n",
              "    <tr>\n",
              "      <th>3110</th>\n",
              "      <td>health</td>\n",
              "      <td>0</td>\n",
              "    </tr>\n",
              "    <tr>\n",
              "      <th>467</th>\n",
              "      <td>?</td>\n",
              "      <td>?</td>\n",
              "    </tr>\n",
              "    <tr>\n",
              "      <th>526</th>\n",
              "      <td>sports</td>\n",
              "      <td>0</td>\n",
              "    </tr>\n",
              "    <tr>\n",
              "      <th>2194</th>\n",
              "      <td>sports</td>\n",
              "      <td>0</td>\n",
              "    </tr>\n",
              "  </tbody>\n",
              "</table>\n",
              "</div>"
            ],
            "text/plain": [
              "     alchemy_category news_front_page\n",
              "4646                ?               ?\n",
              "3110           health               0\n",
              "467                 ?               ?\n",
              "526            sports               0\n",
              "2194           sports               0"
            ]
          },
          "metadata": {},
          "execution_count": 18
        }
      ]
    },
    {
      "cell_type": "code",
      "metadata": {
        "colab": {
          "base_uri": "https://localhost:8080/",
          "height": 194
        },
        "id": "xnZU0eWJaGbo",
        "outputId": "2e455332-a526-41f2-9536-7a70f9e29bb9"
      },
      "source": [
        "pd.get_dummies(cat_features).head(4)"
      ],
      "execution_count": null,
      "outputs": [
        {
          "output_type": "execute_result",
          "data": {
            "text/html": [
              "<div>\n",
              "<style scoped>\n",
              "    .dataframe tbody tr th:only-of-type {\n",
              "        vertical-align: middle;\n",
              "    }\n",
              "\n",
              "    .dataframe tbody tr th {\n",
              "        vertical-align: top;\n",
              "    }\n",
              "\n",
              "    .dataframe thead th {\n",
              "        text-align: right;\n",
              "    }\n",
              "</style>\n",
              "<table border=\"1\" class=\"dataframe\">\n",
              "  <thead>\n",
              "    <tr style=\"text-align: right;\">\n",
              "      <th></th>\n",
              "      <th>alchemy_category_?</th>\n",
              "      <th>alchemy_category_arts_entertainment</th>\n",
              "      <th>alchemy_category_business</th>\n",
              "      <th>alchemy_category_computer_internet</th>\n",
              "      <th>alchemy_category_culture_politics</th>\n",
              "      <th>alchemy_category_gaming</th>\n",
              "      <th>alchemy_category_health</th>\n",
              "      <th>alchemy_category_law_crime</th>\n",
              "      <th>alchemy_category_recreation</th>\n",
              "      <th>alchemy_category_religion</th>\n",
              "      <th>alchemy_category_science_technology</th>\n",
              "      <th>alchemy_category_sports</th>\n",
              "      <th>alchemy_category_unknown</th>\n",
              "      <th>alchemy_category_weather</th>\n",
              "      <th>news_front_page_0</th>\n",
              "      <th>news_front_page_1</th>\n",
              "      <th>news_front_page_?</th>\n",
              "    </tr>\n",
              "  </thead>\n",
              "  <tbody>\n",
              "    <tr>\n",
              "      <th>0</th>\n",
              "      <td>0</td>\n",
              "      <td>0</td>\n",
              "      <td>1</td>\n",
              "      <td>0</td>\n",
              "      <td>0</td>\n",
              "      <td>0</td>\n",
              "      <td>0</td>\n",
              "      <td>0</td>\n",
              "      <td>0</td>\n",
              "      <td>0</td>\n",
              "      <td>0</td>\n",
              "      <td>0</td>\n",
              "      <td>0</td>\n",
              "      <td>0</td>\n",
              "      <td>1</td>\n",
              "      <td>0</td>\n",
              "      <td>0</td>\n",
              "    </tr>\n",
              "    <tr>\n",
              "      <th>1</th>\n",
              "      <td>0</td>\n",
              "      <td>0</td>\n",
              "      <td>0</td>\n",
              "      <td>0</td>\n",
              "      <td>0</td>\n",
              "      <td>0</td>\n",
              "      <td>0</td>\n",
              "      <td>0</td>\n",
              "      <td>1</td>\n",
              "      <td>0</td>\n",
              "      <td>0</td>\n",
              "      <td>0</td>\n",
              "      <td>0</td>\n",
              "      <td>0</td>\n",
              "      <td>1</td>\n",
              "      <td>0</td>\n",
              "      <td>0</td>\n",
              "    </tr>\n",
              "    <tr>\n",
              "      <th>2</th>\n",
              "      <td>0</td>\n",
              "      <td>0</td>\n",
              "      <td>0</td>\n",
              "      <td>0</td>\n",
              "      <td>0</td>\n",
              "      <td>0</td>\n",
              "      <td>1</td>\n",
              "      <td>0</td>\n",
              "      <td>0</td>\n",
              "      <td>0</td>\n",
              "      <td>0</td>\n",
              "      <td>0</td>\n",
              "      <td>0</td>\n",
              "      <td>0</td>\n",
              "      <td>1</td>\n",
              "      <td>0</td>\n",
              "      <td>0</td>\n",
              "    </tr>\n",
              "    <tr>\n",
              "      <th>3</th>\n",
              "      <td>0</td>\n",
              "      <td>0</td>\n",
              "      <td>0</td>\n",
              "      <td>0</td>\n",
              "      <td>0</td>\n",
              "      <td>0</td>\n",
              "      <td>1</td>\n",
              "      <td>0</td>\n",
              "      <td>0</td>\n",
              "      <td>0</td>\n",
              "      <td>0</td>\n",
              "      <td>0</td>\n",
              "      <td>0</td>\n",
              "      <td>0</td>\n",
              "      <td>1</td>\n",
              "      <td>0</td>\n",
              "      <td>0</td>\n",
              "    </tr>\n",
              "  </tbody>\n",
              "</table>\n",
              "</div>"
            ],
            "text/plain": [
              "   alchemy_category_?  ...  news_front_page_?\n",
              "0                   0  ...                  0\n",
              "1                   0  ...                  0\n",
              "2                   0  ...                  0\n",
              "3                   0  ...                  0\n",
              "\n",
              "[4 rows x 17 columns]"
            ]
          },
          "metadata": {},
          "execution_count": 19
        }
      ]
    },
    {
      "cell_type": "markdown",
      "metadata": {
        "id": "yoWD6zTZdEvv"
      },
      "source": [
        "## Modeling \n"
      ]
    },
    {
      "cell_type": "code",
      "metadata": {
        "colab": {
          "base_uri": "https://localhost:8080/",
          "height": 163
        },
        "id": "cjqxDcGwh6oy",
        "outputId": "42aea78e-8735-4e82-b78b-14eeaf0253e0"
      },
      "source": [
        "pd.get_dummies(cat_features ).head(3)"
      ],
      "execution_count": null,
      "outputs": [
        {
          "output_type": "execute_result",
          "data": {
            "text/html": [
              "<div>\n",
              "<style scoped>\n",
              "    .dataframe tbody tr th:only-of-type {\n",
              "        vertical-align: middle;\n",
              "    }\n",
              "\n",
              "    .dataframe tbody tr th {\n",
              "        vertical-align: top;\n",
              "    }\n",
              "\n",
              "    .dataframe thead th {\n",
              "        text-align: right;\n",
              "    }\n",
              "</style>\n",
              "<table border=\"1\" class=\"dataframe\">\n",
              "  <thead>\n",
              "    <tr style=\"text-align: right;\">\n",
              "      <th></th>\n",
              "      <th>alchemy_category_?</th>\n",
              "      <th>alchemy_category_arts_entertainment</th>\n",
              "      <th>alchemy_category_business</th>\n",
              "      <th>alchemy_category_computer_internet</th>\n",
              "      <th>alchemy_category_culture_politics</th>\n",
              "      <th>alchemy_category_gaming</th>\n",
              "      <th>alchemy_category_health</th>\n",
              "      <th>alchemy_category_law_crime</th>\n",
              "      <th>alchemy_category_recreation</th>\n",
              "      <th>alchemy_category_religion</th>\n",
              "      <th>alchemy_category_science_technology</th>\n",
              "      <th>alchemy_category_sports</th>\n",
              "      <th>alchemy_category_unknown</th>\n",
              "      <th>alchemy_category_weather</th>\n",
              "      <th>news_front_page_0</th>\n",
              "      <th>news_front_page_1</th>\n",
              "      <th>news_front_page_?</th>\n",
              "    </tr>\n",
              "  </thead>\n",
              "  <tbody>\n",
              "    <tr>\n",
              "      <th>0</th>\n",
              "      <td>0</td>\n",
              "      <td>0</td>\n",
              "      <td>1</td>\n",
              "      <td>0</td>\n",
              "      <td>0</td>\n",
              "      <td>0</td>\n",
              "      <td>0</td>\n",
              "      <td>0</td>\n",
              "      <td>0</td>\n",
              "      <td>0</td>\n",
              "      <td>0</td>\n",
              "      <td>0</td>\n",
              "      <td>0</td>\n",
              "      <td>0</td>\n",
              "      <td>1</td>\n",
              "      <td>0</td>\n",
              "      <td>0</td>\n",
              "    </tr>\n",
              "    <tr>\n",
              "      <th>1</th>\n",
              "      <td>0</td>\n",
              "      <td>0</td>\n",
              "      <td>0</td>\n",
              "      <td>0</td>\n",
              "      <td>0</td>\n",
              "      <td>0</td>\n",
              "      <td>0</td>\n",
              "      <td>0</td>\n",
              "      <td>1</td>\n",
              "      <td>0</td>\n",
              "      <td>0</td>\n",
              "      <td>0</td>\n",
              "      <td>0</td>\n",
              "      <td>0</td>\n",
              "      <td>1</td>\n",
              "      <td>0</td>\n",
              "      <td>0</td>\n",
              "    </tr>\n",
              "    <tr>\n",
              "      <th>2</th>\n",
              "      <td>0</td>\n",
              "      <td>0</td>\n",
              "      <td>0</td>\n",
              "      <td>0</td>\n",
              "      <td>0</td>\n",
              "      <td>0</td>\n",
              "      <td>1</td>\n",
              "      <td>0</td>\n",
              "      <td>0</td>\n",
              "      <td>0</td>\n",
              "      <td>0</td>\n",
              "      <td>0</td>\n",
              "      <td>0</td>\n",
              "      <td>0</td>\n",
              "      <td>1</td>\n",
              "      <td>0</td>\n",
              "      <td>0</td>\n",
              "    </tr>\n",
              "  </tbody>\n",
              "</table>\n",
              "</div>"
            ],
            "text/plain": [
              "   alchemy_category_?  ...  news_front_page_?\n",
              "0                   0  ...                  0\n",
              "1                   0  ...                  0\n",
              "2                   0  ...                  0\n",
              "\n",
              "[3 rows x 17 columns]"
            ]
          },
          "metadata": {},
          "execution_count": 20
        }
      ]
    },
    {
      "cell_type": "code",
      "metadata": {
        "colab": {
          "base_uri": "https://localhost:8080/"
        },
        "id": "WjGeEuIciIfw",
        "outputId": "da16f8f8-e7f6-4eb9-afe7-14f61e21b54d"
      },
      "source": [
        "features_df = pd.concat([num_features, pd.get_dummies(cat_features)], axis = 1)\n",
        "features_df.shape"
      ],
      "execution_count": null,
      "outputs": [
        {
          "output_type": "execute_result",
          "data": {
            "text/plain": [
              "(7395, 36)"
            ]
          },
          "metadata": {},
          "execution_count": 21
        }
      ]
    },
    {
      "cell_type": "code",
      "metadata": {
        "colab": {
          "base_uri": "https://localhost:8080/"
        },
        "id": "CtUOJZURiKs8",
        "outputId": "63baa202-056b-40da-fd80-fdad2b31f800"
      },
      "source": [
        "target = df['label']\n",
        "target.shape"
      ],
      "execution_count": null,
      "outputs": [
        {
          "output_type": "execute_result",
          "data": {
            "text/plain": [
              "(7395,)"
            ]
          },
          "metadata": {},
          "execution_count": 22
        }
      ]
    },
    {
      "cell_type": "code",
      "metadata": {
        "id": "o84KPXNlVJdc"
      },
      "source": [
        "features_df = (features_df - features_df.mean())/features_df.std()"
      ],
      "execution_count": null,
      "outputs": []
    },
    {
      "cell_type": "code",
      "metadata": {
        "colab": {
          "base_uri": "https://localhost:8080/",
          "height": 226
        },
        "id": "L5lIZNZ3VBvm",
        "outputId": "c2ee3ac3-2e9b-4c6a-ab50-79de42e47fee"
      },
      "source": [
        "features_df.head()"
      ],
      "execution_count": null,
      "outputs": [
        {
          "output_type": "execute_result",
          "data": {
            "text/html": [
              "<div>\n",
              "<style scoped>\n",
              "    .dataframe tbody tr th:only-of-type {\n",
              "        vertical-align: middle;\n",
              "    }\n",
              "\n",
              "    .dataframe tbody tr th {\n",
              "        vertical-align: top;\n",
              "    }\n",
              "\n",
              "    .dataframe thead th {\n",
              "        text-align: right;\n",
              "    }\n",
              "</style>\n",
              "<table border=\"1\" class=\"dataframe\">\n",
              "  <thead>\n",
              "    <tr style=\"text-align: right;\">\n",
              "      <th></th>\n",
              "      <th>avglinksize</th>\n",
              "      <th>commonlinkratio_1</th>\n",
              "      <th>commonlinkratio_2</th>\n",
              "      <th>commonlinkratio_3</th>\n",
              "      <th>commonlinkratio_4</th>\n",
              "      <th>compression_ratio</th>\n",
              "      <th>embed_ratio</th>\n",
              "      <th>frameTagRatio</th>\n",
              "      <th>hasDomainLink</th>\n",
              "      <th>html_ratio</th>\n",
              "      <th>image_ratio</th>\n",
              "      <th>is_news</th>\n",
              "      <th>lengthyLinkDomain</th>\n",
              "      <th>linkwordscore</th>\n",
              "      <th>non_markup_alphanum_characters</th>\n",
              "      <th>numberOfLinks</th>\n",
              "      <th>numwords_in_url</th>\n",
              "      <th>parametrizedLinkRatio</th>\n",
              "      <th>spelling_errors_ratio</th>\n",
              "      <th>alchemy_category_?</th>\n",
              "      <th>alchemy_category_arts_entertainment</th>\n",
              "      <th>alchemy_category_business</th>\n",
              "      <th>alchemy_category_computer_internet</th>\n",
              "      <th>alchemy_category_culture_politics</th>\n",
              "      <th>alchemy_category_gaming</th>\n",
              "      <th>alchemy_category_health</th>\n",
              "      <th>alchemy_category_law_crime</th>\n",
              "      <th>alchemy_category_recreation</th>\n",
              "      <th>alchemy_category_religion</th>\n",
              "      <th>alchemy_category_science_technology</th>\n",
              "      <th>alchemy_category_sports</th>\n",
              "      <th>alchemy_category_unknown</th>\n",
              "      <th>alchemy_category_weather</th>\n",
              "      <th>news_front_page_0</th>\n",
              "      <th>news_front_page_1</th>\n",
              "      <th>news_front_page_?</th>\n",
              "    </tr>\n",
              "  </thead>\n",
              "  <tbody>\n",
              "    <tr>\n",
              "      <th>0</th>\n",
              "      <td>-0.081936</td>\n",
              "      <td>1.025140</td>\n",
              "      <td>-0.055864</td>\n",
              "      <td>-0.468893</td>\n",
              "      <td>-0.354305</td>\n",
              "      <td>-0.317535</td>\n",
              "      <td>0.338451</td>\n",
              "      <td>0.828822</td>\n",
              "      <td>-0.147269</td>\n",
              "      <td>0.229640</td>\n",
              "      <td>-0.141626</td>\n",
              "      <td>0.790238</td>\n",
              "      <td>0.717195</td>\n",
              "      <td>-0.297997</td>\n",
              "      <td>-0.032967</td>\n",
              "      <td>-0.048781</td>\n",
              "      <td>0.940070</td>\n",
              "      <td>-0.108698</td>\n",
              "      <td>-0.278821</td>\n",
              "      <td>-0.680753</td>\n",
              "      <td>-0.381813</td>\n",
              "      <td>2.720737</td>\n",
              "      <td>-0.204182</td>\n",
              "      <td>-0.220527</td>\n",
              "      <td>-0.101895</td>\n",
              "      <td>-0.270999</td>\n",
              "      <td>-0.064878</td>\n",
              "      <td>-0.446421</td>\n",
              "      <td>-0.09915</td>\n",
              "      <td>-0.201654</td>\n",
              "      <td>-0.232728</td>\n",
              "      <td>-0.028494</td>\n",
              "      <td>-0.023262</td>\n",
              "      <td>0.513244</td>\n",
              "      <td>-0.203463</td>\n",
              "      <td>-0.450553</td>\n",
              "    </tr>\n",
              "    <tr>\n",
              "      <th>1</th>\n",
              "      <td>0.106284</td>\n",
              "      <td>0.195886</td>\n",
              "      <td>0.508987</td>\n",
              "      <td>1.269469</td>\n",
              "      <td>1.309714</td>\n",
              "      <td>-0.313176</td>\n",
              "      <td>0.338451</td>\n",
              "      <td>1.020244</td>\n",
              "      <td>-0.147269</td>\n",
              "      <td>-0.577072</td>\n",
              "      <td>-0.097460</td>\n",
              "      <td>0.790238</td>\n",
              "      <td>0.717195</td>\n",
              "      <td>0.486582</td>\n",
              "      <td>-0.083782</td>\n",
              "      <td>0.045944</td>\n",
              "      <td>1.249370</td>\n",
              "      <td>0.048853</td>\n",
              "      <td>0.305780</td>\n",
              "      <td>-0.680753</td>\n",
              "      <td>-0.381813</td>\n",
              "      <td>-0.367498</td>\n",
              "      <td>-0.204182</td>\n",
              "      <td>-0.220527</td>\n",
              "      <td>-0.101895</td>\n",
              "      <td>-0.270999</td>\n",
              "      <td>-0.064878</td>\n",
              "      <td>2.239734</td>\n",
              "      <td>-0.09915</td>\n",
              "      <td>-0.201654</td>\n",
              "      <td>-0.232728</td>\n",
              "      <td>-0.028494</td>\n",
              "      <td>-0.023262</td>\n",
              "      <td>0.513244</td>\n",
              "      <td>-0.203463</td>\n",
              "      <td>-0.450553</td>\n",
              "    </tr>\n",
              "    <tr>\n",
              "      <th>2</th>\n",
              "      <td>-0.043962</td>\n",
              "      <td>0.461692</td>\n",
              "      <td>0.733430</td>\n",
              "      <td>0.292698</td>\n",
              "      <td>-0.091238</td>\n",
              "      <td>-0.303219</td>\n",
              "      <td>0.338451</td>\n",
              "      <td>0.386654</td>\n",
              "      <td>-0.147269</td>\n",
              "      <td>-0.140539</td>\n",
              "      <td>-0.080848</td>\n",
              "      <td>0.790238</td>\n",
              "      <td>0.717195</td>\n",
              "      <td>1.222125</td>\n",
              "      <td>-0.391710</td>\n",
              "      <td>0.441562</td>\n",
              "      <td>1.867969</td>\n",
              "      <td>-0.033813</td>\n",
              "      <td>-0.550387</td>\n",
              "      <td>-0.680753</td>\n",
              "      <td>-0.381813</td>\n",
              "      <td>-0.367498</td>\n",
              "      <td>-0.204182</td>\n",
              "      <td>-0.220527</td>\n",
              "      <td>-0.101895</td>\n",
              "      <td>3.689551</td>\n",
              "      <td>-0.064878</td>\n",
              "      <td>-0.446421</td>\n",
              "      <td>-0.09915</td>\n",
              "      <td>-0.201654</td>\n",
              "      <td>-0.232728</td>\n",
              "      <td>-0.028494</td>\n",
              "      <td>-0.023262</td>\n",
              "      <td>0.513244</td>\n",
              "      <td>-0.203463</td>\n",
              "      <td>-0.450553</td>\n",
              "    </tr>\n",
              "    <tr>\n",
              "      <th>3</th>\n",
              "      <td>-0.141386</td>\n",
              "      <td>-0.335890</td>\n",
              "      <td>-0.777414</td>\n",
              "      <td>-0.785550</td>\n",
              "      <td>-0.678274</td>\n",
              "      <td>-0.311059</td>\n",
              "      <td>0.338451</td>\n",
              "      <td>0.951555</td>\n",
              "      <td>-0.147269</td>\n",
              "      <td>0.607347</td>\n",
              "      <td>-0.125235</td>\n",
              "      <td>0.790238</td>\n",
              "      <td>-1.394133</td>\n",
              "      <td>-0.297997</td>\n",
              "      <td>-0.335713</td>\n",
              "      <td>-0.327385</td>\n",
              "      <td>0.012171</td>\n",
              "      <td>-0.715808</td>\n",
              "      <td>-0.004574</td>\n",
              "      <td>-0.680753</td>\n",
              "      <td>-0.381813</td>\n",
              "      <td>-0.367498</td>\n",
              "      <td>-0.204182</td>\n",
              "      <td>-0.220527</td>\n",
              "      <td>-0.101895</td>\n",
              "      <td>3.689551</td>\n",
              "      <td>-0.064878</td>\n",
              "      <td>-0.446421</td>\n",
              "      <td>-0.09915</td>\n",
              "      <td>-0.201654</td>\n",
              "      <td>-0.232728</td>\n",
              "      <td>-0.028494</td>\n",
              "      <td>-0.023262</td>\n",
              "      <td>0.513244</td>\n",
              "      <td>-0.203463</td>\n",
              "      <td>-0.450553</td>\n",
              "    </tr>\n",
              "    <tr>\n",
              "      <th>4</th>\n",
              "      <td>-0.009902</td>\n",
              "      <td>0.156397</td>\n",
              "      <td>0.055487</td>\n",
              "      <td>0.327100</td>\n",
              "      <td>-0.083332</td>\n",
              "      <td>-0.317121</td>\n",
              "      <td>0.338451</td>\n",
              "      <td>-0.760377</td>\n",
              "      <td>-0.147269</td>\n",
              "      <td>-0.093184</td>\n",
              "      <td>-0.117352</td>\n",
              "      <td>0.790238</td>\n",
              "      <td>0.717195</td>\n",
              "      <td>-0.788359</td>\n",
              "      <td>0.711560</td>\n",
              "      <td>-0.093358</td>\n",
              "      <td>1.558669</td>\n",
              "      <td>-0.404279</td>\n",
              "      <td>-0.235413</td>\n",
              "      <td>-0.680753</td>\n",
              "      <td>-0.381813</td>\n",
              "      <td>-0.367498</td>\n",
              "      <td>-0.204182</td>\n",
              "      <td>-0.220527</td>\n",
              "      <td>-0.101895</td>\n",
              "      <td>-0.270999</td>\n",
              "      <td>-0.064878</td>\n",
              "      <td>-0.446421</td>\n",
              "      <td>-0.09915</td>\n",
              "      <td>-0.201654</td>\n",
              "      <td>4.296281</td>\n",
              "      <td>-0.028494</td>\n",
              "      <td>-0.023262</td>\n",
              "      <td>0.513244</td>\n",
              "      <td>-0.203463</td>\n",
              "      <td>-0.450553</td>\n",
              "    </tr>\n",
              "  </tbody>\n",
              "</table>\n",
              "</div>"
            ],
            "text/plain": [
              "   avglinksize  commonlinkratio_1  ...  news_front_page_1  news_front_page_?\n",
              "0    -0.081936           1.025140  ...          -0.203463          -0.450553\n",
              "1     0.106284           0.195886  ...          -0.203463          -0.450553\n",
              "2    -0.043962           0.461692  ...          -0.203463          -0.450553\n",
              "3    -0.141386          -0.335890  ...          -0.203463          -0.450553\n",
              "4    -0.009902           0.156397  ...          -0.203463          -0.450553\n",
              "\n",
              "[5 rows x 36 columns]"
            ]
          },
          "metadata": {},
          "execution_count": 24
        }
      ]
    },
    {
      "cell_type": "code",
      "metadata": {
        "id": "I6FlLG5SdAzQ"
      },
      "source": [
        "from sklearn.model_selection import train_test_split\n",
        "x_train , x_test , y_train , y_test = train_test_split(features_df, target  , test_size = 0.25)"
      ],
      "execution_count": null,
      "outputs": []
    },
    {
      "cell_type": "code",
      "metadata": {
        "colab": {
          "base_uri": "https://localhost:8080/"
        },
        "id": "ARk_54A9hvkq",
        "outputId": "de17bc1e-cb83-4407-b0dd-317f156d30d3"
      },
      "source": [
        "from sklearn.metrics import classification_report\n",
        "from sklearn.dummy import DummyClassifier\n",
        "baseline = DummyClassifier(strategy='most_frequent')\n",
        "baseline.fit(x_train, y_train)\n",
        "baseline_predictions = baseline.predict(x_test)\n",
        "print(classification_report(y_test , baseline_predictions))"
      ],
      "execution_count": null,
      "outputs": [
        {
          "output_type": "stream",
          "name": "stdout",
          "text": [
            "              precision    recall  f1-score   support\n",
            "\n",
            "           0       0.00      0.00      0.00       902\n",
            "           1       0.51      1.00      0.68       947\n",
            "\n",
            "    accuracy                           0.51      1849\n",
            "   macro avg       0.26      0.50      0.34      1849\n",
            "weighted avg       0.26      0.51      0.35      1849\n",
            "\n"
          ]
        },
        {
          "output_type": "stream",
          "name": "stderr",
          "text": [
            "/usr/local/lib/python3.7/dist-packages/sklearn/metrics/_classification.py:1308: UndefinedMetricWarning: Precision and F-score are ill-defined and being set to 0.0 in labels with no predicted samples. Use `zero_division` parameter to control this behavior.\n",
            "  _warn_prf(average, modifier, msg_start, len(result))\n",
            "/usr/local/lib/python3.7/dist-packages/sklearn/metrics/_classification.py:1308: UndefinedMetricWarning: Precision and F-score are ill-defined and being set to 0.0 in labels with no predicted samples. Use `zero_division` parameter to control this behavior.\n",
            "  _warn_prf(average, modifier, msg_start, len(result))\n",
            "/usr/local/lib/python3.7/dist-packages/sklearn/metrics/_classification.py:1308: UndefinedMetricWarning: Precision and F-score are ill-defined and being set to 0.0 in labels with no predicted samples. Use `zero_division` parameter to control this behavior.\n",
            "  _warn_prf(average, modifier, msg_start, len(result))\n"
          ]
        }
      ]
    },
    {
      "cell_type": "code",
      "metadata": {
        "colab": {
          "base_uri": "https://localhost:8080/"
        },
        "id": "jBiad8hyjV1m",
        "outputId": "c7d08e35-693e-4bfe-dd8f-2e198b2cc3ca"
      },
      "source": [
        "from sklearn.linear_model import LogisticRegressionCV\n",
        "from sklearn.metrics import classification_report\n",
        "model = LogisticRegressionCV()\n",
        "model.fit(x_train , y_train)\n",
        "model_predictions = model.predict(x_test)\n",
        "print(classification_report(y_test , model_predictions))\n"
      ],
      "execution_count": null,
      "outputs": [
        {
          "output_type": "stream",
          "name": "stdout",
          "text": [
            "              precision    recall  f1-score   support\n",
            "\n",
            "           0       0.66      0.60      0.62       902\n",
            "           1       0.65      0.70      0.67       947\n",
            "\n",
            "    accuracy                           0.65      1849\n",
            "   macro avg       0.65      0.65      0.65      1849\n",
            "weighted avg       0.65      0.65      0.65      1849\n",
            "\n"
          ]
        }
      ]
    },
    {
      "cell_type": "code",
      "metadata": {
        "colab": {
          "base_uri": "https://localhost:8080/"
        },
        "id": "fGmhYlcYmHLj",
        "outputId": "0b050138-1ee4-4645-e899-96bf6ee4e373"
      },
      "source": [
        "from  sklearn.ensemble import RandomForestClassifier\n",
        "from sklearn.metrics import classification_report\n",
        "model1 = RandomForestClassifier()\n",
        "model1.fit(x_train , y_train)\n",
        "model1_predictions = model1.predict(x_test)\n",
        "print(classification_report(y_test , model1_predictions))"
      ],
      "execution_count": null,
      "outputs": [
        {
          "output_type": "stream",
          "name": "stdout",
          "text": [
            "              precision    recall  f1-score   support\n",
            "\n",
            "           0       0.69      0.71      0.70       902\n",
            "           1       0.71      0.70      0.71       947\n",
            "\n",
            "    accuracy                           0.70      1849\n",
            "   macro avg       0.70      0.70      0.70      1849\n",
            "weighted avg       0.70      0.70      0.70      1849\n",
            "\n"
          ]
        }
      ]
    },
    {
      "cell_type": "code",
      "metadata": {
        "id": "Acfc4am4SA21"
      },
      "source": [
        "# More robust way to do feature pre-processing.\n",
        "from sklearn.pipeline import Pipeline\n",
        "from sklearn.compose import ColumnTransformer\n",
        "from sklearn.preprocessing import OneHotEncoder, StandardScaler\n",
        "from sklearn.impute import SimpleImputer\n",
        "from sklearn.compose import ColumnTransformer\n",
        "\n",
        "features_df = df.drop('label', axis=1)\n",
        "FEATURE_COLUMNS = features_df.columns\n",
        "NUM_FEATURES = features_df.select_dtypes(include=[np.number]).columns\n",
        "CAT_FEATURES = ['alchemy_category', 'news_front_page']\n",
        "\n",
        "numeric_transformer = Pipeline(steps=[\n",
        "    ('imputer', SimpleImputer(missing_values=np.nan, strategy='constant', fill_value=0)),\n",
        "    ('scaler', StandardScaler()),\n",
        "])\n",
        "\n",
        "categorical_transformer = Pipeline(steps=[\n",
        "    ('imputer', SimpleImputer(strategy='constant', fill_value='missing')),\n",
        "    ('one_hot', OneHotEncoder(handle_unknown='ignore')),\n",
        "])\n",
        "\n",
        "preprocessor = ColumnTransformer(\n",
        "  transformers=[\n",
        "      ('num', numeric_transformer, NUM_FEATURES),\n",
        "      ('cat', categorical_transformer, CAT_FEATURES)\n",
        "  ])"
      ],
      "execution_count": null,
      "outputs": []
    },
    {
      "cell_type": "code",
      "metadata": {
        "colab": {
          "base_uri": "https://localhost:8080/"
        },
        "id": "oE-irO7NS0X1",
        "outputId": "7e17dd67-b591-4375-b688-04a6983724aa"
      },
      "source": [
        "features_df = preprocessor.fit_transform(df.drop('label', axis = 1))\n",
        "features_df.shape\n"
      ],
      "execution_count": null,
      "outputs": [
        {
          "output_type": "execute_result",
          "data": {
            "text/plain": [
              "(7395, 36)"
            ]
          },
          "metadata": {},
          "execution_count": 30
        }
      ]
    },
    {
      "cell_type": "markdown",
      "metadata": {
        "id": "_TRpW6IVQvJd"
      },
      "source": [
        "## Submission "
      ]
    },
    {
      "cell_type": "code",
      "metadata": {
        "id": "owxNB5jKQQZU"
      },
      "source": [
        "test_df = pd.read_csv('drive//MyDrive/Stumble Upon Evergreeb Classification/test.tsv' , sep = '\\t')\n",
        "test_df['is_news'] = test_df['is_news'].str.replace('?','0').astype(int)"
      ],
      "execution_count": null,
      "outputs": []
    },
    {
      "cell_type": "code",
      "metadata": {
        "id": "dqyqefGpRHyP"
      },
      "source": [
        "sub_model = RandomForestClassifier()\n",
        "sub_model.fit(features_df, target)\n",
        "test_features = preprocessor.transform(test_df[df.drop('label' , axis = 1).columns])\n",
        "predictions = sub_model.predict(test_features)"
      ],
      "execution_count": null,
      "outputs": []
    },
    {
      "cell_type": "code",
      "metadata": {
        "colab": {
          "base_uri": "https://localhost:8080/",
          "height": 206
        },
        "id": "LgmU_qX7WVR8",
        "outputId": "2600986e-e5ca-48bf-8068-d9a90a587771"
      },
      "source": [
        "sub_df = pd.DataFrame({'urlid' : test_df.urlid , 'label'  : predictions})\n",
        "sub_df.head()"
      ],
      "execution_count": null,
      "outputs": [
        {
          "output_type": "execute_result",
          "data": {
            "text/html": [
              "<div>\n",
              "<style scoped>\n",
              "    .dataframe tbody tr th:only-of-type {\n",
              "        vertical-align: middle;\n",
              "    }\n",
              "\n",
              "    .dataframe tbody tr th {\n",
              "        vertical-align: top;\n",
              "    }\n",
              "\n",
              "    .dataframe thead th {\n",
              "        text-align: right;\n",
              "    }\n",
              "</style>\n",
              "<table border=\"1\" class=\"dataframe\">\n",
              "  <thead>\n",
              "    <tr style=\"text-align: right;\">\n",
              "      <th></th>\n",
              "      <th>urlid</th>\n",
              "      <th>label</th>\n",
              "    </tr>\n",
              "  </thead>\n",
              "  <tbody>\n",
              "    <tr>\n",
              "      <th>0</th>\n",
              "      <td>5865</td>\n",
              "      <td>1</td>\n",
              "    </tr>\n",
              "    <tr>\n",
              "      <th>1</th>\n",
              "      <td>782</td>\n",
              "      <td>0</td>\n",
              "    </tr>\n",
              "    <tr>\n",
              "      <th>2</th>\n",
              "      <td>6962</td>\n",
              "      <td>0</td>\n",
              "    </tr>\n",
              "    <tr>\n",
              "      <th>3</th>\n",
              "      <td>7640</td>\n",
              "      <td>0</td>\n",
              "    </tr>\n",
              "    <tr>\n",
              "      <th>4</th>\n",
              "      <td>3589</td>\n",
              "      <td>0</td>\n",
              "    </tr>\n",
              "  </tbody>\n",
              "</table>\n",
              "</div>"
            ],
            "text/plain": [
              "   urlid  label\n",
              "0   5865      1\n",
              "1    782      0\n",
              "2   6962      0\n",
              "3   7640      0\n",
              "4   3589      0"
            ]
          },
          "metadata": {},
          "execution_count": 33
        }
      ]
    },
    {
      "cell_type": "code",
      "metadata": {
        "id": "pvI09uT4YPb0"
      },
      "source": [
        "sub_df.to_csv('submission.csv', index = False)"
      ],
      "execution_count": null,
      "outputs": []
    }
  ]
}